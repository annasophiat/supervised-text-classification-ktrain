{
 "cells": [
  {
   "cell_type": "code",
   "execution_count": 1,
   "id": "6cfb2090",
   "metadata": {
    "execution": {
     "iopub.execute_input": "2024-06-20T22:47:15.059127Z",
     "iopub.status.busy": "2024-06-20T22:47:15.058771Z",
     "iopub.status.idle": "2024-06-20T22:47:15.811609Z",
     "shell.execute_reply": "2024-06-20T22:47:15.810555Z"
    },
    "executionInfo": {
     "elapsed": 33348,
     "status": "ok",
     "timestamp": 1718832595463,
     "user": {
      "displayName": "Anna Tang",
      "userId": "06009827953892747229"
     },
     "user_tz": 240
    },
    "id": "2yFpcXAxX9yh",
    "outputId": "f9b22a9e-b2d1-4bcd-a46a-aff61050e8c5",
    "papermill": {
     "duration": 0.764439,
     "end_time": "2024-06-20T22:47:15.813649",
     "exception": false,
     "start_time": "2024-06-20T22:47:15.049210",
     "status": "completed"
    },
    "tags": []
   },
   "outputs": [
    {
     "name": "stdout",
     "output_type": "stream",
     "text": [
      "/kaggle/input/news-category-trainingdata/news_category_trainingdata.json\n"
     ]
    }
   ],
   "source": [
    "# This Python 3 environment comes with many helpful analytics libraries installed\n",
    "# It is defined by the kaggle/python Docker image: https://github.com/kaggle/docker-python\n",
    "# For example, here's several helpful packages to load\n",
    "\n",
    "import numpy as np # linear algebra\n",
    "import pandas as pd # data processing, CSV file I/O (e.g. pd.read_csv)\n",
    "\n",
    "# Input data files are available in the read-only \"../input/\" directory\n",
    "# For example, running this (by clicking run or pressing Shift+Enter) will list all files under the input directory\n",
    "\n",
    "import os\n",
    "for dirname, _, filenames in os.walk('/kaggle/input'):\n",
    "    for filename in filenames:\n",
    "        print(os.path.join(dirname, filename))\n",
    "\n",
    "# You can write up to 20GB to the current directory (/kaggle/working/) that gets preserved as output when you create a version using \"Save & Run All\" \n",
    "# You can also write temporary files to /kaggle/temp/, but they won't be saved outside of the current session"
   ]
  },
  {
   "cell_type": "code",
   "execution_count": 2,
   "id": "4852d7a0",
   "metadata": {
    "execution": {
     "iopub.execute_input": "2024-06-20T22:47:15.831335Z",
     "iopub.status.busy": "2024-06-20T22:47:15.830605Z",
     "iopub.status.idle": "2024-06-20T22:48:32.925311Z",
     "shell.execute_reply": "2024-06-20T22:48:32.924484Z"
    },
    "executionInfo": {
     "elapsed": 36088,
     "status": "ok",
     "timestamp": 1718832631548,
     "user": {
      "displayName": "Anna Tang",
      "userId": "06009827953892747229"
     },
     "user_tz": 240
    },
    "id": "2259b7c9",
    "outputId": "c2dd0c12-01e3-454e-fe5a-904ba93190ed",
    "papermill": {
     "duration": 77.106124,
     "end_time": "2024-06-20T22:48:32.927777",
     "exception": false,
     "start_time": "2024-06-20T22:47:15.821653",
     "status": "completed"
    },
    "tags": []
   },
   "outputs": [
    {
     "name": "stdout",
     "output_type": "stream",
     "text": [
      "Requirement already satisfied: tf-keras in /opt/conda/lib/python3.10/site-packages (2.15.1)\r\n",
      "Requirement already satisfied: tensorflow<2.16,>=2.15 in /opt/conda/lib/python3.10/site-packages (from tf-keras) (2.15.0)\r\n",
      "Requirement already satisfied: absl-py>=1.0.0 in /opt/conda/lib/python3.10/site-packages (from tensorflow<2.16,>=2.15->tf-keras) (1.4.0)\r\n",
      "Requirement already satisfied: astunparse>=1.6.0 in /opt/conda/lib/python3.10/site-packages (from tensorflow<2.16,>=2.15->tf-keras) (1.6.3)\r\n",
      "Requirement already satisfied: flatbuffers>=23.5.26 in /opt/conda/lib/python3.10/site-packages (from tensorflow<2.16,>=2.15->tf-keras) (23.5.26)\r\n",
      "Requirement already satisfied: gast!=0.5.0,!=0.5.1,!=0.5.2,>=0.2.1 in /opt/conda/lib/python3.10/site-packages (from tensorflow<2.16,>=2.15->tf-keras) (0.5.4)\r\n",
      "Requirement already satisfied: google-pasta>=0.1.1 in /opt/conda/lib/python3.10/site-packages (from tensorflow<2.16,>=2.15->tf-keras) (0.2.0)\r\n",
      "Requirement already satisfied: h5py>=2.9.0 in /opt/conda/lib/python3.10/site-packages (from tensorflow<2.16,>=2.15->tf-keras) (3.10.0)\r\n",
      "Requirement already satisfied: libclang>=13.0.0 in /opt/conda/lib/python3.10/site-packages (from tensorflow<2.16,>=2.15->tf-keras) (16.0.6)\r\n",
      "Requirement already satisfied: ml-dtypes~=0.2.0 in /opt/conda/lib/python3.10/site-packages (from tensorflow<2.16,>=2.15->tf-keras) (0.2.0)\r\n",
      "Requirement already satisfied: numpy<2.0.0,>=1.23.5 in /opt/conda/lib/python3.10/site-packages (from tensorflow<2.16,>=2.15->tf-keras) (1.26.4)\r\n",
      "Requirement already satisfied: opt-einsum>=2.3.2 in /opt/conda/lib/python3.10/site-packages (from tensorflow<2.16,>=2.15->tf-keras) (3.3.0)\r\n",
      "Requirement already satisfied: packaging in /opt/conda/lib/python3.10/site-packages (from tensorflow<2.16,>=2.15->tf-keras) (21.3)\r\n",
      "Requirement already satisfied: protobuf!=4.21.0,!=4.21.1,!=4.21.2,!=4.21.3,!=4.21.4,!=4.21.5,<5.0.0dev,>=3.20.3 in /opt/conda/lib/python3.10/site-packages (from tensorflow<2.16,>=2.15->tf-keras) (3.20.3)\r\n",
      "Requirement already satisfied: setuptools in /opt/conda/lib/python3.10/site-packages (from tensorflow<2.16,>=2.15->tf-keras) (69.0.3)\r\n",
      "Requirement already satisfied: six>=1.12.0 in /opt/conda/lib/python3.10/site-packages (from tensorflow<2.16,>=2.15->tf-keras) (1.16.0)\r\n",
      "Requirement already satisfied: termcolor>=1.1.0 in /opt/conda/lib/python3.10/site-packages (from tensorflow<2.16,>=2.15->tf-keras) (2.4.0)\r\n",
      "Requirement already satisfied: typing-extensions>=3.6.6 in /opt/conda/lib/python3.10/site-packages (from tensorflow<2.16,>=2.15->tf-keras) (4.9.0)\r\n",
      "Requirement already satisfied: wrapt<1.15,>=1.11.0 in /opt/conda/lib/python3.10/site-packages (from tensorflow<2.16,>=2.15->tf-keras) (1.14.1)\r\n",
      "Requirement already satisfied: tensorflow-io-gcs-filesystem>=0.23.1 in /opt/conda/lib/python3.10/site-packages (from tensorflow<2.16,>=2.15->tf-keras) (0.35.0)\r\n",
      "Requirement already satisfied: grpcio<2.0,>=1.24.3 in /opt/conda/lib/python3.10/site-packages (from tensorflow<2.16,>=2.15->tf-keras) (1.59.3)\r\n",
      "Requirement already satisfied: tensorboard<2.16,>=2.15 in /opt/conda/lib/python3.10/site-packages (from tensorflow<2.16,>=2.15->tf-keras) (2.15.1)\r\n",
      "Requirement already satisfied: tensorflow-estimator<2.16,>=2.15.0 in /opt/conda/lib/python3.10/site-packages (from tensorflow<2.16,>=2.15->tf-keras) (2.15.0)\r\n",
      "Collecting keras<2.16,>=2.15.0 (from tensorflow<2.16,>=2.15->tf-keras)\r\n",
      "  Downloading keras-2.15.0-py3-none-any.whl.metadata (2.4 kB)\r\n",
      "Requirement already satisfied: wheel<1.0,>=0.23.0 in /opt/conda/lib/python3.10/site-packages (from astunparse>=1.6.0->tensorflow<2.16,>=2.15->tf-keras) (0.42.0)\r\n",
      "Requirement already satisfied: google-auth<3,>=1.6.3 in /opt/conda/lib/python3.10/site-packages (from tensorboard<2.16,>=2.15->tensorflow<2.16,>=2.15->tf-keras) (2.26.1)\r\n",
      "Requirement already satisfied: google-auth-oauthlib<2,>=0.5 in /opt/conda/lib/python3.10/site-packages (from tensorboard<2.16,>=2.15->tensorflow<2.16,>=2.15->tf-keras) (1.2.0)\r\n",
      "Requirement already satisfied: markdown>=2.6.8 in /opt/conda/lib/python3.10/site-packages (from tensorboard<2.16,>=2.15->tensorflow<2.16,>=2.15->tf-keras) (3.5.2)\r\n",
      "Requirement already satisfied: requests<3,>=2.21.0 in /opt/conda/lib/python3.10/site-packages (from tensorboard<2.16,>=2.15->tensorflow<2.16,>=2.15->tf-keras) (2.32.3)\r\n",
      "Requirement already satisfied: tensorboard-data-server<0.8.0,>=0.7.0 in /opt/conda/lib/python3.10/site-packages (from tensorboard<2.16,>=2.15->tensorflow<2.16,>=2.15->tf-keras) (0.7.2)\r\n",
      "Requirement already satisfied: werkzeug>=1.0.1 in /opt/conda/lib/python3.10/site-packages (from tensorboard<2.16,>=2.15->tensorflow<2.16,>=2.15->tf-keras) (3.0.3)\r\n",
      "Requirement already satisfied: pyparsing!=3.0.5,>=2.0.2 in /opt/conda/lib/python3.10/site-packages (from packaging->tensorflow<2.16,>=2.15->tf-keras) (3.1.1)\r\n",
      "Requirement already satisfied: cachetools<6.0,>=2.0.0 in /opt/conda/lib/python3.10/site-packages (from google-auth<3,>=1.6.3->tensorboard<2.16,>=2.15->tensorflow<2.16,>=2.15->tf-keras) (4.2.4)\r\n",
      "Requirement already satisfied: pyasn1-modules>=0.2.1 in /opt/conda/lib/python3.10/site-packages (from google-auth<3,>=1.6.3->tensorboard<2.16,>=2.15->tensorflow<2.16,>=2.15->tf-keras) (0.3.0)\r\n",
      "Requirement already satisfied: rsa<5,>=3.1.4 in /opt/conda/lib/python3.10/site-packages (from google-auth<3,>=1.6.3->tensorboard<2.16,>=2.15->tensorflow<2.16,>=2.15->tf-keras) (4.9)\r\n",
      "Requirement already satisfied: requests-oauthlib>=0.7.0 in /opt/conda/lib/python3.10/site-packages (from google-auth-oauthlib<2,>=0.5->tensorboard<2.16,>=2.15->tensorflow<2.16,>=2.15->tf-keras) (1.3.1)\r\n",
      "Requirement already satisfied: charset-normalizer<4,>=2 in /opt/conda/lib/python3.10/site-packages (from requests<3,>=2.21.0->tensorboard<2.16,>=2.15->tensorflow<2.16,>=2.15->tf-keras) (3.3.2)\r\n",
      "Requirement already satisfied: idna<4,>=2.5 in /opt/conda/lib/python3.10/site-packages (from requests<3,>=2.21.0->tensorboard<2.16,>=2.15->tensorflow<2.16,>=2.15->tf-keras) (3.6)\r\n",
      "Requirement already satisfied: urllib3<3,>=1.21.1 in /opt/conda/lib/python3.10/site-packages (from requests<3,>=2.21.0->tensorboard<2.16,>=2.15->tensorflow<2.16,>=2.15->tf-keras) (1.26.18)\r\n",
      "Requirement already satisfied: certifi>=2017.4.17 in /opt/conda/lib/python3.10/site-packages (from requests<3,>=2.21.0->tensorboard<2.16,>=2.15->tensorflow<2.16,>=2.15->tf-keras) (2024.2.2)\r\n",
      "Requirement already satisfied: MarkupSafe>=2.1.1 in /opt/conda/lib/python3.10/site-packages (from werkzeug>=1.0.1->tensorboard<2.16,>=2.15->tensorflow<2.16,>=2.15->tf-keras) (2.1.3)\r\n",
      "Requirement already satisfied: pyasn1<0.6.0,>=0.4.6 in /opt/conda/lib/python3.10/site-packages (from pyasn1-modules>=0.2.1->google-auth<3,>=1.6.3->tensorboard<2.16,>=2.15->tensorflow<2.16,>=2.15->tf-keras) (0.5.1)\r\n",
      "Requirement already satisfied: oauthlib>=3.0.0 in /opt/conda/lib/python3.10/site-packages (from requests-oauthlib>=0.7.0->google-auth-oauthlib<2,>=0.5->tensorboard<2.16,>=2.15->tensorflow<2.16,>=2.15->tf-keras) (3.2.2)\r\n",
      "Downloading keras-2.15.0-py3-none-any.whl (1.7 MB)\r\n",
      "\u001b[2K   \u001b[90m━━━━━━━━━━━━━━━━━━━━━━━━━━━━━━━━━━━━━━━━\u001b[0m \u001b[32m1.7/1.7 MB\u001b[0m \u001b[31m25.8 MB/s\u001b[0m eta \u001b[36m0:00:00\u001b[0m\r\n",
      "\u001b[?25hInstalling collected packages: keras\r\n",
      "  Attempting uninstall: keras\r\n",
      "    Found existing installation: keras 3.3.3\r\n",
      "    Uninstalling keras-3.3.3:\r\n",
      "      Successfully uninstalled keras-3.3.3\r\n",
      "\u001b[31mERROR: pip's dependency resolver does not currently take into account all the packages that are installed. This behaviour is the source of the following dependency conflicts.\r\n",
      "tensorflow-decision-forests 1.8.1 requires wurlitzer, which is not installed.\u001b[0m\u001b[31m\r\n",
      "\u001b[0mSuccessfully installed keras-2.15.0\r\n",
      "TF_USE_LEGACY_KERAS: None\n",
      "TF_USE_LEGACY_KERAS: 1\n",
      "Collecting ktrain\r\n",
      "  Downloading ktrain-0.41.4.tar.gz (25.3 MB)\r\n",
      "\u001b[2K     \u001b[90m━━━━━━━━━━━━━━━━━━━━━━━━━━━━━━━━━━━━━━━━\u001b[0m \u001b[32m25.3/25.3 MB\u001b[0m \u001b[31m67.2 MB/s\u001b[0m eta \u001b[36m0:00:00\u001b[0m\r\n",
      "\u001b[?25h  Preparing metadata (setup.py) ... \u001b[?25l-\b \bdone\r\n",
      "\u001b[?25hRequirement already satisfied: scikit-learn in /opt/conda/lib/python3.10/site-packages (from ktrain) (1.2.2)\r\n",
      "Requirement already satisfied: matplotlib>=3.0.0 in /opt/conda/lib/python3.10/site-packages (from ktrain) (3.7.5)\r\n",
      "Requirement already satisfied: pandas>=1.0.1 in /opt/conda/lib/python3.10/site-packages (from ktrain) (2.2.1)\r\n",
      "Requirement already satisfied: fastprogress>=0.1.21 in /opt/conda/lib/python3.10/site-packages (from ktrain) (1.0.3)\r\n",
      "Requirement already satisfied: requests in /opt/conda/lib/python3.10/site-packages (from ktrain) (2.32.3)\r\n",
      "Requirement already satisfied: joblib in /opt/conda/lib/python3.10/site-packages (from ktrain) (1.4.2)\r\n",
      "Requirement already satisfied: packaging in /opt/conda/lib/python3.10/site-packages (from ktrain) (21.3)\r\n",
      "Collecting langdetect (from ktrain)\r\n",
      "  Downloading langdetect-1.0.9.tar.gz (981 kB)\r\n",
      "\u001b[2K     \u001b[90m━━━━━━━━━━━━━━━━━━━━━━━━━━━━━━━━━━━━━━\u001b[0m \u001b[32m981.5/981.5 kB\u001b[0m \u001b[31m48.5 MB/s\u001b[0m eta \u001b[36m0:00:00\u001b[0m\r\n",
      "\u001b[?25h  Preparing metadata (setup.py) ... \u001b[?25l-\b \bdone\r\n",
      "\u001b[?25hRequirement already satisfied: jieba in /opt/conda/lib/python3.10/site-packages (from ktrain) (0.42.1)\r\n",
      "Requirement already satisfied: charset-normalizer in /opt/conda/lib/python3.10/site-packages (from ktrain) (3.3.2)\r\n",
      "Collecting chardet (from ktrain)\r\n",
      "  Downloading chardet-5.2.0-py3-none-any.whl.metadata (3.4 kB)\r\n",
      "Collecting syntok>1.3.3 (from ktrain)\r\n",
      "  Downloading syntok-1.4.4-py3-none-any.whl.metadata (10 kB)\r\n",
      "Collecting tika (from ktrain)\r\n",
      "  Downloading tika-2.6.0.tar.gz (27 kB)\r\n",
      "  Preparing metadata (setup.py) ... \u001b[?25l-\b \bdone\r\n",
      "\u001b[?25hRequirement already satisfied: transformers in /opt/conda/lib/python3.10/site-packages (from ktrain) (4.41.2)\r\n",
      "Requirement already satisfied: sentencepiece in /opt/conda/lib/python3.10/site-packages (from ktrain) (0.2.0)\r\n",
      "Collecting keras_bert>=0.86.0 (from ktrain)\r\n",
      "  Downloading keras-bert-0.89.0.tar.gz (25 kB)\r\n",
      "  Preparing metadata (setup.py) ... \u001b[?25l-\b \bdone\r\n",
      "\u001b[?25hCollecting whoosh (from ktrain)\r\n",
      "  Downloading Whoosh-2.7.4-py2.py3-none-any.whl.metadata (3.1 kB)\r\n",
      "Requirement already satisfied: numpy in /opt/conda/lib/python3.10/site-packages (from keras_bert>=0.86.0->ktrain) (1.26.4)\r\n",
      "Collecting keras-transformer==0.40.0 (from keras_bert>=0.86.0->ktrain)\r\n",
      "  Downloading keras-transformer-0.40.0.tar.gz (9.7 kB)\r\n",
      "  Preparing metadata (setup.py) ... \u001b[?25l-\b \bdone\r\n",
      "\u001b[?25hCollecting keras-pos-embd==0.13.0 (from keras-transformer==0.40.0->keras_bert>=0.86.0->ktrain)\r\n",
      "  Downloading keras-pos-embd-0.13.0.tar.gz (5.6 kB)\r\n",
      "  Preparing metadata (setup.py) ... \u001b[?25l-\b \bdone\r\n",
      "\u001b[?25hCollecting keras-multi-head==0.29.0 (from keras-transformer==0.40.0->keras_bert>=0.86.0->ktrain)\r\n",
      "  Downloading keras-multi-head-0.29.0.tar.gz (13 kB)\r\n",
      "  Preparing metadata (setup.py) ... \u001b[?25l-\b \bdone\r\n",
      "\u001b[?25hCollecting keras-layer-normalization==0.16.0 (from keras-transformer==0.40.0->keras_bert>=0.86.0->ktrain)\r\n",
      "  Downloading keras-layer-normalization-0.16.0.tar.gz (3.9 kB)\r\n",
      "  Preparing metadata (setup.py) ... \u001b[?25l-\b \bdone\r\n",
      "\u001b[?25hCollecting keras-position-wise-feed-forward==0.8.0 (from keras-transformer==0.40.0->keras_bert>=0.86.0->ktrain)\r\n",
      "  Downloading keras-position-wise-feed-forward-0.8.0.tar.gz (4.1 kB)\r\n",
      "  Preparing metadata (setup.py) ... \u001b[?25l-\b \bdone\r\n",
      "\u001b[?25hCollecting keras-embed-sim==0.10.0 (from keras-transformer==0.40.0->keras_bert>=0.86.0->ktrain)\r\n",
      "  Downloading keras-embed-sim-0.10.0.tar.gz (3.6 kB)\r\n",
      "  Preparing metadata (setup.py) ... \u001b[?25l-\b \bdone\r\n",
      "\u001b[?25hCollecting keras-self-attention==0.51.0 (from keras-multi-head==0.29.0->keras-transformer==0.40.0->keras_bert>=0.86.0->ktrain)\r\n",
      "  Downloading keras-self-attention-0.51.0.tar.gz (11 kB)\r\n",
      "  Preparing metadata (setup.py) ... \u001b[?25l-\b \bdone\r\n",
      "\u001b[?25hRequirement already satisfied: contourpy>=1.0.1 in /opt/conda/lib/python3.10/site-packages (from matplotlib>=3.0.0->ktrain) (1.2.0)\r\n",
      "Requirement already satisfied: cycler>=0.10 in /opt/conda/lib/python3.10/site-packages (from matplotlib>=3.0.0->ktrain) (0.12.1)\r\n",
      "Requirement already satisfied: fonttools>=4.22.0 in /opt/conda/lib/python3.10/site-packages (from matplotlib>=3.0.0->ktrain) (4.47.0)\r\n",
      "Requirement already satisfied: kiwisolver>=1.0.1 in /opt/conda/lib/python3.10/site-packages (from matplotlib>=3.0.0->ktrain) (1.4.5)\r\n",
      "Requirement already satisfied: pillow>=6.2.0 in /opt/conda/lib/python3.10/site-packages (from matplotlib>=3.0.0->ktrain) (9.5.0)\r\n",
      "Requirement already satisfied: pyparsing>=2.3.1 in /opt/conda/lib/python3.10/site-packages (from matplotlib>=3.0.0->ktrain) (3.1.1)\r\n",
      "Requirement already satisfied: python-dateutil>=2.7 in /opt/conda/lib/python3.10/site-packages (from matplotlib>=3.0.0->ktrain) (2.9.0.post0)\r\n",
      "Requirement already satisfied: pytz>=2020.1 in /opt/conda/lib/python3.10/site-packages (from pandas>=1.0.1->ktrain) (2023.3.post1)\r\n",
      "Requirement already satisfied: tzdata>=2022.7 in /opt/conda/lib/python3.10/site-packages (from pandas>=1.0.1->ktrain) (2023.4)\r\n",
      "Requirement already satisfied: regex>2016 in /opt/conda/lib/python3.10/site-packages (from syntok>1.3.3->ktrain) (2023.12.25)\r\n",
      "Requirement already satisfied: six in /opt/conda/lib/python3.10/site-packages (from langdetect->ktrain) (1.16.0)\r\n",
      "Requirement already satisfied: idna<4,>=2.5 in /opt/conda/lib/python3.10/site-packages (from requests->ktrain) (3.6)\r\n",
      "Requirement already satisfied: urllib3<3,>=1.21.1 in /opt/conda/lib/python3.10/site-packages (from requests->ktrain) (1.26.18)\r\n",
      "Requirement already satisfied: certifi>=2017.4.17 in /opt/conda/lib/python3.10/site-packages (from requests->ktrain) (2024.2.2)\r\n",
      "Requirement already satisfied: scipy>=1.3.2 in /opt/conda/lib/python3.10/site-packages (from scikit-learn->ktrain) (1.11.4)\r\n",
      "Requirement already satisfied: threadpoolctl>=2.0.0 in /opt/conda/lib/python3.10/site-packages (from scikit-learn->ktrain) (3.2.0)\r\n",
      "Requirement already satisfied: setuptools in /opt/conda/lib/python3.10/site-packages (from tika->ktrain) (69.0.3)\r\n",
      "Requirement already satisfied: filelock in /opt/conda/lib/python3.10/site-packages (from transformers->ktrain) (3.13.1)\r\n",
      "Requirement already satisfied: huggingface-hub<1.0,>=0.23.0 in /opt/conda/lib/python3.10/site-packages (from transformers->ktrain) (0.23.2)\r\n",
      "Requirement already satisfied: pyyaml>=5.1 in /opt/conda/lib/python3.10/site-packages (from transformers->ktrain) (6.0.1)\r\n",
      "Requirement already satisfied: tokenizers<0.20,>=0.19 in /opt/conda/lib/python3.10/site-packages (from transformers->ktrain) (0.19.1)\r\n",
      "Requirement already satisfied: safetensors>=0.4.1 in /opt/conda/lib/python3.10/site-packages (from transformers->ktrain) (0.4.3)\r\n",
      "Requirement already satisfied: tqdm>=4.27 in /opt/conda/lib/python3.10/site-packages (from transformers->ktrain) (4.66.4)\r\n",
      "Requirement already satisfied: fsspec>=2023.5.0 in /opt/conda/lib/python3.10/site-packages (from huggingface-hub<1.0,>=0.23.0->transformers->ktrain) (2024.3.1)\r\n",
      "Requirement already satisfied: typing-extensions>=3.7.4.3 in /opt/conda/lib/python3.10/site-packages (from huggingface-hub<1.0,>=0.23.0->transformers->ktrain) (4.9.0)\r\n",
      "Downloading syntok-1.4.4-py3-none-any.whl (24 kB)\r\n",
      "Downloading chardet-5.2.0-py3-none-any.whl (199 kB)\r\n",
      "\u001b[2K   \u001b[90m━━━━━━━━━━━━━━━━━━━━━━━━━━━━━━━━━━━━━━━━\u001b[0m \u001b[32m199.4/199.4 kB\u001b[0m \u001b[31m11.4 MB/s\u001b[0m eta \u001b[36m0:00:00\u001b[0m\r\n",
      "\u001b[?25hDownloading Whoosh-2.7.4-py2.py3-none-any.whl (468 kB)\r\n",
      "\u001b[2K   \u001b[90m━━━━━━━━━━━━━━━━━━━━━━━━━━━━━━━━━━━━━━━━\u001b[0m \u001b[32m468.8/468.8 kB\u001b[0m \u001b[31m28.9 MB/s\u001b[0m eta \u001b[36m0:00:00\u001b[0m\r\n",
      "\u001b[?25hBuilding wheels for collected packages: ktrain, keras_bert, keras-transformer, keras-embed-sim, keras-layer-normalization, keras-multi-head, keras-pos-embd, keras-position-wise-feed-forward, keras-self-attention, langdetect, tika\r\n",
      "  Building wheel for ktrain (setup.py) ... \u001b[?25l-\b \b\\\b \bdone\r\n",
      "\u001b[?25h  Created wheel for ktrain: filename=ktrain-0.41.4-py3-none-any.whl size=25316933 sha256=21b85109797b1d4d451c9c9fee5b6aaa4f932eb9d3b8dbe3108a2ecafb2ea708\r\n",
      "  Stored in directory: /root/.cache/pip/wheels/fa/6a/9c/8a873b38bbd8bc207d33c64726bd18f7ef85f8e70dc3ac2e4b\r\n",
      "  Building wheel for keras_bert (setup.py) ... \u001b[?25l-\b \b\\\b \bdone\r\n",
      "\u001b[?25h  Created wheel for keras_bert: filename=keras_bert-0.89.0-py3-none-any.whl size=33499 sha256=bc2751bcdfde5a0caf40e93101733eadb127ef17e7d3837d4e489e709d65b1b0\r\n",
      "  Stored in directory: /root/.cache/pip/wheels/89/0c/04/646b6fdf6375911b42c8d540a8a3fda8d5d77634e5dcbe7b26\r\n",
      "  Building wheel for keras-transformer (setup.py) ... \u001b[?25l-\b \b\\\b \bdone\r\n",
      "\u001b[?25h  Created wheel for keras-transformer: filename=keras_transformer-0.40.0-py3-none-any.whl size=12286 sha256=9ff15c40b03ebf8e85fd2268f006735bc5b449f4e7758bd72e3cdd290eac3b35\r\n",
      "  Stored in directory: /root/.cache/pip/wheels/f2/cb/22/75a0ad376129177f7c95c0d91331a18f5368fd657f4035ba7c\r\n",
      "  Building wheel for keras-embed-sim (setup.py) ... \u001b[?25l-\b \b\\\b \bdone\r\n",
      "\u001b[?25h  Created wheel for keras-embed-sim: filename=keras_embed_sim-0.10.0-py3-none-any.whl size=3943 sha256=683157c2cd373e062ef6b625a4bee33533497aa6810316f929d46b52b45ac26b\r\n",
      "  Stored in directory: /root/.cache/pip/wheels/82/32/c7/fd35d0d1b840a6c7cbd4343f808d10d0f7b87d271a4dbe796f\r\n",
      "  Building wheel for keras-layer-normalization (setup.py) ... \u001b[?25l-\b \b\\\b \bdone\r\n",
      "\u001b[?25h  Created wheel for keras-layer-normalization: filename=keras_layer_normalization-0.16.0-py3-none-any.whl size=4653 sha256=4b4eaba3328f8f22fd19ae941f491b18690e62637a0c95ba260f79c47159e87d\r\n",
      "  Stored in directory: /root/.cache/pip/wheels/ed/3a/4b/21db23c0cc56c4b219616e181f258eb7c57d36cc5d056fae9a\r\n",
      "  Building wheel for keras-multi-head (setup.py) ... \u001b[?25l-\b \b\\\b \bdone\r\n",
      "\u001b[?25h  Created wheel for keras-multi-head: filename=keras_multi_head-0.29.0-py3-none-any.whl size=14975 sha256=f69366bdf6513ee0c80827e1ca3c3b84b27e0f6b6c3ff74d55a3a54f8f71b5ef\r\n",
      "  Stored in directory: /root/.cache/pip/wheels/cb/23/4b/06d7ae21714f70fcc25b48f972cc8e5e7f4b6b764a038b509d\r\n",
      "  Building wheel for keras-pos-embd (setup.py) ... \u001b[?25l-\b \b\\\b \bdone\r\n",
      "\u001b[?25h  Created wheel for keras-pos-embd: filename=keras_pos_embd-0.13.0-py3-none-any.whl size=6946 sha256=3e88a23ba65e7a626c33a8a8b437894ac6f9c28714dd103de762d65d3978e25c\r\n",
      "  Stored in directory: /root/.cache/pip/wheels/78/07/1b/b1ca47b6ac338554b75c8f52c54e6a2bfbe1b07d79579979a4\r\n",
      "  Building wheel for keras-position-wise-feed-forward (setup.py) ... \u001b[?25l-\b \b\\\b \bdone\r\n",
      "\u001b[?25h  Created wheel for keras-position-wise-feed-forward: filename=keras_position_wise_feed_forward-0.8.0-py3-none-any.whl size=4968 sha256=9cbeb56c005fe466f49f7285b917a5830f97a85856a56aee4f9a1392021b5cca\r\n",
      "  Stored in directory: /root/.cache/pip/wheels/c1/6a/04/d1706a53b23b2cb5f9a0a76269bf87925daa1bca09eac01b21\r\n",
      "  Building wheel for keras-self-attention (setup.py) ... \u001b[?25l-\b \b\\\b \bdone\r\n",
      "\u001b[?25h  Created wheel for keras-self-attention: filename=keras_self_attention-0.51.0-py3-none-any.whl size=18895 sha256=f2ae5e4d68d8fa2ce1feac4e13b4430c98f9f4eddf504fd43b52d32052f341e3\r\n",
      "  Stored in directory: /root/.cache/pip/wheels/b8/f7/24/607b483144fb9c47b4ba2c5fba6b68e54aeee2d5bf6c05302e\r\n",
      "  Building wheel for langdetect (setup.py) ... \u001b[?25l-\b \bdone\r\n",
      "\u001b[?25h  Created wheel for langdetect: filename=langdetect-1.0.9-py3-none-any.whl size=993225 sha256=00f666ccef17fad3c162927899479023c75f0955a3d05de8e86414c76613f7e9\r\n",
      "  Stored in directory: /root/.cache/pip/wheels/95/03/7d/59ea870c70ce4e5a370638b5462a7711ab78fba2f655d05106\r\n",
      "  Building wheel for tika (setup.py) ... \u001b[?25l-\b \bdone\r\n",
      "\u001b[?25h  Created wheel for tika: filename=tika-2.6.0-py3-none-any.whl size=32622 sha256=a7d275f6a1b757d6359d4af18bf90099bd174666110e68fc089121c3271886bd\r\n",
      "  Stored in directory: /root/.cache/pip/wheels/5f/71/c7/b757709531121b1700cffda5b6b0d4aad095fb507ec84316d0\r\n",
      "Successfully built ktrain keras_bert keras-transformer keras-embed-sim keras-layer-normalization keras-multi-head keras-pos-embd keras-position-wise-feed-forward keras-self-attention langdetect tika\r\n",
      "Installing collected packages: whoosh, syntok, langdetect, keras-self-attention, keras-position-wise-feed-forward, keras-pos-embd, keras-layer-normalization, keras-embed-sim, chardet, tika, keras-multi-head, keras-transformer, keras_bert, ktrain\r\n",
      "Successfully installed chardet-5.2.0 keras-embed-sim-0.10.0 keras-layer-normalization-0.16.0 keras-multi-head-0.29.0 keras-pos-embd-0.13.0 keras-position-wise-feed-forward-0.8.0 keras-self-attention-0.51.0 keras-transformer-0.40.0 keras_bert-0.89.0 ktrain-0.41.4 langdetect-1.0.9 syntok-1.4.4 tika-2.6.0 whoosh-2.7.4\r\n"
     ]
    }
   ],
   "source": [
    "import os\n",
    "# try:\n",
    "#   import ktrain\n",
    "# except:\n",
    "#   !pip install ktrain\n",
    "#   os.kill(os.getpid(), 9)\n",
    "# import ktrain\n",
    "\n",
    "from sklearn.model_selection import train_test_split\n",
    "!pip install tf-keras\n",
    "print(\"TF_USE_LEGACY_KERAS:\", os.getenv(\"TF_USE_LEGACY_KERAS\"))\n",
    "os.environ['TF_USE_LEGACY_KERAS'] = '1'\n",
    "print(\"TF_USE_LEGACY_KERAS:\", os.getenv(\"TF_USE_LEGACY_KERAS\"))\n",
    "\n",
    "try:\n",
    "  import ktrain\n",
    "except:\n",
    "  !pip install ktrain\n",
    "  import ktrain\n",
    "from ktrain import text\n",
    "from ktrain.text import texts_from_df\n",
    "\n",
    "\n",
    "import pandas as pd\n",
    "import numpy as np\n",
    "import matplotlib.pyplot as plt"
   ]
  },
  {
   "cell_type": "code",
   "execution_count": 3,
   "id": "f79addd2",
   "metadata": {
    "execution": {
     "iopub.execute_input": "2024-06-20T22:48:32.966769Z",
     "iopub.status.busy": "2024-06-20T22:48:32.966079Z",
     "iopub.status.idle": "2024-06-20T22:48:33.020430Z",
     "shell.execute_reply": "2024-06-20T22:48:33.019386Z"
    },
    "executionInfo": {
     "elapsed": 8,
     "status": "ok",
     "timestamp": 1718832631548,
     "user": {
      "displayName": "Anna Tang",
      "userId": "06009827953892747229"
     },
     "user_tz": 240
    },
    "id": "8fc2dd22",
    "outputId": "7105ee74-f717-4c0e-8e0f-a975a2126404",
    "papermill": {
     "duration": 0.075084,
     "end_time": "2024-06-20T22:48:33.022743",
     "exception": false,
     "start_time": "2024-06-20T22:48:32.947659",
     "status": "completed"
    },
    "tags": []
   },
   "outputs": [
    {
     "name": "stdout",
     "output_type": "stream",
     "text": [
      "Thu Jun 20 22:48:32 2024       \n",
      "+---------------------------------------------------------------------------------------+\n",
      "| NVIDIA-SMI 535.129.03             Driver Version: 535.129.03   CUDA Version: 12.2     |\n",
      "|-----------------------------------------+----------------------+----------------------+\n",
      "| GPU  Name                 Persistence-M | Bus-Id        Disp.A | Volatile Uncorr. ECC |\n",
      "| Fan  Temp   Perf          Pwr:Usage/Cap |         Memory-Usage | GPU-Util  Compute M. |\n",
      "|                                         |                      |               MIG M. |\n",
      "|=========================================+======================+======================|\n",
      "|   0  Tesla P100-PCIE-16GB           Off | 00000000:00:04.0 Off |                    0 |\n",
      "| N/A   40C    P0              27W / 250W |      0MiB / 16384MiB |      0%      Default |\n",
      "|                                         |                      |                  N/A |\n",
      "+-----------------------------------------+----------------------+----------------------+\n",
      "                                                                                         \n",
      "+---------------------------------------------------------------------------------------+\n",
      "| Processes:                                                                            |\n",
      "|  GPU   GI   CI        PID   Type   Process name                            GPU Memory |\n",
      "|        ID   ID                                                             Usage      |\n",
      "|=======================================================================================|\n",
      "|  No running processes found                                                           |\n",
      "+---------------------------------------------------------------------------------------+\n"
     ]
    }
   ],
   "source": [
    "gpu_info = !nvidia-smi\n",
    "gpu_info = '\\n'.join(gpu_info)\n",
    "if gpu_info.find('failed') >= 0:\n",
    "  print('Not connected to a GPU')\n",
    "else:\n",
    "  print(gpu_info)"
   ]
  },
  {
   "cell_type": "code",
   "execution_count": 4,
   "id": "71faae1b",
   "metadata": {
    "execution": {
     "iopub.execute_input": "2024-06-20T22:48:33.058345Z",
     "iopub.status.busy": "2024-06-20T22:48:33.058050Z",
     "iopub.status.idle": "2024-06-20T22:48:33.064492Z",
     "shell.execute_reply": "2024-06-20T22:48:33.063570Z"
    },
    "executionInfo": {
     "elapsed": 406,
     "status": "ok",
     "timestamp": 1718832631950,
     "user": {
      "displayName": "Anna Tang",
      "userId": "06009827953892747229"
     },
     "user_tz": 240
    },
    "id": "laMNmygnyhbL",
    "outputId": "8df14c1d-8ba4-477a-ff07-b35a4d122c2b",
    "papermill": {
     "duration": 0.026756,
     "end_time": "2024-06-20T22:48:33.066436",
     "exception": false,
     "start_time": "2024-06-20T22:48:33.039680",
     "status": "completed"
    },
    "tags": []
   },
   "outputs": [
    {
     "name": "stdout",
     "output_type": "stream",
     "text": [
      "Your runtime has 33.7 gigabytes of available RAM\n",
      "\n",
      "You are using a high-RAM runtime!\n"
     ]
    }
   ],
   "source": [
    "from psutil import virtual_memory\n",
    "ram_gb = virtual_memory().total / 1e9\n",
    "print('Your runtime has {:.1f} gigabytes of available RAM\\n'.format(ram_gb))\n",
    "\n",
    "if ram_gb < 20:\n",
    "  print('Not using a high-RAM runtime')\n",
    "else:\n",
    "  print('You are using a high-RAM runtime!')"
   ]
  },
  {
   "cell_type": "code",
   "execution_count": 5,
   "id": "b79e2d48",
   "metadata": {
    "execution": {
     "iopub.execute_input": "2024-06-20T22:48:33.101892Z",
     "iopub.status.busy": "2024-06-20T22:48:33.101591Z",
     "iopub.status.idle": "2024-06-20T22:48:35.168271Z",
     "shell.execute_reply": "2024-06-20T22:48:35.167493Z"
    },
    "id": "85cb1e44",
    "papermill": {
     "duration": 2.087071,
     "end_time": "2024-06-20T22:48:35.170701",
     "exception": false,
     "start_time": "2024-06-20T22:48:33.083630",
     "status": "completed"
    },
    "tags": []
   },
   "outputs": [],
   "source": [
    "reviews = pd.read_json(\"/kaggle/input/news-category-trainingdata/news_category_trainingdata.json\")"
   ]
  },
  {
   "cell_type": "markdown",
   "id": "73c60fff",
   "metadata": {
    "id": "xztsfgBKyjgV",
    "papermill": {
     "duration": 0.015973,
     "end_time": "2024-06-20T22:48:35.203352",
     "exception": false,
     "start_time": "2024-06-20T22:48:35.187379",
     "status": "completed"
    },
    "tags": []
   },
   "source": [
    "## EDA"
   ]
  },
  {
   "cell_type": "code",
   "execution_count": 6,
   "id": "8c6a70f5",
   "metadata": {
    "execution": {
     "iopub.execute_input": "2024-06-20T22:48:35.236661Z",
     "iopub.status.busy": "2024-06-20T22:48:35.236308Z",
     "iopub.status.idle": "2024-06-20T22:48:35.253809Z",
     "shell.execute_reply": "2024-06-20T22:48:35.252994Z"
    },
    "executionInfo": {
     "elapsed": 13,
     "status": "ok",
     "timestamp": 1718832635250,
     "user": {
      "displayName": "Anna Tang",
      "userId": "06009827953892747229"
     },
     "user_tz": 240
    },
    "id": "c4ac8694",
    "outputId": "978e7272-3cab-4015-c5d1-6fc85d4524c1",
    "papermill": {
     "duration": 0.036419,
     "end_time": "2024-06-20T22:48:35.255720",
     "exception": false,
     "start_time": "2024-06-20T22:48:35.219301",
     "status": "completed"
    },
    "tags": []
   },
   "outputs": [
    {
     "data": {
      "text/html": [
       "<div>\n",
       "<style scoped>\n",
       "    .dataframe tbody tr th:only-of-type {\n",
       "        vertical-align: middle;\n",
       "    }\n",
       "\n",
       "    .dataframe tbody tr th {\n",
       "        vertical-align: top;\n",
       "    }\n",
       "\n",
       "    .dataframe thead th {\n",
       "        text-align: right;\n",
       "    }\n",
       "</style>\n",
       "<table border=\"1\" class=\"dataframe\">\n",
       "  <thead>\n",
       "    <tr style=\"text-align: right;\">\n",
       "      <th></th>\n",
       "      <th>category</th>\n",
       "      <th>headline</th>\n",
       "      <th>authors</th>\n",
       "      <th>link</th>\n",
       "      <th>short_description</th>\n",
       "      <th>date</th>\n",
       "    </tr>\n",
       "  </thead>\n",
       "  <tbody>\n",
       "    <tr>\n",
       "      <th>0</th>\n",
       "      <td>CRIME</td>\n",
       "      <td>There Were 2 Mass Shootings In Texas Last Week...</td>\n",
       "      <td>Melissa Jeltsen</td>\n",
       "      <td>https://www.huffingtonpost.com/entry/texas-ama...</td>\n",
       "      <td>She left her husband. He killed their children...</td>\n",
       "      <td>2018-05-26</td>\n",
       "    </tr>\n",
       "    <tr>\n",
       "      <th>1</th>\n",
       "      <td>ENTERTAINMENT</td>\n",
       "      <td>Will Smith Joins Diplo And Nicky Jam For The 2...</td>\n",
       "      <td>Andy McDonald</td>\n",
       "      <td>https://www.huffingtonpost.com/entry/will-smit...</td>\n",
       "      <td>Of course it has a song.</td>\n",
       "      <td>2018-05-26</td>\n",
       "    </tr>\n",
       "    <tr>\n",
       "      <th>2</th>\n",
       "      <td>ENTERTAINMENT</td>\n",
       "      <td>Hugh Grant Marries For The First Time At Age 57</td>\n",
       "      <td>Ron Dicker</td>\n",
       "      <td>https://www.huffingtonpost.com/entry/hugh-gran...</td>\n",
       "      <td>The actor and his longtime girlfriend Anna Ebe...</td>\n",
       "      <td>2018-05-26</td>\n",
       "    </tr>\n",
       "    <tr>\n",
       "      <th>3</th>\n",
       "      <td>ENTERTAINMENT</td>\n",
       "      <td>Jim Carrey Blasts 'Castrato' Adam Schiff And D...</td>\n",
       "      <td>Ron Dicker</td>\n",
       "      <td>https://www.huffingtonpost.com/entry/jim-carre...</td>\n",
       "      <td>The actor gives Dems an ass-kicking for not fi...</td>\n",
       "      <td>2018-05-26</td>\n",
       "    </tr>\n",
       "    <tr>\n",
       "      <th>4</th>\n",
       "      <td>ENTERTAINMENT</td>\n",
       "      <td>Julianna Margulies Uses Donald Trump Poop Bags...</td>\n",
       "      <td>Ron Dicker</td>\n",
       "      <td>https://www.huffingtonpost.com/entry/julianna-...</td>\n",
       "      <td>The \"Dietland\" actress said using the bags is ...</td>\n",
       "      <td>2018-05-26</td>\n",
       "    </tr>\n",
       "  </tbody>\n",
       "</table>\n",
       "</div>"
      ],
      "text/plain": [
       "        category                                           headline  \\\n",
       "0          CRIME  There Were 2 Mass Shootings In Texas Last Week...   \n",
       "1  ENTERTAINMENT  Will Smith Joins Diplo And Nicky Jam For The 2...   \n",
       "2  ENTERTAINMENT    Hugh Grant Marries For The First Time At Age 57   \n",
       "3  ENTERTAINMENT  Jim Carrey Blasts 'Castrato' Adam Schiff And D...   \n",
       "4  ENTERTAINMENT  Julianna Margulies Uses Donald Trump Poop Bags...   \n",
       "\n",
       "           authors                                               link  \\\n",
       "0  Melissa Jeltsen  https://www.huffingtonpost.com/entry/texas-ama...   \n",
       "1    Andy McDonald  https://www.huffingtonpost.com/entry/will-smit...   \n",
       "2       Ron Dicker  https://www.huffingtonpost.com/entry/hugh-gran...   \n",
       "3       Ron Dicker  https://www.huffingtonpost.com/entry/jim-carre...   \n",
       "4       Ron Dicker  https://www.huffingtonpost.com/entry/julianna-...   \n",
       "\n",
       "                                   short_description       date  \n",
       "0  She left her husband. He killed their children... 2018-05-26  \n",
       "1                           Of course it has a song. 2018-05-26  \n",
       "2  The actor and his longtime girlfriend Anna Ebe... 2018-05-26  \n",
       "3  The actor gives Dems an ass-kicking for not fi... 2018-05-26  \n",
       "4  The \"Dietland\" actress said using the bags is ... 2018-05-26  "
      ]
     },
     "execution_count": 6,
     "metadata": {},
     "output_type": "execute_result"
    }
   ],
   "source": [
    "reviews.head()"
   ]
  },
  {
   "cell_type": "code",
   "execution_count": 7,
   "id": "f14a6d00",
   "metadata": {
    "execution": {
     "iopub.execute_input": "2024-06-20T22:48:35.290078Z",
     "iopub.status.busy": "2024-06-20T22:48:35.289796Z",
     "iopub.status.idle": "2024-06-20T22:48:35.337282Z",
     "shell.execute_reply": "2024-06-20T22:48:35.336453Z"
    },
    "executionInfo": {
     "elapsed": 11,
     "status": "ok",
     "timestamp": 1718832635250,
     "user": {
      "displayName": "Anna Tang",
      "userId": "06009827953892747229"
     },
     "user_tz": 240
    },
    "id": "a7c3a052",
    "outputId": "ccc3c8d2-f2b2-4f15-915a-0def3f13156f",
    "papermill": {
     "duration": 0.066718,
     "end_time": "2024-06-20T22:48:35.339161",
     "exception": false,
     "start_time": "2024-06-20T22:48:35.272443",
     "status": "completed"
    },
    "tags": []
   },
   "outputs": [
    {
     "data": {
      "text/plain": [
       "category\n",
       "POLITICS          32739\n",
       "WELLNESS          17827\n",
       "ENTERTAINMENT     16058\n",
       "TRAVEL             9887\n",
       "STYLE & BEAUTY     9649\n",
       "PARENTING          8677\n",
       "HEALTHY LIVING     6694\n",
       "QUEER VOICES       6314\n",
       "FOOD & DRINK       6226\n",
       "BUSINESS           5937\n",
       "COMEDY             5175\n",
       "SPORTS             4884\n",
       "BLACK VOICES       4528\n",
       "HOME & LIVING      4195\n",
       "PARENTS            3955\n",
       "THE WORLDPOST      3664\n",
       "WEDDINGS           3651\n",
       "WOMEN              3490\n",
       "IMPACT             3459\n",
       "DIVORCE            3426\n",
       "CRIME              3405\n",
       "MEDIA              2815\n",
       "WEIRD NEWS         2670\n",
       "GREEN              2622\n",
       "WORLDPOST          2579\n",
       "RELIGION           2556\n",
       "STYLE              2254\n",
       "SCIENCE            2178\n",
       "WORLD NEWS         2177\n",
       "TASTE              2096\n",
       "TECH               2082\n",
       "MONEY              1707\n",
       "ARTS               1509\n",
       "FIFTY              1401\n",
       "GOOD NEWS          1398\n",
       "ARTS & CULTURE     1339\n",
       "ENVIRONMENT        1323\n",
       "COLLEGE            1144\n",
       "LATINO VOICES      1129\n",
       "CULTURE & ARTS     1030\n",
       "EDUCATION          1004\n",
       "Name: count, dtype: int64"
      ]
     },
     "execution_count": 7,
     "metadata": {},
     "output_type": "execute_result"
    }
   ],
   "source": [
    "reviews[\"category\"].value_counts()"
   ]
  },
  {
   "cell_type": "code",
   "execution_count": 8,
   "id": "169125d1",
   "metadata": {
    "execution": {
     "iopub.execute_input": "2024-06-20T22:48:35.374683Z",
     "iopub.status.busy": "2024-06-20T22:48:35.373822Z",
     "iopub.status.idle": "2024-06-20T22:48:35.484778Z",
     "shell.execute_reply": "2024-06-20T22:48:35.483838Z"
    },
    "executionInfo": {
     "elapsed": 9,
     "status": "ok",
     "timestamp": 1718832635250,
     "user": {
      "displayName": "Anna Tang",
      "userId": "06009827953892747229"
     },
     "user_tz": 240
    },
    "id": "cec59f50",
    "outputId": "a8692256-1901-416e-c18a-5c3968fff571",
    "papermill": {
     "duration": 0.130976,
     "end_time": "2024-06-20T22:48:35.486813",
     "exception": false,
     "start_time": "2024-06-20T22:48:35.355837",
     "status": "completed"
    },
    "tags": []
   },
   "outputs": [
    {
     "name": "stdout",
     "output_type": "stream",
     "text": [
      "<class 'pandas.core.frame.DataFrame'>\n",
      "Index: 200853 entries, 0 to 200852\n",
      "Data columns (total 6 columns):\n",
      " #   Column             Non-Null Count   Dtype         \n",
      "---  ------             --------------   -----         \n",
      " 0   category           200853 non-null  object        \n",
      " 1   headline           200853 non-null  object        \n",
      " 2   authors            200853 non-null  object        \n",
      " 3   link               200853 non-null  object        \n",
      " 4   short_description  200853 non-null  object        \n",
      " 5   date               200853 non-null  datetime64[ns]\n",
      "dtypes: datetime64[ns](1), object(5)\n",
      "memory usage: 10.7+ MB\n"
     ]
    }
   ],
   "source": [
    "reviews.info()"
   ]
  },
  {
   "cell_type": "markdown",
   "id": "87424b24",
   "metadata": {
    "id": "603cc5e7",
    "papermill": {
     "duration": 0.016868,
     "end_time": "2024-06-20T22:48:35.521015",
     "exception": false,
     "start_time": "2024-06-20T22:48:35.504147",
     "status": "completed"
    },
    "tags": []
   },
   "source": [
    "## Prepare Data"
   ]
  },
  {
   "cell_type": "code",
   "execution_count": 9,
   "id": "e59be609",
   "metadata": {
    "execution": {
     "iopub.execute_input": "2024-06-20T22:48:35.555750Z",
     "iopub.status.busy": "2024-06-20T22:48:35.555418Z",
     "iopub.status.idle": "2024-06-20T22:48:35.796857Z",
     "shell.execute_reply": "2024-06-20T22:48:35.795865Z"
    },
    "id": "be5da494",
    "papermill": {
     "duration": 0.261411,
     "end_time": "2024-06-20T22:48:35.799182",
     "exception": false,
     "start_time": "2024-06-20T22:48:35.537771",
     "status": "completed"
    },
    "tags": []
   },
   "outputs": [],
   "source": [
    "reviews[\"combined_text\"] = reviews[\"headline\"].str.lower() + ' ' + reviews[\"short_description\"].str.lower()"
   ]
  },
  {
   "cell_type": "code",
   "execution_count": 10,
   "id": "fd8519b0",
   "metadata": {
    "execution": {
     "iopub.execute_input": "2024-06-20T22:48:35.835167Z",
     "iopub.status.busy": "2024-06-20T22:48:35.834872Z",
     "iopub.status.idle": "2024-06-20T22:48:35.938120Z",
     "shell.execute_reply": "2024-06-20T22:48:35.937229Z"
    },
    "executionInfo": {
     "elapsed": 207,
     "status": "ok",
     "timestamp": 1718832635698,
     "user": {
      "displayName": "Anna Tang",
      "userId": "06009827953892747229"
     },
     "user_tz": 240
    },
    "id": "adde8dd1",
    "outputId": "e686deb1-0bbd-49bf-cb03-47d5c606d68a",
    "papermill": {
     "duration": 0.123078,
     "end_time": "2024-06-20T22:48:35.940168",
     "exception": false,
     "start_time": "2024-06-20T22:48:35.817090",
     "status": "completed"
    },
    "tags": []
   },
   "outputs": [
    {
     "data": {
      "text/html": [
       "<div>\n",
       "<style scoped>\n",
       "    .dataframe tbody tr th:only-of-type {\n",
       "        vertical-align: middle;\n",
       "    }\n",
       "\n",
       "    .dataframe tbody tr th {\n",
       "        vertical-align: top;\n",
       "    }\n",
       "\n",
       "    .dataframe thead th {\n",
       "        text-align: right;\n",
       "    }\n",
       "</style>\n",
       "<table border=\"1\" class=\"dataframe\">\n",
       "  <thead>\n",
       "    <tr style=\"text-align: right;\">\n",
       "      <th></th>\n",
       "      <th>category</th>\n",
       "      <th>headline</th>\n",
       "      <th>authors</th>\n",
       "      <th>link</th>\n",
       "      <th>short_description</th>\n",
       "      <th>date</th>\n",
       "      <th>combined_text</th>\n",
       "    </tr>\n",
       "  </thead>\n",
       "  <tbody>\n",
       "    <tr>\n",
       "      <th>7578</th>\n",
       "      <td>HEALTHY LIVING</td>\n",
       "      <td>To The People Who Say ‘I’m Tired’ When Someone...</td>\n",
       "      <td>The Mighty, ContributorWe face disability, dis...</td>\n",
       "      <td>https://www.huffingtonpost.com/entry/to-the-pe...</td>\n",
       "      <td>When you feel like this, it’s important to kno...</td>\n",
       "      <td>2018-01-16</td>\n",
       "      <td>to the people who say ‘i’m tired’ when someone...</td>\n",
       "    </tr>\n",
       "    <tr>\n",
       "      <th>7693</th>\n",
       "      <td>HEALTHY LIVING</td>\n",
       "      <td>Eating Shake Shack Made Me Feel Healthier Than...</td>\n",
       "      <td>Colleen Werner, ContributorCampus Editor-at-Large</td>\n",
       "      <td>https://www.huffingtonpost.com/entry/eating-sh...</td>\n",
       "      <td>I can vividly remember the first time I felt f...</td>\n",
       "      <td>2018-01-12</td>\n",
       "      <td>eating shake shack made me feel healthier than...</td>\n",
       "    </tr>\n",
       "    <tr>\n",
       "      <th>7747</th>\n",
       "      <td>HEALTHY LIVING</td>\n",
       "      <td>How To Stay Updated On The News Without Losing...</td>\n",
       "      <td>Lindsay Holmes</td>\n",
       "      <td>https://www.huffingtonpost.com/entry/anxiety-f...</td>\n",
       "      <td>Because it's only becoming more of a struggle.</td>\n",
       "      <td>2018-01-12</td>\n",
       "      <td>how to stay updated on the news without losing...</td>\n",
       "    </tr>\n",
       "    <tr>\n",
       "      <th>7927</th>\n",
       "      <td>HEALTHY LIVING</td>\n",
       "      <td>27 Perfect Tweets About Whole30 That Will Make...</td>\n",
       "      <td>Lindsay Holmes</td>\n",
       "      <td>https://www.huffingtonpost.com/entry/tweets-ab...</td>\n",
       "      <td>\"The only Whole30 I want to participate in is ...</td>\n",
       "      <td>2018-01-10</td>\n",
       "      <td>27 perfect tweets about whole30 that will make...</td>\n",
       "    </tr>\n",
       "    <tr>\n",
       "      <th>7934</th>\n",
       "      <td>HEALTHY LIVING</td>\n",
       "      <td>The Real Reason Your Hands Are Always Cold</td>\n",
       "      <td>Refinery29, ContributorThe #1 new-media brand ...</td>\n",
       "      <td>https://www.huffingtonpost.com/entry/the-real-...</td>\n",
       "      <td>Essentially, your hands are kept warm thanks t...</td>\n",
       "      <td>2018-01-10</td>\n",
       "      <td>the real reason your hands are always cold ess...</td>\n",
       "    </tr>\n",
       "  </tbody>\n",
       "</table>\n",
       "</div>"
      ],
      "text/plain": [
       "            category                                           headline  \\\n",
       "7578  HEALTHY LIVING  To The People Who Say ‘I’m Tired’ When Someone...   \n",
       "7693  HEALTHY LIVING  Eating Shake Shack Made Me Feel Healthier Than...   \n",
       "7747  HEALTHY LIVING  How To Stay Updated On The News Without Losing...   \n",
       "7927  HEALTHY LIVING  27 Perfect Tweets About Whole30 That Will Make...   \n",
       "7934  HEALTHY LIVING         The Real Reason Your Hands Are Always Cold   \n",
       "\n",
       "                                                authors  \\\n",
       "7578  The Mighty, ContributorWe face disability, dis...   \n",
       "7693  Colleen Werner, ContributorCampus Editor-at-Large   \n",
       "7747                                     Lindsay Holmes   \n",
       "7927                                     Lindsay Holmes   \n",
       "7934  Refinery29, ContributorThe #1 new-media brand ...   \n",
       "\n",
       "                                                   link  \\\n",
       "7578  https://www.huffingtonpost.com/entry/to-the-pe...   \n",
       "7693  https://www.huffingtonpost.com/entry/eating-sh...   \n",
       "7747  https://www.huffingtonpost.com/entry/anxiety-f...   \n",
       "7927  https://www.huffingtonpost.com/entry/tweets-ab...   \n",
       "7934  https://www.huffingtonpost.com/entry/the-real-...   \n",
       "\n",
       "                                      short_description       date  \\\n",
       "7578  When you feel like this, it’s important to kno... 2018-01-16   \n",
       "7693  I can vividly remember the first time I felt f... 2018-01-12   \n",
       "7747     Because it's only becoming more of a struggle. 2018-01-12   \n",
       "7927  \"The only Whole30 I want to participate in is ... 2018-01-10   \n",
       "7934  Essentially, your hands are kept warm thanks t... 2018-01-10   \n",
       "\n",
       "                                          combined_text  \n",
       "7578  to the people who say ‘i’m tired’ when someone...  \n",
       "7693  eating shake shack made me feel healthier than...  \n",
       "7747  how to stay updated on the news without losing...  \n",
       "7927  27 perfect tweets about whole30 that will make...  \n",
       "7934  the real reason your hands are always cold ess...  "
      ]
     },
     "execution_count": 10,
     "metadata": {},
     "output_type": "execute_result"
    }
   ],
   "source": [
    "# healthy living and wellness articles\n",
    "reviews[reviews[\"category\"].str.contains(\"HEALTHY LIVING\")].head()"
   ]
  },
  {
   "cell_type": "code",
   "execution_count": 11,
   "id": "46b9680a",
   "metadata": {
    "execution": {
     "iopub.execute_input": "2024-06-20T22:48:35.976092Z",
     "iopub.status.busy": "2024-06-20T22:48:35.975825Z",
     "iopub.status.idle": "2024-06-20T22:48:36.066498Z",
     "shell.execute_reply": "2024-06-20T22:48:36.065630Z"
    },
    "id": "qaOzHRaC040K",
    "papermill": {
     "duration": 0.110851,
     "end_time": "2024-06-20T22:48:36.068483",
     "exception": false,
     "start_time": "2024-06-20T22:48:35.957632",
     "status": "completed"
    },
    "tags": []
   },
   "outputs": [
    {
     "data": {
      "text/plain": [
       "(6694, 7)"
      ]
     },
     "execution_count": 11,
     "metadata": {},
     "output_type": "execute_result"
    }
   ],
   "source": [
    "reviews[reviews[\"category\"].str.contains(\"HEALTHY LIVING\")].shape"
   ]
  },
  {
   "cell_type": "code",
   "execution_count": 12,
   "id": "e418094d",
   "metadata": {
    "execution": {
     "iopub.execute_input": "2024-06-20T22:48:36.104453Z",
     "iopub.status.busy": "2024-06-20T22:48:36.104184Z",
     "iopub.status.idle": "2024-06-20T22:48:36.205031Z",
     "shell.execute_reply": "2024-06-20T22:48:36.204220Z"
    },
    "id": "TY5-82pO05sZ",
    "papermill": {
     "duration": 0.120743,
     "end_time": "2024-06-20T22:48:36.206786",
     "exception": false,
     "start_time": "2024-06-20T22:48:36.086043",
     "status": "completed"
    },
    "tags": []
   },
   "outputs": [
    {
     "data": {
      "text/html": [
       "<div>\n",
       "<style scoped>\n",
       "    .dataframe tbody tr th:only-of-type {\n",
       "        vertical-align: middle;\n",
       "    }\n",
       "\n",
       "    .dataframe tbody tr th {\n",
       "        vertical-align: top;\n",
       "    }\n",
       "\n",
       "    .dataframe thead th {\n",
       "        text-align: right;\n",
       "    }\n",
       "</style>\n",
       "<table border=\"1\" class=\"dataframe\">\n",
       "  <thead>\n",
       "    <tr style=\"text-align: right;\">\n",
       "      <th></th>\n",
       "      <th>category</th>\n",
       "      <th>headline</th>\n",
       "      <th>authors</th>\n",
       "      <th>link</th>\n",
       "      <th>short_description</th>\n",
       "      <th>date</th>\n",
       "      <th>combined_text</th>\n",
       "    </tr>\n",
       "  </thead>\n",
       "  <tbody>\n",
       "    <tr>\n",
       "      <th>124989</th>\n",
       "      <td>WELLNESS</td>\n",
       "      <td>Why Overeating Doesn't Make You Fat</td>\n",
       "      <td>Mark Hyman, MD, Contributor\\nPracticing Physician</td>\n",
       "      <td>https://www.huffingtonpost.com/entry/overeatin...</td>\n",
       "      <td>If you take the right approach to ending your ...</td>\n",
       "      <td>2014-04-17</td>\n",
       "      <td>why overeating doesn't make you fat if you tak...</td>\n",
       "    </tr>\n",
       "    <tr>\n",
       "      <th>124990</th>\n",
       "      <td>WELLNESS</td>\n",
       "      <td>14 Habits Of People With A Healthy Relationshi...</td>\n",
       "      <td>Sarah Klein</td>\n",
       "      <td>https://www.huffingtonpost.com/entry/healthy-r...</td>\n",
       "      <td>After a long list of rules and habits like the...</td>\n",
       "      <td>2014-04-17</td>\n",
       "      <td>14 habits of people with a healthy relationshi...</td>\n",
       "    </tr>\n",
       "    <tr>\n",
       "      <th>124993</th>\n",
       "      <td>WELLNESS</td>\n",
       "      <td>5 Things That Could Be Stealing Your Joy</td>\n",
       "      <td>Amanda Gore, Contributor\\nInternational keynot...</td>\n",
       "      <td>https://www.huffingtonpost.com/entry/joy_us_5b...</td>\n",
       "      <td>Listen to yourself all day today -- are you an...</td>\n",
       "      <td>2014-04-17</td>\n",
       "      <td>5 things that could be stealing your joy liste...</td>\n",
       "    </tr>\n",
       "    <tr>\n",
       "      <th>124994</th>\n",
       "      <td>WELLNESS</td>\n",
       "      <td>Moments Make a Life</td>\n",
       "      <td>Megan McDonough, Contributor\\nCEO, Wholebeing ...</td>\n",
       "      <td>https://www.huffingtonpost.com/entry/moments-m...</td>\n",
       "      <td>Consciously constructing positive habits -- or...</td>\n",
       "      <td>2014-04-17</td>\n",
       "      <td>moments make a life consciously constructing p...</td>\n",
       "    </tr>\n",
       "    <tr>\n",
       "      <th>124996</th>\n",
       "      <td>WELLNESS</td>\n",
       "      <td>Fat Facts</td>\n",
       "      <td>Maria Rodale, Contributor\\nCEO and Chairman of...</td>\n",
       "      <td>https://www.huffingtonpost.com/entry/fat-facts...</td>\n",
       "      <td>Human fat cells, photo by Dr. Peeke Here's how...</td>\n",
       "      <td>2014-04-17</td>\n",
       "      <td>fat facts human fat cells, photo by dr. peeke ...</td>\n",
       "    </tr>\n",
       "  </tbody>\n",
       "</table>\n",
       "</div>"
      ],
      "text/plain": [
       "        category                                           headline  \\\n",
       "124989  WELLNESS                Why Overeating Doesn't Make You Fat   \n",
       "124990  WELLNESS  14 Habits Of People With A Healthy Relationshi...   \n",
       "124993  WELLNESS           5 Things That Could Be Stealing Your Joy   \n",
       "124994  WELLNESS                                Moments Make a Life   \n",
       "124996  WELLNESS                                          Fat Facts   \n",
       "\n",
       "                                                  authors  \\\n",
       "124989  Mark Hyman, MD, Contributor\\nPracticing Physician   \n",
       "124990                                        Sarah Klein   \n",
       "124993  Amanda Gore, Contributor\\nInternational keynot...   \n",
       "124994  Megan McDonough, Contributor\\nCEO, Wholebeing ...   \n",
       "124996  Maria Rodale, Contributor\\nCEO and Chairman of...   \n",
       "\n",
       "                                                     link  \\\n",
       "124989  https://www.huffingtonpost.com/entry/overeatin...   \n",
       "124990  https://www.huffingtonpost.com/entry/healthy-r...   \n",
       "124993  https://www.huffingtonpost.com/entry/joy_us_5b...   \n",
       "124994  https://www.huffingtonpost.com/entry/moments-m...   \n",
       "124996  https://www.huffingtonpost.com/entry/fat-facts...   \n",
       "\n",
       "                                        short_description       date  \\\n",
       "124989  If you take the right approach to ending your ... 2014-04-17   \n",
       "124990  After a long list of rules and habits like the... 2014-04-17   \n",
       "124993  Listen to yourself all day today -- are you an... 2014-04-17   \n",
       "124994  Consciously constructing positive habits -- or... 2014-04-17   \n",
       "124996  Human fat cells, photo by Dr. Peeke Here's how... 2014-04-17   \n",
       "\n",
       "                                            combined_text  \n",
       "124989  why overeating doesn't make you fat if you tak...  \n",
       "124990  14 habits of people with a healthy relationshi...  \n",
       "124993  5 things that could be stealing your joy liste...  \n",
       "124994  moments make a life consciously constructing p...  \n",
       "124996  fat facts human fat cells, photo by dr. peeke ...  "
      ]
     },
     "execution_count": 12,
     "metadata": {},
     "output_type": "execute_result"
    }
   ],
   "source": [
    "# healthy living and wellness articles\n",
    "reviews[reviews[\"category\"].str.contains(\"WELLNESS\")].head()"
   ]
  },
  {
   "cell_type": "code",
   "execution_count": 13,
   "id": "bf45a86a",
   "metadata": {
    "execution": {
     "iopub.execute_input": "2024-06-20T22:48:36.243365Z",
     "iopub.status.busy": "2024-06-20T22:48:36.243086Z",
     "iopub.status.idle": "2024-06-20T22:48:36.339403Z",
     "shell.execute_reply": "2024-06-20T22:48:36.338486Z"
    },
    "id": "1fb48fXB05k_",
    "papermill": {
     "duration": 0.116647,
     "end_time": "2024-06-20T22:48:36.341365",
     "exception": false,
     "start_time": "2024-06-20T22:48:36.224718",
     "status": "completed"
    },
    "tags": []
   },
   "outputs": [
    {
     "data": {
      "text/plain": [
       "(17827, 7)"
      ]
     },
     "execution_count": 13,
     "metadata": {},
     "output_type": "execute_result"
    }
   ],
   "source": [
    "reviews[reviews[\"category\"].str.contains(\"WELLNESS\")].shape"
   ]
  },
  {
   "cell_type": "code",
   "execution_count": 14,
   "id": "ac31d725",
   "metadata": {
    "execution": {
     "iopub.execute_input": "2024-06-20T22:48:36.379178Z",
     "iopub.status.busy": "2024-06-20T22:48:36.378614Z",
     "iopub.status.idle": "2024-06-20T22:48:36.447393Z",
     "shell.execute_reply": "2024-06-20T22:48:36.446517Z"
    },
    "id": "7b56d4ad",
    "papermill": {
     "duration": 0.089628,
     "end_time": "2024-06-20T22:48:36.449294",
     "exception": false,
     "start_time": "2024-06-20T22:48:36.359666",
     "status": "completed"
    },
    "tags": []
   },
   "outputs": [],
   "source": [
    "reviews[\"health_wellness\"] = np.where((reviews[\"category\"] == \"HEALTHY LIVING\") | (reviews[\"category\"] == \"WELLNESS\"), 1, 0)"
   ]
  },
  {
   "cell_type": "code",
   "execution_count": 15,
   "id": "7a31eee7",
   "metadata": {
    "execution": {
     "iopub.execute_input": "2024-06-20T22:48:36.486264Z",
     "iopub.status.busy": "2024-06-20T22:48:36.485799Z",
     "iopub.status.idle": "2024-06-20T22:48:36.495475Z",
     "shell.execute_reply": "2024-06-20T22:48:36.494633Z"
    },
    "executionInfo": {
     "elapsed": 9,
     "status": "ok",
     "timestamp": 1718832635699,
     "user": {
      "displayName": "Anna Tang",
      "userId": "06009827953892747229"
     },
     "user_tz": 240
    },
    "id": "8e0ef511",
    "outputId": "a18b4a47-7b58-4b36-d8fc-2de3e90dfa81",
    "papermill": {
     "duration": 0.03013,
     "end_time": "2024-06-20T22:48:36.497264",
     "exception": false,
     "start_time": "2024-06-20T22:48:36.467134",
     "status": "completed"
    },
    "tags": []
   },
   "outputs": [
    {
     "data": {
      "text/plain": [
       "health_wellness\n",
       "0    176332\n",
       "1     24521\n",
       "Name: count, dtype: int64"
      ]
     },
     "execution_count": 15,
     "metadata": {},
     "output_type": "execute_result"
    }
   ],
   "source": [
    "reviews[\"health_wellness\"].value_counts()"
   ]
  },
  {
   "cell_type": "code",
   "execution_count": 16,
   "id": "11369293",
   "metadata": {
    "execution": {
     "iopub.execute_input": "2024-06-20T22:48:36.534743Z",
     "iopub.status.busy": "2024-06-20T22:48:36.534435Z",
     "iopub.status.idle": "2024-06-20T22:48:36.538274Z",
     "shell.execute_reply": "2024-06-20T22:48:36.537505Z"
    },
    "id": "a8df9319",
    "papermill": {
     "duration": 0.024875,
     "end_time": "2024-06-20T22:48:36.540117",
     "exception": false,
     "start_time": "2024-06-20T22:48:36.515242",
     "status": "completed"
    },
    "tags": []
   },
   "outputs": [],
   "source": [
    "target_names = [\"NOT HEALTH WELLNESS\", \"HEALTH WELLNESS\"]"
   ]
  },
  {
   "cell_type": "markdown",
   "id": "c6f24ca4",
   "metadata": {
    "id": "7e274669",
    "papermill": {
     "duration": 0.017632,
     "end_time": "2024-06-20T22:48:36.575631",
     "exception": false,
     "start_time": "2024-06-20T22:48:36.557999",
     "status": "completed"
    },
    "tags": []
   },
   "source": [
    "## Balance the Data"
   ]
  },
  {
   "cell_type": "code",
   "execution_count": 17,
   "id": "6858e935",
   "metadata": {
    "execution": {
     "iopub.execute_input": "2024-06-20T22:48:36.612783Z",
     "iopub.status.busy": "2024-06-20T22:48:36.612447Z",
     "iopub.status.idle": "2024-06-20T22:48:36.685254Z",
     "shell.execute_reply": "2024-06-20T22:48:36.683175Z"
    },
    "id": "fba3918a",
    "papermill": {
     "duration": 0.094118,
     "end_time": "2024-06-20T22:48:36.687757",
     "exception": false,
     "start_time": "2024-06-20T22:48:36.593639",
     "status": "completed"
    },
    "tags": []
   },
   "outputs": [],
   "source": [
    "sample_amount = 24000\n",
    "\n",
    "health_wellness = reviews[reviews[\"health_wellness\"] == 1].sample(n=sample_amount)\n",
    "not_health_wellness = reviews[reviews[\"health_wellness\"] == 0].sample(n=sample_amount)"
   ]
  },
  {
   "cell_type": "code",
   "execution_count": 18,
   "id": "c2422b27",
   "metadata": {
    "execution": {
     "iopub.execute_input": "2024-06-20T22:48:36.725830Z",
     "iopub.status.busy": "2024-06-20T22:48:36.725479Z",
     "iopub.status.idle": "2024-06-20T22:48:36.735460Z",
     "shell.execute_reply": "2024-06-20T22:48:36.734621Z"
    },
    "id": "a4874bf1",
    "papermill": {
     "duration": 0.031053,
     "end_time": "2024-06-20T22:48:36.737432",
     "exception": false,
     "start_time": "2024-06-20T22:48:36.706379",
     "status": "completed"
    },
    "tags": []
   },
   "outputs": [],
   "source": [
    "review_sample = pd.concat([health_wellness, not_health_wellness])"
   ]
  },
  {
   "cell_type": "code",
   "execution_count": 19,
   "id": "8039386e",
   "metadata": {
    "execution": {
     "iopub.execute_input": "2024-06-20T22:48:36.775131Z",
     "iopub.status.busy": "2024-06-20T22:48:36.774387Z",
     "iopub.status.idle": "2024-06-20T22:48:36.821209Z",
     "shell.execute_reply": "2024-06-20T22:48:36.820214Z"
    },
    "executionInfo": {
     "elapsed": 8,
     "status": "ok",
     "timestamp": 1718832635700,
     "user": {
      "displayName": "Anna Tang",
      "userId": "06009827953892747229"
     },
     "user_tz": 240
    },
    "id": "37e2febc",
    "outputId": "f402547d-4c69-4761-e8dd-38fc2e49d0e5",
    "papermill": {
     "duration": 0.067814,
     "end_time": "2024-06-20T22:48:36.823302",
     "exception": false,
     "start_time": "2024-06-20T22:48:36.755488",
     "status": "completed"
    },
    "tags": []
   },
   "outputs": [
    {
     "name": "stdout",
     "output_type": "stream",
     "text": [
      "<class 'pandas.core.frame.DataFrame'>\n",
      "Index: 48000 entries, 154258 to 117313\n",
      "Data columns (total 8 columns):\n",
      " #   Column             Non-Null Count  Dtype         \n",
      "---  ------             --------------  -----         \n",
      " 0   category           48000 non-null  object        \n",
      " 1   headline           48000 non-null  object        \n",
      " 2   authors            48000 non-null  object        \n",
      " 3   link               48000 non-null  object        \n",
      " 4   short_description  48000 non-null  object        \n",
      " 5   date               48000 non-null  datetime64[ns]\n",
      " 6   combined_text      48000 non-null  object        \n",
      " 7   health_wellness    48000 non-null  int64         \n",
      "dtypes: datetime64[ns](1), int64(1), object(6)\n",
      "memory usage: 3.3+ MB\n"
     ]
    }
   ],
   "source": [
    "review_sample.info()"
   ]
  },
  {
   "cell_type": "code",
   "execution_count": 20,
   "id": "bf07bc16",
   "metadata": {
    "execution": {
     "iopub.execute_input": "2024-06-20T22:48:36.901127Z",
     "iopub.status.busy": "2024-06-20T22:48:36.900329Z",
     "iopub.status.idle": "2024-06-20T22:48:36.907844Z",
     "shell.execute_reply": "2024-06-20T22:48:36.907017Z"
    },
    "id": "45a34152",
    "papermill": {
     "duration": 0.029024,
     "end_time": "2024-06-20T22:48:36.909692",
     "exception": false,
     "start_time": "2024-06-20T22:48:36.880668",
     "status": "completed"
    },
    "tags": []
   },
   "outputs": [],
   "source": [
    "def ktrain_model(preprocess_mode, text_process):\n",
    "    train, val, preprocess = ktrain.text.texts_from_df(\n",
    "    review_sample,\n",
    "    \"combined_text\",\n",
    "    label_columns=[\"health_wellness\"],\n",
    "    val_df=None,\n",
    "    max_features=20000,\n",
    "    maxlen=512,\n",
    "    val_pct=0.1,\n",
    "    ngram_range=1,\n",
    "    preprocess_mode=preprocess_mode,\n",
    "    verbose=1\n",
    "    )\n",
    "\n",
    "    model = ktrain.text.text_classifier(text_process, train, preproc=preprocess)\n",
    "\n",
    "    learner = ktrain.get_learner(model, train_data=train, val_data=val, batch_size=8)\n",
    "\n",
    "    learner.lr_find(max_epochs=6)\n",
    "\n",
    "    learner.lr_plot()\n",
    "\n",
    "    history=learner.autofit(\n",
    "    1e-3,\n",
    "    checkpoint_folder='checkpoint',\n",
    "    epochs=10,\n",
    "    early_stopping=True\n",
    "    )\n",
    "\n",
    "    predictor = ktrain.get_predictor(learner.model, preproc=preprocess)\n",
    "\n",
    "    validation = learner.validate(val_data=val, print_report=True)"
   ]
  },
  {
   "cell_type": "code",
   "execution_count": 21,
   "id": "c6ef7ab7",
   "metadata": {
    "execution": {
     "iopub.execute_input": "2024-06-20T22:48:36.947626Z",
     "iopub.status.busy": "2024-06-20T22:48:36.947309Z",
     "iopub.status.idle": "2024-06-20T22:54:05.461835Z",
     "shell.execute_reply": "2024-06-20T22:54:05.460852Z"
    },
    "executionInfo": {
     "elapsed": 102530,
     "status": "ok",
     "timestamp": 1718832738224,
     "user": {
      "displayName": "Anna Tang",
      "userId": "06009827953892747229"
     },
     "user_tz": 240
    },
    "id": "55814180",
    "outputId": "0c726847-87d0-4a5f-9260-c2f26040e213",
    "papermill": {
     "duration": 328.535756,
     "end_time": "2024-06-20T22:54:05.464075",
     "exception": false,
     "start_time": "2024-06-20T22:48:36.928319",
     "status": "completed"
    },
    "tags": []
   },
   "outputs": [
    {
     "name": "stdout",
     "output_type": "stream",
     "text": [
      "['not_health_wellness', 'health_wellness']\n",
      "        not_health_wellness  health_wellness\n",
      "7093                    1.0              0.0\n",
      "5580                    1.0              0.0\n",
      "34178                   1.0              0.0\n",
      "67513                   1.0              0.0\n",
      "181022                  0.0              1.0\n",
      "['not_health_wellness', 'health_wellness']\n",
      "        not_health_wellness  health_wellness\n",
      "92372                   1.0              0.0\n",
      "156379                  1.0              0.0\n",
      "66721                   1.0              0.0\n",
      "156855                  0.0              1.0\n",
      "27060                   0.0              1.0\n",
      "language: en\n",
      "Word Counts: 52304\n",
      "Nrows: 43200\n",
      "43200 train sequences\n",
      "train sequence lengths:\n",
      "\tmean : 32\n",
      "\t95percentile : 57\n",
      "\t99percentile : 67\n",
      "x_train shape: (43200,512)\n",
      "y_train shape: (43200, 2)\n",
      "Is Multi-Label? False\n",
      "4800 test sequences\n",
      "test sequence lengths:\n",
      "\tmean : 31\n",
      "\t95percentile : 57\n",
      "\t99percentile : 68\n",
      "x_test shape: (4800,512)\n",
      "y_test shape: (4800, 2)\n",
      "Is Multi-Label? False\n",
      "compiling word ID features...\n",
      "maxlen is 512\n",
      "done.\n",
      "simulating training for different learning rates... this may take a few moments...\n"
     ]
    },
    {
     "name": "stderr",
     "output_type": "stream",
     "text": [
      "/opt/conda/lib/python3.10/site-packages/tf_keras/src/engine/training.py:3098: UserWarning: You are saving your model as an HDF5 file via `model.save()`. This file format is considered legacy. We recommend using instead the native TF-Keras format, e.g. `model.save('my_model.keras')`.\n",
      "  saving_api.save_model(\n"
     ]
    },
    {
     "name": "stdout",
     "output_type": "stream",
     "text": [
      "Epoch 1/6\n",
      "5400/5400 [==============================] - 47s 4ms/step - loss: 0.9700 - accuracy: 0.4893\n",
      "Epoch 2/6\n",
      "5400/5400 [==============================] - 20s 4ms/step - loss: 0.9104 - accuracy: 0.5017\n",
      "Epoch 3/6\n",
      "5400/5400 [==============================] - 20s 4ms/step - loss: 0.6568 - accuracy: 0.6363\n",
      "Epoch 4/6\n",
      "5400/5400 [==============================] - 20s 4ms/step - loss: 0.4816 - accuracy: 0.7791\n",
      "Epoch 5/6\n",
      "5400/5400 [==============================] - 20s 4ms/step - loss: 0.6991 - accuracy: 0.5144\n",
      "Epoch 6/6\n",
      "5400/5400 [==============================] - 20s 4ms/step - loss: 0.9413 - accuracy: 0.5001\n",
      "\n",
      "\n",
      "done.\n",
      "Please invoke the Learner.lr_plot() method to visually inspect the loss plot to help identify the maximal learning rate associated with falling loss.\n"
     ]
    },
    {
     "data": {
      "image/png": "[encoded data removed]",
      "text/plain": [
       "<Figure size 640x480 with 1 Axes>"
      ]
     },
     "metadata": {},
     "output_type": "display_data"
    },
    {
     "name": "stdout",
     "output_type": "stream",
     "text": [
      "\n",
      "\n",
      "begin training using triangular learning rate policy with max lr of 0.001...\n",
      "Epoch 1/10\n",
      "5400/5400 [==============================] - 27s 5ms/step - loss: 0.5755 - accuracy: 0.7050 - val_loss: 0.3280 - val_accuracy: 0.8662\n",
      "Epoch 2/10\n",
      "5400/5400 [==============================] - 25s 5ms/step - loss: 0.3985 - accuracy: 0.8238 - val_loss: 0.2932 - val_accuracy: 0.8777\n",
      "Epoch 3/10\n",
      "5400/5400 [==============================] - 25s 5ms/step - loss: 0.3492 - accuracy: 0.8520 - val_loss: 0.2816 - val_accuracy: 0.8825\n",
      "Epoch 4/10\n",
      "5400/5400 [==============================] - 25s 5ms/step - loss: 0.3163 - accuracy: 0.8706 - val_loss: 0.2812 - val_accuracy: 0.8835\n",
      "Epoch 5/10\n",
      "5400/5400 [==============================] - 25s 5ms/step - loss: 0.2952 - accuracy: 0.8802 - val_loss: 0.2801 - val_accuracy: 0.8904\n",
      "Epoch 6/10\n",
      "5394/5400 [============================>.] - ETA: 0s - loss: 0.2828 - accuracy: 0.8860Restoring model weights from the end of the best epoch: 5.\n",
      "5400/5400 [==============================] - 25s 5ms/step - loss: 0.2828 - accuracy: 0.8860 - val_loss: 0.2831 - val_accuracy: 0.8854\n",
      "Epoch 6: early stopping\n",
      "Weights from best epoch have been loaded into model.\n",
      "150/150 [==============================] - 1s 1ms/step\n",
      "              precision    recall  f1-score   support\n",
      "\n",
      "           0       0.90      0.88      0.89      2404\n",
      "           1       0.88      0.90      0.89      2396\n",
      "\n",
      "    accuracy                           0.89      4800\n",
      "   macro avg       0.89      0.89      0.89      4800\n",
      "weighted avg       0.89      0.89      0.89      4800\n",
      "\n"
     ]
    }
   ],
   "source": [
    "ktrain_model(\"standard\", \"fasttext\")"
   ]
  },
  {
   "cell_type": "code",
   "execution_count": 22,
   "id": "84152cec",
   "metadata": {
    "execution": {
     "iopub.execute_input": "2024-06-20T22:54:06.324263Z",
     "iopub.status.busy": "2024-06-20T22:54:06.323590Z",
     "iopub.status.idle": "2024-06-20T22:58:15.022911Z",
     "shell.execute_reply": "2024-06-20T22:58:15.022042Z"
    },
    "executionInfo": {
     "elapsed": 76984,
     "status": "ok",
     "timestamp": 1718832815192,
     "user": {
      "displayName": "Anna Tang",
      "userId": "06009827953892747229"
     },
     "user_tz": 240
    },
    "id": "420dc228",
    "outputId": "d39ed350-089a-4aa7-b11e-c0e3a09ffa86",
    "papermill": {
     "duration": 249.128221,
     "end_time": "2024-06-20T22:58:15.024777",
     "exception": false,
     "start_time": "2024-06-20T22:54:05.896556",
     "status": "completed"
    },
    "tags": []
   },
   "outputs": [
    {
     "name": "stdout",
     "output_type": "stream",
     "text": [
      "['not_health_wellness', 'health_wellness']\n",
      "        not_health_wellness  health_wellness\n",
      "71880                   1.0              0.0\n",
      "87887                   1.0              0.0\n",
      "199649                  0.0              1.0\n",
      "31428                   1.0              0.0\n",
      "161947                  1.0              0.0\n",
      "['not_health_wellness', 'health_wellness']\n",
      "        not_health_wellness  health_wellness\n",
      "144065                  1.0              0.0\n",
      "28180                   1.0              0.0\n",
      "155454                  1.0              0.0\n",
      "50649                   0.0              1.0\n",
      "141208                  1.0              0.0\n",
      "language: en\n",
      "Word Counts: 52455\n",
      "Nrows: 43200\n",
      "43200 train sequences\n",
      "train sequence lengths:\n",
      "\tmean : 32\n",
      "\t95percentile : 57\n",
      "\t99percentile : 67\n",
      "x_train shape: (43200,512)\n",
      "y_train shape: (43200, 2)\n",
      "Is Multi-Label? False\n",
      "4800 test sequences\n",
      "test sequence lengths:\n",
      "\tmean : 31\n",
      "\t95percentile : 56\n",
      "\t99percentile : 65\n",
      "x_test shape: (4800,512)\n",
      "y_test shape: (4800, 2)\n",
      "Is Multi-Label? False\n",
      "compiling word ID features...\n",
      "maxlen is 512\n",
      "building document-term matrix... this may take a few moments...\n",
      "rows: 1-10000\n",
      "rows: 10001-20000\n",
      "rows: 20001-30000\n",
      "rows: 30001-40000\n",
      "rows: 40001-43200\n",
      "computing log-count ratios...\n",
      "done.\n",
      "simulating training for different learning rates... this may take a few moments...\n"
     ]
    },
    {
     "name": "stderr",
     "output_type": "stream",
     "text": [
      "/opt/conda/lib/python3.10/site-packages/tf_keras/src/engine/training.py:3098: UserWarning: You are saving your model as an HDF5 file via `model.save()`. This file format is considered legacy. We recommend using instead the native TF-Keras format, e.g. `model.save('my_model.keras')`.\n",
      "  saving_api.save_model(\n"
     ]
    },
    {
     "name": "stdout",
     "output_type": "stream",
     "text": [
      "Epoch 1/6\n",
      "5400/5400 [==============================] - 19s 3ms/step - loss: 0.6967 - accuracy: 0.5003\n",
      "Epoch 2/6\n",
      "5400/5400 [==============================] - 17s 3ms/step - loss: 0.6599 - accuracy: 0.6325\n",
      "Epoch 3/6\n",
      "5400/5400 [==============================] - 17s 3ms/step - loss: 0.4471 - accuracy: 0.8415\n",
      "Epoch 4/6\n",
      "5400/5400 [==============================] - 17s 3ms/step - loss: 0.2799 - accuracy: 0.8986\n",
      "Epoch 5/6\n",
      "5400/5400 [==============================] - 11s 2ms/step - loss: 1.0505 - accuracy: 0.8658\n",
      "\n",
      "\n",
      "done.\n",
      "Please invoke the Learner.lr_plot() method to visually inspect the loss plot to help identify the maximal learning rate associated with falling loss.\n"
     ]
    },
    {
     "data": {
      "image/png": "[encoded data removed]",
      "text/plain": [
       "<Figure size 640x480 with 1 Axes>"
      ]
     },
     "metadata": {},
     "output_type": "display_data"
    },
    {
     "name": "stdout",
     "output_type": "stream",
     "text": [
      "\n",
      "\n",
      "begin training using triangular learning rate policy with max lr of 0.001...\n",
      "Epoch 1/10\n",
      "5400/5400 [==============================] - 22s 4ms/step - loss: 0.3788 - accuracy: 0.8559 - val_loss: 0.2957 - val_accuracy: 0.8898\n",
      "Epoch 2/10\n",
      "5400/5400 [==============================] - 21s 4ms/step - loss: 0.2459 - accuracy: 0.9137 - val_loss: 0.2685 - val_accuracy: 0.8973\n",
      "Epoch 3/10\n",
      "5400/5400 [==============================] - 21s 4ms/step - loss: 0.2144 - accuracy: 0.9231 - val_loss: 0.2618 - val_accuracy: 0.8973\n",
      "Epoch 4/10\n",
      "5400/5400 [==============================] - 21s 4ms/step - loss: 0.1962 - accuracy: 0.9288 - val_loss: 0.2591 - val_accuracy: 0.8998\n",
      "Epoch 5/10\n",
      "5394/5400 [============================>.] - ETA: 0s - loss: 0.1834 - accuracy: 0.9339Restoring model weights from the end of the best epoch: 4.\n",
      "5400/5400 [==============================] - 21s 4ms/step - loss: 0.1833 - accuracy: 0.9339 - val_loss: 0.2616 - val_accuracy: 0.8979\n",
      "Epoch 5: early stopping\n",
      "Weights from best epoch have been loaded into model.\n",
      "150/150 [==============================] - 0s 1ms/step\n",
      "              precision    recall  f1-score   support\n",
      "\n",
      "           0       0.90      0.90      0.90      2419\n",
      "           1       0.90      0.90      0.90      2381\n",
      "\n",
      "    accuracy                           0.90      4800\n",
      "   macro avg       0.90      0.90      0.90      4800\n",
      "weighted avg       0.90      0.90      0.90      4800\n",
      "\n"
     ]
    }
   ],
   "source": [
    "ktrain_model(\"standard\", \"nbsvm\")"
   ]
  },
  {
   "cell_type": "code",
   "execution_count": 23,
   "id": "f9100a8b",
   "metadata": {
    "execution": {
     "iopub.execute_input": "2024-06-20T22:58:16.476324Z",
     "iopub.status.busy": "2024-06-20T22:58:16.475450Z",
     "iopub.status.idle": "2024-06-20T23:02:04.424432Z",
     "shell.execute_reply": "2024-06-20T23:02:04.423533Z"
    },
    "executionInfo": {
     "elapsed": 61470,
     "status": "ok",
     "timestamp": 1718832876642,
     "user": {
      "displayName": "Anna Tang",
      "userId": "06009827953892747229"
     },
     "user_tz": 240
    },
    "id": "10a8f30e",
    "outputId": "354fd56c-656a-4bd0-bad5-8ace511366dd",
    "papermill": {
     "duration": 229.402797,
     "end_time": "2024-06-20T23:02:05.178772",
     "exception": false,
     "start_time": "2024-06-20T22:58:15.775975",
     "status": "completed"
    },
    "tags": []
   },
   "outputs": [
    {
     "name": "stdout",
     "output_type": "stream",
     "text": [
      "['not_health_wellness', 'health_wellness']\n",
      "        not_health_wellness  health_wellness\n",
      "110586                  1.0              0.0\n",
      "92905                   0.0              1.0\n",
      "77344                   1.0              0.0\n",
      "56698                   1.0              0.0\n",
      "50687                   1.0              0.0\n",
      "['not_health_wellness', 'health_wellness']\n",
      "        not_health_wellness  health_wellness\n",
      "169502                  0.0              1.0\n",
      "136989                  0.0              1.0\n",
      "195526                  0.0              1.0\n",
      "187330                  0.0              1.0\n",
      "149183                  0.0              1.0\n",
      "language: en\n",
      "Word Counts: 52334\n",
      "Nrows: 43200\n",
      "43200 train sequences\n",
      "train sequence lengths:\n",
      "\tmean : 32\n",
      "\t95percentile : 57\n",
      "\t99percentile : 67\n",
      "x_train shape: (43200,512)\n",
      "y_train shape: (43200, 2)\n",
      "Is Multi-Label? False\n",
      "4800 test sequences\n",
      "test sequence lengths:\n",
      "\tmean : 31\n",
      "\t95percentile : 57\n",
      "\t99percentile : 66\n",
      "x_test shape: (4800,512)\n",
      "y_test shape: (4800, 2)\n",
      "Is Multi-Label? False\n",
      "compiling word ID features...\n",
      "maxlen is 512\n",
      "done.\n",
      "simulating training for different learning rates... this may take a few moments...\n"
     ]
    },
    {
     "name": "stderr",
     "output_type": "stream",
     "text": [
      "/opt/conda/lib/python3.10/site-packages/tf_keras/src/engine/training.py:3098: UserWarning: You are saving your model as an HDF5 file via `model.save()`. This file format is considered legacy. We recommend using instead the native TF-Keras format, e.g. `model.save('my_model.keras')`.\n",
      "  saving_api.save_model(\n"
     ]
    },
    {
     "name": "stdout",
     "output_type": "stream",
     "text": [
      "Epoch 1/6\n",
      "5400/5400 [==============================] - 17s 3ms/step - loss: 0.7024 - accuracy: 0.4514\n",
      "Epoch 2/6\n",
      "5400/5400 [==============================] - 17s 3ms/step - loss: 0.6739 - accuracy: 0.5822\n",
      "Epoch 3/6\n",
      "5400/5400 [==============================] - 16s 3ms/step - loss: 0.4997 - accuracy: 0.8152\n",
      "Epoch 4/6\n",
      "5400/5400 [==============================] - 17s 3ms/step - loss: 0.3305 - accuracy: 0.8792\n",
      "Epoch 5/6\n",
      "5400/5400 [==============================] - 9s 2ms/step - loss: 1.1774 - accuracy: 0.8404\n",
      "\n",
      "\n",
      "done.\n",
      "Please invoke the Learner.lr_plot() method to visually inspect the loss plot to help identify the maximal learning rate associated with falling loss.\n"
     ]
    },
    {
     "data": {
      "image/png": "[encoded data removed]",
      "text/plain": [
       "<Figure size 640x480 with 1 Axes>"
      ]
     },
     "metadata": {},
     "output_type": "display_data"
    },
    {
     "name": "stdout",
     "output_type": "stream",
     "text": [
      "\n",
      "\n",
      "begin training using triangular learning rate policy with max lr of 0.001...\n",
      "Epoch 1/10\n",
      "5400/5400 [==============================] - 22s 4ms/step - loss: 0.4258 - accuracy: 0.8304 - val_loss: 0.3310 - val_accuracy: 0.8783\n",
      "Epoch 2/10\n",
      "5400/5400 [==============================] - 21s 4ms/step - loss: 0.2744 - accuracy: 0.9044 - val_loss: 0.2947 - val_accuracy: 0.8885\n",
      "Epoch 3/10\n",
      "5400/5400 [==============================] - 21s 4ms/step - loss: 0.2317 - accuracy: 0.9187 - val_loss: 0.2868 - val_accuracy: 0.8894\n",
      "Epoch 4/10\n",
      "5400/5400 [==============================] - 21s 4ms/step - loss: 0.2076 - accuracy: 0.9264 - val_loss: 0.2846 - val_accuracy: 0.8904\n",
      "Epoch 5/10\n",
      "5390/5400 [============================>.] - ETA: 0s - loss: 0.1910 - accuracy: 0.9330Restoring model weights from the end of the best epoch: 4.\n",
      "5400/5400 [==============================] - 21s 4ms/step - loss: 0.1911 - accuracy: 0.9330 - val_loss: 0.2861 - val_accuracy: 0.8902\n",
      "Epoch 5: early stopping\n",
      "Weights from best epoch have been loaded into model.\n",
      "150/150 [==============================] - 0s 1ms/step\n",
      "              precision    recall  f1-score   support\n",
      "\n",
      "           0       0.89      0.89      0.89      2414\n",
      "           1       0.89      0.89      0.89      2386\n",
      "\n",
      "    accuracy                           0.89      4800\n",
      "   macro avg       0.89      0.89      0.89      4800\n",
      "weighted avg       0.89      0.89      0.89      4800\n",
      "\n"
     ]
    }
   ],
   "source": [
    "ktrain_model(\"standard\", \"logreg\")"
   ]
  },
  {
   "cell_type": "code",
   "execution_count": 24,
   "id": "1a3a510b",
   "metadata": {
    "execution": {
     "iopub.execute_input": "2024-06-20T23:02:07.248696Z",
     "iopub.status.busy": "2024-06-20T23:02:07.248308Z",
     "iopub.status.idle": "2024-06-20T23:23:25.427080Z",
     "shell.execute_reply": "2024-06-20T23:23:25.426128Z"
    },
    "executionInfo": {
     "elapsed": 748012,
     "status": "ok",
     "timestamp": 1718833624638,
     "user": {
      "displayName": "Anna Tang",
      "userId": "06009827953892747229"
     },
     "user_tz": 240
    },
    "id": "9b302c3e",
    "outputId": "4b85c616-eccd-4e66-e76a-98dd60f90175",
    "papermill": {
     "duration": 1279.162408,
     "end_time": "2024-06-20T23:23:25.428959",
     "exception": false,
     "start_time": "2024-06-20T23:02:06.266551",
     "status": "completed"
    },
    "tags": []
   },
   "outputs": [
    {
     "name": "stdout",
     "output_type": "stream",
     "text": [
      "['not_health_wellness', 'health_wellness']\n",
      "        not_health_wellness  health_wellness\n",
      "60749                   1.0              0.0\n",
      "154162                  1.0              0.0\n",
      "133139                  1.0              0.0\n",
      "9804                    1.0              0.0\n",
      "173257                  0.0              1.0\n",
      "['not_health_wellness', 'health_wellness']\n",
      "        not_health_wellness  health_wellness\n",
      "38436                   0.0              1.0\n",
      "168028                  0.0              1.0\n",
      "90062                   1.0              0.0\n",
      "143430                  0.0              1.0\n",
      "107885                  0.0              1.0\n",
      "language: en\n",
      "Word Counts: 52398\n",
      "Nrows: 43200\n",
      "43200 train sequences\n",
      "train sequence lengths:\n",
      "\tmean : 32\n",
      "\t95percentile : 57\n",
      "\t99percentile : 67\n",
      "x_train shape: (43200,512)\n",
      "y_train shape: (43200, 2)\n",
      "Is Multi-Label? False\n",
      "4800 test sequences\n",
      "test sequence lengths:\n",
      "\tmean : 31\n",
      "\t95percentile : 57\n",
      "\t99percentile : 66\n",
      "x_test shape: (4800,512)\n",
      "y_test shape: (4800, 2)\n",
      "Is Multi-Label? False\n",
      "compiling word ID features...\n",
      "maxlen is 512\n",
      "word vectors will be loaded from: https://dl.fbaipublicfiles.com/fasttext/vectors-crawl/cc.en.300.vec.gz\n",
      "processing pretrained word vectors...\n",
      "downloading pretrained word vectors to /root/ktrain_data ...\n",
      "[██████████████████████████████████████████████████]\n",
      "extracting pretrained word vectors...\n",
      "done.\n",
      "\n",
      "cleanup downloaded zip...\n",
      "done.\n",
      "\n",
      "loading pretrained word vectors...this may take a few moments...\n"
     ]
    },
    {
     "data": {
      "text/html": [
       "\n",
       "<style>\n",
       "    /* Turns off some styling */\n",
       "    progress {\n",
       "        /* gets rid of default border in Firefox and Opera. */\n",
       "        border: none;\n",
       "        /* Needs to be in here for Safari polyfill so background images work as expected. */\n",
       "        background-size: auto;\n",
       "    }\n",
       "    progress:not([value]), progress:not([value])::-webkit-progress-bar {\n",
       "        background: repeating-linear-gradient(45deg, #7e7e7e, #7e7e7e 10px, #5c5c5c 10px, #5c5c5c 20px);\n",
       "    }\n",
       "    .progress-bar-interrupted, .progress-bar-interrupted::-webkit-progress-bar {\n",
       "        background: #F44336;\n",
       "    }\n",
       "</style>\n"
      ],
      "text/plain": [
       "<IPython.core.display.HTML object>"
      ]
     },
     "metadata": {},
     "output_type": "display_data"
    },
    {
     "data": {
      "text/html": [],
      "text/plain": [
       "<IPython.core.display.HTML object>"
      ]
     },
     "metadata": {},
     "output_type": "display_data"
    },
    {
     "name": "stdout",
     "output_type": "stream",
     "text": [
      "done.\n",
      "simulating training for different learning rates... this may take a few moments...\n"
     ]
    },
    {
     "name": "stderr",
     "output_type": "stream",
     "text": [
      "/opt/conda/lib/python3.10/site-packages/tf_keras/src/engine/training.py:3098: UserWarning: You are saving your model as an HDF5 file via `model.save()`. This file format is considered legacy. We recommend using instead the native TF-Keras format, e.g. `model.save('my_model.keras')`.\n",
      "  saving_api.save_model(\n"
     ]
    },
    {
     "name": "stdout",
     "output_type": "stream",
     "text": [
      "Epoch 1/6\n",
      "5400/5400 [==============================] - 153s 27ms/step - loss: 0.6900 - accuracy: 0.5386\n",
      "Epoch 2/6\n",
      "5400/5400 [==============================] - 144s 27ms/step - loss: 0.6390 - accuracy: 0.6586\n",
      "Epoch 3/6\n",
      "5400/5400 [==============================] - 144s 27ms/step - loss: 0.3123 - accuracy: 0.8686\n",
      "Epoch 4/6\n",
      "5400/5400 [==============================] - 144s 27ms/step - loss: 0.4134 - accuracy: 0.8510\n",
      "Epoch 5/6\n",
      "5400/5400 [==============================] - 2s 278us/step - loss: 0.9481 - accuracy: 0.6579\n",
      "\n",
      "\n",
      "done.\n",
      "Please invoke the Learner.lr_plot() method to visually inspect the loss plot to help identify the maximal learning rate associated with falling loss.\n"
     ]
    },
    {
     "data": {
      "image/png": "[encoded data removed]",
      "text/plain": [
       "<Figure size 640x480 with 1 Axes>"
      ]
     },
     "metadata": {},
     "output_type": "display_data"
    },
    {
     "name": "stdout",
     "output_type": "stream",
     "text": [
      "\n",
      "\n",
      "begin training using triangular learning rate policy with max lr of 0.001...\n",
      "Epoch 1/10\n",
      "5400/5400 [==============================] - 159s 29ms/step - loss: 0.3147 - accuracy: 0.8631 - val_loss: 0.2355 - val_accuracy: 0.9054\n",
      "Epoch 2/10\n",
      "5400/5400 [==============================] - 156s 29ms/step - loss: 0.1908 - accuracy: 0.9262 - val_loss: 0.2335 - val_accuracy: 0.9060\n",
      "Epoch 3/10\n",
      "5399/5400 [============================>.] - ETA: 0s - loss: 0.1369 - accuracy: 0.9491Restoring model weights from the end of the best epoch: 2.\n",
      "5400/5400 [==============================] - 156s 29ms/step - loss: 0.1369 - accuracy: 0.9491 - val_loss: 0.2610 - val_accuracy: 0.8979\n",
      "Epoch 3: early stopping\n",
      "Weights from best epoch have been loaded into model.\n",
      "150/150 [==============================] - 4s 20ms/step\n",
      "              precision    recall  f1-score   support\n",
      "\n",
      "           0       0.90      0.90      0.90      2342\n",
      "           1       0.91      0.91      0.91      2458\n",
      "\n",
      "    accuracy                           0.91      4800\n",
      "   macro avg       0.91      0.91      0.91      4800\n",
      "weighted avg       0.91      0.91      0.91      4800\n",
      "\n"
     ]
    }
   ],
   "source": [
    "ktrain_model(\"standard\", \"bigru\")"
   ]
  },
  {
   "cell_type": "code",
   "execution_count": 25,
   "id": "a2c840c7",
   "metadata": {
    "execution": {
     "iopub.execute_input": "2024-06-20T23:23:30.862551Z",
     "iopub.status.busy": "2024-06-20T23:23:30.861627Z",
     "iopub.status.idle": "2024-06-21T00:01:18.207993Z",
     "shell.execute_reply": "2024-06-21T00:01:18.206831Z"
    },
    "executionInfo": {
     "elapsed": 628275,
     "status": "ok",
     "timestamp": 1718834252901,
     "user": {
      "displayName": "Anna Tang",
      "userId": "06009827953892747229"
     },
     "user_tz": 240
    },
    "id": "4ceda84f",
    "outputId": "831d2a17-ffc1-45ab-eb73-e9a40256a1b3",
    "papermill": {
     "duration": 2270.041821,
     "end_time": "2024-06-21T00:01:18.210122",
     "exception": false,
     "start_time": "2024-06-20T23:23:28.168301",
     "status": "completed"
    },
    "tags": []
   },
   "outputs": [
    {
     "name": "stdout",
     "output_type": "stream",
     "text": [
      "['not_health_wellness', 'health_wellness']\n",
      "        not_health_wellness  health_wellness\n",
      "179408                  0.0              1.0\n",
      "161922                  1.0              0.0\n",
      "62459                   1.0              0.0\n",
      "160776                  0.0              1.0\n",
      "142883                  0.0              1.0\n",
      "['not_health_wellness', 'health_wellness']\n",
      "        not_health_wellness  health_wellness\n",
      "152121                  0.0              1.0\n",
      "51996                   1.0              0.0\n",
      "167630                  1.0              0.0\n",
      "21635                   1.0              0.0\n",
      "46023                   1.0              0.0\n",
      "language: en\n",
      "Word Counts: 52363\n",
      "Nrows: 43200\n",
      "43200 train sequences\n",
      "train sequence lengths:\n",
      "\tmean : 32\n",
      "\t95percentile : 57\n",
      "\t99percentile : 67\n",
      "x_train shape: (43200,512)\n",
      "y_train shape: (43200, 2)\n",
      "Is Multi-Label? False\n",
      "4800 test sequences\n",
      "test sequence lengths:\n",
      "\tmean : 31\n",
      "\t95percentile : 57\n",
      "\t99percentile : 65\n",
      "x_test shape: (4800,512)\n",
      "y_test shape: (4800, 2)\n",
      "Is Multi-Label? False\n",
      "compiling word ID features...\n",
      "maxlen is 512\n",
      "done.\n",
      "simulating training for different learning rates... this may take a few moments...\n"
     ]
    },
    {
     "name": "stderr",
     "output_type": "stream",
     "text": [
      "/opt/conda/lib/python3.10/site-packages/tf_keras/src/engine/training.py:3098: UserWarning: You are saving your model as an HDF5 file via `model.save()`. This file format is considered legacy. We recommend using instead the native TF-Keras format, e.g. `model.save('my_model.keras')`.\n",
      "  saving_api.save_model(\n"
     ]
    },
    {
     "name": "stdout",
     "output_type": "stream",
     "text": [
      "Epoch 1/6\n",
      "5400/5400 [==============================] - 222s 40ms/step - loss: 0.6946 - accuracy: 0.5013\n",
      "Epoch 2/6\n",
      "5400/5400 [==============================] - 218s 40ms/step - loss: 0.6937 - accuracy: 0.5057\n",
      "Epoch 3/6\n",
      "5400/5400 [==============================] - 219s 41ms/step - loss: 0.4851 - accuracy: 0.7622\n",
      "Epoch 4/6\n",
      "5400/5400 [==============================] - 220s 41ms/step - loss: nan - accuracy: 0.6579\n",
      "Epoch 5/6\n",
      "5400/5400 [==============================] - 219s 41ms/step - loss: nan - accuracy: 0.5008\n",
      "Epoch 6/6\n",
      "5400/5400 [==============================] - 219s 41ms/step - loss: nan - accuracy: 0.5008\n",
      "\n",
      "\n",
      "done.\n",
      "Please invoke the Learner.lr_plot() method to visually inspect the loss plot to help identify the maximal learning rate associated with falling loss.\n"
     ]
    },
    {
     "data": {
      "image/png": "[encoded data removed]",
      "text/plain": [
       "<Figure size 640x480 with 1 Axes>"
      ]
     },
     "metadata": {},
     "output_type": "display_data"
    },
    {
     "name": "stdout",
     "output_type": "stream",
     "text": [
      "\n",
      "\n",
      "begin training using triangular learning rate policy with max lr of 0.001...\n",
      "Epoch 1/10\n",
      "5400/5400 [==============================] - 236s 43ms/step - loss: 0.4195 - accuracy: 0.7946 - val_loss: 0.2503 - val_accuracy: 0.9010\n",
      "Epoch 2/10\n",
      "5400/5400 [==============================] - 233s 43ms/step - loss: 0.2682 - accuracy: 0.8929 - val_loss: 0.2340 - val_accuracy: 0.9075\n",
      "Epoch 3/10\n",
      "5400/5400 [==============================] - 234s 43ms/step - loss: 0.2445 - accuracy: 0.9038 - val_loss: 0.2317 - val_accuracy: 0.9083\n",
      "Epoch 4/10\n",
      "5399/5400 [============================>.] - ETA: 0s - loss: 0.2296 - accuracy: 0.9095Restoring model weights from the end of the best epoch: 3.\n",
      "5400/5400 [==============================] - 234s 43ms/step - loss: 0.2296 - accuracy: 0.9094 - val_loss: 0.2367 - val_accuracy: 0.9073\n",
      "Epoch 4: early stopping\n",
      "Weights from best epoch have been loaded into model.\n",
      "150/150 [==============================] - 5s 25ms/step\n",
      "              precision    recall  f1-score   support\n",
      "\n",
      "           0       0.90      0.91      0.91      2365\n",
      "           1       0.91      0.91      0.91      2435\n",
      "\n",
      "    accuracy                           0.91      4800\n",
      "   macro avg       0.91      0.91      0.91      4800\n",
      "weighted avg       0.91      0.91      0.91      4800\n",
      "\n"
     ]
    }
   ],
   "source": [
    "ktrain_model(\"standard\", \"standard_gru\")"
   ]
  }
 ],
 "metadata": {
  "accelerator": "GPU",
  "colab": {
   "gpuType": "L4",
   "provenance": []
  },
  "kaggle": {
   "accelerator": "gpu",
   "dataSources": [
    {
     "datasetId": 5247734,
     "sourceId": 8740624,
     "sourceType": "datasetVersion"
    }
   ],
   "dockerImageVersionId": 30733,
   "isGpuEnabled": true,
   "isInternetEnabled": true,
   "language": "python",
   "sourceType": "notebook"
  },
  "kernelspec": {
   "display_name": "Python 3",
   "language": "python",
   "name": "python3"
  },
  "language_info": {
   "codemirror_mode": {
    "name": "ipython",
    "version": 3
   },
   "file_extension": ".py",
   "mimetype": "text/x-python",
   "name": "python",
   "nbconvert_exporter": "python",
   "pygments_lexer": "ipython3",
   "version": "3.10.13"
  },
  "papermill": {
   "default_parameters": {},
   "duration": 4453.871473,
   "end_time": "2024-06-21T00:01:26.195112",
   "environment_variables": {},
   "exception": null,
   "input_path": "__notebook__.ipynb",
   "output_path": "__notebook__.ipynb",
   "parameters": {},
   "start_time": "2024-06-20T22:47:12.323639",
   "version": "2.5.0"
  }
 },
 "nbformat": 4,
 "nbformat_minor": 5
}
