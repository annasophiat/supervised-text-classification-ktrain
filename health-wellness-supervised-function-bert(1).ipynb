{
 "cells": [
  {
   "cell_type": "code",
   "execution_count": 1,
   "id": "be165c23",
   "metadata": {
    "execution": {
     "iopub.execute_input": "2024-06-20T19:43:31.589470Z",
     "iopub.status.busy": "2024-06-20T19:43:31.589195Z",
     "iopub.status.idle": "2024-06-20T19:43:32.309047Z",
     "shell.execute_reply": "2024-06-20T19:43:32.308225Z"
    },
    "executionInfo": {
     "elapsed": 1944,
     "status": "ok",
     "timestamp": 1718906529993,
     "user": {
      "displayName": "Anna Tang",
      "userId": "06009827953892747229"
     },
     "user_tz": 240
    },
    "id": "2yFpcXAxX9yh",
    "outputId": "a95dc163-a059-45ba-c93a-f51e07d33f27",
    "papermill": {
     "duration": 0.733912,
     "end_time": "2024-06-20T19:43:32.311345",
     "exception": false,
     "start_time": "2024-06-20T19:43:31.577433",
     "status": "completed"
    },
    "tags": []
   },
   "outputs": [
    {
     "name": "stdout",
     "output_type": "stream",
     "text": [
      "/kaggle/input/news-category-trainingdata/news_category_trainingdata.json\n"
     ]
    }
   ],
   "source": [
    "# This Python 3 environment comes with many helpful analytics libraries installed\n",
    "# It is defined by the kaggle/python Docker image: https://github.com/kaggle/docker-python\n",
    "# For example, here's several helpful packages to load\n",
    "\n",
    "import numpy as np # linear algebra\n",
    "import pandas as pd # data processing, CSV file I/O (e.g. pd.read_csv)\n",
    "\n",
    "# Input data files are available in the read-only \"../input/\" directory\n",
    "# For example, running this (by clicking run or pressing Shift+Enter) will list all files under the input directory\n",
    "\n",
    "import os\n",
    "for dirname, _, filenames in os.walk('/kaggle/input'):\n",
    "    for filename in filenames:\n",
    "        print(os.path.join(dirname, filename))\n",
    "\n",
    "# You can write up to 20GB to the current directory (/kaggle/working/) that gets preserved as output when you create a version using \"Save & Run All\" \n",
    "# You can also write temporary files to /kaggle/temp/, but they won't be saved outside of the current session"
   ]
  },
  {
   "cell_type": "code",
   "execution_count": 2,
   "id": "9e4b12f6",
   "metadata": {
    "execution": {
     "iopub.execute_input": "2024-06-20T19:43:32.333989Z",
     "iopub.status.busy": "2024-06-20T19:43:32.333630Z",
     "iopub.status.idle": "2024-06-20T19:44:49.305359Z",
     "shell.execute_reply": "2024-06-20T19:44:49.304247Z"
    },
    "executionInfo": {
     "elapsed": 11012,
     "status": "ok",
     "timestamp": 1718906541003,
     "user": {
      "displayName": "Anna Tang",
      "userId": "06009827953892747229"
     },
     "user_tz": 240
    },
    "id": "2259b7c9",
    "outputId": "7bd76706-7c93-4cc0-fee7-e3454f33c35a",
    "papermill": {
     "duration": 76.986297,
     "end_time": "2024-06-20T19:44:49.308555",
     "exception": false,
     "start_time": "2024-06-20T19:43:32.322258",
     "status": "completed"
    },
    "tags": []
   },
   "outputs": [
    {
     "name": "stdout",
     "output_type": "stream",
     "text": [
      "Requirement already satisfied: tf-keras in /opt/conda/lib/python3.10/site-packages (2.15.1)\r\n",
      "Requirement already satisfied: tensorflow<2.16,>=2.15 in /opt/conda/lib/python3.10/site-packages (from tf-keras) (2.15.0)\r\n",
      "Requirement already satisfied: absl-py>=1.0.0 in /opt/conda/lib/python3.10/site-packages (from tensorflow<2.16,>=2.15->tf-keras) (1.4.0)\r\n",
      "Requirement already satisfied: astunparse>=1.6.0 in /opt/conda/lib/python3.10/site-packages (from tensorflow<2.16,>=2.15->tf-keras) (1.6.3)\r\n",
      "Requirement already satisfied: flatbuffers>=23.5.26 in /opt/conda/lib/python3.10/site-packages (from tensorflow<2.16,>=2.15->tf-keras) (23.5.26)\r\n",
      "Requirement already satisfied: gast!=0.5.0,!=0.5.1,!=0.5.2,>=0.2.1 in /opt/conda/lib/python3.10/site-packages (from tensorflow<2.16,>=2.15->tf-keras) (0.5.4)\r\n",
      "Requirement already satisfied: google-pasta>=0.1.1 in /opt/conda/lib/python3.10/site-packages (from tensorflow<2.16,>=2.15->tf-keras) (0.2.0)\r\n",
      "Requirement already satisfied: h5py>=2.9.0 in /opt/conda/lib/python3.10/site-packages (from tensorflow<2.16,>=2.15->tf-keras) (3.10.0)\r\n",
      "Requirement already satisfied: libclang>=13.0.0 in /opt/conda/lib/python3.10/site-packages (from tensorflow<2.16,>=2.15->tf-keras) (16.0.6)\r\n",
      "Requirement already satisfied: ml-dtypes~=0.2.0 in /opt/conda/lib/python3.10/site-packages (from tensorflow<2.16,>=2.15->tf-keras) (0.2.0)\r\n",
      "Requirement already satisfied: numpy<2.0.0,>=1.23.5 in /opt/conda/lib/python3.10/site-packages (from tensorflow<2.16,>=2.15->tf-keras) (1.26.4)\r\n",
      "Requirement already satisfied: opt-einsum>=2.3.2 in /opt/conda/lib/python3.10/site-packages (from tensorflow<2.16,>=2.15->tf-keras) (3.3.0)\r\n",
      "Requirement already satisfied: packaging in /opt/conda/lib/python3.10/site-packages (from tensorflow<2.16,>=2.15->tf-keras) (21.3)\r\n",
      "Requirement already satisfied: protobuf!=4.21.0,!=4.21.1,!=4.21.2,!=4.21.3,!=4.21.4,!=4.21.5,<5.0.0dev,>=3.20.3 in /opt/conda/lib/python3.10/site-packages (from tensorflow<2.16,>=2.15->tf-keras) (3.20.3)\r\n",
      "Requirement already satisfied: setuptools in /opt/conda/lib/python3.10/site-packages (from tensorflow<2.16,>=2.15->tf-keras) (69.0.3)\r\n",
      "Requirement already satisfied: six>=1.12.0 in /opt/conda/lib/python3.10/site-packages (from tensorflow<2.16,>=2.15->tf-keras) (1.16.0)\r\n",
      "Requirement already satisfied: termcolor>=1.1.0 in /opt/conda/lib/python3.10/site-packages (from tensorflow<2.16,>=2.15->tf-keras) (2.4.0)\r\n",
      "Requirement already satisfied: typing-extensions>=3.6.6 in /opt/conda/lib/python3.10/site-packages (from tensorflow<2.16,>=2.15->tf-keras) (4.9.0)\r\n",
      "Requirement already satisfied: wrapt<1.15,>=1.11.0 in /opt/conda/lib/python3.10/site-packages (from tensorflow<2.16,>=2.15->tf-keras) (1.14.1)\r\n",
      "Requirement already satisfied: tensorflow-io-gcs-filesystem>=0.23.1 in /opt/conda/lib/python3.10/site-packages (from tensorflow<2.16,>=2.15->tf-keras) (0.35.0)\r\n",
      "Requirement already satisfied: grpcio<2.0,>=1.24.3 in /opt/conda/lib/python3.10/site-packages (from tensorflow<2.16,>=2.15->tf-keras) (1.59.3)\r\n",
      "Requirement already satisfied: tensorboard<2.16,>=2.15 in /opt/conda/lib/python3.10/site-packages (from tensorflow<2.16,>=2.15->tf-keras) (2.15.1)\r\n",
      "Requirement already satisfied: tensorflow-estimator<2.16,>=2.15.0 in /opt/conda/lib/python3.10/site-packages (from tensorflow<2.16,>=2.15->tf-keras) (2.15.0)\r\n",
      "Collecting keras<2.16,>=2.15.0 (from tensorflow<2.16,>=2.15->tf-keras)\r\n",
      "  Downloading keras-2.15.0-py3-none-any.whl.metadata (2.4 kB)\r\n",
      "Requirement already satisfied: wheel<1.0,>=0.23.0 in /opt/conda/lib/python3.10/site-packages (from astunparse>=1.6.0->tensorflow<2.16,>=2.15->tf-keras) (0.42.0)\r\n",
      "Requirement already satisfied: google-auth<3,>=1.6.3 in /opt/conda/lib/python3.10/site-packages (from tensorboard<2.16,>=2.15->tensorflow<2.16,>=2.15->tf-keras) (2.26.1)\r\n",
      "Requirement already satisfied: google-auth-oauthlib<2,>=0.5 in /opt/conda/lib/python3.10/site-packages (from tensorboard<2.16,>=2.15->tensorflow<2.16,>=2.15->tf-keras) (1.2.0)\r\n",
      "Requirement already satisfied: markdown>=2.6.8 in /opt/conda/lib/python3.10/site-packages (from tensorboard<2.16,>=2.15->tensorflow<2.16,>=2.15->tf-keras) (3.5.2)\r\n",
      "Requirement already satisfied: requests<3,>=2.21.0 in /opt/conda/lib/python3.10/site-packages (from tensorboard<2.16,>=2.15->tensorflow<2.16,>=2.15->tf-keras) (2.32.3)\r\n",
      "Requirement already satisfied: tensorboard-data-server<0.8.0,>=0.7.0 in /opt/conda/lib/python3.10/site-packages (from tensorboard<2.16,>=2.15->tensorflow<2.16,>=2.15->tf-keras) (0.7.2)\r\n",
      "Requirement already satisfied: werkzeug>=1.0.1 in /opt/conda/lib/python3.10/site-packages (from tensorboard<2.16,>=2.15->tensorflow<2.16,>=2.15->tf-keras) (3.0.3)\r\n",
      "Requirement already satisfied: pyparsing!=3.0.5,>=2.0.2 in /opt/conda/lib/python3.10/site-packages (from packaging->tensorflow<2.16,>=2.15->tf-keras) (3.1.1)\r\n",
      "Requirement already satisfied: cachetools<6.0,>=2.0.0 in /opt/conda/lib/python3.10/site-packages (from google-auth<3,>=1.6.3->tensorboard<2.16,>=2.15->tensorflow<2.16,>=2.15->tf-keras) (4.2.4)\r\n",
      "Requirement already satisfied: pyasn1-modules>=0.2.1 in /opt/conda/lib/python3.10/site-packages (from google-auth<3,>=1.6.3->tensorboard<2.16,>=2.15->tensorflow<2.16,>=2.15->tf-keras) (0.3.0)\r\n",
      "Requirement already satisfied: rsa<5,>=3.1.4 in /opt/conda/lib/python3.10/site-packages (from google-auth<3,>=1.6.3->tensorboard<2.16,>=2.15->tensorflow<2.16,>=2.15->tf-keras) (4.9)\r\n",
      "Requirement already satisfied: requests-oauthlib>=0.7.0 in /opt/conda/lib/python3.10/site-packages (from google-auth-oauthlib<2,>=0.5->tensorboard<2.16,>=2.15->tensorflow<2.16,>=2.15->tf-keras) (1.3.1)\r\n",
      "Requirement already satisfied: charset-normalizer<4,>=2 in /opt/conda/lib/python3.10/site-packages (from requests<3,>=2.21.0->tensorboard<2.16,>=2.15->tensorflow<2.16,>=2.15->tf-keras) (3.3.2)\r\n",
      "Requirement already satisfied: idna<4,>=2.5 in /opt/conda/lib/python3.10/site-packages (from requests<3,>=2.21.0->tensorboard<2.16,>=2.15->tensorflow<2.16,>=2.15->tf-keras) (3.6)\r\n",
      "Requirement already satisfied: urllib3<3,>=1.21.1 in /opt/conda/lib/python3.10/site-packages (from requests<3,>=2.21.0->tensorboard<2.16,>=2.15->tensorflow<2.16,>=2.15->tf-keras) (1.26.18)\r\n",
      "Requirement already satisfied: certifi>=2017.4.17 in /opt/conda/lib/python3.10/site-packages (from requests<3,>=2.21.0->tensorboard<2.16,>=2.15->tensorflow<2.16,>=2.15->tf-keras) (2024.2.2)\r\n",
      "Requirement already satisfied: MarkupSafe>=2.1.1 in /opt/conda/lib/python3.10/site-packages (from werkzeug>=1.0.1->tensorboard<2.16,>=2.15->tensorflow<2.16,>=2.15->tf-keras) (2.1.3)\r\n",
      "Requirement already satisfied: pyasn1<0.6.0,>=0.4.6 in /opt/conda/lib/python3.10/site-packages (from pyasn1-modules>=0.2.1->google-auth<3,>=1.6.3->tensorboard<2.16,>=2.15->tensorflow<2.16,>=2.15->tf-keras) (0.5.1)\r\n",
      "Requirement already satisfied: oauthlib>=3.0.0 in /opt/conda/lib/python3.10/site-packages (from requests-oauthlib>=0.7.0->google-auth-oauthlib<2,>=0.5->tensorboard<2.16,>=2.15->tensorflow<2.16,>=2.15->tf-keras) (3.2.2)\r\n",
      "Downloading keras-2.15.0-py3-none-any.whl (1.7 MB)\r\n",
      "\u001b[2K   \u001b[90m━━━━━━━━━━━━━━━━━━━━━━━━━━━━━━━━━━━━━━━━\u001b[0m \u001b[32m1.7/1.7 MB\u001b[0m \u001b[31m6.8 MB/s\u001b[0m eta \u001b[36m0:00:00\u001b[0m\r\n",
      "\u001b[?25hInstalling collected packages: keras\r\n",
      "  Attempting uninstall: keras\r\n",
      "    Found existing installation: keras 3.3.3\r\n",
      "    Uninstalling keras-3.3.3:\r\n",
      "      Successfully uninstalled keras-3.3.3\r\n",
      "\u001b[31mERROR: pip's dependency resolver does not currently take into account all the packages that are installed. This behaviour is the source of the following dependency conflicts.\r\n",
      "tensorflow-decision-forests 1.8.1 requires wurlitzer, which is not installed.\u001b[0m\u001b[31m\r\n",
      "\u001b[0mSuccessfully installed keras-2.15.0\r\n",
      "TF_USE_LEGACY_KERAS: None\n",
      "TF_USE_LEGACY_KERAS: 1\n",
      "Collecting ktrain\r\n",
      "  Downloading ktrain-0.41.4.tar.gz (25.3 MB)\r\n",
      "\u001b[2K     \u001b[90m━━━━━━━━━━━━━━━━━━━━━━━━━━━━━━━━━━━━━━━━\u001b[0m \u001b[32m25.3/25.3 MB\u001b[0m \u001b[31m41.0 MB/s\u001b[0m eta \u001b[36m0:00:00\u001b[0m\r\n",
      "\u001b[?25h  Preparing metadata (setup.py) ... \u001b[?25l-\b \bdone\r\n",
      "\u001b[?25hRequirement already satisfied: scikit-learn in /opt/conda/lib/python3.10/site-packages (from ktrain) (1.2.2)\r\n",
      "Requirement already satisfied: matplotlib>=3.0.0 in /opt/conda/lib/python3.10/site-packages (from ktrain) (3.7.5)\r\n",
      "Requirement already satisfied: pandas>=1.0.1 in /opt/conda/lib/python3.10/site-packages (from ktrain) (2.2.1)\r\n",
      "Requirement already satisfied: fastprogress>=0.1.21 in /opt/conda/lib/python3.10/site-packages (from ktrain) (1.0.3)\r\n",
      "Requirement already satisfied: requests in /opt/conda/lib/python3.10/site-packages (from ktrain) (2.32.3)\r\n",
      "Requirement already satisfied: joblib in /opt/conda/lib/python3.10/site-packages (from ktrain) (1.4.2)\r\n",
      "Requirement already satisfied: packaging in /opt/conda/lib/python3.10/site-packages (from ktrain) (21.3)\r\n",
      "Collecting langdetect (from ktrain)\r\n",
      "  Downloading langdetect-1.0.9.tar.gz (981 kB)\r\n",
      "\u001b[2K     \u001b[90m━━━━━━━━━━━━━━━━━━━━━━━━━━━━━━━━━━━━━━\u001b[0m \u001b[32m981.5/981.5 kB\u001b[0m \u001b[31m48.3 MB/s\u001b[0m eta \u001b[36m0:00:00\u001b[0m\r\n",
      "\u001b[?25h  Preparing metadata (setup.py) ... \u001b[?25l-\b \bdone\r\n",
      "\u001b[?25hRequirement already satisfied: jieba in /opt/conda/lib/python3.10/site-packages (from ktrain) (0.42.1)\r\n",
      "Requirement already satisfied: charset-normalizer in /opt/conda/lib/python3.10/site-packages (from ktrain) (3.3.2)\r\n",
      "Collecting chardet (from ktrain)\r\n",
      "  Downloading chardet-5.2.0-py3-none-any.whl.metadata (3.4 kB)\r\n",
      "Collecting syntok>1.3.3 (from ktrain)\r\n",
      "  Downloading syntok-1.4.4-py3-none-any.whl.metadata (10 kB)\r\n",
      "Collecting tika (from ktrain)\r\n",
      "  Downloading tika-2.6.0.tar.gz (27 kB)\r\n",
      "  Preparing metadata (setup.py) ... \u001b[?25l-\b \bdone\r\n",
      "\u001b[?25hRequirement already satisfied: transformers in /opt/conda/lib/python3.10/site-packages (from ktrain) (4.41.2)\r\n",
      "Requirement already satisfied: sentencepiece in /opt/conda/lib/python3.10/site-packages (from ktrain) (0.2.0)\r\n",
      "Collecting keras_bert>=0.86.0 (from ktrain)\r\n",
      "  Downloading keras-bert-0.89.0.tar.gz (25 kB)\r\n",
      "  Preparing metadata (setup.py) ... \u001b[?25l-\b \bdone\r\n",
      "\u001b[?25hCollecting whoosh (from ktrain)\r\n",
      "  Downloading Whoosh-2.7.4-py2.py3-none-any.whl.metadata (3.1 kB)\r\n",
      "Requirement already satisfied: numpy in /opt/conda/lib/python3.10/site-packages (from keras_bert>=0.86.0->ktrain) (1.26.4)\r\n",
      "Collecting keras-transformer==0.40.0 (from keras_bert>=0.86.0->ktrain)\r\n",
      "  Downloading keras-transformer-0.40.0.tar.gz (9.7 kB)\r\n",
      "  Preparing metadata (setup.py) ... \u001b[?25l-\b \bdone\r\n",
      "\u001b[?25hCollecting keras-pos-embd==0.13.0 (from keras-transformer==0.40.0->keras_bert>=0.86.0->ktrain)\r\n",
      "  Downloading keras-pos-embd-0.13.0.tar.gz (5.6 kB)\r\n",
      "  Preparing metadata (setup.py) ... \u001b[?25l-\b \bdone\r\n",
      "\u001b[?25hCollecting keras-multi-head==0.29.0 (from keras-transformer==0.40.0->keras_bert>=0.86.0->ktrain)\r\n",
      "  Downloading keras-multi-head-0.29.0.tar.gz (13 kB)\r\n",
      "  Preparing metadata (setup.py) ... \u001b[?25l-\b \bdone\r\n",
      "\u001b[?25hCollecting keras-layer-normalization==0.16.0 (from keras-transformer==0.40.0->keras_bert>=0.86.0->ktrain)\r\n",
      "  Downloading keras-layer-normalization-0.16.0.tar.gz (3.9 kB)\r\n",
      "  Preparing metadata (setup.py) ... \u001b[?25l-\b \bdone\r\n",
      "\u001b[?25hCollecting keras-position-wise-feed-forward==0.8.0 (from keras-transformer==0.40.0->keras_bert>=0.86.0->ktrain)\r\n",
      "  Downloading keras-position-wise-feed-forward-0.8.0.tar.gz (4.1 kB)\r\n",
      "  Preparing metadata (setup.py) ... \u001b[?25l-\b \bdone\r\n",
      "\u001b[?25hCollecting keras-embed-sim==0.10.0 (from keras-transformer==0.40.0->keras_bert>=0.86.0->ktrain)\r\n",
      "  Downloading keras-embed-sim-0.10.0.tar.gz (3.6 kB)\r\n",
      "  Preparing metadata (setup.py) ... \u001b[?25l-\b \bdone\r\n",
      "\u001b[?25hCollecting keras-self-attention==0.51.0 (from keras-multi-head==0.29.0->keras-transformer==0.40.0->keras_bert>=0.86.0->ktrain)\r\n",
      "  Downloading keras-self-attention-0.51.0.tar.gz (11 kB)\r\n",
      "  Preparing metadata (setup.py) ... \u001b[?25l-\b \bdone\r\n",
      "\u001b[?25hRequirement already satisfied: contourpy>=1.0.1 in /opt/conda/lib/python3.10/site-packages (from matplotlib>=3.0.0->ktrain) (1.2.0)\r\n",
      "Requirement already satisfied: cycler>=0.10 in /opt/conda/lib/python3.10/site-packages (from matplotlib>=3.0.0->ktrain) (0.12.1)\r\n",
      "Requirement already satisfied: fonttools>=4.22.0 in /opt/conda/lib/python3.10/site-packages (from matplotlib>=3.0.0->ktrain) (4.47.0)\r\n",
      "Requirement already satisfied: kiwisolver>=1.0.1 in /opt/conda/lib/python3.10/site-packages (from matplotlib>=3.0.0->ktrain) (1.4.5)\r\n",
      "Requirement already satisfied: pillow>=6.2.0 in /opt/conda/lib/python3.10/site-packages (from matplotlib>=3.0.0->ktrain) (9.5.0)\r\n",
      "Requirement already satisfied: pyparsing>=2.3.1 in /opt/conda/lib/python3.10/site-packages (from matplotlib>=3.0.0->ktrain) (3.1.1)\r\n",
      "Requirement already satisfied: python-dateutil>=2.7 in /opt/conda/lib/python3.10/site-packages (from matplotlib>=3.0.0->ktrain) (2.9.0.post0)\r\n",
      "Requirement already satisfied: pytz>=2020.1 in /opt/conda/lib/python3.10/site-packages (from pandas>=1.0.1->ktrain) (2023.3.post1)\r\n",
      "Requirement already satisfied: tzdata>=2022.7 in /opt/conda/lib/python3.10/site-packages (from pandas>=1.0.1->ktrain) (2023.4)\r\n",
      "Requirement already satisfied: regex>2016 in /opt/conda/lib/python3.10/site-packages (from syntok>1.3.3->ktrain) (2023.12.25)\r\n",
      "Requirement already satisfied: six in /opt/conda/lib/python3.10/site-packages (from langdetect->ktrain) (1.16.0)\r\n",
      "Requirement already satisfied: idna<4,>=2.5 in /opt/conda/lib/python3.10/site-packages (from requests->ktrain) (3.6)\r\n",
      "Requirement already satisfied: urllib3<3,>=1.21.1 in /opt/conda/lib/python3.10/site-packages (from requests->ktrain) (1.26.18)\r\n",
      "Requirement already satisfied: certifi>=2017.4.17 in /opt/conda/lib/python3.10/site-packages (from requests->ktrain) (2024.2.2)\r\n",
      "Requirement already satisfied: scipy>=1.3.2 in /opt/conda/lib/python3.10/site-packages (from scikit-learn->ktrain) (1.11.4)\r\n",
      "Requirement already satisfied: threadpoolctl>=2.0.0 in /opt/conda/lib/python3.10/site-packages (from scikit-learn->ktrain) (3.2.0)\r\n",
      "Requirement already satisfied: setuptools in /opt/conda/lib/python3.10/site-packages (from tika->ktrain) (69.0.3)\r\n",
      "Requirement already satisfied: filelock in /opt/conda/lib/python3.10/site-packages (from transformers->ktrain) (3.13.1)\r\n",
      "Requirement already satisfied: huggingface-hub<1.0,>=0.23.0 in /opt/conda/lib/python3.10/site-packages (from transformers->ktrain) (0.23.2)\r\n",
      "Requirement already satisfied: pyyaml>=5.1 in /opt/conda/lib/python3.10/site-packages (from transformers->ktrain) (6.0.1)\r\n",
      "Requirement already satisfied: tokenizers<0.20,>=0.19 in /opt/conda/lib/python3.10/site-packages (from transformers->ktrain) (0.19.1)\r\n",
      "Requirement already satisfied: safetensors>=0.4.1 in /opt/conda/lib/python3.10/site-packages (from transformers->ktrain) (0.4.3)\r\n",
      "Requirement already satisfied: tqdm>=4.27 in /opt/conda/lib/python3.10/site-packages (from transformers->ktrain) (4.66.4)\r\n",
      "Requirement already satisfied: fsspec>=2023.5.0 in /opt/conda/lib/python3.10/site-packages (from huggingface-hub<1.0,>=0.23.0->transformers->ktrain) (2024.3.1)\r\n",
      "Requirement already satisfied: typing-extensions>=3.7.4.3 in /opt/conda/lib/python3.10/site-packages (from huggingface-hub<1.0,>=0.23.0->transformers->ktrain) (4.9.0)\r\n",
      "Downloading syntok-1.4.4-py3-none-any.whl (24 kB)\r\n",
      "Downloading chardet-5.2.0-py3-none-any.whl (199 kB)\r\n",
      "\u001b[2K   \u001b[90m━━━━━━━━━━━━━━━━━━━━━━━━━━━━━━━━━━━━━━━━\u001b[0m \u001b[32m199.4/199.4 kB\u001b[0m \u001b[31m15.1 MB/s\u001b[0m eta \u001b[36m0:00:00\u001b[0m\r\n",
      "\u001b[?25hDownloading Whoosh-2.7.4-py2.py3-none-any.whl (468 kB)\r\n",
      "\u001b[2K   \u001b[90m━━━━━━━━━━━━━━━━━━━━━━━━━━━━━━━━━━━━━━━━\u001b[0m \u001b[32m468.8/468.8 kB\u001b[0m \u001b[31m29.8 MB/s\u001b[0m eta \u001b[36m0:00:00\u001b[0m\r\n",
      "\u001b[?25hBuilding wheels for collected packages: ktrain, keras_bert, keras-transformer, keras-embed-sim, keras-layer-normalization, keras-multi-head, keras-pos-embd, keras-position-wise-feed-forward, keras-self-attention, langdetect, tika\r\n",
      "  Building wheel for ktrain (setup.py) ... \u001b[?25l-\b \b\\\b \bdone\r\n",
      "\u001b[?25h  Created wheel for ktrain: filename=ktrain-0.41.4-py3-none-any.whl size=25316933 sha256=e9f05a04f939f9e4901163fc9d22c2494546c5fa87715cb7c29f8e86462a5d3a\r\n",
      "  Stored in directory: /root/.cache/pip/wheels/fa/6a/9c/8a873b38bbd8bc207d33c64726bd18f7ef85f8e70dc3ac2e4b\r\n",
      "  Building wheel for keras_bert (setup.py) ... \u001b[?25l-\b \b\\\b \bdone\r\n",
      "\u001b[?25h  Created wheel for keras_bert: filename=keras_bert-0.89.0-py3-none-any.whl size=33499 sha256=8a0d3fa6125b8d2d0fff25d8b67e35c91f11d5eadb4646718d5870f89f533ecc\r\n",
      "  Stored in directory: /root/.cache/pip/wheels/89/0c/04/646b6fdf6375911b42c8d540a8a3fda8d5d77634e5dcbe7b26\r\n",
      "  Building wheel for keras-transformer (setup.py) ... \u001b[?25l-\b \b\\\b \bdone\r\n",
      "\u001b[?25h  Created wheel for keras-transformer: filename=keras_transformer-0.40.0-py3-none-any.whl size=12286 sha256=462f58926c92c9506d5ea671c4163813bfe4ca3eeed9fb7339c08f41ad467294\r\n",
      "  Stored in directory: /root/.cache/pip/wheels/f2/cb/22/75a0ad376129177f7c95c0d91331a18f5368fd657f4035ba7c\r\n",
      "  Building wheel for keras-embed-sim (setup.py) ... \u001b[?25l-\b \b\\\b \bdone\r\n",
      "\u001b[?25h  Created wheel for keras-embed-sim: filename=keras_embed_sim-0.10.0-py3-none-any.whl size=3943 sha256=7c5b0bbdde2841ddcc1666169aa9a773897efba5c361e3f231f563caba402922\r\n",
      "  Stored in directory: /root/.cache/pip/wheels/82/32/c7/fd35d0d1b840a6c7cbd4343f808d10d0f7b87d271a4dbe796f\r\n",
      "  Building wheel for keras-layer-normalization (setup.py) ... \u001b[?25l-\b \b\\\b \bdone\r\n",
      "\u001b[?25h  Created wheel for keras-layer-normalization: filename=keras_layer_normalization-0.16.0-py3-none-any.whl size=4653 sha256=f4976047d8772b74ec794576e41790c5d3c0eb083c351c9e4fb9a53fafb59dea\r\n",
      "  Stored in directory: /root/.cache/pip/wheels/ed/3a/4b/21db23c0cc56c4b219616e181f258eb7c57d36cc5d056fae9a\r\n",
      "  Building wheel for keras-multi-head (setup.py) ... \u001b[?25l-\b \b\\\b \bdone\r\n",
      "\u001b[?25h  Created wheel for keras-multi-head: filename=keras_multi_head-0.29.0-py3-none-any.whl size=14975 sha256=b706bbfa8a3c70257a392833dd703c21b842c03091b45e40586e758aa583c376\r\n",
      "  Stored in directory: /root/.cache/pip/wheels/cb/23/4b/06d7ae21714f70fcc25b48f972cc8e5e7f4b6b764a038b509d\r\n",
      "  Building wheel for keras-pos-embd (setup.py) ... \u001b[?25l-\b \b\\\b \bdone\r\n",
      "\u001b[?25h  Created wheel for keras-pos-embd: filename=keras_pos_embd-0.13.0-py3-none-any.whl size=6946 sha256=ae2af60aa60d2a7faac853822e366970a9a8501485775eb66a8438bd0ff0b7cc\r\n",
      "  Stored in directory: /root/.cache/pip/wheels/78/07/1b/b1ca47b6ac338554b75c8f52c54e6a2bfbe1b07d79579979a4\r\n",
      "  Building wheel for keras-position-wise-feed-forward (setup.py) ... \u001b[?25l-\b \b\\\b \bdone\r\n",
      "\u001b[?25h  Created wheel for keras-position-wise-feed-forward: filename=keras_position_wise_feed_forward-0.8.0-py3-none-any.whl size=4968 sha256=41edd8ef9ab741caf2012d97c26fe0fc85755750b1c4ce596b7e4d33c08d3c0e\r\n",
      "  Stored in directory: /root/.cache/pip/wheels/c1/6a/04/d1706a53b23b2cb5f9a0a76269bf87925daa1bca09eac01b21\r\n",
      "  Building wheel for keras-self-attention (setup.py) ... \u001b[?25l-\b \b\\\b \bdone\r\n",
      "\u001b[?25h  Created wheel for keras-self-attention: filename=keras_self_attention-0.51.0-py3-none-any.whl size=18895 sha256=998fa7a10cffb3754510e918a481f0a413650dabb9b99a1c9a0dd1cdb5747e51\r\n",
      "  Stored in directory: /root/.cache/pip/wheels/b8/f7/24/607b483144fb9c47b4ba2c5fba6b68e54aeee2d5bf6c05302e\r\n",
      "  Building wheel for langdetect (setup.py) ... \u001b[?25l-\b \bdone\r\n",
      "\u001b[?25h  Created wheel for langdetect: filename=langdetect-1.0.9-py3-none-any.whl size=993225 sha256=294779f37e2e9350170bb31f4a511b6ad7e41d4fd2fb9f84702eaad15a424d03\r\n",
      "  Stored in directory: /root/.cache/pip/wheels/95/03/7d/59ea870c70ce4e5a370638b5462a7711ab78fba2f655d05106\r\n",
      "  Building wheel for tika (setup.py) ... \u001b[?25l-\b \bdone\r\n",
      "\u001b[?25h  Created wheel for tika: filename=tika-2.6.0-py3-none-any.whl size=32622 sha256=bdaa36bb6a40b9f0c65c32030b974514d3de5f2d54a15f8ff69eb06875ffc609\r\n",
      "  Stored in directory: /root/.cache/pip/wheels/5f/71/c7/b757709531121b1700cffda5b6b0d4aad095fb507ec84316d0\r\n",
      "Successfully built ktrain keras_bert keras-transformer keras-embed-sim keras-layer-normalization keras-multi-head keras-pos-embd keras-position-wise-feed-forward keras-self-attention langdetect tika\r\n",
      "Installing collected packages: whoosh, syntok, langdetect, keras-self-attention, keras-position-wise-feed-forward, keras-pos-embd, keras-layer-normalization, keras-embed-sim, chardet, tika, keras-multi-head, keras-transformer, keras_bert, ktrain\r\n",
      "Successfully installed chardet-5.2.0 keras-embed-sim-0.10.0 keras-layer-normalization-0.16.0 keras-multi-head-0.29.0 keras-pos-embd-0.13.0 keras-position-wise-feed-forward-0.8.0 keras-self-attention-0.51.0 keras-transformer-0.40.0 keras_bert-0.89.0 ktrain-0.41.4 langdetect-1.0.9 syntok-1.4.4 tika-2.6.0 whoosh-2.7.4\r\n"
     ]
    }
   ],
   "source": [
    "import os\n",
    "# try:\n",
    "#   import ktrain\n",
    "# except:\n",
    "#   !pip install ktrain\n",
    "#   os.kill(os.getpid(), 9)\n",
    "# import ktrain\n",
    "\n",
    "from sklearn.model_selection import train_test_split\n",
    "!pip install tf-keras\n",
    "print(\"TF_USE_LEGACY_KERAS:\", os.getenv(\"TF_USE_LEGACY_KERAS\"))\n",
    "os.environ['TF_USE_LEGACY_KERAS'] = '1'\n",
    "print(\"TF_USE_LEGACY_KERAS:\", os.getenv(\"TF_USE_LEGACY_KERAS\"))\n",
    "\n",
    "try:\n",
    "  import ktrain\n",
    "except:\n",
    "  !pip install ktrain\n",
    "  import ktrain\n",
    "from ktrain import text\n",
    "from ktrain.text import texts_from_df\n",
    "\n",
    "\n",
    "import pandas as pd\n",
    "import numpy as np\n",
    "import matplotlib.pyplot as plt\n",
    "import seaborn as sns"
   ]
  },
  {
   "cell_type": "code",
   "execution_count": 3,
   "id": "5831e58d",
   "metadata": {
    "execution": {
     "iopub.execute_input": "2024-06-20T19:44:49.365104Z",
     "iopub.status.busy": "2024-06-20T19:44:49.364507Z",
     "iopub.status.idle": "2024-06-20T19:44:49.474176Z",
     "shell.execute_reply": "2024-06-20T19:44:49.473129Z"
    },
    "executionInfo": {
     "elapsed": 345,
     "status": "ok",
     "timestamp": 1718906541344,
     "user": {
      "displayName": "Anna Tang",
      "userId": "06009827953892747229"
     },
     "user_tz": 240
    },
    "id": "8fc2dd22",
    "outputId": "092d55d0-a689-41b6-a55c-90089a115ced",
    "papermill": {
     "duration": 0.138187,
     "end_time": "2024-06-20T19:44:49.476175",
     "exception": false,
     "start_time": "2024-06-20T19:44:49.337988",
     "status": "completed"
    },
    "tags": []
   },
   "outputs": [
    {
     "name": "stdout",
     "output_type": "stream",
     "text": [
      "Thu Jun 20 19:44:49 2024       \n",
      "+---------------------------------------------------------------------------------------+\n",
      "| NVIDIA-SMI 535.129.03             Driver Version: 535.129.03   CUDA Version: 12.2     |\n",
      "|-----------------------------------------+----------------------+----------------------+\n",
      "| GPU  Name                 Persistence-M | Bus-Id        Disp.A | Volatile Uncorr. ECC |\n",
      "| Fan  Temp   Perf          Pwr:Usage/Cap |         Memory-Usage | GPU-Util  Compute M. |\n",
      "|                                         |                      |               MIG M. |\n",
      "|=========================================+======================+======================|\n",
      "|   0  Tesla T4                       Off | 00000000:00:04.0 Off |                    0 |\n",
      "| N/A   37C    P8               9W /  70W |      0MiB / 15360MiB |      0%      Default |\n",
      "|                                         |                      |                  N/A |\n",
      "+-----------------------------------------+----------------------+----------------------+\n",
      "|   1  Tesla T4                       Off | 00000000:00:05.0 Off |                    0 |\n",
      "| N/A   37C    P8               9W /  70W |      0MiB / 15360MiB |      0%      Default |\n",
      "|                                         |                      |                  N/A |\n",
      "+-----------------------------------------+----------------------+----------------------+\n",
      "                                                                                         \n",
      "+---------------------------------------------------------------------------------------+\n",
      "| Processes:                                                                            |\n",
      "|  GPU   GI   CI        PID   Type   Process name                            GPU Memory |\n",
      "|        ID   ID                                                             Usage      |\n",
      "|=======================================================================================|\n",
      "|  No running processes found                                                           |\n",
      "+---------------------------------------------------------------------------------------+\n"
     ]
    }
   ],
   "source": [
    "gpu_info = !nvidia-smi\n",
    "gpu_info = '\\n'.join(gpu_info)\n",
    "if gpu_info.find('failed') >= 0:\n",
    "  print('Not connected to a GPU')\n",
    "else:\n",
    "  print(gpu_info)"
   ]
  },
  {
   "cell_type": "code",
   "execution_count": 4,
   "id": "13e71fbc",
   "metadata": {
    "execution": {
     "iopub.execute_input": "2024-06-20T19:44:49.517941Z",
     "iopub.status.busy": "2024-06-20T19:44:49.517641Z",
     "iopub.status.idle": "2024-06-20T19:44:49.523587Z",
     "shell.execute_reply": "2024-06-20T19:44:49.522675Z"
    },
    "executionInfo": {
     "elapsed": 4,
     "status": "ok",
     "timestamp": 1718906541345,
     "user": {
      "displayName": "Anna Tang",
      "userId": "06009827953892747229"
     },
     "user_tz": 240
    },
    "id": "laMNmygnyhbL",
    "outputId": "34140b83-241a-4013-94c7-8834c3134d98",
    "papermill": {
     "duration": 0.028767,
     "end_time": "2024-06-20T19:44:49.525470",
     "exception": false,
     "start_time": "2024-06-20T19:44:49.496703",
     "status": "completed"
    },
    "tags": []
   },
   "outputs": [
    {
     "name": "stdout",
     "output_type": "stream",
     "text": [
      "Your runtime has 33.7 gigabytes of available RAM\n",
      "\n",
      "You are using a high-RAM runtime!\n"
     ]
    }
   ],
   "source": [
    "from psutil import virtual_memory\n",
    "ram_gb = virtual_memory().total / 1e9\n",
    "print('Your runtime has {:.1f} gigabytes of available RAM\\n'.format(ram_gb))\n",
    "\n",
    "if ram_gb < 20:\n",
    "  print('Not using a high-RAM runtime')\n",
    "else:\n",
    "  print('You are using a high-RAM runtime!')"
   ]
  },
  {
   "cell_type": "code",
   "execution_count": 5,
   "id": "f43bd8e3",
   "metadata": {
    "execution": {
     "iopub.execute_input": "2024-06-20T19:44:49.566923Z",
     "iopub.status.busy": "2024-06-20T19:44:49.566660Z",
     "iopub.status.idle": "2024-06-20T19:44:51.542326Z",
     "shell.execute_reply": "2024-06-20T19:44:51.541570Z"
    },
    "executionInfo": {
     "elapsed": 1203,
     "status": "ok",
     "timestamp": 1718906542545,
     "user": {
      "displayName": "Anna Tang",
      "userId": "06009827953892747229"
     },
     "user_tz": 240
    },
    "id": "85cb1e44",
    "papermill": {
     "duration": 1.998982,
     "end_time": "2024-06-20T19:44:51.544665",
     "exception": false,
     "start_time": "2024-06-20T19:44:49.545683",
     "status": "completed"
    },
    "tags": []
   },
   "outputs": [],
   "source": [
    "reviews = pd.read_json(\"/kaggle/input/news-category-trainingdata/news_category_trainingdata.json\")"
   ]
  },
  {
   "cell_type": "markdown",
   "id": "4d56b99f",
   "metadata": {
    "id": "xztsfgBKyjgV",
    "papermill": {
     "duration": 0.02051,
     "end_time": "2024-06-20T19:44:51.586264",
     "exception": false,
     "start_time": "2024-06-20T19:44:51.565754",
     "status": "completed"
    },
    "tags": []
   },
   "source": [
    "## EDA"
   ]
  },
  {
   "cell_type": "code",
   "execution_count": 6,
   "id": "b3258eb0",
   "metadata": {
    "execution": {
     "iopub.execute_input": "2024-06-20T19:44:51.628469Z",
     "iopub.status.busy": "2024-06-20T19:44:51.628134Z",
     "iopub.status.idle": "2024-06-20T19:44:51.647744Z",
     "shell.execute_reply": "2024-06-20T19:44:51.646889Z"
    },
    "executionInfo": {
     "elapsed": 6,
     "status": "ok",
     "timestamp": 1718906542547,
     "user": {
      "displayName": "Anna Tang",
      "userId": "06009827953892747229"
     },
     "user_tz": 240
    },
    "id": "c4ac8694",
    "outputId": "b96f1b41-8817-4880-fc92-6226d992b409",
    "papermill": {
     "duration": 0.042874,
     "end_time": "2024-06-20T19:44:51.649683",
     "exception": false,
     "start_time": "2024-06-20T19:44:51.606809",
     "status": "completed"
    },
    "tags": []
   },
   "outputs": [
    {
     "data": {
      "text/html": [
       "<div>\n",
       "<style scoped>\n",
       "    .dataframe tbody tr th:only-of-type {\n",
       "        vertical-align: middle;\n",
       "    }\n",
       "\n",
       "    .dataframe tbody tr th {\n",
       "        vertical-align: top;\n",
       "    }\n",
       "\n",
       "    .dataframe thead th {\n",
       "        text-align: right;\n",
       "    }\n",
       "</style>\n",
       "<table border=\"1\" class=\"dataframe\">\n",
       "  <thead>\n",
       "    <tr style=\"text-align: right;\">\n",
       "      <th></th>\n",
       "      <th>category</th>\n",
       "      <th>headline</th>\n",
       "      <th>authors</th>\n",
       "      <th>link</th>\n",
       "      <th>short_description</th>\n",
       "      <th>date</th>\n",
       "    </tr>\n",
       "  </thead>\n",
       "  <tbody>\n",
       "    <tr>\n",
       "      <th>0</th>\n",
       "      <td>CRIME</td>\n",
       "      <td>There Were 2 Mass Shootings In Texas Last Week...</td>\n",
       "      <td>Melissa Jeltsen</td>\n",
       "      <td>https://www.huffingtonpost.com/entry/texas-ama...</td>\n",
       "      <td>She left her husband. He killed their children...</td>\n",
       "      <td>2018-05-26</td>\n",
       "    </tr>\n",
       "    <tr>\n",
       "      <th>1</th>\n",
       "      <td>ENTERTAINMENT</td>\n",
       "      <td>Will Smith Joins Diplo And Nicky Jam For The 2...</td>\n",
       "      <td>Andy McDonald</td>\n",
       "      <td>https://www.huffingtonpost.com/entry/will-smit...</td>\n",
       "      <td>Of course it has a song.</td>\n",
       "      <td>2018-05-26</td>\n",
       "    </tr>\n",
       "    <tr>\n",
       "      <th>2</th>\n",
       "      <td>ENTERTAINMENT</td>\n",
       "      <td>Hugh Grant Marries For The First Time At Age 57</td>\n",
       "      <td>Ron Dicker</td>\n",
       "      <td>https://www.huffingtonpost.com/entry/hugh-gran...</td>\n",
       "      <td>The actor and his longtime girlfriend Anna Ebe...</td>\n",
       "      <td>2018-05-26</td>\n",
       "    </tr>\n",
       "    <tr>\n",
       "      <th>3</th>\n",
       "      <td>ENTERTAINMENT</td>\n",
       "      <td>Jim Carrey Blasts 'Castrato' Adam Schiff And D...</td>\n",
       "      <td>Ron Dicker</td>\n",
       "      <td>https://www.huffingtonpost.com/entry/jim-carre...</td>\n",
       "      <td>The actor gives Dems an ass-kicking for not fi...</td>\n",
       "      <td>2018-05-26</td>\n",
       "    </tr>\n",
       "    <tr>\n",
       "      <th>4</th>\n",
       "      <td>ENTERTAINMENT</td>\n",
       "      <td>Julianna Margulies Uses Donald Trump Poop Bags...</td>\n",
       "      <td>Ron Dicker</td>\n",
       "      <td>https://www.huffingtonpost.com/entry/julianna-...</td>\n",
       "      <td>The \"Dietland\" actress said using the bags is ...</td>\n",
       "      <td>2018-05-26</td>\n",
       "    </tr>\n",
       "  </tbody>\n",
       "</table>\n",
       "</div>"
      ],
      "text/plain": [
       "        category                                           headline  \\\n",
       "0          CRIME  There Were 2 Mass Shootings In Texas Last Week...   \n",
       "1  ENTERTAINMENT  Will Smith Joins Diplo And Nicky Jam For The 2...   \n",
       "2  ENTERTAINMENT    Hugh Grant Marries For The First Time At Age 57   \n",
       "3  ENTERTAINMENT  Jim Carrey Blasts 'Castrato' Adam Schiff And D...   \n",
       "4  ENTERTAINMENT  Julianna Margulies Uses Donald Trump Poop Bags...   \n",
       "\n",
       "           authors                                               link  \\\n",
       "0  Melissa Jeltsen  https://www.huffingtonpost.com/entry/texas-ama...   \n",
       "1    Andy McDonald  https://www.huffingtonpost.com/entry/will-smit...   \n",
       "2       Ron Dicker  https://www.huffingtonpost.com/entry/hugh-gran...   \n",
       "3       Ron Dicker  https://www.huffingtonpost.com/entry/jim-carre...   \n",
       "4       Ron Dicker  https://www.huffingtonpost.com/entry/julianna-...   \n",
       "\n",
       "                                   short_description       date  \n",
       "0  She left her husband. He killed their children... 2018-05-26  \n",
       "1                           Of course it has a song. 2018-05-26  \n",
       "2  The actor and his longtime girlfriend Anna Ebe... 2018-05-26  \n",
       "3  The actor gives Dems an ass-kicking for not fi... 2018-05-26  \n",
       "4  The \"Dietland\" actress said using the bags is ... 2018-05-26  "
      ]
     },
     "execution_count": 6,
     "metadata": {},
     "output_type": "execute_result"
    }
   ],
   "source": [
    "reviews.head()"
   ]
  },
  {
   "cell_type": "code",
   "execution_count": 7,
   "id": "467aa952",
   "metadata": {
    "execution": {
     "iopub.execute_input": "2024-06-20T19:44:51.691881Z",
     "iopub.status.busy": "2024-06-20T19:44:51.691612Z",
     "iopub.status.idle": "2024-06-20T19:44:52.487908Z",
     "shell.execute_reply": "2024-06-20T19:44:52.487004Z"
    },
    "executionInfo": {
     "elapsed": 1421,
     "status": "ok",
     "timestamp": 1718906543963,
     "user": {
      "displayName": "Anna Tang",
      "userId": "06009827953892747229"
     },
     "user_tz": 240
    },
    "id": "a7c3a052",
    "outputId": "db94b0e9-2569-4eca-de33-988b0f628bc2",
    "papermill": {
     "duration": 0.819807,
     "end_time": "2024-06-20T19:44:52.489929",
     "exception": false,
     "start_time": "2024-06-20T19:44:51.670122",
     "status": "completed"
    },
    "tags": []
   },
   "outputs": [
    {
     "data": {
      "image/png": "[encoded data removed]",
      "text/plain": [
       "<Figure size 1800x480 with 1 Axes>"
      ]
     },
     "metadata": {},
     "output_type": "display_data"
    }
   ],
   "source": [
    "# reviews[\"category\"].value_counts()\n",
    "plt.figure().set_figwidth(18)\n",
    "sns.countplot(x=\"category\", data=reviews)\n",
    "plt.title(\"Number of Articles in Each Category\")\n",
    "plt.xlabel(\"Category\")\n",
    "plt.ylabel(\"Count\")\n",
    "plt.xticks(rotation=90)\n",
    "plt.show()"
   ]
  },
  {
   "cell_type": "code",
   "execution_count": 8,
   "id": "f95345d1",
   "metadata": {
    "execution": {
     "iopub.execute_input": "2024-06-20T19:44:52.534960Z",
     "iopub.status.busy": "2024-06-20T19:44:52.534677Z",
     "iopub.status.idle": "2024-06-20T19:44:52.645048Z",
     "shell.execute_reply": "2024-06-20T19:44:52.644050Z"
    },
    "executionInfo": {
     "elapsed": 8,
     "status": "ok",
     "timestamp": 1718906543964,
     "user": {
      "displayName": "Anna Tang",
      "userId": "06009827953892747229"
     },
     "user_tz": 240
    },
    "id": "cec59f50",
    "outputId": "e64813be-ac1a-42e1-8c22-ff0887c2a5cd",
    "papermill": {
     "duration": 0.134884,
     "end_time": "2024-06-20T19:44:52.646925",
     "exception": false,
     "start_time": "2024-06-20T19:44:52.512041",
     "status": "completed"
    },
    "tags": []
   },
   "outputs": [
    {
     "name": "stdout",
     "output_type": "stream",
     "text": [
      "<class 'pandas.core.frame.DataFrame'>\n",
      "Index: 200853 entries, 0 to 200852\n",
      "Data columns (total 6 columns):\n",
      " #   Column             Non-Null Count   Dtype         \n",
      "---  ------             --------------   -----         \n",
      " 0   category           200853 non-null  object        \n",
      " 1   headline           200853 non-null  object        \n",
      " 2   authors            200853 non-null  object        \n",
      " 3   link               200853 non-null  object        \n",
      " 4   short_description  200853 non-null  object        \n",
      " 5   date               200853 non-null  datetime64[ns]\n",
      "dtypes: datetime64[ns](1), object(5)\n",
      "memory usage: 10.7+ MB\n"
     ]
    }
   ],
   "source": [
    "reviews.info()"
   ]
  },
  {
   "cell_type": "markdown",
   "id": "d389bc4c",
   "metadata": {
    "id": "603cc5e7",
    "papermill": {
     "duration": 0.021544,
     "end_time": "2024-06-20T19:44:52.690141",
     "exception": false,
     "start_time": "2024-06-20T19:44:52.668597",
     "status": "completed"
    },
    "tags": []
   },
   "source": [
    "## Prepare Data"
   ]
  },
  {
   "cell_type": "code",
   "execution_count": 9,
   "id": "486f679d",
   "metadata": {
    "execution": {
     "iopub.execute_input": "2024-06-20T19:44:52.734639Z",
     "iopub.status.busy": "2024-06-20T19:44:52.734292Z",
     "iopub.status.idle": "2024-06-20T19:44:52.975433Z",
     "shell.execute_reply": "2024-06-20T19:44:52.974467Z"
    },
    "executionInfo": {
     "elapsed": 294,
     "status": "ok",
     "timestamp": 1718906544252,
     "user": {
      "displayName": "Anna Tang",
      "userId": "06009827953892747229"
     },
     "user_tz": 240
    },
    "id": "be5da494",
    "papermill": {
     "duration": 0.265989,
     "end_time": "2024-06-20T19:44:52.977796",
     "exception": false,
     "start_time": "2024-06-20T19:44:52.711807",
     "status": "completed"
    },
    "tags": []
   },
   "outputs": [],
   "source": [
    "reviews['combined_text'] = reviews['headline'].str.lower() + ' ' + reviews['short_description'].str.lower()"
   ]
  },
  {
   "cell_type": "code",
   "execution_count": 10,
   "id": "bc94d4cd",
   "metadata": {
    "execution": {
     "iopub.execute_input": "2024-06-20T19:44:53.024550Z",
     "iopub.status.busy": "2024-06-20T19:44:53.024201Z",
     "iopub.status.idle": "2024-06-20T19:44:53.130462Z",
     "shell.execute_reply": "2024-06-20T19:44:53.129545Z"
    },
    "executionInfo": {
     "elapsed": 14,
     "status": "ok",
     "timestamp": 1718906544252,
     "user": {
      "displayName": "Anna Tang",
      "userId": "06009827953892747229"
     },
     "user_tz": 240
    },
    "id": "adde8dd1",
    "outputId": "44051ace-146e-400b-9c07-3583ddbb1c76",
    "papermill": {
     "duration": 0.130861,
     "end_time": "2024-06-20T19:44:53.132288",
     "exception": false,
     "start_time": "2024-06-20T19:44:53.001427",
     "status": "completed"
    },
    "tags": []
   },
   "outputs": [
    {
     "data": {
      "text/html": [
       "<div>\n",
       "<style scoped>\n",
       "    .dataframe tbody tr th:only-of-type {\n",
       "        vertical-align: middle;\n",
       "    }\n",
       "\n",
       "    .dataframe tbody tr th {\n",
       "        vertical-align: top;\n",
       "    }\n",
       "\n",
       "    .dataframe thead th {\n",
       "        text-align: right;\n",
       "    }\n",
       "</style>\n",
       "<table border=\"1\" class=\"dataframe\">\n",
       "  <thead>\n",
       "    <tr style=\"text-align: right;\">\n",
       "      <th></th>\n",
       "      <th>category</th>\n",
       "      <th>headline</th>\n",
       "      <th>authors</th>\n",
       "      <th>link</th>\n",
       "      <th>short_description</th>\n",
       "      <th>date</th>\n",
       "      <th>combined_text</th>\n",
       "    </tr>\n",
       "  </thead>\n",
       "  <tbody>\n",
       "    <tr>\n",
       "      <th>7578</th>\n",
       "      <td>HEALTHY LIVING</td>\n",
       "      <td>To The People Who Say ‘I’m Tired’ When Someone...</td>\n",
       "      <td>The Mighty, ContributorWe face disability, dis...</td>\n",
       "      <td>https://www.huffingtonpost.com/entry/to-the-pe...</td>\n",
       "      <td>When you feel like this, it’s important to kno...</td>\n",
       "      <td>2018-01-16</td>\n",
       "      <td>to the people who say ‘i’m tired’ when someone...</td>\n",
       "    </tr>\n",
       "    <tr>\n",
       "      <th>7693</th>\n",
       "      <td>HEALTHY LIVING</td>\n",
       "      <td>Eating Shake Shack Made Me Feel Healthier Than...</td>\n",
       "      <td>Colleen Werner, ContributorCampus Editor-at-Large</td>\n",
       "      <td>https://www.huffingtonpost.com/entry/eating-sh...</td>\n",
       "      <td>I can vividly remember the first time I felt f...</td>\n",
       "      <td>2018-01-12</td>\n",
       "      <td>eating shake shack made me feel healthier than...</td>\n",
       "    </tr>\n",
       "    <tr>\n",
       "      <th>7747</th>\n",
       "      <td>HEALTHY LIVING</td>\n",
       "      <td>How To Stay Updated On The News Without Losing...</td>\n",
       "      <td>Lindsay Holmes</td>\n",
       "      <td>https://www.huffingtonpost.com/entry/anxiety-f...</td>\n",
       "      <td>Because it's only becoming more of a struggle.</td>\n",
       "      <td>2018-01-12</td>\n",
       "      <td>how to stay updated on the news without losing...</td>\n",
       "    </tr>\n",
       "    <tr>\n",
       "      <th>7927</th>\n",
       "      <td>HEALTHY LIVING</td>\n",
       "      <td>27 Perfect Tweets About Whole30 That Will Make...</td>\n",
       "      <td>Lindsay Holmes</td>\n",
       "      <td>https://www.huffingtonpost.com/entry/tweets-ab...</td>\n",
       "      <td>\"The only Whole30 I want to participate in is ...</td>\n",
       "      <td>2018-01-10</td>\n",
       "      <td>27 perfect tweets about whole30 that will make...</td>\n",
       "    </tr>\n",
       "    <tr>\n",
       "      <th>7934</th>\n",
       "      <td>HEALTHY LIVING</td>\n",
       "      <td>The Real Reason Your Hands Are Always Cold</td>\n",
       "      <td>Refinery29, ContributorThe #1 new-media brand ...</td>\n",
       "      <td>https://www.huffingtonpost.com/entry/the-real-...</td>\n",
       "      <td>Essentially, your hands are kept warm thanks t...</td>\n",
       "      <td>2018-01-10</td>\n",
       "      <td>the real reason your hands are always cold ess...</td>\n",
       "    </tr>\n",
       "  </tbody>\n",
       "</table>\n",
       "</div>"
      ],
      "text/plain": [
       "            category                                           headline  \\\n",
       "7578  HEALTHY LIVING  To The People Who Say ‘I’m Tired’ When Someone...   \n",
       "7693  HEALTHY LIVING  Eating Shake Shack Made Me Feel Healthier Than...   \n",
       "7747  HEALTHY LIVING  How To Stay Updated On The News Without Losing...   \n",
       "7927  HEALTHY LIVING  27 Perfect Tweets About Whole30 That Will Make...   \n",
       "7934  HEALTHY LIVING         The Real Reason Your Hands Are Always Cold   \n",
       "\n",
       "                                                authors  \\\n",
       "7578  The Mighty, ContributorWe face disability, dis...   \n",
       "7693  Colleen Werner, ContributorCampus Editor-at-Large   \n",
       "7747                                     Lindsay Holmes   \n",
       "7927                                     Lindsay Holmes   \n",
       "7934  Refinery29, ContributorThe #1 new-media brand ...   \n",
       "\n",
       "                                                   link  \\\n",
       "7578  https://www.huffingtonpost.com/entry/to-the-pe...   \n",
       "7693  https://www.huffingtonpost.com/entry/eating-sh...   \n",
       "7747  https://www.huffingtonpost.com/entry/anxiety-f...   \n",
       "7927  https://www.huffingtonpost.com/entry/tweets-ab...   \n",
       "7934  https://www.huffingtonpost.com/entry/the-real-...   \n",
       "\n",
       "                                      short_description       date  \\\n",
       "7578  When you feel like this, it’s important to kno... 2018-01-16   \n",
       "7693  I can vividly remember the first time I felt f... 2018-01-12   \n",
       "7747     Because it's only becoming more of a struggle. 2018-01-12   \n",
       "7927  \"The only Whole30 I want to participate in is ... 2018-01-10   \n",
       "7934  Essentially, your hands are kept warm thanks t... 2018-01-10   \n",
       "\n",
       "                                          combined_text  \n",
       "7578  to the people who say ‘i’m tired’ when someone...  \n",
       "7693  eating shake shack made me feel healthier than...  \n",
       "7747  how to stay updated on the news without losing...  \n",
       "7927  27 perfect tweets about whole30 that will make...  \n",
       "7934  the real reason your hands are always cold ess...  "
      ]
     },
     "execution_count": 10,
     "metadata": {},
     "output_type": "execute_result"
    }
   ],
   "source": [
    "# healthy living and wellness articles\n",
    "reviews[reviews[\"category\"].str.contains(\"HEALTHY LIVING\")].head()"
   ]
  },
  {
   "cell_type": "code",
   "execution_count": 11,
   "id": "0d821667",
   "metadata": {
    "execution": {
     "iopub.execute_input": "2024-06-20T19:44:53.178222Z",
     "iopub.status.busy": "2024-06-20T19:44:53.177962Z",
     "iopub.status.idle": "2024-06-20T19:44:53.267634Z",
     "shell.execute_reply": "2024-06-20T19:44:53.266778Z"
    },
    "executionInfo": {
     "elapsed": 14,
     "status": "ok",
     "timestamp": 1718906544253,
     "user": {
      "displayName": "Anna Tang",
      "userId": "06009827953892747229"
     },
     "user_tz": 240
    },
    "id": "Lh2fcjdSyLu2",
    "outputId": "b9d27e8b-6ec0-4d87-a5bc-30a9d3ad7e95",
    "papermill": {
     "duration": 0.114572,
     "end_time": "2024-06-20T19:44:53.269416",
     "exception": false,
     "start_time": "2024-06-20T19:44:53.154844",
     "status": "completed"
    },
    "tags": []
   },
   "outputs": [
    {
     "data": {
      "text/plain": [
       "(6694, 7)"
      ]
     },
     "execution_count": 11,
     "metadata": {},
     "output_type": "execute_result"
    }
   ],
   "source": [
    "reviews[reviews[\"category\"].str.contains(\"HEALTHY LIVING\")].shape"
   ]
  },
  {
   "cell_type": "code",
   "execution_count": 12,
   "id": "88d9e5c6",
   "metadata": {
    "execution": {
     "iopub.execute_input": "2024-06-20T19:44:53.315884Z",
     "iopub.status.busy": "2024-06-20T19:44:53.315620Z",
     "iopub.status.idle": "2024-06-20T19:44:53.416409Z",
     "shell.execute_reply": "2024-06-20T19:44:53.415584Z"
    },
    "executionInfo": {
     "elapsed": 12,
     "status": "ok",
     "timestamp": 1718906544253,
     "user": {
      "displayName": "Anna Tang",
      "userId": "06009827953892747229"
     },
     "user_tz": 240
    },
    "id": "mgCe7Wt1xOIn",
    "outputId": "f50e1216-ebe7-4f57-a256-48c0c355db30",
    "papermill": {
     "duration": 0.126704,
     "end_time": "2024-06-20T19:44:53.418485",
     "exception": false,
     "start_time": "2024-06-20T19:44:53.291781",
     "status": "completed"
    },
    "tags": []
   },
   "outputs": [
    {
     "data": {
      "text/html": [
       "<div>\n",
       "<style scoped>\n",
       "    .dataframe tbody tr th:only-of-type {\n",
       "        vertical-align: middle;\n",
       "    }\n",
       "\n",
       "    .dataframe tbody tr th {\n",
       "        vertical-align: top;\n",
       "    }\n",
       "\n",
       "    .dataframe thead th {\n",
       "        text-align: right;\n",
       "    }\n",
       "</style>\n",
       "<table border=\"1\" class=\"dataframe\">\n",
       "  <thead>\n",
       "    <tr style=\"text-align: right;\">\n",
       "      <th></th>\n",
       "      <th>category</th>\n",
       "      <th>headline</th>\n",
       "      <th>authors</th>\n",
       "      <th>link</th>\n",
       "      <th>short_description</th>\n",
       "      <th>date</th>\n",
       "      <th>combined_text</th>\n",
       "    </tr>\n",
       "  </thead>\n",
       "  <tbody>\n",
       "    <tr>\n",
       "      <th>124989</th>\n",
       "      <td>WELLNESS</td>\n",
       "      <td>Why Overeating Doesn't Make You Fat</td>\n",
       "      <td>Mark Hyman, MD, Contributor\\nPracticing Physician</td>\n",
       "      <td>https://www.huffingtonpost.com/entry/overeatin...</td>\n",
       "      <td>If you take the right approach to ending your ...</td>\n",
       "      <td>2014-04-17</td>\n",
       "      <td>why overeating doesn't make you fat if you tak...</td>\n",
       "    </tr>\n",
       "    <tr>\n",
       "      <th>124990</th>\n",
       "      <td>WELLNESS</td>\n",
       "      <td>14 Habits Of People With A Healthy Relationshi...</td>\n",
       "      <td>Sarah Klein</td>\n",
       "      <td>https://www.huffingtonpost.com/entry/healthy-r...</td>\n",
       "      <td>After a long list of rules and habits like the...</td>\n",
       "      <td>2014-04-17</td>\n",
       "      <td>14 habits of people with a healthy relationshi...</td>\n",
       "    </tr>\n",
       "    <tr>\n",
       "      <th>124993</th>\n",
       "      <td>WELLNESS</td>\n",
       "      <td>5 Things That Could Be Stealing Your Joy</td>\n",
       "      <td>Amanda Gore, Contributor\\nInternational keynot...</td>\n",
       "      <td>https://www.huffingtonpost.com/entry/joy_us_5b...</td>\n",
       "      <td>Listen to yourself all day today -- are you an...</td>\n",
       "      <td>2014-04-17</td>\n",
       "      <td>5 things that could be stealing your joy liste...</td>\n",
       "    </tr>\n",
       "    <tr>\n",
       "      <th>124994</th>\n",
       "      <td>WELLNESS</td>\n",
       "      <td>Moments Make a Life</td>\n",
       "      <td>Megan McDonough, Contributor\\nCEO, Wholebeing ...</td>\n",
       "      <td>https://www.huffingtonpost.com/entry/moments-m...</td>\n",
       "      <td>Consciously constructing positive habits -- or...</td>\n",
       "      <td>2014-04-17</td>\n",
       "      <td>moments make a life consciously constructing p...</td>\n",
       "    </tr>\n",
       "    <tr>\n",
       "      <th>124996</th>\n",
       "      <td>WELLNESS</td>\n",
       "      <td>Fat Facts</td>\n",
       "      <td>Maria Rodale, Contributor\\nCEO and Chairman of...</td>\n",
       "      <td>https://www.huffingtonpost.com/entry/fat-facts...</td>\n",
       "      <td>Human fat cells, photo by Dr. Peeke Here's how...</td>\n",
       "      <td>2014-04-17</td>\n",
       "      <td>fat facts human fat cells, photo by dr. peeke ...</td>\n",
       "    </tr>\n",
       "  </tbody>\n",
       "</table>\n",
       "</div>"
      ],
      "text/plain": [
       "        category                                           headline  \\\n",
       "124989  WELLNESS                Why Overeating Doesn't Make You Fat   \n",
       "124990  WELLNESS  14 Habits Of People With A Healthy Relationshi...   \n",
       "124993  WELLNESS           5 Things That Could Be Stealing Your Joy   \n",
       "124994  WELLNESS                                Moments Make a Life   \n",
       "124996  WELLNESS                                          Fat Facts   \n",
       "\n",
       "                                                  authors  \\\n",
       "124989  Mark Hyman, MD, Contributor\\nPracticing Physician   \n",
       "124990                                        Sarah Klein   \n",
       "124993  Amanda Gore, Contributor\\nInternational keynot...   \n",
       "124994  Megan McDonough, Contributor\\nCEO, Wholebeing ...   \n",
       "124996  Maria Rodale, Contributor\\nCEO and Chairman of...   \n",
       "\n",
       "                                                     link  \\\n",
       "124989  https://www.huffingtonpost.com/entry/overeatin...   \n",
       "124990  https://www.huffingtonpost.com/entry/healthy-r...   \n",
       "124993  https://www.huffingtonpost.com/entry/joy_us_5b...   \n",
       "124994  https://www.huffingtonpost.com/entry/moments-m...   \n",
       "124996  https://www.huffingtonpost.com/entry/fat-facts...   \n",
       "\n",
       "                                        short_description       date  \\\n",
       "124989  If you take the right approach to ending your ... 2014-04-17   \n",
       "124990  After a long list of rules and habits like the... 2014-04-17   \n",
       "124993  Listen to yourself all day today -- are you an... 2014-04-17   \n",
       "124994  Consciously constructing positive habits -- or... 2014-04-17   \n",
       "124996  Human fat cells, photo by Dr. Peeke Here's how... 2014-04-17   \n",
       "\n",
       "                                            combined_text  \n",
       "124989  why overeating doesn't make you fat if you tak...  \n",
       "124990  14 habits of people with a healthy relationshi...  \n",
       "124993  5 things that could be stealing your joy liste...  \n",
       "124994  moments make a life consciously constructing p...  \n",
       "124996  fat facts human fat cells, photo by dr. peeke ...  "
      ]
     },
     "execution_count": 12,
     "metadata": {},
     "output_type": "execute_result"
    }
   ],
   "source": [
    "# healthy living and wellness articles\n",
    "reviews[reviews[\"category\"].str.contains(\"WELLNESS\")].head()"
   ]
  },
  {
   "cell_type": "code",
   "execution_count": 13,
   "id": "c5789647",
   "metadata": {
    "execution": {
     "iopub.execute_input": "2024-06-20T19:44:53.468486Z",
     "iopub.status.busy": "2024-06-20T19:44:53.468222Z",
     "iopub.status.idle": "2024-06-20T19:44:53.564647Z",
     "shell.execute_reply": "2024-06-20T19:44:53.563732Z"
    },
    "executionInfo": {
     "elapsed": 12,
     "status": "ok",
     "timestamp": 1718906544253,
     "user": {
      "displayName": "Anna Tang",
      "userId": "06009827953892747229"
     },
     "user_tz": 240
    },
    "id": "njUVLrisyPDo",
    "outputId": "85ee161b-06d4-4938-c767-81dd4b0bad7c",
    "papermill": {
     "duration": 0.12246,
     "end_time": "2024-06-20T19:44:53.566569",
     "exception": false,
     "start_time": "2024-06-20T19:44:53.444109",
     "status": "completed"
    },
    "tags": []
   },
   "outputs": [
    {
     "data": {
      "text/plain": [
       "(17827, 7)"
      ]
     },
     "execution_count": 13,
     "metadata": {},
     "output_type": "execute_result"
    }
   ],
   "source": [
    "reviews[reviews[\"category\"].str.contains(\"WELLNESS\")].shape"
   ]
  },
  {
   "cell_type": "code",
   "execution_count": 14,
   "id": "aa30efb2",
   "metadata": {
    "execution": {
     "iopub.execute_input": "2024-06-20T19:44:53.613759Z",
     "iopub.status.busy": "2024-06-20T19:44:53.613476Z",
     "iopub.status.idle": "2024-06-20T19:44:53.683069Z",
     "shell.execute_reply": "2024-06-20T19:44:53.682385Z"
    },
    "executionInfo": {
     "elapsed": 10,
     "status": "ok",
     "timestamp": 1718906544253,
     "user": {
      "displayName": "Anna Tang",
      "userId": "06009827953892747229"
     },
     "user_tz": 240
    },
    "id": "7b56d4ad",
    "papermill": {
     "duration": 0.095417,
     "end_time": "2024-06-20T19:44:53.685009",
     "exception": false,
     "start_time": "2024-06-20T19:44:53.589592",
     "status": "completed"
    },
    "tags": []
   },
   "outputs": [],
   "source": [
    "reviews[\"health_wellness\"] = np.where((reviews[\"category\"] == \"HEALTHY LIVING\") | (reviews[\"category\"] == \"WELLNESS\"), 1, 0)"
   ]
  },
  {
   "cell_type": "code",
   "execution_count": 15,
   "id": "c2ab2564",
   "metadata": {
    "execution": {
     "iopub.execute_input": "2024-06-20T19:44:53.732203Z",
     "iopub.status.busy": "2024-06-20T19:44:53.731933Z",
     "iopub.status.idle": "2024-06-20T19:44:53.741888Z",
     "shell.execute_reply": "2024-06-20T19:44:53.740954Z"
    },
    "executionInfo": {
     "elapsed": 11,
     "status": "ok",
     "timestamp": 1718906544254,
     "user": {
      "displayName": "Anna Tang",
      "userId": "06009827953892747229"
     },
     "user_tz": 240
    },
    "id": "8e0ef511",
    "outputId": "c79210b9-2afa-4419-fb51-f939129f3802",
    "papermill": {
     "duration": 0.035769,
     "end_time": "2024-06-20T19:44:53.744034",
     "exception": false,
     "start_time": "2024-06-20T19:44:53.708265",
     "status": "completed"
    },
    "tags": []
   },
   "outputs": [
    {
     "data": {
      "text/plain": [
       "health_wellness\n",
       "0    176332\n",
       "1     24521\n",
       "Name: count, dtype: int64"
      ]
     },
     "execution_count": 15,
     "metadata": {},
     "output_type": "execute_result"
    }
   ],
   "source": [
    "reviews[\"health_wellness\"].value_counts()"
   ]
  },
  {
   "cell_type": "code",
   "execution_count": 16,
   "id": "01d28ca5",
   "metadata": {
    "execution": {
     "iopub.execute_input": "2024-06-20T19:44:53.792792Z",
     "iopub.status.busy": "2024-06-20T19:44:53.792505Z",
     "iopub.status.idle": "2024-06-20T19:44:53.796259Z",
     "shell.execute_reply": "2024-06-20T19:44:53.795482Z"
    },
    "executionInfo": {
     "elapsed": 11,
     "status": "ok",
     "timestamp": 1718906544255,
     "user": {
      "displayName": "Anna Tang",
      "userId": "06009827953892747229"
     },
     "user_tz": 240
    },
    "id": "a8df9319",
    "papermill": {
     "duration": 0.029361,
     "end_time": "2024-06-20T19:44:53.798089",
     "exception": false,
     "start_time": "2024-06-20T19:44:53.768728",
     "status": "completed"
    },
    "tags": []
   },
   "outputs": [],
   "source": [
    "target_names = [\"NOT HEALTH WELLNESS\", \"HEALTH WELLNESS\"]"
   ]
  },
  {
   "cell_type": "markdown",
   "id": "7391c4df",
   "metadata": {
    "id": "7e274669",
    "papermill": {
     "duration": 0.022891,
     "end_time": "2024-06-20T19:44:53.843985",
     "exception": false,
     "start_time": "2024-06-20T19:44:53.821094",
     "status": "completed"
    },
    "tags": []
   },
   "source": [
    "## Balance the Data"
   ]
  },
  {
   "cell_type": "code",
   "execution_count": 17,
   "id": "e01a4a2f",
   "metadata": {
    "execution": {
     "iopub.execute_input": "2024-06-20T19:44:53.890984Z",
     "iopub.status.busy": "2024-06-20T19:44:53.890728Z",
     "iopub.status.idle": "2024-06-20T19:44:53.964817Z",
     "shell.execute_reply": "2024-06-20T19:44:53.964046Z"
    },
    "executionInfo": {
     "elapsed": 11,
     "status": "ok",
     "timestamp": 1718906544255,
     "user": {
      "displayName": "Anna Tang",
      "userId": "06009827953892747229"
     },
     "user_tz": 240
    },
    "id": "fba3918a",
    "papermill": {
     "duration": 0.100119,
     "end_time": "2024-06-20T19:44:53.967102",
     "exception": false,
     "start_time": "2024-06-20T19:44:53.866983",
     "status": "completed"
    },
    "tags": []
   },
   "outputs": [],
   "source": [
    "sample_amount = 24000\n",
    "\n",
    "health_wellness = reviews[reviews[\"health_wellness\"] == 1].sample(n=sample_amount)\n",
    "not_health_wellness = reviews[reviews[\"health_wellness\"] == 0].sample(n=sample_amount)"
   ]
  },
  {
   "cell_type": "code",
   "execution_count": 18,
   "id": "e3290062",
   "metadata": {
    "execution": {
     "iopub.execute_input": "2024-06-20T19:44:54.056999Z",
     "iopub.status.busy": "2024-06-20T19:44:54.056624Z",
     "iopub.status.idle": "2024-06-20T19:44:54.067950Z",
     "shell.execute_reply": "2024-06-20T19:44:54.067254Z"
    },
    "executionInfo": {
     "elapsed": 11,
     "status": "ok",
     "timestamp": 1718906544255,
     "user": {
      "displayName": "Anna Tang",
      "userId": "06009827953892747229"
     },
     "user_tz": 240
    },
    "id": "a4874bf1",
    "papermill": {
     "duration": 0.078112,
     "end_time": "2024-06-20T19:44:54.069816",
     "exception": false,
     "start_time": "2024-06-20T19:44:53.991704",
     "status": "completed"
    },
    "tags": []
   },
   "outputs": [],
   "source": [
    "review_sample = pd.concat([health_wellness, not_health_wellness])"
   ]
  },
  {
   "cell_type": "code",
   "execution_count": 19,
   "id": "65564d5c",
   "metadata": {
    "execution": {
     "iopub.execute_input": "2024-06-20T19:44:54.120883Z",
     "iopub.status.busy": "2024-06-20T19:44:54.120601Z",
     "iopub.status.idle": "2024-06-20T19:44:54.171036Z",
     "shell.execute_reply": "2024-06-20T19:44:54.170026Z"
    },
    "executionInfo": {
     "elapsed": 10,
     "status": "ok",
     "timestamp": 1718906544255,
     "user": {
      "displayName": "Anna Tang",
      "userId": "06009827953892747229"
     },
     "user_tz": 240
    },
    "id": "37e2febc",
    "outputId": "45c7f8b4-f523-4766-d7e9-b47d2f63fa34",
    "papermill": {
     "duration": 0.078297,
     "end_time": "2024-06-20T19:44:54.173120",
     "exception": false,
     "start_time": "2024-06-20T19:44:54.094823",
     "status": "completed"
    },
    "tags": []
   },
   "outputs": [
    {
     "name": "stdout",
     "output_type": "stream",
     "text": [
      "<class 'pandas.core.frame.DataFrame'>\n",
      "Index: 48000 entries, 126012 to 73230\n",
      "Data columns (total 8 columns):\n",
      " #   Column             Non-Null Count  Dtype         \n",
      "---  ------             --------------  -----         \n",
      " 0   category           48000 non-null  object        \n",
      " 1   headline           48000 non-null  object        \n",
      " 2   authors            48000 non-null  object        \n",
      " 3   link               48000 non-null  object        \n",
      " 4   short_description  48000 non-null  object        \n",
      " 5   date               48000 non-null  datetime64[ns]\n",
      " 6   combined_text      48000 non-null  object        \n",
      " 7   health_wellness    48000 non-null  int64         \n",
      "dtypes: datetime64[ns](1), int64(1), object(6)\n",
      "memory usage: 3.3+ MB\n"
     ]
    }
   ],
   "source": [
    "review_sample.info()"
   ]
  },
  {
   "cell_type": "code",
   "execution_count": 20,
   "id": "5668558a",
   "metadata": {
    "execution": {
     "iopub.execute_input": "2024-06-20T19:44:54.222915Z",
     "iopub.status.busy": "2024-06-20T19:44:54.222134Z",
     "iopub.status.idle": "2024-06-20T19:44:54.226832Z",
     "shell.execute_reply": "2024-06-20T19:44:54.225967Z"
    },
    "executionInfo": {
     "elapsed": 9,
     "status": "ok",
     "timestamp": 1718906544255,
     "user": {
      "displayName": "Anna Tang",
      "userId": "06009827953892747229"
     },
     "user_tz": 240
    },
    "id": "45a34152",
    "papermill": {
     "duration": 0.031442,
     "end_time": "2024-06-20T19:44:54.228664",
     "exception": false,
     "start_time": "2024-06-20T19:44:54.197222",
     "status": "completed"
    },
    "tags": []
   },
   "outputs": [],
   "source": [
    "# def ktrain_model(preprocess_mode, text_process):\n",
    "#     train, val, preprocess = ktrain.text.texts_from_df(\n",
    "#     review_sample,\n",
    "#     \"combined_text\",\n",
    "#     label_columns=[\"health_wellness\"],\n",
    "#     val_df=None,\n",
    "#     max_features=20000,\n",
    "#     maxlen=512,\n",
    "#     val_pct=0.1,\n",
    "#     ngram_range=1,\n",
    "#     preprocess_mode=preprocess_mode,\n",
    "#     verbose=1\n",
    "#     )\n",
    "\n",
    "#     model = ktrain.text.text_classifier(text_process, train, preproc=preprocess)\n",
    "\n",
    "#     learner = ktrain.get_learner(model, train_data=train, val_data=val, batch_size=16)\n",
    "\n",
    "#     learner.lr_find(max_epochs=6)\n",
    "\n",
    "#     learner.lr_plot()\n",
    "\n",
    "#     history=learner.autofit(\n",
    "#     1e-4,\n",
    "#     checkpoint_folder='checkpoint',\n",
    "#     epochs=10,\n",
    "#     early_stopping=True\n",
    "#     )\n",
    "\n",
    "#     predictor = ktrain.get_predictor(learner.model, preproc=preprocess)\n",
    "\n",
    "#     validation = learner.validate(val_data=val, print_report=True)"
   ]
  },
  {
   "cell_type": "code",
   "execution_count": 21,
   "id": "114c141c",
   "metadata": {
    "execution": {
     "iopub.execute_input": "2024-06-20T19:44:54.277198Z",
     "iopub.status.busy": "2024-06-20T19:44:54.276962Z",
     "iopub.status.idle": "2024-06-20T19:45:10.991023Z",
     "shell.execute_reply": "2024-06-20T19:45:10.989922Z"
    },
    "executionInfo": {
     "elapsed": 9121,
     "status": "ok",
     "timestamp": 1718906553367,
     "user": {
      "displayName": "Anna Tang",
      "userId": "06009827953892747229"
     },
     "user_tz": 240
    },
    "id": "gW54aKjlYqrF",
    "outputId": "e746858b-8145-47e0-cc3b-8a899e28e6e9",
    "papermill": {
     "duration": 16.740799,
     "end_time": "2024-06-20T19:45:10.993251",
     "exception": false,
     "start_time": "2024-06-20T19:44:54.252452",
     "status": "completed"
    },
    "tags": []
   },
   "outputs": [
    {
     "name": "stderr",
     "output_type": "stream",
     "text": [
      "/opt/conda/lib/python3.10/pty.py:89: RuntimeWarning: os.fork() was called. os.fork() is incompatible with multithreaded code, and JAX is multithreaded, so this will likely lead to a deadlock.\n",
      "  pid, fd = os.forkpty()\n"
     ]
    }
   ],
   "source": [
    "!pip3 install -q git+https://github.com/amaiya/eli5@tfkeras_0_10_1"
   ]
  },
  {
   "cell_type": "code",
   "execution_count": 22,
   "id": "854c2021",
   "metadata": {
    "execution": {
     "iopub.execute_input": "2024-06-20T19:45:11.042670Z",
     "iopub.status.busy": "2024-06-20T19:45:11.042306Z",
     "iopub.status.idle": "2024-06-20T19:45:26.461181Z",
     "shell.execute_reply": "2024-06-20T19:45:26.460056Z"
    },
    "executionInfo": {
     "elapsed": 7256,
     "status": "ok",
     "timestamp": 1718906560612,
     "user": {
      "displayName": "Anna Tang",
      "userId": "06009827953892747229"
     },
     "user_tz": 240
    },
    "id": "Bq4MxA8tpnm-",
    "outputId": "ef287401-de6f-4a79-e4f0-d53f4d8c69ff",
    "papermill": {
     "duration": 15.445951,
     "end_time": "2024-06-20T19:45:26.463558",
     "exception": false,
     "start_time": "2024-06-20T19:45:11.017607",
     "status": "completed"
    },
    "tags": []
   },
   "outputs": [
    {
     "name": "stdout",
     "output_type": "stream",
     "text": [
      "Collecting https://github.com/amaiya/eli5-tf/archive/refs/heads/master.zip\r\n",
      "  Downloading https://github.com/amaiya/eli5-tf/archive/refs/heads/master.zip\r\n",
      "\u001b[2K     \u001b[32m-\u001b[0m \u001b[32m6.9 MB\u001b[0m \u001b[31m17.9 MB/s\u001b[0m \u001b[33m0:00:00\u001b[0m\r\n",
      "\u001b[?25h  Preparing metadata (setup.py) ... \u001b[?25l-\b \bdone\r\n",
      "\u001b[?25hRequirement already satisfied: attrs>17.1.0 in /opt/conda/lib/python3.10/site-packages (from eli5==0.13.0) (23.2.0)\r\n",
      "Requirement already satisfied: jinja2>=3.0.0 in /opt/conda/lib/python3.10/site-packages (from eli5==0.13.0) (3.1.2)\r\n",
      "Requirement already satisfied: numpy>=1.9.0 in /opt/conda/lib/python3.10/site-packages (from eli5==0.13.0) (1.26.4)\r\n",
      "Requirement already satisfied: scipy in /opt/conda/lib/python3.10/site-packages (from eli5==0.13.0) (1.11.4)\r\n",
      "Requirement already satisfied: six in /opt/conda/lib/python3.10/site-packages (from eli5==0.13.0) (1.16.0)\r\n",
      "Requirement already satisfied: scikit-learn>=0.20 in /opt/conda/lib/python3.10/site-packages (from eli5==0.13.0) (1.2.2)\r\n",
      "Requirement already satisfied: graphviz in /opt/conda/lib/python3.10/site-packages (from eli5==0.13.0) (0.20.3)\r\n",
      "Requirement already satisfied: tabulate>=0.7.7 in /opt/conda/lib/python3.10/site-packages (from eli5==0.13.0) (0.9.0)\r\n",
      "Requirement already satisfied: MarkupSafe>=2.0 in /opt/conda/lib/python3.10/site-packages (from jinja2>=3.0.0->eli5==0.13.0) (2.1.3)\r\n",
      "Requirement already satisfied: joblib>=1.1.1 in /opt/conda/lib/python3.10/site-packages (from scikit-learn>=0.20->eli5==0.13.0) (1.4.2)\r\n",
      "Requirement already satisfied: threadpoolctl>=2.0.0 in /opt/conda/lib/python3.10/site-packages (from scikit-learn>=0.20->eli5==0.13.0) (3.2.0)\r\n",
      "Building wheels for collected packages: eli5\r\n",
      "  Building wheel for eli5 (setup.py) ... \u001b[?25l-\b \bdone\r\n",
      "\u001b[?25h  Created wheel for eli5: filename=eli5-0.13.0-py2.py3-none-any.whl size=108160 sha256=42eb47d05867c5003e3ee1837dba76e772824ba55db2a1c0031b0809a7cc4313\r\n",
      "  Stored in directory: /tmp/pip-ephem-wheel-cache-xydnyczs/wheels/0b/14/54/23c07f7254b733dc3daac99ba1fda60e30f1b2991b3b8ee0bf\r\n",
      "Successfully built eli5\r\n",
      "Installing collected packages: eli5\r\n",
      "  Attempting uninstall: eli5\r\n",
      "    Found existing installation: eli5 0.10.1\r\n",
      "    Uninstalling eli5-0.10.1:\r\n",
      "      Successfully uninstalled eli5-0.10.1\r\n",
      "Successfully installed eli5-0.13.0\r\n"
     ]
    }
   ],
   "source": [
    "!pip install https://github.com/amaiya/eli5-tf/archive/refs/heads/master.zip"
   ]
  },
  {
   "cell_type": "markdown",
   "id": "20aa7ebf",
   "metadata": {
    "id": "ot4aSJyFndgl",
    "papermill": {
     "duration": 0.025415,
     "end_time": "2024-06-20T19:45:26.515402",
     "exception": false,
     "start_time": "2024-06-20T19:45:26.489987",
     "status": "completed"
    },
    "tags": []
   },
   "source": [
    "### NBSVM Model"
   ]
  },
  {
   "cell_type": "code",
   "execution_count": 23,
   "id": "8c2af865",
   "metadata": {
    "execution": {
     "iopub.execute_input": "2024-06-20T19:45:26.568607Z",
     "iopub.status.busy": "2024-06-20T19:45:26.568257Z",
     "iopub.status.idle": "2024-06-20T19:49:40.819627Z",
     "shell.execute_reply": "2024-06-20T19:49:40.818652Z"
    },
    "executionInfo": {
     "elapsed": 194124,
     "status": "ok",
     "timestamp": 1718906754724,
     "user": {
      "displayName": "Anna Tang",
      "userId": "06009827953892747229"
     },
     "user_tz": 240
    },
    "id": "420dc228",
    "outputId": "149d941f-a0c3-4240-9cb0-cc9a49e4616e",
    "papermill": {
     "duration": 254.28097,
     "end_time": "2024-06-20T19:49:40.821641",
     "exception": false,
     "start_time": "2024-06-20T19:45:26.540671",
     "status": "completed"
    },
    "tags": []
   },
   "outputs": [
    {
     "name": "stdout",
     "output_type": "stream",
     "text": [
      "['not_health_wellness', 'health_wellness']\n",
      "        not_health_wellness  health_wellness\n",
      "146724                  0.0              1.0\n",
      "184372                  0.0              1.0\n",
      "26337                   1.0              0.0\n",
      "33391                   1.0              0.0\n",
      "164941                  0.0              1.0\n",
      "['not_health_wellness', 'health_wellness']\n",
      "        not_health_wellness  health_wellness\n",
      "53999                   1.0              0.0\n",
      "98466                   1.0              0.0\n",
      "56003                   1.0              0.0\n",
      "87419                   0.0              1.0\n",
      "150418                  0.0              1.0\n",
      "language: en\n",
      "Word Counts: 52335\n",
      "Nrows: 43200\n",
      "43200 train sequences\n",
      "train sequence lengths:\n",
      "\tmean : 32\n",
      "\t95percentile : 57\n",
      "\t99percentile : 68\n",
      "x_train shape: (43200,512)\n",
      "y_train shape: (43200, 2)\n",
      "Is Multi-Label? False\n",
      "4800 test sequences\n",
      "test sequence lengths:\n",
      "\tmean : 31\n",
      "\t95percentile : 57\n",
      "\t99percentile : 66\n",
      "x_test shape: (4800,512)\n",
      "y_test shape: (4800, 2)\n",
      "Is Multi-Label? False\n",
      "compiling word ID features...\n",
      "maxlen is 512\n",
      "building document-term matrix... this may take a few moments...\n",
      "rows: 1-10000\n",
      "rows: 10001-20000\n",
      "rows: 20001-30000\n",
      "rows: 30001-40000\n",
      "rows: 40001-43200\n",
      "computing log-count ratios...\n",
      "done.\n",
      "simulating training for different learning rates... this may take a few moments...\n"
     ]
    },
    {
     "name": "stderr",
     "output_type": "stream",
     "text": [
      "/opt/conda/lib/python3.10/site-packages/tf_keras/src/engine/training.py:3098: UserWarning: You are saving your model as an HDF5 file via `model.save()`. This file format is considered legacy. We recommend using instead the native TF-Keras format, e.g. `model.save('my_model.keras')`.\n",
      "  saving_api.save_model(\n"
     ]
    },
    {
     "name": "stdout",
     "output_type": "stream",
     "text": [
      "Epoch 1/6\n",
      "2700/2700 [==============================] - 31s 4ms/step - loss: 0.6916 - accuracy: 0.5190\n",
      "Epoch 2/6\n",
      "2700/2700 [==============================] - 9s 3ms/step - loss: 0.6664 - accuracy: 0.6143\n",
      "Epoch 3/6\n",
      "2700/2700 [==============================] - 9s 3ms/step - loss: 0.4862 - accuracy: 0.8234\n",
      "Epoch 4/6\n",
      "2700/2700 [==============================] - 9s 3ms/step - loss: 0.2853 - accuracy: 0.8971\n",
      "Epoch 5/6\n",
      "2700/2700 [==============================] - 7s 3ms/step - loss: 1.0188 - accuracy: 0.8607\n",
      "\n",
      "\n",
      "done.\n",
      "Please invoke the Learner.lr_plot() method to visually inspect the loss plot to help identify the maximal learning rate associated with falling loss.\n"
     ]
    },
    {
     "data": {
      "image/png": "[encoded data removed]",
      "text/plain": [
       "<Figure size 640x480 with 1 Axes>"
      ]
     },
     "metadata": {},
     "output_type": "display_data"
    },
    {
     "name": "stdout",
     "output_type": "stream",
     "text": [
      "\n",
      "\n",
      "begin training using triangular learning rate policy with max lr of 0.0001...\n",
      "Epoch 1/10\n",
      "2700/2700 [==============================] - 13s 5ms/step - loss: 0.5914 - accuracy: 0.7229 - val_loss: 0.5255 - val_accuracy: 0.8004\n",
      "Epoch 2/10\n",
      "2700/2700 [==============================] - 12s 4ms/step - loss: 0.4737 - accuracy: 0.8447 - val_loss: 0.4476 - val_accuracy: 0.8525\n",
      "Epoch 3/10\n",
      "2700/2700 [==============================] - 12s 4ms/step - loss: 0.4104 - accuracy: 0.8747 - val_loss: 0.4018 - val_accuracy: 0.8712\n",
      "Epoch 4/10\n",
      "2700/2700 [==============================] - 12s 4ms/step - loss: 0.3708 - accuracy: 0.8878 - val_loss: 0.3727 - val_accuracy: 0.8781\n",
      "Epoch 5/10\n",
      "2700/2700 [==============================] - 12s 4ms/step - loss: 0.3438 - accuracy: 0.8938 - val_loss: 0.3527 - val_accuracy: 0.8842\n",
      "Epoch 6/10\n",
      "2700/2700 [==============================] - 12s 4ms/step - loss: 0.3239 - accuracy: 0.8987 - val_loss: 0.3380 - val_accuracy: 0.8873\n",
      "Epoch 7/10\n",
      "2700/2700 [==============================] - 12s 4ms/step - loss: 0.3087 - accuracy: 0.9026 - val_loss: 0.3271 - val_accuracy: 0.8888\n",
      "Epoch 8/10\n",
      "2700/2700 [==============================] - 12s 4ms/step - loss: 0.2964 - accuracy: 0.9048 - val_loss: 0.3185 - val_accuracy: 0.8896\n",
      "Epoch 9/10\n",
      "2700/2700 [==============================] - 12s 4ms/step - loss: 0.2863 - accuracy: 0.9072 - val_loss: 0.3116 - val_accuracy: 0.8921\n",
      "Epoch 10/10\n",
      "2700/2700 [==============================] - 12s 4ms/step - loss: 0.2777 - accuracy: 0.9097 - val_loss: 0.3060 - val_accuracy: 0.8931\n",
      "Weights from best epoch have been loaded into model.\n",
      "150/150 [==============================] - 1s 1ms/step\n",
      "              precision    recall  f1-score   support\n",
      "\n",
      "           0       0.91      0.87      0.89      2453\n",
      "           1       0.87      0.91      0.89      2347\n",
      "\n",
      "    accuracy                           0.89      4800\n",
      "   macro avg       0.89      0.89      0.89      4800\n",
      "weighted avg       0.89      0.89      0.89      4800\n",
      "\n"
     ]
    }
   ],
   "source": [
    "train, val, preprocess = ktrain.text.texts_from_df(\n",
    "review_sample,\n",
    "\"combined_text\",\n",
    "label_columns=[\"health_wellness\"],\n",
    "val_df=None,\n",
    "max_features=20000,\n",
    "maxlen=512,\n",
    "val_pct=0.1,\n",
    "ngram_range=1,\n",
    "preprocess_mode=\"standard\",\n",
    "random_state=42,\n",
    "verbose=1\n",
    ")\n",
    "\n",
    "model = ktrain.text.text_classifier(\"nbsvm\", train, preproc=preprocess)\n",
    "\n",
    "learner = ktrain.get_learner(model, train_data=train, val_data=val, batch_size=16)\n",
    "\n",
    "learner.lr_find(max_epochs=6)\n",
    "\n",
    "learner.lr_plot()\n",
    "\n",
    "history=learner.autofit(\n",
    "1e-4,\n",
    "checkpoint_folder='checkpoint',\n",
    "epochs=10,\n",
    "early_stopping=True\n",
    ")\n",
    "\n",
    "nbsvm_predictor = ktrain.get_predictor(learner.model, preproc=preprocess)\n",
    "\n",
    "nbsvm_validation = learner.validate(val_data=val, print_report=True)"
   ]
  },
  {
   "cell_type": "code",
   "execution_count": 24,
   "id": "da7cb207",
   "metadata": {
    "execution": {
     "iopub.execute_input": "2024-06-20T19:49:41.356952Z",
     "iopub.status.busy": "2024-06-20T19:49:41.356600Z",
     "iopub.status.idle": "2024-06-20T19:49:41.361995Z",
     "shell.execute_reply": "2024-06-20T19:49:41.361047Z"
    },
    "executionInfo": {
     "elapsed": 6,
     "status": "ok",
     "timestamp": 1718906754724,
     "user": {
      "displayName": "Anna Tang",
      "userId": "06009827953892747229"
     },
     "user_tz": 240
    },
    "id": "RuTHXPbOnSZo",
    "papermill": {
     "duration": 0.275288,
     "end_time": "2024-06-20T19:49:41.363943",
     "exception": false,
     "start_time": "2024-06-20T19:49:41.088655",
     "status": "completed"
    },
    "tags": []
   },
   "outputs": [],
   "source": [
    "test_docs = [\n",
    "'Stress May Be Your Heart’s Worst Enemy Psychological stress activates the fear center in the brain, setting into motion a cascade of reactions that can lead to heart attacks and strokes.',\n",
    "'Exercising to Slim Down? Try Getting Bigger. It’s high time for women to reclaim the real strength behind exercise.',\n",
    "'What Are Your Food Resolutions for the New Year? Join us for the Eat Well Challenge starting in January.',\n",
    "'Why We All Need to Have More Fun. Prioritizing fun may feel impossible right now. But this four-step plan will help you rediscover how to feel more alive.',\n",
    "'Cuomo Will Not Be Prosecuted in Groping Case, Albany D.A. Says. The district attorney described the woman who said former Gov. Andrew Cuomo had groped her as “credible,” but added that proving her allegation would be difficult.',\n",
    "'A Film Captures Jewish Life in a Polish Town Before the Nazis Arrived. A documentary based on a home movie shot by an American in 1938 provides a look at the vibrancy of a Jewish community in Europe just before the Holocaust.',\n",
    "'What to Consider When Making Vacation Plans',\n",
    "'The Best Destinations for a Digital Detox',\n",
    "'I knew I wanted a tropical beach vacation. What I couldn’t have known was how a Mayan sacred-stone massage would somehow be more pampering, more life-affirming, and more of a body tune-up than a massage void of sacred Mayan stones.'\n",
    "             ]"
   ]
  },
  {
   "cell_type": "code",
   "execution_count": 25,
   "id": "8e15c8d6",
   "metadata": {
    "execution": {
     "iopub.execute_input": "2024-06-20T19:49:41.902233Z",
     "iopub.status.busy": "2024-06-20T19:49:41.901391Z",
     "iopub.status.idle": "2024-06-20T19:49:42.585414Z",
     "shell.execute_reply": "2024-06-20T19:49:42.584347Z"
    },
    "executionInfo": {
     "elapsed": 803,
     "status": "ok",
     "timestamp": 1718906755522,
     "user": {
      "displayName": "Anna Tang",
      "userId": "06009827953892747229"
     },
     "user_tz": 240
    },
    "id": "HYgXQY8mnSUy",
    "outputId": "953d5997-1c0e-4810-e546-1b5f77e8f547",
    "papermill": {
     "duration": 0.954057,
     "end_time": "2024-06-20T19:49:42.587348",
     "exception": false,
     "start_time": "2024-06-20T19:49:41.633291",
     "status": "completed"
    },
    "tags": []
   },
   "outputs": [
    {
     "name": "stdout",
     "output_type": "stream",
     "text": [
      "---------------------------\n",
      "The probability that this is travel related is 0.98525226\n",
      "Stress May Be Your Heart’s Worst Enemy Psychological stress activates the fear center in the brain, setting into motion a cascade of reactions that can lead to heart attacks and strokes.\n",
      "---------------------------\n",
      "The probability that this is travel related is 0.86397064\n",
      "Exercising to Slim Down? Try Getting Bigger. It’s high time for women to reclaim the real strength behind exercise.\n",
      "---------------------------\n",
      "The probability that this is travel related is 0.6838585\n",
      "What Are Your Food Resolutions for the New Year? Join us for the Eat Well Challenge starting in January.\n",
      "---------------------------\n",
      "The probability that this is travel related is 0.7251114\n",
      "Why We All Need to Have More Fun. Prioritizing fun may feel impossible right now. But this four-step plan will help you rediscover how to feel more alive.\n",
      "---------------------------\n",
      "The probability that this is travel related is 0.019030904\n",
      "Cuomo Will Not Be Prosecuted in Groping Case, Albany D.A. Says. The district attorney described the woman who said former Gov. Andrew Cuomo had groped her as “credible,” but added that proving her allegation would be difficult.\n",
      "---------------------------\n",
      "The probability that this is travel related is 0.015229774\n",
      "A Film Captures Jewish Life in a Polish Town Before the Nazis Arrived. A documentary based on a home movie shot by an American in 1938 provides a look at the vibrancy of a Jewish community in Europe just before the Holocaust.\n",
      "---------------------------\n",
      "The probability that this is travel related is 0.5019133\n",
      "What to Consider When Making Vacation Plans\n",
      "---------------------------\n",
      "The probability that this is travel related is 0.38891453\n",
      "The Best Destinations for a Digital Detox\n",
      "---------------------------\n",
      "The probability that this is travel related is 0.8312225\n",
      "I knew I wanted a tropical beach vacation. What I couldn’t have known was how a Mayan sacred-stone massage would somehow be more pampering, more life-affirming, and more of a body tune-up than a massage void of sacred Mayan stones.\n"
     ]
    }
   ],
   "source": [
    "for i, text in enumerate(test_docs):\n",
    "  probs = nbsvm_predictor.predict(text, return_proba=True)\n",
    "  print(\"---------------------------\")\n",
    "  print('The probability that this is travel related is %s' % probs[1])\n",
    "  print(text)"
   ]
  },
  {
   "cell_type": "code",
   "execution_count": 26,
   "id": "24895fd4",
   "metadata": {
    "execution": {
     "iopub.execute_input": "2024-06-20T19:49:43.168235Z",
     "iopub.status.busy": "2024-06-20T19:49:43.167626Z",
     "iopub.status.idle": "2024-06-20T19:49:48.110366Z",
     "shell.execute_reply": "2024-06-20T19:49:48.109437Z"
    },
    "executionInfo": {
     "elapsed": 3371,
     "status": "ok",
     "timestamp": 1718906758890,
     "user": {
      "displayName": "Anna Tang",
      "userId": "06009827953892747229"
     },
     "user_tz": 240
    },
    "id": "tIuPgPUjnSOh",
    "outputId": "499daa40-1d11-4d08-8d35-c77af4a81f10",
    "papermill": {
     "duration": 5.257562,
     "end_time": "2024-06-20T19:49:48.112304",
     "exception": false,
     "start_time": "2024-06-20T19:49:42.854742",
     "status": "completed"
    },
    "tags": []
   },
   "outputs": [
    {
     "data": {
      "text/html": [
       "\n",
       "    <style>\n",
       "    table.eli5-weights tr:hover {\n",
       "        filter: brightness(85%);\n",
       "    }\n",
       "</style>\n",
       "\n",
       "\n",
       "\n",
       "    \n",
       "\n",
       "    \n",
       "\n",
       "    \n",
       "\n",
       "    \n",
       "\n",
       "    \n",
       "\n",
       "    \n",
       "\n",
       "\n",
       "    \n",
       "\n",
       "    \n",
       "\n",
       "    \n",
       "\n",
       "    \n",
       "        \n",
       "\n",
       "    \n",
       "\n",
       "        \n",
       "\n",
       "        \n",
       "    \n",
       "        \n",
       "        \n",
       "    \n",
       "        <p style=\"margin-bottom: 0.5em; margin-top: 0em\">\n",
       "            <b>\n",
       "    \n",
       "        y=health_wellness\n",
       "    \n",
       "</b>\n",
       "\n",
       "    \n",
       "    (probability <b>0.681</b>, score <b>0.758</b>)\n",
       "\n",
       "top features\n",
       "        </p>\n",
       "    \n",
       "    <table class=\"eli5-weights\"\n",
       "           style=\"border-collapse: collapse; border: none; margin-top: 0em; table-layout: auto; margin-bottom: 2em;\">\n",
       "        <thead>\n",
       "        <tr style=\"border: none;\">\n",
       "            \n",
       "                <th style=\"padding: 0 1em 0 0.5em; text-align: right; border: none;\" title=\"Feature contribution already accounts for the feature value (for linear models, contribution = weight * feature value), and the sum of feature contributions is equal to the score or, for some classifiers, to the probability. Feature values are shown if &quot;show_feature_values&quot; is True.\">\n",
       "                    Contribution<sup>?</sup>\n",
       "                </th>\n",
       "            \n",
       "            <th style=\"padding: 0 0.5em 0 0.5em; text-align: left; border: none;\">Feature</th>\n",
       "            \n",
       "        </tr>\n",
       "        </thead>\n",
       "        <tbody>\n",
       "        \n",
       "            <tr style=\"background-color: hsl(120, 100.00%, 80.00%); border: none;\">\n",
       "    <td style=\"padding: 0 1em 0 0.5em; text-align: right; border: none;\">\n",
       "        +0.778\n",
       "    </td>\n",
       "    <td style=\"padding: 0 0.5em 0 0.5em; text-align: left; border: none;\">\n",
       "        Highlighted in text (sum)\n",
       "    </td>\n",
       "    \n",
       "</tr>\n",
       "        \n",
       "        \n",
       "\n",
       "        \n",
       "        \n",
       "            <tr style=\"background-color: hsl(0, 100.00%, 98.45%); border: none;\">\n",
       "    <td style=\"padding: 0 1em 0 0.5em; text-align: right; border: none;\">\n",
       "        -0.020\n",
       "    </td>\n",
       "    <td style=\"padding: 0 0.5em 0 0.5em; text-align: left; border: none;\">\n",
       "        &lt;BIAS&gt;\n",
       "    </td>\n",
       "    \n",
       "</tr>\n",
       "        \n",
       "\n",
       "        </tbody>\n",
       "    </table>\n",
       "\n",
       "    \n",
       "\n",
       "\n",
       "\n",
       "    <p style=\"margin-bottom: 2.5em; margin-top:-0.5em;\">\n",
       "        <span style=\"background-color: hsl(120, 100.00%, 90.89%); opacity: 0.82\" title=\"0.123\">i</span><span style=\"opacity: 0.80\"> </span><span style=\"background-color: hsl(120, 100.00%, 90.43%); opacity: 0.83\" title=\"0.132\">skeptically</span><span style=\"opacity: 0.80\"> </span><span style=\"background-color: hsl(0, 100.00%, 95.16%); opacity: 0.81\" title=\"-0.050\">signed</span><span style=\"opacity: 0.80\"> </span><span style=\"background-color: hsl(0, 100.00%, 94.51%); opacity: 0.81\" title=\"-0.060\">up</span><span style=\"opacity: 0.80\"> </span><span style=\"background-color: hsl(0, 100.00%, 92.53%); opacity: 0.82\" title=\"-0.092\">for</span><span style=\"opacity: 0.80\"> </span><span style=\"background-color: hsl(0, 100.00%, 95.59%); opacity: 0.81\" title=\"-0.044\">a</span><span style=\"opacity: 0.80\"> </span><span style=\"background-color: hsl(0, 100.00%, 95.21%); opacity: 0.81\" title=\"-0.049\">family</span><span style=\"opacity: 0.80\"> </span><span style=\"background-color: hsl(120, 100.00%, 60.00%); opacity: 1.00\" title=\"1.016\">meditation</span><span style=\"opacity: 0.80\"> </span><span style=\"background-color: hsl(120, 100.00%, 95.19%); opacity: 0.81\" title=\"0.049\">session</span><span style=\"opacity: 0.80\">, </span><span style=\"background-color: hsl(120, 100.00%, 93.24%); opacity: 0.82\" title=\"0.080\">which</span><span style=\"opacity: 0.80\"> </span><span style=\"background-color: hsl(0, 100.00%, 95.88%); opacity: 0.81\" title=\"-0.039\">turned</span><span style=\"opacity: 0.80\"> </span><span style=\"background-color: hsl(0, 100.00%, 97.59%); opacity: 0.80\" title=\"-0.018\">out</span><span style=\"opacity: 0.80\"> </span><span style=\"background-color: hsl(120, 100.00%, 99.27%); opacity: 0.80\" title=\"0.003\">to</span><span style=\"opacity: 0.80\"> </span><span style=\"background-color: hsl(120, 100.00%, 91.46%); opacity: 0.82\" title=\"0.112\">be</span><span style=\"opacity: 0.80\"> </span><span style=\"background-color: hsl(120, 100.00%, 93.71%); opacity: 0.81\" title=\"0.072\">one</span><span style=\"opacity: 0.80\"> </span><span style=\"background-color: hsl(120, 100.00%, 97.00%); opacity: 0.80\" title=\"0.025\">of</span><span style=\"opacity: 0.80\"> </span><span style=\"background-color: hsl(0, 100.00%, 93.29%); opacity: 0.82\" title=\"-0.079\">the</span><span style=\"opacity: 0.80\"> </span><span style=\"background-color: hsl(120, 100.00%, 90.07%); opacity: 0.83\" title=\"0.139\">more</span><span style=\"opacity: 0.80\"> </span><span style=\"background-color: hsl(120, 100.00%, 92.41%); opacity: 0.82\" title=\"0.095\">incredible</span><span style=\"opacity: 0.80\"> </span><span style=\"background-color: hsl(120, 100.00%, 89.81%); opacity: 0.83\" title=\"0.144\">things</span><span style=\"opacity: 0.80\"> </span><span style=\"background-color: hsl(120, 100.00%, 84.81%); opacity: 0.85\" title=\"0.255\">we</span><span style=\"opacity: 0.80\"> </span><span style=\"background-color: hsl(120, 100.00%, 97.95%); opacity: 0.80\" title=\"0.015\">did</span><span style=\"opacity: 0.80\"> </span><span style=\"background-color: hsl(0, 100.00%, 90.77%); opacity: 0.82\" title=\"-0.125\">on</span><span style=\"opacity: 0.80\"> </span><span style=\"background-color: hsl(0, 100.00%, 90.92%); opacity: 0.82\" title=\"-0.122\">the</span><span style=\"opacity: 0.80\"> </span><span style=\"background-color: hsl(0, 100.00%, 80.33%); opacity: 0.87\" title=\"-0.369\">trip</span><span style=\"opacity: 0.80\">: </span><span style=\"background-color: hsl(120, 100.00%, 89.83%); opacity: 0.83\" title=\"0.144\">my</span><span style=\"opacity: 0.80\"> </span><span style=\"background-color: hsl(120, 100.00%, 98.51%); opacity: 0.80\" title=\"0.009\">colic</span><span style=\"opacity: 0.80\">-</span><span style=\"background-color: hsl(120, 100.00%, 96.34%); opacity: 0.81\" title=\"0.033\">stricken</span><span style=\"opacity: 0.80\"> </span><span style=\"background-color: hsl(120, 100.00%, 89.47%); opacity: 0.83\" title=\"0.151\">four</span><span style=\"opacity: 0.80\">-</span><span style=\"background-color: hsl(0, 100.00%, 92.08%); opacity: 0.82\" title=\"-0.100\">month</span><span style=\"opacity: 0.80\">-</span><span style=\"background-color: hsl(0, 100.00%, 89.23%); opacity: 0.83\" title=\"-0.156\">old</span><span style=\"opacity: 0.80\"> </span><span style=\"background-color: hsl(0, 100.00%, 96.18%); opacity: 0.81\" title=\"-0.036\">became</span><span style=\"opacity: 0.80\"> </span><span style=\"background-color: hsl(120, 100.00%, 97.69%); opacity: 0.80\" title=\"0.017\">uncharacteristically</span><span style=\"opacity: 0.80\"> </span><span style=\"background-color: hsl(120, 100.00%, 94.63%); opacity: 0.81\" title=\"0.058\">compliant</span><span style=\"opacity: 0.80\"> </span><span style=\"background-color: hsl(120, 100.00%, 97.83%); opacity: 0.80\" title=\"0.016\">and</span><span style=\"opacity: 0.80\"> </span><span style=\"background-color: hsl(120, 100.00%, 95.43%); opacity: 0.81\" title=\"0.046\">breastfed</span><span style=\"opacity: 0.80\"> </span><span style=\"background-color: hsl(120, 100.00%, 96.83%); opacity: 0.81\" title=\"0.027\">quietly</span><span style=\"opacity: 0.80\"> </span><span style=\"background-color: hsl(0, 100.00%, 86.28%); opacity: 0.84\" title=\"-0.220\">for</span><span style=\"opacity: 0.80\"> </span><span style=\"background-color: hsl(0, 100.00%, 97.20%); opacity: 0.80\" title=\"-0.023\">most</span><span style=\"opacity: 0.80\"> </span><span style=\"background-color: hsl(120, 100.00%, 97.00%); opacity: 0.80\" title=\"0.025\">of</span><span style=\"opacity: 0.80\"> </span><span style=\"background-color: hsl(0, 100.00%, 93.29%); opacity: 0.82\" title=\"-0.079\">the</span><span style=\"opacity: 0.80\"> </span><span style=\"background-color: hsl(0, 100.00%, 90.77%); opacity: 0.82\" title=\"-0.125\">session</span><span style=\"opacity: 0.80\"> </span><span style=\"background-color: hsl(0, 100.00%, 92.69%); opacity: 0.82\" title=\"-0.090\">as</span><span style=\"opacity: 0.80\"> </span><span style=\"background-color: hsl(120, 100.00%, 92.50%); opacity: 0.82\" title=\"0.093\">our</span><span style=\"opacity: 0.80\"> </span><span style=\"background-color: hsl(120, 100.00%, 94.73%); opacity: 0.81\" title=\"0.056\">instructor</span><span style=\"opacity: 0.80\"> </span><span style=\"background-color: hsl(120, 100.00%, 94.38%); opacity: 0.81\" title=\"0.062\">methodically</span><span style=\"opacity: 0.80\"> </span><span style=\"background-color: hsl(0, 100.00%, 94.74%); opacity: 0.81\" title=\"-0.056\">struck</span><span style=\"opacity: 0.80\"> </span><span style=\"background-color: hsl(0, 100.00%, 97.90%); opacity: 0.80\" title=\"-0.015\">gongs</span><span style=\"opacity: 0.80\"> </span><span style=\"background-color: hsl(0, 100.00%, 88.04%); opacity: 0.84\" title=\"-0.181\">and</span><span style=\"opacity: 0.80\"> </span><span style=\"background-color: hsl(120, 100.00%, 99.10%); opacity: 0.80\" title=\"0.005\">all</span><span style=\"opacity: 0.80\"> </span><span style=\"background-color: hsl(120, 100.00%, 93.01%); opacity: 0.82\" title=\"0.084\">manner</span><span style=\"opacity: 0.80\"> </span><span style=\"background-color: hsl(0, 100.00%, 97.72%); opacity: 0.80\" title=\"-0.017\">of</span><span style=\"opacity: 0.80\"> </span><span style=\"background-color: hsl(0, 100.00%, 91.55%); opacity: 0.82\" title=\"-0.110\">reverberating</span><span style=\"opacity: 0.80\"> </span><span style=\"background-color: hsl(120, 100.00%, 98.98%); opacity: 0.80\" title=\"0.005\">instruments</span><span style=\"opacity: 0.80\">, </span><span style=\"background-color: hsl(120, 100.00%, 89.77%); opacity: 0.83\" title=\"0.145\">our</span><span style=\"opacity: 0.80\"> </span><span style=\"background-color: hsl(120, 100.00%, 93.78%); opacity: 0.81\" title=\"0.071\">bodies</span><span style=\"opacity: 0.80\"> </span><span style=\"background-color: hsl(120, 100.00%, 94.16%); opacity: 0.81\" title=\"0.065\">splayed</span><span style=\"opacity: 0.80\"> </span><span style=\"background-color: hsl(120, 100.00%, 93.17%); opacity: 0.82\" title=\"0.081\">out</span><span style=\"opacity: 0.80\"> </span><span style=\"background-color: hsl(0, 100.00%, 96.13%); opacity: 0.81\" title=\"-0.036\">on</span><span style=\"opacity: 0.80\"> </span><span style=\"background-color: hsl(0, 100.00%, 90.92%); opacity: 0.82\" title=\"-0.122\">the</span><span style=\"opacity: 0.80\"> </span><span style=\"background-color: hsl(0, 100.00%, 93.08%); opacity: 0.82\" title=\"-0.083\">floor</span><span style=\"opacity: 0.80\">.</span>\n",
       "    </p>\n",
       "\n",
       "\n",
       "    \n",
       "\n",
       "    \n",
       "\n",
       "    \n",
       "\n",
       "    \n",
       "\n",
       "\n",
       "    \n",
       "\n",
       "    \n",
       "\n",
       "    \n",
       "\n",
       "    \n",
       "\n",
       "    \n",
       "\n",
       "    \n",
       "\n",
       "\n",
       "    \n",
       "\n",
       "    \n",
       "\n",
       "    \n",
       "\n",
       "    \n",
       "\n",
       "    \n",
       "\n",
       "    \n",
       "\n",
       "\n",
       "\n"
      ],
      "text/plain": [
       "<IPython.core.display.HTML object>"
      ]
     },
     "execution_count": 26,
     "metadata": {},
     "output_type": "execute_result"
    }
   ],
   "source": [
    "nbsvm_predictor.explain('I skeptically signed up for a family meditation session, which turned out to be one of the more incredible things we did on the trip: My colic-stricken four-month-old became uncharacteristically compliant and breastfed quietly for most of the session as our instructor methodically struck gongs and all manner of reverberating instruments, our bodies splayed out on the floor.')"
   ]
  },
  {
   "cell_type": "markdown",
   "id": "51f74ab4",
   "metadata": {
    "id": "ZXE20HrYnZ44",
    "papermill": {
     "duration": 0.264814,
     "end_time": "2024-06-20T19:49:48.647496",
     "exception": false,
     "start_time": "2024-06-20T19:49:48.382682",
     "status": "completed"
    },
    "tags": []
   },
   "source": [
    "### BERT Model"
   ]
  },
  {
   "cell_type": "code",
   "execution_count": 27,
   "id": "699f10ce",
   "metadata": {
    "execution": {
     "iopub.execute_input": "2024-06-20T19:49:49.179367Z",
     "iopub.status.busy": "2024-06-20T19:49:49.178194Z",
     "iopub.status.idle": "2024-06-21T03:51:49.624410Z",
     "shell.execute_reply": "2024-06-21T03:51:49.623406Z"
    },
    "id": "a7e5466e",
    "outputId": "3ad4f34d-61c5-43de-bf79-8bd79f970684",
    "papermill": {
     "duration": 28920.715272,
     "end_time": "2024-06-21T03:51:49.626676",
     "exception": false,
     "start_time": "2024-06-20T19:49:48.911404",
     "status": "completed"
    },
    "tags": []
   },
   "outputs": [
    {
     "name": "stdout",
     "output_type": "stream",
     "text": [
      "['not_health_wellness', 'health_wellness']\n",
      "        not_health_wellness  health_wellness\n",
      "146724                  0.0              1.0\n",
      "184372                  0.0              1.0\n",
      "26337                   1.0              0.0\n",
      "33391                   1.0              0.0\n",
      "164941                  0.0              1.0\n",
      "['not_health_wellness', 'health_wellness']\n",
      "        not_health_wellness  health_wellness\n",
      "53999                   1.0              0.0\n",
      "98466                   1.0              0.0\n",
      "56003                   1.0              0.0\n",
      "87419                   0.0              1.0\n",
      "150418                  0.0              1.0\n",
      "downloading pretrained BERT model (uncased_L-12_H-768_A-12.zip)...\n",
      "[██████████████████████████████████████████████████]\n",
      "extracting pretrained BERT model...\n",
      "done.\n",
      "\n",
      "cleanup downloaded zip...\n",
      "done.\n",
      "\n",
      "preprocessing train...\n",
      "language: en\n"
     ]
    },
    {
     "data": {
      "text/html": [
       "\n",
       "<style>\n",
       "    /* Turns off some styling */\n",
       "    progress {\n",
       "        /* gets rid of default border in Firefox and Opera. */\n",
       "        border: none;\n",
       "        /* Needs to be in here for Safari polyfill so background images work as expected. */\n",
       "        background-size: auto;\n",
       "    }\n",
       "    progress:not([value]), progress:not([value])::-webkit-progress-bar {\n",
       "        background: repeating-linear-gradient(45deg, #7e7e7e, #7e7e7e 10px, #5c5c5c 10px, #5c5c5c 20px);\n",
       "    }\n",
       "    .progress-bar-interrupted, .progress-bar-interrupted::-webkit-progress-bar {\n",
       "        background: #F44336;\n",
       "    }\n",
       "</style>\n"
      ],
      "text/plain": [
       "<IPython.core.display.HTML object>"
      ]
     },
     "metadata": {},
     "output_type": "display_data"
    },
    {
     "data": {
      "text/html": [
       "done."
      ],
      "text/plain": [
       "<IPython.core.display.HTML object>"
      ]
     },
     "metadata": {},
     "output_type": "display_data"
    },
    {
     "name": "stdout",
     "output_type": "stream",
     "text": [
      "Is Multi-Label? False\n",
      "preprocessing test...\n",
      "language: en\n"
     ]
    },
    {
     "data": {
      "text/html": [
       "\n",
       "<style>\n",
       "    /* Turns off some styling */\n",
       "    progress {\n",
       "        /* gets rid of default border in Firefox and Opera. */\n",
       "        border: none;\n",
       "        /* Needs to be in here for Safari polyfill so background images work as expected. */\n",
       "        background-size: auto;\n",
       "    }\n",
       "    progress:not([value]), progress:not([value])::-webkit-progress-bar {\n",
       "        background: repeating-linear-gradient(45deg, #7e7e7e, #7e7e7e 10px, #5c5c5c 10px, #5c5c5c 20px);\n",
       "    }\n",
       "    .progress-bar-interrupted, .progress-bar-interrupted::-webkit-progress-bar {\n",
       "        background: #F44336;\n",
       "    }\n",
       "</style>\n"
      ],
      "text/plain": [
       "<IPython.core.display.HTML object>"
      ]
     },
     "metadata": {},
     "output_type": "display_data"
    },
    {
     "data": {
      "text/html": [
       "done."
      ],
      "text/plain": [
       "<IPython.core.display.HTML object>"
      ]
     },
     "metadata": {},
     "output_type": "display_data"
    },
    {
     "name": "stdout",
     "output_type": "stream",
     "text": [
      "Is Multi-Label? False\n",
      "maxlen is 512\n"
     ]
    },
    {
     "name": "stderr",
     "output_type": "stream",
     "text": [
      "/opt/conda/lib/python3.10/site-packages/tf_keras/src/initializers/initializers.py:121: UserWarning: The initializer GlorotNormal is unseeded and being called multiple times, which will return identical values each time (even if the initializer is unseeded). Please update your code to provide a seed to the initializer, or avoid using the same initializer instance more than once.\n",
      "  warnings.warn(\n"
     ]
    },
    {
     "name": "stdout",
     "output_type": "stream",
     "text": [
      "done.\n",
      "simulating training for different learning rates... this may take a few moments...\n"
     ]
    },
    {
     "name": "stderr",
     "output_type": "stream",
     "text": [
      "/opt/conda/lib/python3.10/site-packages/tf_keras/src/engine/training.py:3098: UserWarning: You are saving your model as an HDF5 file via `model.save()`. This file format is considered legacy. We recommend using instead the native TF-Keras format, e.g. `model.save('my_model.keras')`.\n",
      "  saving_api.save_model(\n"
     ]
    },
    {
     "name": "stdout",
     "output_type": "stream",
     "text": [
      "Epoch 1/6\n",
      "5400/5400 [==============================] - 5653s 1s/step - loss: 0.3914 - accuracy: 0.8223\n",
      "Epoch 2/6\n",
      "5400/5400 [==============================] - 5615s 1s/step - loss: 0.2274 - accuracy: 0.9114\n",
      "Epoch 3/6\n",
      "5400/5400 [==============================] - 5607s 1s/step - loss: 0.5372 - accuracy: 0.6591\n",
      "Epoch 4/6\n",
      "5400/5400 [==============================] - 34s 6ms/step - loss: 0.7787 - accuracy: 0.5568\n",
      "\n",
      "\n",
      "done.\n",
      "Please invoke the Learner.lr_plot() method to visually inspect the loss plot to help identify the maximal learning rate associated with falling loss.\n"
     ]
    },
    {
     "data": {
      "image/png": "[encoded data removed]",
      "text/plain": [
       "<Figure size 640x480 with 1 Axes>"
      ]
     },
     "metadata": {},
     "output_type": "display_data"
    },
    {
     "name": "stdout",
     "output_type": "stream",
     "text": [
      "\n",
      "\n",
      "begin training using triangular learning rate policy with max lr of 0.0001...\n",
      "Epoch 1/10\n",
      "5400/5400 [==============================] - 5865s 1s/step - loss: 0.2632 - accuracy: 0.8965 - val_loss: 0.1975 - val_accuracy: 0.9223\n",
      "Epoch 2/10\n",
      "5400/5400 [==============================] - ETA: 0s - loss: 0.3949 - accuracy: 0.7550Restoring model weights from the end of the best epoch: 1.\n",
      "5400/5400 [==============================] - 5835s 1s/step - loss: 0.3949 - accuracy: 0.7550 - val_loss: 0.6929 - val_accuracy: 0.5110\n",
      "Epoch 2: early stopping\n",
      "Weights from best epoch have been loaded into model.\n",
      "150/150 [==============================] - 215s 1s/step\n",
      "              precision    recall  f1-score   support\n",
      "\n",
      "           0       0.94      0.91      0.92      2453\n",
      "           1       0.91      0.94      0.92      2347\n",
      "\n",
      "    accuracy                           0.92      4800\n",
      "   macro avg       0.92      0.92      0.92      4800\n",
      "weighted avg       0.92      0.92      0.92      4800\n",
      "\n"
     ]
    }
   ],
   "source": [
    "train, val, preprocess = ktrain.text.texts_from_df(\n",
    "review_sample,\n",
    "\"combined_text\",\n",
    "label_columns=[\"health_wellness\"],\n",
    "val_df=None,\n",
    "max_features=20000,\n",
    "maxlen=512,\n",
    "val_pct=0.1,\n",
    "ngram_range=1,\n",
    "preprocess_mode=\"bert\",\n",
    "random_state=42,\n",
    "verbose=1\n",
    ")\n",
    "\n",
    "model = ktrain.text.text_classifier(\"bert\", train, preproc=preprocess)\n",
    "\n",
    "learner = ktrain.get_learner(model, train_data=train, val_data=val, batch_size=8)\n",
    "\n",
    "learner.lr_find(max_epochs=6)\n",
    "\n",
    "learner.lr_plot()\n",
    "\n",
    "history=learner.autofit(\n",
    "1e-4,\n",
    "checkpoint_folder='checkpoint',\n",
    "epochs=10,\n",
    "early_stopping=True\n",
    ")\n",
    "\n",
    "bert_predictor = ktrain.get_predictor(learner.model, preproc=preprocess)\n",
    "\n",
    "bert_validation = learner.validate(val_data=val, print_report=True)"
   ]
  },
  {
   "cell_type": "code",
   "execution_count": 28,
   "id": "5a9c88ed",
   "metadata": {
    "execution": {
     "iopub.execute_input": "2024-06-21T03:51:54.682412Z",
     "iopub.status.busy": "2024-06-21T03:51:54.682052Z",
     "iopub.status.idle": "2024-06-21T03:51:54.688157Z",
     "shell.execute_reply": "2024-06-21T03:51:54.687299Z"
    },
    "executionInfo": {
     "elapsed": 6,
     "status": "aborted",
     "timestamp": 1718906758890,
     "user": {
      "displayName": "Anna Tang",
      "userId": "06009827953892747229"
     },
     "user_tz": 240
    },
    "id": "sDgjaV-1HMgg",
    "papermill": {
     "duration": 2.465071,
     "end_time": "2024-06-21T03:51:54.690171",
     "exception": false,
     "start_time": "2024-06-21T03:51:52.225100",
     "status": "completed"
    },
    "tags": []
   },
   "outputs": [],
   "source": [
    "test_docs = [\n",
    "'Why We All Need to Have More Fun. Prioritizing fun may feel impossible right now. But this four-step plan will help you rediscover how to feel more alive.',\n",
    "'Cuomo Will Not Be Prosecuted in Groping Case, Albany D.A. Says. The district attorney described the woman who said former Gov. Andrew Cuomo had groped her as “credible,” but added that proving her allegation would be difficult.',\n",
    "'A Film Captures Jewish Life in a Polish Town Before the Nazis Arrived. A documentary based on a home movie shot by an American in 1938 provides a look at the vibrancy of a Jewish community in Europe just before the Holocaust.',\n",
    "'Uptown is also, of course, home to some of the city\\'s most iconic museums like the Met; and the relatively quieter city neighborhoods of the UES and UWS have an appreciated family-friend vibe.',\n",
    "'Borough Market, the Tate Modern, and Southbank Centre are the main attractions but dig a little deeper to discover incredible food producers at Maltby Street Market and Spa Terminus in Bermondsey, off-the-beaten path foodie destinations in Peckham and Tooting, an idyllic country getaway at Petersham Nurseries, and a true cultural melting pot at the bars and shops of Brixton.',\n",
    "'Dry brushing has become something of a mainstay in many beauty guru’s routines. Not only does it have a host of potential benefits, but it’s a moment of self-care, too—something everyone needs to set a little time aside for.',\n",
    "'The nice thing about braids and other protective styles is that they help to make wash day a little more manageable.',\n",
    "'Girl dinner is appealing on so many different levels. There’s no cooking involved, it’s relaxed and stress-free, it doesn’t take long to prepare, and it’s an excuse to indulge in foods that bring you joy.'\n",
    "             ]"
   ]
  },
  {
   "cell_type": "code",
   "execution_count": 29,
   "id": "c694459c",
   "metadata": {
    "execution": {
     "iopub.execute_input": "2024-06-21T03:51:59.826576Z",
     "iopub.status.busy": "2024-06-21T03:51:59.825877Z",
     "iopub.status.idle": "2024-06-21T03:52:09.005773Z",
     "shell.execute_reply": "2024-06-21T03:52:09.004691Z"
    },
    "executionInfo": {
     "elapsed": 6,
     "status": "aborted",
     "timestamp": 1718906758890,
     "user": {
      "displayName": "Anna Tang",
      "userId": "06009827953892747229"
     },
     "user_tz": 240
    },
    "id": "rs7rGxdGHNbf",
    "papermill": {
     "duration": 11.646076,
     "end_time": "2024-06-21T03:52:09.007746",
     "exception": false,
     "start_time": "2024-06-21T03:51:57.361670",
     "status": "completed"
    },
    "tags": []
   },
   "outputs": [
    {
     "name": "stdout",
     "output_type": "stream",
     "text": [
      "---------------------------\n",
      "The probability this is travel related is 0.90922576\n",
      "Why We All Need to Have More Fun. Prioritizing fun may feel impossible right now. But this four-step plan will help you rediscover how to feel more alive.\n",
      "---------------------------\n",
      "The probability this is travel related is 0.0126813995\n",
      "Cuomo Will Not Be Prosecuted in Groping Case, Albany D.A. Says. The district attorney described the woman who said former Gov. Andrew Cuomo had groped her as “credible,” but added that proving her allegation would be difficult.\n",
      "---------------------------\n",
      "The probability this is travel related is 0.0019932874\n",
      "A Film Captures Jewish Life in a Polish Town Before the Nazis Arrived. A documentary based on a home movie shot by an American in 1938 provides a look at the vibrancy of a Jewish community in Europe just before the Holocaust.\n",
      "---------------------------\n",
      "The probability this is travel related is 0.0034416115\n",
      "Uptown is also, of course, home to some of the city's most iconic museums like the Met; and the relatively quieter city neighborhoods of the UES and UWS have an appreciated family-friend vibe.\n",
      "---------------------------\n",
      "The probability this is travel related is 0.0032239244\n",
      "Borough Market, the Tate Modern, and Southbank Centre are the main attractions but dig a little deeper to discover incredible food producers at Maltby Street Market and Spa Terminus in Bermondsey, off-the-beaten path foodie destinations in Peckham and Tooting, an idyllic country getaway at Petersham Nurseries, and a true cultural melting pot at the bars and shops of Brixton.\n",
      "---------------------------\n",
      "The probability this is travel related is 0.44850224\n",
      "Dry brushing has become something of a mainstay in many beauty guru’s routines. Not only does it have a host of potential benefits, but it’s a moment of self-care, too—something everyone needs to set a little time aside for.\n",
      "---------------------------\n",
      "The probability this is travel related is 0.17680576\n",
      "The nice thing about braids and other protective styles is that they help to make wash day a little more manageable.\n",
      "---------------------------\n",
      "The probability this is travel related is 0.48525524\n",
      "Girl dinner is appealing on so many different levels. There’s no cooking involved, it’s relaxed and stress-free, it doesn’t take long to prepare, and it’s an excuse to indulge in foods that bring you joy.\n"
     ]
    }
   ],
   "source": [
    "for i, text in enumerate(test_docs):\n",
    "  probs = bert_predictor.predict(text, return_proba=True)\n",
    "  print(\"---------------------------\")\n",
    "  print('The probability this is travel related is %s' % probs[1])\n",
    "  print(text)"
   ]
  },
  {
   "cell_type": "code",
   "execution_count": 30,
   "id": "30295823",
   "metadata": {
    "execution": {
     "iopub.execute_input": "2024-06-21T03:52:14.120538Z",
     "iopub.status.busy": "2024-06-21T03:52:14.119602Z",
     "iopub.status.idle": "2024-06-21T03:54:05.656731Z",
     "shell.execute_reply": "2024-06-21T03:54:05.655814Z"
    },
    "executionInfo": {
     "elapsed": 231075,
     "status": "aborted",
     "timestamp": 1718906758891,
     "user": {
      "displayName": "Anna Tang",
      "userId": "06009827953892747229"
     },
     "user_tz": 240
    },
    "id": "nAZqIezYHOZC",
    "papermill": {
     "duration": 116.668987,
     "end_time": "2024-06-21T03:54:08.285296",
     "exception": false,
     "start_time": "2024-06-21T03:52:11.616309",
     "status": "completed"
    },
    "tags": []
   },
   "outputs": [
    {
     "data": {
      "text/html": [
       "\n",
       "    <style>\n",
       "    table.eli5-weights tr:hover {\n",
       "        filter: brightness(85%);\n",
       "    }\n",
       "</style>\n",
       "\n",
       "\n",
       "\n",
       "    \n",
       "\n",
       "    \n",
       "\n",
       "    \n",
       "\n",
       "    \n",
       "\n",
       "    \n",
       "\n",
       "    \n",
       "\n",
       "\n",
       "    \n",
       "\n",
       "    \n",
       "\n",
       "    \n",
       "\n",
       "    \n",
       "        \n",
       "\n",
       "    \n",
       "\n",
       "        \n",
       "\n",
       "        \n",
       "    \n",
       "        \n",
       "        \n",
       "    \n",
       "        <p style=\"margin-bottom: 0.5em; margin-top: 0em\">\n",
       "            <b>\n",
       "    \n",
       "        y=not_health_wellness\n",
       "    \n",
       "</b>\n",
       "\n",
       "    \n",
       "    (probability <b>0.871</b>, score <b>-1.906</b>)\n",
       "\n",
       "top features\n",
       "        </p>\n",
       "    \n",
       "    <table class=\"eli5-weights\"\n",
       "           style=\"border-collapse: collapse; border: none; margin-top: 0em; table-layout: auto; margin-bottom: 2em;\">\n",
       "        <thead>\n",
       "        <tr style=\"border: none;\">\n",
       "            \n",
       "                <th style=\"padding: 0 1em 0 0.5em; text-align: right; border: none;\" title=\"Feature contribution already accounts for the feature value (for linear models, contribution = weight * feature value), and the sum of feature contributions is equal to the score or, for some classifiers, to the probability. Feature values are shown if &quot;show_feature_values&quot; is True.\">\n",
       "                    Contribution<sup>?</sup>\n",
       "                </th>\n",
       "            \n",
       "            <th style=\"padding: 0 0.5em 0 0.5em; text-align: left; border: none;\">Feature</th>\n",
       "            \n",
       "        </tr>\n",
       "        </thead>\n",
       "        <tbody>\n",
       "        \n",
       "            <tr style=\"background-color: hsl(120, 100.00%, 80.00%); border: none;\">\n",
       "    <td style=\"padding: 0 1em 0 0.5em; text-align: right; border: none;\">\n",
       "        +1.629\n",
       "    </td>\n",
       "    <td style=\"padding: 0 0.5em 0 0.5em; text-align: left; border: none;\">\n",
       "        Highlighted in text (sum)\n",
       "    </td>\n",
       "    \n",
       "</tr>\n",
       "        \n",
       "            <tr style=\"background-color: hsl(120, 100.00%, 94.22%); border: none;\">\n",
       "    <td style=\"padding: 0 1em 0 0.5em; text-align: right; border: none;\">\n",
       "        +0.277\n",
       "    </td>\n",
       "    <td style=\"padding: 0 0.5em 0 0.5em; text-align: left; border: none;\">\n",
       "        &lt;BIAS&gt;\n",
       "    </td>\n",
       "    \n",
       "</tr>\n",
       "        \n",
       "        \n",
       "\n",
       "        \n",
       "        \n",
       "\n",
       "        </tbody>\n",
       "    </table>\n",
       "\n",
       "    \n",
       "\n",
       "\n",
       "\n",
       "    <p style=\"margin-bottom: 2.5em; margin-top:-0.5em;\">\n",
       "        <span style=\"background-color: hsl(0, 100.00%, 91.01%); opacity: 0.82\" title=\"-0.189\">if</span><span style=\"opacity: 0.80\"> </span><span style=\"background-color: hsl(0, 100.00%, 98.67%); opacity: 0.80\" title=\"-0.012\">you</span><span style=\"opacity: 0.80\">’</span><span style=\"background-color: hsl(120, 100.00%, 85.61%); opacity: 0.85\" title=\"0.370\">re</span><span style=\"opacity: 0.80\"> </span><span style=\"background-color: hsl(120, 100.00%, 95.26%); opacity: 0.81\" title=\"0.076\">still</span><span style=\"opacity: 0.80\"> </span><span style=\"background-color: hsl(120, 100.00%, 77.46%); opacity: 0.89\" title=\"0.703\">printing</span><span style=\"opacity: 0.80\"> </span><span style=\"background-color: hsl(0, 100.00%, 96.39%); opacity: 0.81\" title=\"-0.051\">out</span><span style=\"opacity: 0.80\"> </span><span style=\"background-color: hsl(120, 100.00%, 78.70%); opacity: 0.88\" title=\"0.648\">your</span><span style=\"opacity: 0.80\"> </span><span style=\"background-color: hsl(120, 100.00%, 60.00%); opacity: 1.00\" title=\"1.595\">boarding</span><span style=\"opacity: 0.80\"> </span><span style=\"background-color: hsl(120, 100.00%, 92.92%); opacity: 0.82\" title=\"0.134\">pass</span><span style=\"opacity: 0.80\"> </span><span style=\"background-color: hsl(0, 100.00%, 92.92%); opacity: 0.82\" title=\"-0.134\">in</span><span style=\"opacity: 0.80\"> </span><span style=\"background-color: hsl(120, 100.00%, 81.37%); opacity: 0.87\" title=\"0.535\">2024</span><span style=\"opacity: 0.80\">, </span><span style=\"background-color: hsl(120, 100.00%, 90.20%); opacity: 0.83\" title=\"0.214\">trust</span><span style=\"opacity: 0.80\"> </span><span style=\"background-color: hsl(0, 100.00%, 88.53%); opacity: 0.83\" title=\"-0.268\">me</span><span style=\"opacity: 0.80\">: there’s </span><span style=\"background-color: hsl(120, 100.00%, 97.38%); opacity: 0.80\" title=\"0.032\">a</span><span style=\"opacity: 0.80\"> </span><span style=\"background-color: hsl(120, 100.00%, 95.63%); opacity: 0.81\" title=\"0.068\">better</span><span style=\"opacity: 0.80\"> </span><span style=\"background-color: hsl(0, 100.00%, 98.36%); opacity: 0.80\" title=\"-0.017\">way</span><span style=\"opacity: 0.80\"> </span><span style=\"background-color: hsl(0, 100.00%, 91.59%); opacity: 0.82\" title=\"-0.172\">that</span><span style=\"opacity: 0.80\"> </span><span style=\"background-color: hsl(0, 100.00%, 98.46%); opacity: 0.80\" title=\"-0.015\">doesn</span><span style=\"opacity: 0.80\">’</span><span style=\"background-color: hsl(0, 100.00%, 94.29%); opacity: 0.81\" title=\"-0.099\">t</span><span style=\"opacity: 0.80\"> </span><span style=\"background-color: hsl(0, 100.00%, 96.54%); opacity: 0.81\" title=\"-0.048\">waste</span><span style=\"opacity: 0.80\"> </span><span style=\"background-color: hsl(120, 100.00%, 96.24%); opacity: 0.81\" title=\"0.054\">time</span><span style=\"opacity: 0.80\"> </span><span style=\"background-color: hsl(0, 100.00%, 91.55%); opacity: 0.82\" title=\"-0.173\">and</span><span style=\"opacity: 0.80\"> </span><span style=\"background-color: hsl(120, 100.00%, 97.09%); opacity: 0.80\" title=\"0.038\">paper</span><span style=\"opacity: 0.80\">.</span>\n",
       "    </p>\n",
       "\n",
       "\n",
       "    \n",
       "\n",
       "    \n",
       "\n",
       "    \n",
       "\n",
       "    \n",
       "\n",
       "\n",
       "    \n",
       "\n",
       "    \n",
       "\n",
       "    \n",
       "\n",
       "    \n",
       "\n",
       "    \n",
       "\n",
       "    \n",
       "\n",
       "\n",
       "    \n",
       "\n",
       "    \n",
       "\n",
       "    \n",
       "\n",
       "    \n",
       "\n",
       "    \n",
       "\n",
       "    \n",
       "\n",
       "\n",
       "\n"
      ],
      "text/plain": [
       "<IPython.core.display.HTML object>"
      ]
     },
     "execution_count": 30,
     "metadata": {},
     "output_type": "execute_result"
    }
   ],
   "source": [
    "bert_predictor.explain('If you’re still printing out your boarding pass in 2024, trust me: There’s a better way that doesn’t waste time and paper.')"
   ]
  },
  {
   "cell_type": "code",
   "execution_count": 31,
   "id": "2c4b5280",
   "metadata": {
    "execution": {
     "iopub.execute_input": "2024-06-21T03:54:13.430980Z",
     "iopub.status.busy": "2024-06-21T03:54:13.430632Z",
     "iopub.status.idle": "2024-06-21T03:56:04.001928Z",
     "shell.execute_reply": "2024-06-21T03:56:04.001002Z"
    },
    "executionInfo": {
     "elapsed": 231072,
     "status": "aborted",
     "timestamp": 1718906758891,
     "user": {
      "displayName": "Anna Tang",
      "userId": "06009827953892747229"
     },
     "user_tz": 240
    },
    "id": "Ii4IbSqun745",
    "papermill": {
     "duration": 115.714217,
     "end_time": "2024-06-21T03:56:06.629808",
     "exception": false,
     "start_time": "2024-06-21T03:54:10.915591",
     "status": "completed"
    },
    "tags": []
   },
   "outputs": [
    {
     "data": {
      "text/html": [
       "\n",
       "    <style>\n",
       "    table.eli5-weights tr:hover {\n",
       "        filter: brightness(85%);\n",
       "    }\n",
       "</style>\n",
       "\n",
       "\n",
       "\n",
       "    \n",
       "\n",
       "    \n",
       "\n",
       "    \n",
       "\n",
       "    \n",
       "\n",
       "    \n",
       "\n",
       "    \n",
       "\n",
       "\n",
       "    \n",
       "\n",
       "    \n",
       "\n",
       "    \n",
       "\n",
       "    \n",
       "        \n",
       "\n",
       "    \n",
       "\n",
       "        \n",
       "\n",
       "        \n",
       "    \n",
       "        \n",
       "        \n",
       "    \n",
       "        <p style=\"margin-bottom: 0.5em; margin-top: 0em\">\n",
       "            <b>\n",
       "    \n",
       "        y=not_health_wellness\n",
       "    \n",
       "</b>\n",
       "\n",
       "    \n",
       "    (probability <b>0.999</b>, score <b>-7.203</b>)\n",
       "\n",
       "top features\n",
       "        </p>\n",
       "    \n",
       "    <table class=\"eli5-weights\"\n",
       "           style=\"border-collapse: collapse; border: none; margin-top: 0em; table-layout: auto; margin-bottom: 2em;\">\n",
       "        <thead>\n",
       "        <tr style=\"border: none;\">\n",
       "            \n",
       "                <th style=\"padding: 0 1em 0 0.5em; text-align: right; border: none;\" title=\"Feature contribution already accounts for the feature value (for linear models, contribution = weight * feature value), and the sum of feature contributions is equal to the score or, for some classifiers, to the probability. Feature values are shown if &quot;show_feature_values&quot; is True.\">\n",
       "                    Contribution<sup>?</sup>\n",
       "                </th>\n",
       "            \n",
       "            <th style=\"padding: 0 0.5em 0 0.5em; text-align: left; border: none;\">Feature</th>\n",
       "            \n",
       "        </tr>\n",
       "        </thead>\n",
       "        <tbody>\n",
       "        \n",
       "            <tr style=\"background-color: hsl(120, 100.00%, 80.00%); border: none;\">\n",
       "    <td style=\"padding: 0 1em 0 0.5em; text-align: right; border: none;\">\n",
       "        +7.039\n",
       "    </td>\n",
       "    <td style=\"padding: 0 0.5em 0 0.5em; text-align: left; border: none;\">\n",
       "        Highlighted in text (sum)\n",
       "    </td>\n",
       "    \n",
       "</tr>\n",
       "        \n",
       "            <tr style=\"background-color: hsl(120, 100.00%, 98.56%); border: none;\">\n",
       "    <td style=\"padding: 0 1em 0 0.5em; text-align: right; border: none;\">\n",
       "        +0.164\n",
       "    </td>\n",
       "    <td style=\"padding: 0 0.5em 0 0.5em; text-align: left; border: none;\">\n",
       "        &lt;BIAS&gt;\n",
       "    </td>\n",
       "    \n",
       "</tr>\n",
       "        \n",
       "        \n",
       "\n",
       "        \n",
       "        \n",
       "\n",
       "        </tbody>\n",
       "    </table>\n",
       "\n",
       "    \n",
       "\n",
       "\n",
       "\n",
       "    <p style=\"margin-bottom: 2.5em; margin-top:-0.5em;\">\n",
       "        <span style=\"background-color: hsl(120, 100.00%, 93.15%); opacity: 0.82\" title=\"0.118\">next</span><span style=\"opacity: 0.80\">, </span><span style=\"background-color: hsl(0, 100.00%, 96.40%); opacity: 0.81\" title=\"-0.047\">amble</span><span style=\"opacity: 0.80\"> </span><span style=\"background-color: hsl(120, 100.00%, 91.08%); opacity: 0.82\" title=\"0.172\">down</span><span style=\"opacity: 0.80\"> </span><span style=\"background-color: hsl(120, 100.00%, 76.91%); opacity: 0.89\" title=\"0.670\">main</span><span style=\"opacity: 0.80\"> </span><span style=\"background-color: hsl(120, 100.00%, 71.73%); opacity: 0.92\" title=\"0.895\">street</span><span style=\"opacity: 0.80\">, </span><span style=\"background-color: hsl(0, 100.00%, 94.83%); opacity: 0.81\" title=\"-0.079\">which</span><span style=\"opacity: 0.80\"> </span><span style=\"background-color: hsl(120, 100.00%, 93.50%); opacity: 0.81\" title=\"0.110\">is</span><span style=\"opacity: 0.80\"> </span><span style=\"background-color: hsl(120, 100.00%, 90.71%); opacity: 0.82\" title=\"0.183\">lined</span><span style=\"opacity: 0.80\"> </span><span style=\"background-color: hsl(120, 100.00%, 94.20%); opacity: 0.81\" title=\"0.093\">with</span><span style=\"opacity: 0.80\"> </span><span style=\"background-color: hsl(120, 100.00%, 76.43%); opacity: 0.89\" title=\"0.690\">shops</span><span style=\"opacity: 0.80\"> </span><span style=\"background-color: hsl(0, 100.00%, 87.81%); opacity: 0.84\" title=\"-0.269\">ranging</span><span style=\"opacity: 0.80\"> </span><span style=\"background-color: hsl(0, 100.00%, 88.78%); opacity: 0.83\" title=\"-0.239\">from</span><span style=\"opacity: 0.80\"> </span><span style=\"background-color: hsl(120, 100.00%, 95.04%); opacity: 0.81\" title=\"0.074\">local</span><span style=\"opacity: 0.80\"> </span><span style=\"background-color: hsl(120, 100.00%, 67.12%); opacity: 0.95\" title=\"1.111\">boutiques</span><span style=\"opacity: 0.80\"> </span><span style=\"background-color: hsl(0, 100.00%, 92.71%); opacity: 0.82\" title=\"-0.129\">to</span><span style=\"opacity: 0.80\"> </span><span style=\"background-color: hsl(120, 100.00%, 60.00%); opacity: 1.00\" title=\"1.470\">designer</span><span style=\"opacity: 0.80\"> </span><span style=\"background-color: hsl(120, 100.00%, 71.24%); opacity: 0.92\" title=\"0.917\">stores</span><span style=\"opacity: 0.80\">.</span>\n",
       "    </p>\n",
       "\n",
       "\n",
       "    \n",
       "\n",
       "    \n",
       "\n",
       "    \n",
       "\n",
       "    \n",
       "\n",
       "\n",
       "    \n",
       "\n",
       "    \n",
       "\n",
       "    \n",
       "\n",
       "    \n",
       "\n",
       "    \n",
       "\n",
       "    \n",
       "\n",
       "\n",
       "    \n",
       "\n",
       "    \n",
       "\n",
       "    \n",
       "\n",
       "    \n",
       "\n",
       "    \n",
       "\n",
       "    \n",
       "\n",
       "\n",
       "\n"
      ],
      "text/plain": [
       "<IPython.core.display.HTML object>"
      ]
     },
     "execution_count": 31,
     "metadata": {},
     "output_type": "execute_result"
    }
   ],
   "source": [
    "bert_predictor.explain('Next, amble down Main Street, which is lined with shops ranging from local boutiques to designer stores.')"
   ]
  },
  {
   "cell_type": "code",
   "execution_count": null,
   "id": "354f8a3f",
   "metadata": {
    "executionInfo": {
     "elapsed": 3,
     "status": "aborted",
     "timestamp": 1718906759116,
     "user": {
      "displayName": "Anna Tang",
      "userId": "06009827953892747229"
     },
     "user_tz": 240
    },
    "id": "ddtv5eFJIWlM",
    "papermill": {
     "duration": 2.648864,
     "end_time": "2024-06-21T03:56:11.757908",
     "exception": false,
     "start_time": "2024-06-21T03:56:09.109044",
     "status": "completed"
    },
    "tags": []
   },
   "outputs": [],
   "source": []
  }
 ],
 "metadata": {
  "accelerator": "GPU",
  "colab": {
   "gpuType": "L4",
   "provenance": [],
   "toc_visible": true
  },
  "kaggle": {
   "accelerator": "nvidiaTeslaT4",
   "dataSources": [
    {
     "datasetId": 5247734,
     "sourceId": 8740624,
     "sourceType": "datasetVersion"
    }
   ],
   "isGpuEnabled": true,
   "isInternetEnabled": true,
   "language": "python",
   "sourceType": "notebook"
  },
  "kernelspec": {
   "display_name": "Python 3",
   "name": "python3"
  },
  "language_info": {
   "codemirror_mode": {
    "name": "ipython",
    "version": 3
   },
   "file_extension": ".py",
   "mimetype": "text/x-python",
   "name": "python",
   "nbconvert_exporter": "python",
   "pygments_lexer": "ipython3",
   "version": "3.10.13"
  },
  "papermill": {
   "default_parameters": {},
   "duration": 29568.107419,
   "end_time": "2024-06-21T03:56:17.097832",
   "environment_variables": {},
   "exception": null,
   "input_path": "__notebook__.ipynb",
   "output_path": "__notebook__.ipynb",
   "parameters": {},
   "start_time": "2024-06-20T19:43:28.990413",
   "version": "2.5.0"
  }
 },
 "nbformat": 4,
 "nbformat_minor": 5
}
