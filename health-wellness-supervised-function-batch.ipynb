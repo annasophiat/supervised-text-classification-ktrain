{
 "cells": [
  {
   "cell_type": "code",
   "execution_count": 1,
   "id": "48b60196",
   "metadata": {
    "execution": {
     "iopub.execute_input": "2024-06-20T18:27:54.880610Z",
     "iopub.status.busy": "2024-06-20T18:27:54.880261Z",
     "iopub.status.idle": "2024-06-20T18:27:55.627525Z",
     "shell.execute_reply": "2024-06-20T18:27:55.626407Z"
    },
    "executionInfo": {
     "elapsed": 33348,
     "status": "ok",
     "timestamp": 1718832595463,
     "user": {
      "displayName": "Anna Tang",
      "userId": "06009827953892747229"
     },
     "user_tz": 240
    },
    "id": "2yFpcXAxX9yh",
    "outputId": "f9b22a9e-b2d1-4bcd-a46a-aff61050e8c5",
    "papermill": {
     "duration": 0.758846,
     "end_time": "2024-06-20T18:27:55.629658",
     "exception": false,
     "start_time": "2024-06-20T18:27:54.870812",
     "status": "completed"
    },
    "tags": []
   },
   "outputs": [
    {
     "name": "stdout",
     "output_type": "stream",
     "text": [
      "/kaggle/input/news-category-trainingdata/news_category_trainingdata.json\n"
     ]
    }
   ],
   "source": [
    "# This Python 3 environment comes with many helpful analytics libraries installed\n",
    "# It is defined by the kaggle/python Docker image: https://github.com/kaggle/docker-python\n",
    "# For example, here's several helpful packages to load\n",
    "\n",
    "import numpy as np # linear algebra\n",
    "import pandas as pd # data processing, CSV file I/O (e.g. pd.read_csv)\n",
    "\n",
    "# Input data files are available in the read-only \"../input/\" directory\n",
    "# For example, running this (by clicking run or pressing Shift+Enter) will list all files under the input directory\n",
    "\n",
    "import os\n",
    "for dirname, _, filenames in os.walk('/kaggle/input'):\n",
    "    for filename in filenames:\n",
    "        print(os.path.join(dirname, filename))\n",
    "\n",
    "# You can write up to 20GB to the current directory (/kaggle/working/) that gets preserved as output when you create a version using \"Save & Run All\" \n",
    "# You can also write temporary files to /kaggle/temp/, but they won't be saved outside of the current session"
   ]
  },
  {
   "cell_type": "code",
   "execution_count": 2,
   "id": "504c8b65",
   "metadata": {
    "execution": {
     "iopub.execute_input": "2024-06-20T18:27:55.646838Z",
     "iopub.status.busy": "2024-06-20T18:27:55.646247Z",
     "iopub.status.idle": "2024-06-20T18:29:12.304477Z",
     "shell.execute_reply": "2024-06-20T18:29:12.303435Z"
    },
    "executionInfo": {
     "elapsed": 36088,
     "status": "ok",
     "timestamp": 1718832631548,
     "user": {
      "displayName": "Anna Tang",
      "userId": "06009827953892747229"
     },
     "user_tz": 240
    },
    "id": "2259b7c9",
    "outputId": "c2dd0c12-01e3-454e-fe5a-904ba93190ed",
    "papermill": {
     "duration": 76.669544,
     "end_time": "2024-06-20T18:29:12.307097",
     "exception": false,
     "start_time": "2024-06-20T18:27:55.637553",
     "status": "completed"
    },
    "tags": []
   },
   "outputs": [
    {
     "name": "stdout",
     "output_type": "stream",
     "text": [
      "Requirement already satisfied: tf-keras in /opt/conda/lib/python3.10/site-packages (2.15.1)\r\n",
      "Requirement already satisfied: tensorflow<2.16,>=2.15 in /opt/conda/lib/python3.10/site-packages (from tf-keras) (2.15.0)\r\n",
      "Requirement already satisfied: absl-py>=1.0.0 in /opt/conda/lib/python3.10/site-packages (from tensorflow<2.16,>=2.15->tf-keras) (1.4.0)\r\n",
      "Requirement already satisfied: astunparse>=1.6.0 in /opt/conda/lib/python3.10/site-packages (from tensorflow<2.16,>=2.15->tf-keras) (1.6.3)\r\n",
      "Requirement already satisfied: flatbuffers>=23.5.26 in /opt/conda/lib/python3.10/site-packages (from tensorflow<2.16,>=2.15->tf-keras) (23.5.26)\r\n",
      "Requirement already satisfied: gast!=0.5.0,!=0.5.1,!=0.5.2,>=0.2.1 in /opt/conda/lib/python3.10/site-packages (from tensorflow<2.16,>=2.15->tf-keras) (0.5.4)\r\n",
      "Requirement already satisfied: google-pasta>=0.1.1 in /opt/conda/lib/python3.10/site-packages (from tensorflow<2.16,>=2.15->tf-keras) (0.2.0)\r\n",
      "Requirement already satisfied: h5py>=2.9.0 in /opt/conda/lib/python3.10/site-packages (from tensorflow<2.16,>=2.15->tf-keras) (3.10.0)\r\n",
      "Requirement already satisfied: libclang>=13.0.0 in /opt/conda/lib/python3.10/site-packages (from tensorflow<2.16,>=2.15->tf-keras) (16.0.6)\r\n",
      "Requirement already satisfied: ml-dtypes~=0.2.0 in /opt/conda/lib/python3.10/site-packages (from tensorflow<2.16,>=2.15->tf-keras) (0.2.0)\r\n",
      "Requirement already satisfied: numpy<2.0.0,>=1.23.5 in /opt/conda/lib/python3.10/site-packages (from tensorflow<2.16,>=2.15->tf-keras) (1.26.4)\r\n",
      "Requirement already satisfied: opt-einsum>=2.3.2 in /opt/conda/lib/python3.10/site-packages (from tensorflow<2.16,>=2.15->tf-keras) (3.3.0)\r\n",
      "Requirement already satisfied: packaging in /opt/conda/lib/python3.10/site-packages (from tensorflow<2.16,>=2.15->tf-keras) (21.3)\r\n",
      "Requirement already satisfied: protobuf!=4.21.0,!=4.21.1,!=4.21.2,!=4.21.3,!=4.21.4,!=4.21.5,<5.0.0dev,>=3.20.3 in /opt/conda/lib/python3.10/site-packages (from tensorflow<2.16,>=2.15->tf-keras) (3.20.3)\r\n",
      "Requirement already satisfied: setuptools in /opt/conda/lib/python3.10/site-packages (from tensorflow<2.16,>=2.15->tf-keras) (69.0.3)\r\n",
      "Requirement already satisfied: six>=1.12.0 in /opt/conda/lib/python3.10/site-packages (from tensorflow<2.16,>=2.15->tf-keras) (1.16.0)\r\n",
      "Requirement already satisfied: termcolor>=1.1.0 in /opt/conda/lib/python3.10/site-packages (from tensorflow<2.16,>=2.15->tf-keras) (2.4.0)\r\n",
      "Requirement already satisfied: typing-extensions>=3.6.6 in /opt/conda/lib/python3.10/site-packages (from tensorflow<2.16,>=2.15->tf-keras) (4.9.0)\r\n",
      "Requirement already satisfied: wrapt<1.15,>=1.11.0 in /opt/conda/lib/python3.10/site-packages (from tensorflow<2.16,>=2.15->tf-keras) (1.14.1)\r\n",
      "Requirement already satisfied: tensorflow-io-gcs-filesystem>=0.23.1 in /opt/conda/lib/python3.10/site-packages (from tensorflow<2.16,>=2.15->tf-keras) (0.35.0)\r\n",
      "Requirement already satisfied: grpcio<2.0,>=1.24.3 in /opt/conda/lib/python3.10/site-packages (from tensorflow<2.16,>=2.15->tf-keras) (1.59.3)\r\n",
      "Requirement already satisfied: tensorboard<2.16,>=2.15 in /opt/conda/lib/python3.10/site-packages (from tensorflow<2.16,>=2.15->tf-keras) (2.15.1)\r\n",
      "Requirement already satisfied: tensorflow-estimator<2.16,>=2.15.0 in /opt/conda/lib/python3.10/site-packages (from tensorflow<2.16,>=2.15->tf-keras) (2.15.0)\r\n",
      "Collecting keras<2.16,>=2.15.0 (from tensorflow<2.16,>=2.15->tf-keras)\r\n",
      "  Downloading keras-2.15.0-py3-none-any.whl.metadata (2.4 kB)\r\n",
      "Requirement already satisfied: wheel<1.0,>=0.23.0 in /opt/conda/lib/python3.10/site-packages (from astunparse>=1.6.0->tensorflow<2.16,>=2.15->tf-keras) (0.42.0)\r\n",
      "Requirement already satisfied: google-auth<3,>=1.6.3 in /opt/conda/lib/python3.10/site-packages (from tensorboard<2.16,>=2.15->tensorflow<2.16,>=2.15->tf-keras) (2.26.1)\r\n",
      "Requirement already satisfied: google-auth-oauthlib<2,>=0.5 in /opt/conda/lib/python3.10/site-packages (from tensorboard<2.16,>=2.15->tensorflow<2.16,>=2.15->tf-keras) (1.2.0)\r\n",
      "Requirement already satisfied: markdown>=2.6.8 in /opt/conda/lib/python3.10/site-packages (from tensorboard<2.16,>=2.15->tensorflow<2.16,>=2.15->tf-keras) (3.5.2)\r\n",
      "Requirement already satisfied: requests<3,>=2.21.0 in /opt/conda/lib/python3.10/site-packages (from tensorboard<2.16,>=2.15->tensorflow<2.16,>=2.15->tf-keras) (2.32.3)\r\n",
      "Requirement already satisfied: tensorboard-data-server<0.8.0,>=0.7.0 in /opt/conda/lib/python3.10/site-packages (from tensorboard<2.16,>=2.15->tensorflow<2.16,>=2.15->tf-keras) (0.7.2)\r\n",
      "Requirement already satisfied: werkzeug>=1.0.1 in /opt/conda/lib/python3.10/site-packages (from tensorboard<2.16,>=2.15->tensorflow<2.16,>=2.15->tf-keras) (3.0.3)\r\n",
      "Requirement already satisfied: pyparsing!=3.0.5,>=2.0.2 in /opt/conda/lib/python3.10/site-packages (from packaging->tensorflow<2.16,>=2.15->tf-keras) (3.1.1)\r\n",
      "Requirement already satisfied: cachetools<6.0,>=2.0.0 in /opt/conda/lib/python3.10/site-packages (from google-auth<3,>=1.6.3->tensorboard<2.16,>=2.15->tensorflow<2.16,>=2.15->tf-keras) (4.2.4)\r\n",
      "Requirement already satisfied: pyasn1-modules>=0.2.1 in /opt/conda/lib/python3.10/site-packages (from google-auth<3,>=1.6.3->tensorboard<2.16,>=2.15->tensorflow<2.16,>=2.15->tf-keras) (0.3.0)\r\n",
      "Requirement already satisfied: rsa<5,>=3.1.4 in /opt/conda/lib/python3.10/site-packages (from google-auth<3,>=1.6.3->tensorboard<2.16,>=2.15->tensorflow<2.16,>=2.15->tf-keras) (4.9)\r\n",
      "Requirement already satisfied: requests-oauthlib>=0.7.0 in /opt/conda/lib/python3.10/site-packages (from google-auth-oauthlib<2,>=0.5->tensorboard<2.16,>=2.15->tensorflow<2.16,>=2.15->tf-keras) (1.3.1)\r\n",
      "Requirement already satisfied: charset-normalizer<4,>=2 in /opt/conda/lib/python3.10/site-packages (from requests<3,>=2.21.0->tensorboard<2.16,>=2.15->tensorflow<2.16,>=2.15->tf-keras) (3.3.2)\r\n",
      "Requirement already satisfied: idna<4,>=2.5 in /opt/conda/lib/python3.10/site-packages (from requests<3,>=2.21.0->tensorboard<2.16,>=2.15->tensorflow<2.16,>=2.15->tf-keras) (3.6)\r\n",
      "Requirement already satisfied: urllib3<3,>=1.21.1 in /opt/conda/lib/python3.10/site-packages (from requests<3,>=2.21.0->tensorboard<2.16,>=2.15->tensorflow<2.16,>=2.15->tf-keras) (1.26.18)\r\n",
      "Requirement already satisfied: certifi>=2017.4.17 in /opt/conda/lib/python3.10/site-packages (from requests<3,>=2.21.0->tensorboard<2.16,>=2.15->tensorflow<2.16,>=2.15->tf-keras) (2024.2.2)\r\n",
      "Requirement already satisfied: MarkupSafe>=2.1.1 in /opt/conda/lib/python3.10/site-packages (from werkzeug>=1.0.1->tensorboard<2.16,>=2.15->tensorflow<2.16,>=2.15->tf-keras) (2.1.3)\r\n",
      "Requirement already satisfied: pyasn1<0.6.0,>=0.4.6 in /opt/conda/lib/python3.10/site-packages (from pyasn1-modules>=0.2.1->google-auth<3,>=1.6.3->tensorboard<2.16,>=2.15->tensorflow<2.16,>=2.15->tf-keras) (0.5.1)\r\n",
      "Requirement already satisfied: oauthlib>=3.0.0 in /opt/conda/lib/python3.10/site-packages (from requests-oauthlib>=0.7.0->google-auth-oauthlib<2,>=0.5->tensorboard<2.16,>=2.15->tensorflow<2.16,>=2.15->tf-keras) (3.2.2)\r\n",
      "Downloading keras-2.15.0-py3-none-any.whl (1.7 MB)\r\n",
      "\u001b[2K   \u001b[90m━━━━━━━━━━━━━━━━━━━━━━━━━━━━━━━━━━━━━━━━\u001b[0m \u001b[32m1.7/1.7 MB\u001b[0m \u001b[31m27.3 MB/s\u001b[0m eta \u001b[36m0:00:00\u001b[0m\r\n",
      "\u001b[?25hInstalling collected packages: keras\r\n",
      "  Attempting uninstall: keras\r\n",
      "    Found existing installation: keras 3.3.3\r\n",
      "    Uninstalling keras-3.3.3:\r\n",
      "      Successfully uninstalled keras-3.3.3\r\n",
      "\u001b[31mERROR: pip's dependency resolver does not currently take into account all the packages that are installed. This behaviour is the source of the following dependency conflicts.\r\n",
      "tensorflow-decision-forests 1.8.1 requires wurlitzer, which is not installed.\u001b[0m\u001b[31m\r\n",
      "\u001b[0mSuccessfully installed keras-2.15.0\r\n",
      "TF_USE_LEGACY_KERAS: None\n",
      "TF_USE_LEGACY_KERAS: 1\n",
      "Collecting ktrain\r\n",
      "  Downloading ktrain-0.41.4.tar.gz (25.3 MB)\r\n",
      "\u001b[2K     \u001b[90m━━━━━━━━━━━━━━━━━━━━━━━━━━━━━━━━━━━━━━━━\u001b[0m \u001b[32m25.3/25.3 MB\u001b[0m \u001b[31m61.4 MB/s\u001b[0m eta \u001b[36m0:00:00\u001b[0m\r\n",
      "\u001b[?25h  Preparing metadata (setup.py) ... \u001b[?25l-\b \bdone\r\n",
      "\u001b[?25hRequirement already satisfied: scikit-learn in /opt/conda/lib/python3.10/site-packages (from ktrain) (1.2.2)\r\n",
      "Requirement already satisfied: matplotlib>=3.0.0 in /opt/conda/lib/python3.10/site-packages (from ktrain) (3.7.5)\r\n",
      "Requirement already satisfied: pandas>=1.0.1 in /opt/conda/lib/python3.10/site-packages (from ktrain) (2.2.1)\r\n",
      "Requirement already satisfied: fastprogress>=0.1.21 in /opt/conda/lib/python3.10/site-packages (from ktrain) (1.0.3)\r\n",
      "Requirement already satisfied: requests in /opt/conda/lib/python3.10/site-packages (from ktrain) (2.32.3)\r\n",
      "Requirement already satisfied: joblib in /opt/conda/lib/python3.10/site-packages (from ktrain) (1.4.2)\r\n",
      "Requirement already satisfied: packaging in /opt/conda/lib/python3.10/site-packages (from ktrain) (21.3)\r\n",
      "Collecting langdetect (from ktrain)\r\n",
      "  Downloading langdetect-1.0.9.tar.gz (981 kB)\r\n",
      "\u001b[2K     \u001b[90m━━━━━━━━━━━━━━━━━━━━━━━━━━━━━━━━━━━━━━\u001b[0m \u001b[32m981.5/981.5 kB\u001b[0m \u001b[31m43.1 MB/s\u001b[0m eta \u001b[36m0:00:00\u001b[0m\r\n",
      "\u001b[?25h  Preparing metadata (setup.py) ... \u001b[?25l-\b \bdone\r\n",
      "\u001b[?25hRequirement already satisfied: jieba in /opt/conda/lib/python3.10/site-packages (from ktrain) (0.42.1)\r\n",
      "Requirement already satisfied: charset-normalizer in /opt/conda/lib/python3.10/site-packages (from ktrain) (3.3.2)\r\n",
      "Collecting chardet (from ktrain)\r\n",
      "  Downloading chardet-5.2.0-py3-none-any.whl.metadata (3.4 kB)\r\n",
      "Collecting syntok>1.3.3 (from ktrain)\r\n",
      "  Downloading syntok-1.4.4-py3-none-any.whl.metadata (10 kB)\r\n",
      "Collecting tika (from ktrain)\r\n",
      "  Downloading tika-2.6.0.tar.gz (27 kB)\r\n",
      "  Preparing metadata (setup.py) ... \u001b[?25l-\b \bdone\r\n",
      "\u001b[?25hRequirement already satisfied: transformers in /opt/conda/lib/python3.10/site-packages (from ktrain) (4.41.2)\r\n",
      "Requirement already satisfied: sentencepiece in /opt/conda/lib/python3.10/site-packages (from ktrain) (0.2.0)\r\n",
      "Collecting keras_bert>=0.86.0 (from ktrain)\r\n",
      "  Downloading keras-bert-0.89.0.tar.gz (25 kB)\r\n",
      "  Preparing metadata (setup.py) ... \u001b[?25l-\b \bdone\r\n",
      "\u001b[?25hCollecting whoosh (from ktrain)\r\n",
      "  Downloading Whoosh-2.7.4-py2.py3-none-any.whl.metadata (3.1 kB)\r\n",
      "Requirement already satisfied: numpy in /opt/conda/lib/python3.10/site-packages (from keras_bert>=0.86.0->ktrain) (1.26.4)\r\n",
      "Collecting keras-transformer==0.40.0 (from keras_bert>=0.86.0->ktrain)\r\n",
      "  Downloading keras-transformer-0.40.0.tar.gz (9.7 kB)\r\n",
      "  Preparing metadata (setup.py) ... \u001b[?25l-\b \bdone\r\n",
      "\u001b[?25hCollecting keras-pos-embd==0.13.0 (from keras-transformer==0.40.0->keras_bert>=0.86.0->ktrain)\r\n",
      "  Downloading keras-pos-embd-0.13.0.tar.gz (5.6 kB)\r\n",
      "  Preparing metadata (setup.py) ... \u001b[?25l-\b \bdone\r\n",
      "\u001b[?25hCollecting keras-multi-head==0.29.0 (from keras-transformer==0.40.0->keras_bert>=0.86.0->ktrain)\r\n",
      "  Downloading keras-multi-head-0.29.0.tar.gz (13 kB)\r\n",
      "  Preparing metadata (setup.py) ... \u001b[?25l-\b \bdone\r\n",
      "\u001b[?25hCollecting keras-layer-normalization==0.16.0 (from keras-transformer==0.40.0->keras_bert>=0.86.0->ktrain)\r\n",
      "  Downloading keras-layer-normalization-0.16.0.tar.gz (3.9 kB)\r\n",
      "  Preparing metadata (setup.py) ... \u001b[?25l-\b \bdone\r\n",
      "\u001b[?25hCollecting keras-position-wise-feed-forward==0.8.0 (from keras-transformer==0.40.0->keras_bert>=0.86.0->ktrain)\r\n",
      "  Downloading keras-position-wise-feed-forward-0.8.0.tar.gz (4.1 kB)\r\n",
      "  Preparing metadata (setup.py) ... \u001b[?25l-\b \bdone\r\n",
      "\u001b[?25hCollecting keras-embed-sim==0.10.0 (from keras-transformer==0.40.0->keras_bert>=0.86.0->ktrain)\r\n",
      "  Downloading keras-embed-sim-0.10.0.tar.gz (3.6 kB)\r\n",
      "  Preparing metadata (setup.py) ... \u001b[?25l-\b \bdone\r\n",
      "\u001b[?25hCollecting keras-self-attention==0.51.0 (from keras-multi-head==0.29.0->keras-transformer==0.40.0->keras_bert>=0.86.0->ktrain)\r\n",
      "  Downloading keras-self-attention-0.51.0.tar.gz (11 kB)\r\n",
      "  Preparing metadata (setup.py) ... \u001b[?25l-\b \bdone\r\n",
      "\u001b[?25hRequirement already satisfied: contourpy>=1.0.1 in /opt/conda/lib/python3.10/site-packages (from matplotlib>=3.0.0->ktrain) (1.2.0)\r\n",
      "Requirement already satisfied: cycler>=0.10 in /opt/conda/lib/python3.10/site-packages (from matplotlib>=3.0.0->ktrain) (0.12.1)\r\n",
      "Requirement already satisfied: fonttools>=4.22.0 in /opt/conda/lib/python3.10/site-packages (from matplotlib>=3.0.0->ktrain) (4.47.0)\r\n",
      "Requirement already satisfied: kiwisolver>=1.0.1 in /opt/conda/lib/python3.10/site-packages (from matplotlib>=3.0.0->ktrain) (1.4.5)\r\n",
      "Requirement already satisfied: pillow>=6.2.0 in /opt/conda/lib/python3.10/site-packages (from matplotlib>=3.0.0->ktrain) (9.5.0)\r\n",
      "Requirement already satisfied: pyparsing>=2.3.1 in /opt/conda/lib/python3.10/site-packages (from matplotlib>=3.0.0->ktrain) (3.1.1)\r\n",
      "Requirement already satisfied: python-dateutil>=2.7 in /opt/conda/lib/python3.10/site-packages (from matplotlib>=3.0.0->ktrain) (2.9.0.post0)\r\n",
      "Requirement already satisfied: pytz>=2020.1 in /opt/conda/lib/python3.10/site-packages (from pandas>=1.0.1->ktrain) (2023.3.post1)\r\n",
      "Requirement already satisfied: tzdata>=2022.7 in /opt/conda/lib/python3.10/site-packages (from pandas>=1.0.1->ktrain) (2023.4)\r\n",
      "Requirement already satisfied: regex>2016 in /opt/conda/lib/python3.10/site-packages (from syntok>1.3.3->ktrain) (2023.12.25)\r\n",
      "Requirement already satisfied: six in /opt/conda/lib/python3.10/site-packages (from langdetect->ktrain) (1.16.0)\r\n",
      "Requirement already satisfied: idna<4,>=2.5 in /opt/conda/lib/python3.10/site-packages (from requests->ktrain) (3.6)\r\n",
      "Requirement already satisfied: urllib3<3,>=1.21.1 in /opt/conda/lib/python3.10/site-packages (from requests->ktrain) (1.26.18)\r\n",
      "Requirement already satisfied: certifi>=2017.4.17 in /opt/conda/lib/python3.10/site-packages (from requests->ktrain) (2024.2.2)\r\n",
      "Requirement already satisfied: scipy>=1.3.2 in /opt/conda/lib/python3.10/site-packages (from scikit-learn->ktrain) (1.11.4)\r\n",
      "Requirement already satisfied: threadpoolctl>=2.0.0 in /opt/conda/lib/python3.10/site-packages (from scikit-learn->ktrain) (3.2.0)\r\n",
      "Requirement already satisfied: setuptools in /opt/conda/lib/python3.10/site-packages (from tika->ktrain) (69.0.3)\r\n",
      "Requirement already satisfied: filelock in /opt/conda/lib/python3.10/site-packages (from transformers->ktrain) (3.13.1)\r\n",
      "Requirement already satisfied: huggingface-hub<1.0,>=0.23.0 in /opt/conda/lib/python3.10/site-packages (from transformers->ktrain) (0.23.2)\r\n",
      "Requirement already satisfied: pyyaml>=5.1 in /opt/conda/lib/python3.10/site-packages (from transformers->ktrain) (6.0.1)\r\n",
      "Requirement already satisfied: tokenizers<0.20,>=0.19 in /opt/conda/lib/python3.10/site-packages (from transformers->ktrain) (0.19.1)\r\n",
      "Requirement already satisfied: safetensors>=0.4.1 in /opt/conda/lib/python3.10/site-packages (from transformers->ktrain) (0.4.3)\r\n",
      "Requirement already satisfied: tqdm>=4.27 in /opt/conda/lib/python3.10/site-packages (from transformers->ktrain) (4.66.4)\r\n",
      "Requirement already satisfied: fsspec>=2023.5.0 in /opt/conda/lib/python3.10/site-packages (from huggingface-hub<1.0,>=0.23.0->transformers->ktrain) (2024.3.1)\r\n",
      "Requirement already satisfied: typing-extensions>=3.7.4.3 in /opt/conda/lib/python3.10/site-packages (from huggingface-hub<1.0,>=0.23.0->transformers->ktrain) (4.9.0)\r\n",
      "Downloading syntok-1.4.4-py3-none-any.whl (24 kB)\r\n",
      "Downloading chardet-5.2.0-py3-none-any.whl (199 kB)\r\n",
      "\u001b[2K   \u001b[90m━━━━━━━━━━━━━━━━━━━━━━━━━━━━━━━━━━━━━━━━\u001b[0m \u001b[32m199.4/199.4 kB\u001b[0m \u001b[31m12.7 MB/s\u001b[0m eta \u001b[36m0:00:00\u001b[0m\r\n",
      "\u001b[?25hDownloading Whoosh-2.7.4-py2.py3-none-any.whl (468 kB)\r\n",
      "\u001b[2K   \u001b[90m━━━━━━━━━━━━━━━━━━━━━━━━━━━━━━━━━━━━━━━━\u001b[0m \u001b[32m468.8/468.8 kB\u001b[0m \u001b[31m24.8 MB/s\u001b[0m eta \u001b[36m0:00:00\u001b[0m\r\n",
      "\u001b[?25hBuilding wheels for collected packages: ktrain, keras_bert, keras-transformer, keras-embed-sim, keras-layer-normalization, keras-multi-head, keras-pos-embd, keras-position-wise-feed-forward, keras-self-attention, langdetect, tika\r\n",
      "  Building wheel for ktrain (setup.py) ... \u001b[?25l-\b \b\\\b \bdone\r\n",
      "\u001b[?25h  Created wheel for ktrain: filename=ktrain-0.41.4-py3-none-any.whl size=25316933 sha256=9f042fb9aa44b4f6b2a7bb3c6c664c47b513fe436083f6e114cacb85ecfae594\r\n",
      "  Stored in directory: /root/.cache/pip/wheels/fa/6a/9c/8a873b38bbd8bc207d33c64726bd18f7ef85f8e70dc3ac2e4b\r\n",
      "  Building wheel for keras_bert (setup.py) ... \u001b[?25l-\b \b\\\b \bdone\r\n",
      "\u001b[?25h  Created wheel for keras_bert: filename=keras_bert-0.89.0-py3-none-any.whl size=33499 sha256=09dd8aae40d8c455d34eb101a60237a9acee37654e9155f165ffabffe9637cae\r\n",
      "  Stored in directory: /root/.cache/pip/wheels/89/0c/04/646b6fdf6375911b42c8d540a8a3fda8d5d77634e5dcbe7b26\r\n",
      "  Building wheel for keras-transformer (setup.py) ... \u001b[?25l-\b \b\\\b \bdone\r\n",
      "\u001b[?25h  Created wheel for keras-transformer: filename=keras_transformer-0.40.0-py3-none-any.whl size=12286 sha256=d9bcf2da18ac7a25781c2994c7b453fcd47bde907129a7f87578e5ab7a4dbf83\r\n",
      "  Stored in directory: /root/.cache/pip/wheels/f2/cb/22/75a0ad376129177f7c95c0d91331a18f5368fd657f4035ba7c\r\n",
      "  Building wheel for keras-embed-sim (setup.py) ... \u001b[?25l-\b \b\\\b \bdone\r\n",
      "\u001b[?25h  Created wheel for keras-embed-sim: filename=keras_embed_sim-0.10.0-py3-none-any.whl size=3943 sha256=cdbd1179686753fd82ed70b3bf825c798347ac93d01cf99134e9cbcb246b66fb\r\n",
      "  Stored in directory: /root/.cache/pip/wheels/82/32/c7/fd35d0d1b840a6c7cbd4343f808d10d0f7b87d271a4dbe796f\r\n",
      "  Building wheel for keras-layer-normalization (setup.py) ... \u001b[?25l-\b \b\\\b \bdone\r\n",
      "\u001b[?25h  Created wheel for keras-layer-normalization: filename=keras_layer_normalization-0.16.0-py3-none-any.whl size=4653 sha256=48b9039674dac3ba24fd57ee635819fefdf82b5fd6c601289a745dcaa489b6c2\r\n",
      "  Stored in directory: /root/.cache/pip/wheels/ed/3a/4b/21db23c0cc56c4b219616e181f258eb7c57d36cc5d056fae9a\r\n",
      "  Building wheel for keras-multi-head (setup.py) ... \u001b[?25l-\b \b\\\b \bdone\r\n",
      "\u001b[?25h  Created wheel for keras-multi-head: filename=keras_multi_head-0.29.0-py3-none-any.whl size=14975 sha256=26a46752ab4e792d21bf738cdea47022130ea098025382382d16fbbe54f58ae8\r\n",
      "  Stored in directory: /root/.cache/pip/wheels/cb/23/4b/06d7ae21714f70fcc25b48f972cc8e5e7f4b6b764a038b509d\r\n",
      "  Building wheel for keras-pos-embd (setup.py) ... \u001b[?25l-\b \b\\\b \bdone\r\n",
      "\u001b[?25h  Created wheel for keras-pos-embd: filename=keras_pos_embd-0.13.0-py3-none-any.whl size=6946 sha256=2f8e36a775f91272c91639eb4ca76dae5b5dcd41a5cf363983ce9dc72aafc271\r\n",
      "  Stored in directory: /root/.cache/pip/wheels/78/07/1b/b1ca47b6ac338554b75c8f52c54e6a2bfbe1b07d79579979a4\r\n",
      "  Building wheel for keras-position-wise-feed-forward (setup.py) ... \u001b[?25l-\b \b\\\b \bdone\r\n",
      "\u001b[?25h  Created wheel for keras-position-wise-feed-forward: filename=keras_position_wise_feed_forward-0.8.0-py3-none-any.whl size=4968 sha256=b5c67a4ff682178749a5bf701e932cec6b014837d656e98f77831e9603f93710\r\n",
      "  Stored in directory: /root/.cache/pip/wheels/c1/6a/04/d1706a53b23b2cb5f9a0a76269bf87925daa1bca09eac01b21\r\n",
      "  Building wheel for keras-self-attention (setup.py) ... \u001b[?25l-\b \b\\\b \bdone\r\n",
      "\u001b[?25h  Created wheel for keras-self-attention: filename=keras_self_attention-0.51.0-py3-none-any.whl size=18895 sha256=26ebce4edcdcd5ff53803a935572b96daf1ae088edd95d72e2157d97448bc2b3\r\n",
      "  Stored in directory: /root/.cache/pip/wheels/b8/f7/24/607b483144fb9c47b4ba2c5fba6b68e54aeee2d5bf6c05302e\r\n",
      "  Building wheel for langdetect (setup.py) ... \u001b[?25l-\b \bdone\r\n",
      "\u001b[?25h  Created wheel for langdetect: filename=langdetect-1.0.9-py3-none-any.whl size=993225 sha256=f8c1c9277e799d9d14b377aca48a905917f0f75477015ff8254546d44c714849\r\n",
      "  Stored in directory: /root/.cache/pip/wheels/95/03/7d/59ea870c70ce4e5a370638b5462a7711ab78fba2f655d05106\r\n",
      "  Building wheel for tika (setup.py) ... \u001b[?25l-\b \bdone\r\n",
      "\u001b[?25h  Created wheel for tika: filename=tika-2.6.0-py3-none-any.whl size=32622 sha256=40425243ee682d2e48af10b3768aa07b19617dc030236f4363cc21b1874b90f3\r\n",
      "  Stored in directory: /root/.cache/pip/wheels/5f/71/c7/b757709531121b1700cffda5b6b0d4aad095fb507ec84316d0\r\n",
      "Successfully built ktrain keras_bert keras-transformer keras-embed-sim keras-layer-normalization keras-multi-head keras-pos-embd keras-position-wise-feed-forward keras-self-attention langdetect tika\r\n",
      "Installing collected packages: whoosh, syntok, langdetect, keras-self-attention, keras-position-wise-feed-forward, keras-pos-embd, keras-layer-normalization, keras-embed-sim, chardet, tika, keras-multi-head, keras-transformer, keras_bert, ktrain\r\n",
      "Successfully installed chardet-5.2.0 keras-embed-sim-0.10.0 keras-layer-normalization-0.16.0 keras-multi-head-0.29.0 keras-pos-embd-0.13.0 keras-position-wise-feed-forward-0.8.0 keras-self-attention-0.51.0 keras-transformer-0.40.0 keras_bert-0.89.0 ktrain-0.41.4 langdetect-1.0.9 syntok-1.4.4 tika-2.6.0 whoosh-2.7.4\r\n"
     ]
    }
   ],
   "source": [
    "import os\n",
    "# try:\n",
    "#   import ktrain\n",
    "# except:\n",
    "#   !pip install ktrain\n",
    "#   os.kill(os.getpid(), 9)\n",
    "# import ktrain\n",
    "\n",
    "from sklearn.model_selection import train_test_split\n",
    "!pip install tf-keras\n",
    "print(\"TF_USE_LEGACY_KERAS:\", os.getenv(\"TF_USE_LEGACY_KERAS\"))\n",
    "os.environ['TF_USE_LEGACY_KERAS'] = '1'\n",
    "print(\"TF_USE_LEGACY_KERAS:\", os.getenv(\"TF_USE_LEGACY_KERAS\"))\n",
    "\n",
    "try:\n",
    "  import ktrain\n",
    "except:\n",
    "  !pip install ktrain\n",
    "  import ktrain\n",
    "from ktrain import text\n",
    "from ktrain.text import texts_from_df\n",
    "\n",
    "\n",
    "import pandas as pd\n",
    "import numpy as np\n",
    "import matplotlib.pyplot as plt"
   ]
  },
  {
   "cell_type": "code",
   "execution_count": 3,
   "id": "b2816394",
   "metadata": {
    "execution": {
     "iopub.execute_input": "2024-06-20T18:29:12.342195Z",
     "iopub.status.busy": "2024-06-20T18:29:12.341286Z",
     "iopub.status.idle": "2024-06-20T18:29:12.395182Z",
     "shell.execute_reply": "2024-06-20T18:29:12.394006Z"
    },
    "executionInfo": {
     "elapsed": 8,
     "status": "ok",
     "timestamp": 1718832631548,
     "user": {
      "displayName": "Anna Tang",
      "userId": "06009827953892747229"
     },
     "user_tz": 240
    },
    "id": "8fc2dd22",
    "outputId": "7105ee74-f717-4c0e-8e0f-a975a2126404",
    "papermill": {
     "duration": 0.073335,
     "end_time": "2024-06-20T18:29:12.397477",
     "exception": false,
     "start_time": "2024-06-20T18:29:12.324142",
     "status": "completed"
    },
    "tags": []
   },
   "outputs": [
    {
     "name": "stdout",
     "output_type": "stream",
     "text": [
      "Thu Jun 20 18:29:12 2024       \n",
      "+---------------------------------------------------------------------------------------+\n",
      "| NVIDIA-SMI 535.129.03             Driver Version: 535.129.03   CUDA Version: 12.2     |\n",
      "|-----------------------------------------+----------------------+----------------------+\n",
      "| GPU  Name                 Persistence-M | Bus-Id        Disp.A | Volatile Uncorr. ECC |\n",
      "| Fan  Temp   Perf          Pwr:Usage/Cap |         Memory-Usage | GPU-Util  Compute M. |\n",
      "|                                         |                      |               MIG M. |\n",
      "|=========================================+======================+======================|\n",
      "|   0  Tesla P100-PCIE-16GB           Off | 00000000:00:04.0 Off |                    0 |\n",
      "| N/A   36C    P0              26W / 250W |      0MiB / 16384MiB |      0%      Default |\n",
      "|                                         |                      |                  N/A |\n",
      "+-----------------------------------------+----------------------+----------------------+\n",
      "                                                                                         \n",
      "+---------------------------------------------------------------------------------------+\n",
      "| Processes:                                                                            |\n",
      "|  GPU   GI   CI        PID   Type   Process name                            GPU Memory |\n",
      "|        ID   ID                                                             Usage      |\n",
      "|=======================================================================================|\n",
      "|  No running processes found                                                           |\n",
      "+---------------------------------------------------------------------------------------+\n"
     ]
    }
   ],
   "source": [
    "gpu_info = !nvidia-smi\n",
    "gpu_info = '\\n'.join(gpu_info)\n",
    "if gpu_info.find('failed') >= 0:\n",
    "  print('Not connected to a GPU')\n",
    "else:\n",
    "  print(gpu_info)"
   ]
  },
  {
   "cell_type": "code",
   "execution_count": 4,
   "id": "1fd1ecd1",
   "metadata": {
    "execution": {
     "iopub.execute_input": "2024-06-20T18:29:12.439518Z",
     "iopub.status.busy": "2024-06-20T18:29:12.439137Z",
     "iopub.status.idle": "2024-06-20T18:29:12.446016Z",
     "shell.execute_reply": "2024-06-20T18:29:12.444963Z"
    },
    "executionInfo": {
     "elapsed": 406,
     "status": "ok",
     "timestamp": 1718832631950,
     "user": {
      "displayName": "Anna Tang",
      "userId": "06009827953892747229"
     },
     "user_tz": 240
    },
    "id": "laMNmygnyhbL",
    "outputId": "8df14c1d-8ba4-477a-ff07-b35a4d122c2b",
    "papermill": {
     "duration": 0.028489,
     "end_time": "2024-06-20T18:29:12.448079",
     "exception": false,
     "start_time": "2024-06-20T18:29:12.419590",
     "status": "completed"
    },
    "tags": []
   },
   "outputs": [
    {
     "name": "stdout",
     "output_type": "stream",
     "text": [
      "Your runtime has 33.7 gigabytes of available RAM\n",
      "\n",
      "You are using a high-RAM runtime!\n"
     ]
    }
   ],
   "source": [
    "from psutil import virtual_memory\n",
    "ram_gb = virtual_memory().total / 1e9\n",
    "print('Your runtime has {:.1f} gigabytes of available RAM\\n'.format(ram_gb))\n",
    "\n",
    "if ram_gb < 20:\n",
    "  print('Not using a high-RAM runtime')\n",
    "else:\n",
    "  print('You are using a high-RAM runtime!')"
   ]
  },
  {
   "cell_type": "code",
   "execution_count": 5,
   "id": "25004212",
   "metadata": {
    "execution": {
     "iopub.execute_input": "2024-06-20T18:29:12.485025Z",
     "iopub.status.busy": "2024-06-20T18:29:12.484720Z",
     "iopub.status.idle": "2024-06-20T18:29:14.957735Z",
     "shell.execute_reply": "2024-06-20T18:29:14.956969Z"
    },
    "id": "85cb1e44",
    "papermill": {
     "duration": 2.493928,
     "end_time": "2024-06-20T18:29:14.960090",
     "exception": false,
     "start_time": "2024-06-20T18:29:12.466162",
     "status": "completed"
    },
    "tags": []
   },
   "outputs": [],
   "source": [
    "reviews = pd.read_json(\"/kaggle/input/news-category-trainingdata/news_category_trainingdata.json\")"
   ]
  },
  {
   "cell_type": "markdown",
   "id": "74440d98",
   "metadata": {
    "id": "xztsfgBKyjgV",
    "papermill": {
     "duration": 0.015731,
     "end_time": "2024-06-20T18:29:14.992289",
     "exception": false,
     "start_time": "2024-06-20T18:29:14.976558",
     "status": "completed"
    },
    "tags": []
   },
   "source": [
    "## EDA"
   ]
  },
  {
   "cell_type": "code",
   "execution_count": 6,
   "id": "e38240ab",
   "metadata": {
    "execution": {
     "iopub.execute_input": "2024-06-20T18:29:15.025850Z",
     "iopub.status.busy": "2024-06-20T18:29:15.025169Z",
     "iopub.status.idle": "2024-06-20T18:29:15.043780Z",
     "shell.execute_reply": "2024-06-20T18:29:15.042874Z"
    },
    "executionInfo": {
     "elapsed": 13,
     "status": "ok",
     "timestamp": 1718832635250,
     "user": {
      "displayName": "Anna Tang",
      "userId": "06009827953892747229"
     },
     "user_tz": 240
    },
    "id": "c4ac8694",
    "outputId": "978e7272-3cab-4015-c5d1-6fc85d4524c1",
    "papermill": {
     "duration": 0.037437,
     "end_time": "2024-06-20T18:29:15.045742",
     "exception": false,
     "start_time": "2024-06-20T18:29:15.008305",
     "status": "completed"
    },
    "tags": []
   },
   "outputs": [
    {
     "data": {
      "text/html": [
       "<div>\n",
       "<style scoped>\n",
       "    .dataframe tbody tr th:only-of-type {\n",
       "        vertical-align: middle;\n",
       "    }\n",
       "\n",
       "    .dataframe tbody tr th {\n",
       "        vertical-align: top;\n",
       "    }\n",
       "\n",
       "    .dataframe thead th {\n",
       "        text-align: right;\n",
       "    }\n",
       "</style>\n",
       "<table border=\"1\" class=\"dataframe\">\n",
       "  <thead>\n",
       "    <tr style=\"text-align: right;\">\n",
       "      <th></th>\n",
       "      <th>category</th>\n",
       "      <th>headline</th>\n",
       "      <th>authors</th>\n",
       "      <th>link</th>\n",
       "      <th>short_description</th>\n",
       "      <th>date</th>\n",
       "    </tr>\n",
       "  </thead>\n",
       "  <tbody>\n",
       "    <tr>\n",
       "      <th>0</th>\n",
       "      <td>CRIME</td>\n",
       "      <td>There Were 2 Mass Shootings In Texas Last Week...</td>\n",
       "      <td>Melissa Jeltsen</td>\n",
       "      <td>https://www.huffingtonpost.com/entry/texas-ama...</td>\n",
       "      <td>She left her husband. He killed their children...</td>\n",
       "      <td>2018-05-26</td>\n",
       "    </tr>\n",
       "    <tr>\n",
       "      <th>1</th>\n",
       "      <td>ENTERTAINMENT</td>\n",
       "      <td>Will Smith Joins Diplo And Nicky Jam For The 2...</td>\n",
       "      <td>Andy McDonald</td>\n",
       "      <td>https://www.huffingtonpost.com/entry/will-smit...</td>\n",
       "      <td>Of course it has a song.</td>\n",
       "      <td>2018-05-26</td>\n",
       "    </tr>\n",
       "    <tr>\n",
       "      <th>2</th>\n",
       "      <td>ENTERTAINMENT</td>\n",
       "      <td>Hugh Grant Marries For The First Time At Age 57</td>\n",
       "      <td>Ron Dicker</td>\n",
       "      <td>https://www.huffingtonpost.com/entry/hugh-gran...</td>\n",
       "      <td>The actor and his longtime girlfriend Anna Ebe...</td>\n",
       "      <td>2018-05-26</td>\n",
       "    </tr>\n",
       "    <tr>\n",
       "      <th>3</th>\n",
       "      <td>ENTERTAINMENT</td>\n",
       "      <td>Jim Carrey Blasts 'Castrato' Adam Schiff And D...</td>\n",
       "      <td>Ron Dicker</td>\n",
       "      <td>https://www.huffingtonpost.com/entry/jim-carre...</td>\n",
       "      <td>The actor gives Dems an ass-kicking for not fi...</td>\n",
       "      <td>2018-05-26</td>\n",
       "    </tr>\n",
       "    <tr>\n",
       "      <th>4</th>\n",
       "      <td>ENTERTAINMENT</td>\n",
       "      <td>Julianna Margulies Uses Donald Trump Poop Bags...</td>\n",
       "      <td>Ron Dicker</td>\n",
       "      <td>https://www.huffingtonpost.com/entry/julianna-...</td>\n",
       "      <td>The \"Dietland\" actress said using the bags is ...</td>\n",
       "      <td>2018-05-26</td>\n",
       "    </tr>\n",
       "  </tbody>\n",
       "</table>\n",
       "</div>"
      ],
      "text/plain": [
       "        category                                           headline  \\\n",
       "0          CRIME  There Were 2 Mass Shootings In Texas Last Week...   \n",
       "1  ENTERTAINMENT  Will Smith Joins Diplo And Nicky Jam For The 2...   \n",
       "2  ENTERTAINMENT    Hugh Grant Marries For The First Time At Age 57   \n",
       "3  ENTERTAINMENT  Jim Carrey Blasts 'Castrato' Adam Schiff And D...   \n",
       "4  ENTERTAINMENT  Julianna Margulies Uses Donald Trump Poop Bags...   \n",
       "\n",
       "           authors                                               link  \\\n",
       "0  Melissa Jeltsen  https://www.huffingtonpost.com/entry/texas-ama...   \n",
       "1    Andy McDonald  https://www.huffingtonpost.com/entry/will-smit...   \n",
       "2       Ron Dicker  https://www.huffingtonpost.com/entry/hugh-gran...   \n",
       "3       Ron Dicker  https://www.huffingtonpost.com/entry/jim-carre...   \n",
       "4       Ron Dicker  https://www.huffingtonpost.com/entry/julianna-...   \n",
       "\n",
       "                                   short_description       date  \n",
       "0  She left her husband. He killed their children... 2018-05-26  \n",
       "1                           Of course it has a song. 2018-05-26  \n",
       "2  The actor and his longtime girlfriend Anna Ebe... 2018-05-26  \n",
       "3  The actor gives Dems an ass-kicking for not fi... 2018-05-26  \n",
       "4  The \"Dietland\" actress said using the bags is ... 2018-05-26  "
      ]
     },
     "execution_count": 6,
     "metadata": {},
     "output_type": "execute_result"
    }
   ],
   "source": [
    "reviews.head()"
   ]
  },
  {
   "cell_type": "code",
   "execution_count": 7,
   "id": "134c8b98",
   "metadata": {
    "execution": {
     "iopub.execute_input": "2024-06-20T18:29:15.078886Z",
     "iopub.status.busy": "2024-06-20T18:29:15.078626Z",
     "iopub.status.idle": "2024-06-20T18:29:15.125169Z",
     "shell.execute_reply": "2024-06-20T18:29:15.124323Z"
    },
    "executionInfo": {
     "elapsed": 11,
     "status": "ok",
     "timestamp": 1718832635250,
     "user": {
      "displayName": "Anna Tang",
      "userId": "06009827953892747229"
     },
     "user_tz": 240
    },
    "id": "a7c3a052",
    "outputId": "ccc3c8d2-f2b2-4f15-915a-0def3f13156f",
    "papermill": {
     "duration": 0.065281,
     "end_time": "2024-06-20T18:29:15.127123",
     "exception": false,
     "start_time": "2024-06-20T18:29:15.061842",
     "status": "completed"
    },
    "tags": []
   },
   "outputs": [
    {
     "data": {
      "text/plain": [
       "category\n",
       "POLITICS          32739\n",
       "WELLNESS          17827\n",
       "ENTERTAINMENT     16058\n",
       "TRAVEL             9887\n",
       "STYLE & BEAUTY     9649\n",
       "PARENTING          8677\n",
       "HEALTHY LIVING     6694\n",
       "QUEER VOICES       6314\n",
       "FOOD & DRINK       6226\n",
       "BUSINESS           5937\n",
       "COMEDY             5175\n",
       "SPORTS             4884\n",
       "BLACK VOICES       4528\n",
       "HOME & LIVING      4195\n",
       "PARENTS            3955\n",
       "THE WORLDPOST      3664\n",
       "WEDDINGS           3651\n",
       "WOMEN              3490\n",
       "IMPACT             3459\n",
       "DIVORCE            3426\n",
       "CRIME              3405\n",
       "MEDIA              2815\n",
       "WEIRD NEWS         2670\n",
       "GREEN              2622\n",
       "WORLDPOST          2579\n",
       "RELIGION           2556\n",
       "STYLE              2254\n",
       "SCIENCE            2178\n",
       "WORLD NEWS         2177\n",
       "TASTE              2096\n",
       "TECH               2082\n",
       "MONEY              1707\n",
       "ARTS               1509\n",
       "FIFTY              1401\n",
       "GOOD NEWS          1398\n",
       "ARTS & CULTURE     1339\n",
       "ENVIRONMENT        1323\n",
       "COLLEGE            1144\n",
       "LATINO VOICES      1129\n",
       "CULTURE & ARTS     1030\n",
       "EDUCATION          1004\n",
       "Name: count, dtype: int64"
      ]
     },
     "execution_count": 7,
     "metadata": {},
     "output_type": "execute_result"
    }
   ],
   "source": [
    "reviews[\"category\"].value_counts()"
   ]
  },
  {
   "cell_type": "code",
   "execution_count": 8,
   "id": "d9ab3aed",
   "metadata": {
    "execution": {
     "iopub.execute_input": "2024-06-20T18:29:15.166894Z",
     "iopub.status.busy": "2024-06-20T18:29:15.166607Z",
     "iopub.status.idle": "2024-06-20T18:29:15.277795Z",
     "shell.execute_reply": "2024-06-20T18:29:15.276697Z"
    },
    "executionInfo": {
     "elapsed": 9,
     "status": "ok",
     "timestamp": 1718832635250,
     "user": {
      "displayName": "Anna Tang",
      "userId": "06009827953892747229"
     },
     "user_tz": 240
    },
    "id": "cec59f50",
    "outputId": "a8692256-1901-416e-c18a-5c3968fff571",
    "papermill": {
     "duration": 0.136437,
     "end_time": "2024-06-20T18:29:15.279846",
     "exception": false,
     "start_time": "2024-06-20T18:29:15.143409",
     "status": "completed"
    },
    "tags": []
   },
   "outputs": [
    {
     "name": "stdout",
     "output_type": "stream",
     "text": [
      "<class 'pandas.core.frame.DataFrame'>\n",
      "Index: 200853 entries, 0 to 200852\n",
      "Data columns (total 6 columns):\n",
      " #   Column             Non-Null Count   Dtype         \n",
      "---  ------             --------------   -----         \n",
      " 0   category           200853 non-null  object        \n",
      " 1   headline           200853 non-null  object        \n",
      " 2   authors            200853 non-null  object        \n",
      " 3   link               200853 non-null  object        \n",
      " 4   short_description  200853 non-null  object        \n",
      " 5   date               200853 non-null  datetime64[ns]\n",
      "dtypes: datetime64[ns](1), object(5)\n",
      "memory usage: 10.7+ MB\n"
     ]
    }
   ],
   "source": [
    "reviews.info()"
   ]
  },
  {
   "cell_type": "markdown",
   "id": "a6eb38a7",
   "metadata": {
    "id": "603cc5e7",
    "papermill": {
     "duration": 0.016203,
     "end_time": "2024-06-20T18:29:15.314422",
     "exception": false,
     "start_time": "2024-06-20T18:29:15.298219",
     "status": "completed"
    },
    "tags": []
   },
   "source": [
    "## Prepare Data"
   ]
  },
  {
   "cell_type": "code",
   "execution_count": 9,
   "id": "52565bd5",
   "metadata": {
    "execution": {
     "iopub.execute_input": "2024-06-20T18:29:15.348933Z",
     "iopub.status.busy": "2024-06-20T18:29:15.348637Z",
     "iopub.status.idle": "2024-06-20T18:29:15.593809Z",
     "shell.execute_reply": "2024-06-20T18:29:15.592815Z"
    },
    "id": "be5da494",
    "papermill": {
     "duration": 0.265289,
     "end_time": "2024-06-20T18:29:15.596215",
     "exception": false,
     "start_time": "2024-06-20T18:29:15.330926",
     "status": "completed"
    },
    "tags": []
   },
   "outputs": [],
   "source": [
    "reviews[\"combined_text\"] = reviews[\"headline\"].str.lower() + ' ' + reviews[\"short_description\"].str.lower()"
   ]
  },
  {
   "cell_type": "code",
   "execution_count": 10,
   "id": "69a78787",
   "metadata": {
    "execution": {
     "iopub.execute_input": "2024-06-20T18:29:15.633265Z",
     "iopub.status.busy": "2024-06-20T18:29:15.632912Z",
     "iopub.status.idle": "2024-06-20T18:29:15.742335Z",
     "shell.execute_reply": "2024-06-20T18:29:15.741404Z"
    },
    "executionInfo": {
     "elapsed": 207,
     "status": "ok",
     "timestamp": 1718832635698,
     "user": {
      "displayName": "Anna Tang",
      "userId": "06009827953892747229"
     },
     "user_tz": 240
    },
    "id": "adde8dd1",
    "outputId": "e686deb1-0bbd-49bf-cb03-47d5c606d68a",
    "papermill": {
     "duration": 0.129419,
     "end_time": "2024-06-20T18:29:15.744312",
     "exception": false,
     "start_time": "2024-06-20T18:29:15.614893",
     "status": "completed"
    },
    "tags": []
   },
   "outputs": [
    {
     "data": {
      "text/html": [
       "<div>\n",
       "<style scoped>\n",
       "    .dataframe tbody tr th:only-of-type {\n",
       "        vertical-align: middle;\n",
       "    }\n",
       "\n",
       "    .dataframe tbody tr th {\n",
       "        vertical-align: top;\n",
       "    }\n",
       "\n",
       "    .dataframe thead th {\n",
       "        text-align: right;\n",
       "    }\n",
       "</style>\n",
       "<table border=\"1\" class=\"dataframe\">\n",
       "  <thead>\n",
       "    <tr style=\"text-align: right;\">\n",
       "      <th></th>\n",
       "      <th>category</th>\n",
       "      <th>headline</th>\n",
       "      <th>authors</th>\n",
       "      <th>link</th>\n",
       "      <th>short_description</th>\n",
       "      <th>date</th>\n",
       "      <th>combined_text</th>\n",
       "    </tr>\n",
       "  </thead>\n",
       "  <tbody>\n",
       "    <tr>\n",
       "      <th>7578</th>\n",
       "      <td>HEALTHY LIVING</td>\n",
       "      <td>To The People Who Say ‘I’m Tired’ When Someone...</td>\n",
       "      <td>The Mighty, ContributorWe face disability, dis...</td>\n",
       "      <td>https://www.huffingtonpost.com/entry/to-the-pe...</td>\n",
       "      <td>When you feel like this, it’s important to kno...</td>\n",
       "      <td>2018-01-16</td>\n",
       "      <td>to the people who say ‘i’m tired’ when someone...</td>\n",
       "    </tr>\n",
       "    <tr>\n",
       "      <th>7693</th>\n",
       "      <td>HEALTHY LIVING</td>\n",
       "      <td>Eating Shake Shack Made Me Feel Healthier Than...</td>\n",
       "      <td>Colleen Werner, ContributorCampus Editor-at-Large</td>\n",
       "      <td>https://www.huffingtonpost.com/entry/eating-sh...</td>\n",
       "      <td>I can vividly remember the first time I felt f...</td>\n",
       "      <td>2018-01-12</td>\n",
       "      <td>eating shake shack made me feel healthier than...</td>\n",
       "    </tr>\n",
       "    <tr>\n",
       "      <th>7747</th>\n",
       "      <td>HEALTHY LIVING</td>\n",
       "      <td>How To Stay Updated On The News Without Losing...</td>\n",
       "      <td>Lindsay Holmes</td>\n",
       "      <td>https://www.huffingtonpost.com/entry/anxiety-f...</td>\n",
       "      <td>Because it's only becoming more of a struggle.</td>\n",
       "      <td>2018-01-12</td>\n",
       "      <td>how to stay updated on the news without losing...</td>\n",
       "    </tr>\n",
       "    <tr>\n",
       "      <th>7927</th>\n",
       "      <td>HEALTHY LIVING</td>\n",
       "      <td>27 Perfect Tweets About Whole30 That Will Make...</td>\n",
       "      <td>Lindsay Holmes</td>\n",
       "      <td>https://www.huffingtonpost.com/entry/tweets-ab...</td>\n",
       "      <td>\"The only Whole30 I want to participate in is ...</td>\n",
       "      <td>2018-01-10</td>\n",
       "      <td>27 perfect tweets about whole30 that will make...</td>\n",
       "    </tr>\n",
       "    <tr>\n",
       "      <th>7934</th>\n",
       "      <td>HEALTHY LIVING</td>\n",
       "      <td>The Real Reason Your Hands Are Always Cold</td>\n",
       "      <td>Refinery29, ContributorThe #1 new-media brand ...</td>\n",
       "      <td>https://www.huffingtonpost.com/entry/the-real-...</td>\n",
       "      <td>Essentially, your hands are kept warm thanks t...</td>\n",
       "      <td>2018-01-10</td>\n",
       "      <td>the real reason your hands are always cold ess...</td>\n",
       "    </tr>\n",
       "  </tbody>\n",
       "</table>\n",
       "</div>"
      ],
      "text/plain": [
       "            category                                           headline  \\\n",
       "7578  HEALTHY LIVING  To The People Who Say ‘I’m Tired’ When Someone...   \n",
       "7693  HEALTHY LIVING  Eating Shake Shack Made Me Feel Healthier Than...   \n",
       "7747  HEALTHY LIVING  How To Stay Updated On The News Without Losing...   \n",
       "7927  HEALTHY LIVING  27 Perfect Tweets About Whole30 That Will Make...   \n",
       "7934  HEALTHY LIVING         The Real Reason Your Hands Are Always Cold   \n",
       "\n",
       "                                                authors  \\\n",
       "7578  The Mighty, ContributorWe face disability, dis...   \n",
       "7693  Colleen Werner, ContributorCampus Editor-at-Large   \n",
       "7747                                     Lindsay Holmes   \n",
       "7927                                     Lindsay Holmes   \n",
       "7934  Refinery29, ContributorThe #1 new-media brand ...   \n",
       "\n",
       "                                                   link  \\\n",
       "7578  https://www.huffingtonpost.com/entry/to-the-pe...   \n",
       "7693  https://www.huffingtonpost.com/entry/eating-sh...   \n",
       "7747  https://www.huffingtonpost.com/entry/anxiety-f...   \n",
       "7927  https://www.huffingtonpost.com/entry/tweets-ab...   \n",
       "7934  https://www.huffingtonpost.com/entry/the-real-...   \n",
       "\n",
       "                                      short_description       date  \\\n",
       "7578  When you feel like this, it’s important to kno... 2018-01-16   \n",
       "7693  I can vividly remember the first time I felt f... 2018-01-12   \n",
       "7747     Because it's only becoming more of a struggle. 2018-01-12   \n",
       "7927  \"The only Whole30 I want to participate in is ... 2018-01-10   \n",
       "7934  Essentially, your hands are kept warm thanks t... 2018-01-10   \n",
       "\n",
       "                                          combined_text  \n",
       "7578  to the people who say ‘i’m tired’ when someone...  \n",
       "7693  eating shake shack made me feel healthier than...  \n",
       "7747  how to stay updated on the news without losing...  \n",
       "7927  27 perfect tweets about whole30 that will make...  \n",
       "7934  the real reason your hands are always cold ess...  "
      ]
     },
     "execution_count": 10,
     "metadata": {},
     "output_type": "execute_result"
    }
   ],
   "source": [
    "# healthy living and wellness articles\n",
    "reviews[reviews[\"category\"].str.contains(\"HEALTHY LIVING\")].head()"
   ]
  },
  {
   "cell_type": "code",
   "execution_count": 11,
   "id": "1f540f0a",
   "metadata": {
    "execution": {
     "iopub.execute_input": "2024-06-20T18:29:15.780100Z",
     "iopub.status.busy": "2024-06-20T18:29:15.779781Z",
     "iopub.status.idle": "2024-06-20T18:29:15.873409Z",
     "shell.execute_reply": "2024-06-20T18:29:15.872504Z"
    },
    "id": "qaOzHRaC040K",
    "papermill": {
     "duration": 0.113631,
     "end_time": "2024-06-20T18:29:15.875407",
     "exception": false,
     "start_time": "2024-06-20T18:29:15.761776",
     "status": "completed"
    },
    "tags": []
   },
   "outputs": [
    {
     "data": {
      "text/plain": [
       "(6694, 7)"
      ]
     },
     "execution_count": 11,
     "metadata": {},
     "output_type": "execute_result"
    }
   ],
   "source": [
    "reviews[reviews[\"category\"].str.contains(\"HEALTHY LIVING\")].shape"
   ]
  },
  {
   "cell_type": "code",
   "execution_count": 12,
   "id": "50fe7c1e",
   "metadata": {
    "execution": {
     "iopub.execute_input": "2024-06-20T18:29:15.911688Z",
     "iopub.status.busy": "2024-06-20T18:29:15.911381Z",
     "iopub.status.idle": "2024-06-20T18:29:16.015471Z",
     "shell.execute_reply": "2024-06-20T18:29:16.014514Z"
    },
    "id": "TY5-82pO05sZ",
    "papermill": {
     "duration": 0.124781,
     "end_time": "2024-06-20T18:29:16.017687",
     "exception": false,
     "start_time": "2024-06-20T18:29:15.892906",
     "status": "completed"
    },
    "tags": []
   },
   "outputs": [
    {
     "data": {
      "text/html": [
       "<div>\n",
       "<style scoped>\n",
       "    .dataframe tbody tr th:only-of-type {\n",
       "        vertical-align: middle;\n",
       "    }\n",
       "\n",
       "    .dataframe tbody tr th {\n",
       "        vertical-align: top;\n",
       "    }\n",
       "\n",
       "    .dataframe thead th {\n",
       "        text-align: right;\n",
       "    }\n",
       "</style>\n",
       "<table border=\"1\" class=\"dataframe\">\n",
       "  <thead>\n",
       "    <tr style=\"text-align: right;\">\n",
       "      <th></th>\n",
       "      <th>category</th>\n",
       "      <th>headline</th>\n",
       "      <th>authors</th>\n",
       "      <th>link</th>\n",
       "      <th>short_description</th>\n",
       "      <th>date</th>\n",
       "      <th>combined_text</th>\n",
       "    </tr>\n",
       "  </thead>\n",
       "  <tbody>\n",
       "    <tr>\n",
       "      <th>124989</th>\n",
       "      <td>WELLNESS</td>\n",
       "      <td>Why Overeating Doesn't Make You Fat</td>\n",
       "      <td>Mark Hyman, MD, Contributor\\nPracticing Physician</td>\n",
       "      <td>https://www.huffingtonpost.com/entry/overeatin...</td>\n",
       "      <td>If you take the right approach to ending your ...</td>\n",
       "      <td>2014-04-17</td>\n",
       "      <td>why overeating doesn't make you fat if you tak...</td>\n",
       "    </tr>\n",
       "    <tr>\n",
       "      <th>124990</th>\n",
       "      <td>WELLNESS</td>\n",
       "      <td>14 Habits Of People With A Healthy Relationshi...</td>\n",
       "      <td>Sarah Klein</td>\n",
       "      <td>https://www.huffingtonpost.com/entry/healthy-r...</td>\n",
       "      <td>After a long list of rules and habits like the...</td>\n",
       "      <td>2014-04-17</td>\n",
       "      <td>14 habits of people with a healthy relationshi...</td>\n",
       "    </tr>\n",
       "    <tr>\n",
       "      <th>124993</th>\n",
       "      <td>WELLNESS</td>\n",
       "      <td>5 Things That Could Be Stealing Your Joy</td>\n",
       "      <td>Amanda Gore, Contributor\\nInternational keynot...</td>\n",
       "      <td>https://www.huffingtonpost.com/entry/joy_us_5b...</td>\n",
       "      <td>Listen to yourself all day today -- are you an...</td>\n",
       "      <td>2014-04-17</td>\n",
       "      <td>5 things that could be stealing your joy liste...</td>\n",
       "    </tr>\n",
       "    <tr>\n",
       "      <th>124994</th>\n",
       "      <td>WELLNESS</td>\n",
       "      <td>Moments Make a Life</td>\n",
       "      <td>Megan McDonough, Contributor\\nCEO, Wholebeing ...</td>\n",
       "      <td>https://www.huffingtonpost.com/entry/moments-m...</td>\n",
       "      <td>Consciously constructing positive habits -- or...</td>\n",
       "      <td>2014-04-17</td>\n",
       "      <td>moments make a life consciously constructing p...</td>\n",
       "    </tr>\n",
       "    <tr>\n",
       "      <th>124996</th>\n",
       "      <td>WELLNESS</td>\n",
       "      <td>Fat Facts</td>\n",
       "      <td>Maria Rodale, Contributor\\nCEO and Chairman of...</td>\n",
       "      <td>https://www.huffingtonpost.com/entry/fat-facts...</td>\n",
       "      <td>Human fat cells, photo by Dr. Peeke Here's how...</td>\n",
       "      <td>2014-04-17</td>\n",
       "      <td>fat facts human fat cells, photo by dr. peeke ...</td>\n",
       "    </tr>\n",
       "  </tbody>\n",
       "</table>\n",
       "</div>"
      ],
      "text/plain": [
       "        category                                           headline  \\\n",
       "124989  WELLNESS                Why Overeating Doesn't Make You Fat   \n",
       "124990  WELLNESS  14 Habits Of People With A Healthy Relationshi...   \n",
       "124993  WELLNESS           5 Things That Could Be Stealing Your Joy   \n",
       "124994  WELLNESS                                Moments Make a Life   \n",
       "124996  WELLNESS                                          Fat Facts   \n",
       "\n",
       "                                                  authors  \\\n",
       "124989  Mark Hyman, MD, Contributor\\nPracticing Physician   \n",
       "124990                                        Sarah Klein   \n",
       "124993  Amanda Gore, Contributor\\nInternational keynot...   \n",
       "124994  Megan McDonough, Contributor\\nCEO, Wholebeing ...   \n",
       "124996  Maria Rodale, Contributor\\nCEO and Chairman of...   \n",
       "\n",
       "                                                     link  \\\n",
       "124989  https://www.huffingtonpost.com/entry/overeatin...   \n",
       "124990  https://www.huffingtonpost.com/entry/healthy-r...   \n",
       "124993  https://www.huffingtonpost.com/entry/joy_us_5b...   \n",
       "124994  https://www.huffingtonpost.com/entry/moments-m...   \n",
       "124996  https://www.huffingtonpost.com/entry/fat-facts...   \n",
       "\n",
       "                                        short_description       date  \\\n",
       "124989  If you take the right approach to ending your ... 2014-04-17   \n",
       "124990  After a long list of rules and habits like the... 2014-04-17   \n",
       "124993  Listen to yourself all day today -- are you an... 2014-04-17   \n",
       "124994  Consciously constructing positive habits -- or... 2014-04-17   \n",
       "124996  Human fat cells, photo by Dr. Peeke Here's how... 2014-04-17   \n",
       "\n",
       "                                            combined_text  \n",
       "124989  why overeating doesn't make you fat if you tak...  \n",
       "124990  14 habits of people with a healthy relationshi...  \n",
       "124993  5 things that could be stealing your joy liste...  \n",
       "124994  moments make a life consciously constructing p...  \n",
       "124996  fat facts human fat cells, photo by dr. peeke ...  "
      ]
     },
     "execution_count": 12,
     "metadata": {},
     "output_type": "execute_result"
    }
   ],
   "source": [
    "# healthy living and wellness articles\n",
    "reviews[reviews[\"category\"].str.contains(\"WELLNESS\")].head()"
   ]
  },
  {
   "cell_type": "code",
   "execution_count": 13,
   "id": "4188398b",
   "metadata": {
    "execution": {
     "iopub.execute_input": "2024-06-20T18:29:16.054441Z",
     "iopub.status.busy": "2024-06-20T18:29:16.054121Z",
     "iopub.status.idle": "2024-06-20T18:29:16.152260Z",
     "shell.execute_reply": "2024-06-20T18:29:16.151353Z"
    },
    "id": "1fb48fXB05k_",
    "papermill": {
     "duration": 0.118841,
     "end_time": "2024-06-20T18:29:16.154362",
     "exception": false,
     "start_time": "2024-06-20T18:29:16.035521",
     "status": "completed"
    },
    "tags": []
   },
   "outputs": [
    {
     "data": {
      "text/plain": [
       "(17827, 7)"
      ]
     },
     "execution_count": 13,
     "metadata": {},
     "output_type": "execute_result"
    }
   ],
   "source": [
    "reviews[reviews[\"category\"].str.contains(\"WELLNESS\")].shape"
   ]
  },
  {
   "cell_type": "code",
   "execution_count": 14,
   "id": "c7d15857",
   "metadata": {
    "execution": {
     "iopub.execute_input": "2024-06-20T18:29:16.191866Z",
     "iopub.status.busy": "2024-06-20T18:29:16.191312Z",
     "iopub.status.idle": "2024-06-20T18:29:16.261850Z",
     "shell.execute_reply": "2024-06-20T18:29:16.260960Z"
    },
    "id": "7b56d4ad",
    "papermill": {
     "duration": 0.091154,
     "end_time": "2024-06-20T18:29:16.263805",
     "exception": false,
     "start_time": "2024-06-20T18:29:16.172651",
     "status": "completed"
    },
    "tags": []
   },
   "outputs": [],
   "source": [
    "reviews[\"health_wellness\"] = np.where((reviews[\"category\"] == \"HEALTHY LIVING\") | (reviews[\"category\"] == \"WELLNESS\"), 1, 0)"
   ]
  },
  {
   "cell_type": "code",
   "execution_count": 15,
   "id": "1b9e56aa",
   "metadata": {
    "execution": {
     "iopub.execute_input": "2024-06-20T18:29:16.301935Z",
     "iopub.status.busy": "2024-06-20T18:29:16.301660Z",
     "iopub.status.idle": "2024-06-20T18:29:16.311411Z",
     "shell.execute_reply": "2024-06-20T18:29:16.310582Z"
    },
    "executionInfo": {
     "elapsed": 9,
     "status": "ok",
     "timestamp": 1718832635699,
     "user": {
      "displayName": "Anna Tang",
      "userId": "06009827953892747229"
     },
     "user_tz": 240
    },
    "id": "8e0ef511",
    "outputId": "a18b4a47-7b58-4b36-d8fc-2de3e90dfa81",
    "papermill": {
     "duration": 0.031559,
     "end_time": "2024-06-20T18:29:16.313250",
     "exception": false,
     "start_time": "2024-06-20T18:29:16.281691",
     "status": "completed"
    },
    "tags": []
   },
   "outputs": [
    {
     "data": {
      "text/plain": [
       "health_wellness\n",
       "0    176332\n",
       "1     24521\n",
       "Name: count, dtype: int64"
      ]
     },
     "execution_count": 15,
     "metadata": {},
     "output_type": "execute_result"
    }
   ],
   "source": [
    "reviews[\"health_wellness\"].value_counts()"
   ]
  },
  {
   "cell_type": "code",
   "execution_count": 16,
   "id": "794b3710",
   "metadata": {
    "execution": {
     "iopub.execute_input": "2024-06-20T18:29:16.350749Z",
     "iopub.status.busy": "2024-06-20T18:29:16.350073Z",
     "iopub.status.idle": "2024-06-20T18:29:16.354148Z",
     "shell.execute_reply": "2024-06-20T18:29:16.353298Z"
    },
    "id": "a8df9319",
    "papermill": {
     "duration": 0.024928,
     "end_time": "2024-06-20T18:29:16.356292",
     "exception": false,
     "start_time": "2024-06-20T18:29:16.331364",
     "status": "completed"
    },
    "tags": []
   },
   "outputs": [],
   "source": [
    "target_names = [\"NOT HEALTH WELLNESS\", \"HEALTH WELLNESS\"]"
   ]
  },
  {
   "cell_type": "markdown",
   "id": "0cf626c3",
   "metadata": {
    "id": "7e274669",
    "papermill": {
     "duration": 0.017775,
     "end_time": "2024-06-20T18:29:16.392195",
     "exception": false,
     "start_time": "2024-06-20T18:29:16.374420",
     "status": "completed"
    },
    "tags": []
   },
   "source": [
    "## Balance the Data"
   ]
  },
  {
   "cell_type": "code",
   "execution_count": 17,
   "id": "5451c5f9",
   "metadata": {
    "execution": {
     "iopub.execute_input": "2024-06-20T18:29:16.429215Z",
     "iopub.status.busy": "2024-06-20T18:29:16.428900Z",
     "iopub.status.idle": "2024-06-20T18:29:16.503646Z",
     "shell.execute_reply": "2024-06-20T18:29:16.502874Z"
    },
    "id": "fba3918a",
    "papermill": {
     "duration": 0.096041,
     "end_time": "2024-06-20T18:29:16.506090",
     "exception": false,
     "start_time": "2024-06-20T18:29:16.410049",
     "status": "completed"
    },
    "tags": []
   },
   "outputs": [],
   "source": [
    "sample_amount = 24000\n",
    "\n",
    "health_wellness = reviews[reviews[\"health_wellness\"] == 1].sample(n=sample_amount)\n",
    "not_health_wellness = reviews[reviews[\"health_wellness\"] == 0].sample(n=sample_amount)"
   ]
  },
  {
   "cell_type": "code",
   "execution_count": 18,
   "id": "62254634",
   "metadata": {
    "execution": {
     "iopub.execute_input": "2024-06-20T18:29:16.543660Z",
     "iopub.status.busy": "2024-06-20T18:29:16.543332Z",
     "iopub.status.idle": "2024-06-20T18:29:16.553900Z",
     "shell.execute_reply": "2024-06-20T18:29:16.553208Z"
    },
    "id": "a4874bf1",
    "papermill": {
     "duration": 0.031398,
     "end_time": "2024-06-20T18:29:16.555810",
     "exception": false,
     "start_time": "2024-06-20T18:29:16.524412",
     "status": "completed"
    },
    "tags": []
   },
   "outputs": [],
   "source": [
    "review_sample = pd.concat([health_wellness, not_health_wellness])"
   ]
  },
  {
   "cell_type": "code",
   "execution_count": 19,
   "id": "774b9b10",
   "metadata": {
    "execution": {
     "iopub.execute_input": "2024-06-20T18:29:16.593281Z",
     "iopub.status.busy": "2024-06-20T18:29:16.592942Z",
     "iopub.status.idle": "2024-06-20T18:29:16.644029Z",
     "shell.execute_reply": "2024-06-20T18:29:16.642999Z"
    },
    "executionInfo": {
     "elapsed": 8,
     "status": "ok",
     "timestamp": 1718832635700,
     "user": {
      "displayName": "Anna Tang",
      "userId": "06009827953892747229"
     },
     "user_tz": 240
    },
    "id": "37e2febc",
    "outputId": "f402547d-4c69-4761-e8dd-38fc2e49d0e5",
    "papermill": {
     "duration": 0.071886,
     "end_time": "2024-06-20T18:29:16.645879",
     "exception": false,
     "start_time": "2024-06-20T18:29:16.573993",
     "status": "completed"
    },
    "tags": []
   },
   "outputs": [
    {
     "name": "stdout",
     "output_type": "stream",
     "text": [
      "<class 'pandas.core.frame.DataFrame'>\n",
      "Index: 48000 entries, 125265 to 33796\n",
      "Data columns (total 8 columns):\n",
      " #   Column             Non-Null Count  Dtype         \n",
      "---  ------             --------------  -----         \n",
      " 0   category           48000 non-null  object        \n",
      " 1   headline           48000 non-null  object        \n",
      " 2   authors            48000 non-null  object        \n",
      " 3   link               48000 non-null  object        \n",
      " 4   short_description  48000 non-null  object        \n",
      " 5   date               48000 non-null  datetime64[ns]\n",
      " 6   combined_text      48000 non-null  object        \n",
      " 7   health_wellness    48000 non-null  int64         \n",
      "dtypes: datetime64[ns](1), int64(1), object(6)\n",
      "memory usage: 3.3+ MB\n"
     ]
    }
   ],
   "source": [
    "review_sample.info()"
   ]
  },
  {
   "cell_type": "code",
   "execution_count": 20,
   "id": "8c6dfbe7",
   "metadata": {
    "execution": {
     "iopub.execute_input": "2024-06-20T18:29:16.726417Z",
     "iopub.status.busy": "2024-06-20T18:29:16.726096Z",
     "iopub.status.idle": "2024-06-20T18:29:16.733645Z",
     "shell.execute_reply": "2024-06-20T18:29:16.732802Z"
    },
    "id": "45a34152",
    "papermill": {
     "duration": 0.028919,
     "end_time": "2024-06-20T18:29:16.735506",
     "exception": false,
     "start_time": "2024-06-20T18:29:16.706587",
     "status": "completed"
    },
    "tags": []
   },
   "outputs": [],
   "source": [
    "def ktrain_model(preprocess_mode, text_process):\n",
    "    train, val, preprocess = ktrain.text.texts_from_df(\n",
    "    review_sample,\n",
    "    \"combined_text\",\n",
    "    label_columns=[\"health_wellness\"],\n",
    "    val_df=None,\n",
    "    max_features=20000,\n",
    "    maxlen=512,\n",
    "    val_pct=0.1,\n",
    "    ngram_range=1,\n",
    "    preprocess_mode=preprocess_mode,\n",
    "    random_state=42, \n",
    "    verbose=1\n",
    "    )\n",
    "\n",
    "    model = ktrain.text.text_classifier(text_process, train, preproc=preprocess)\n",
    "\n",
    "    learner = ktrain.get_learner(model, train_data=train, val_data=val, batch_size=8)\n",
    "\n",
    "    learner.lr_find(max_epochs=6)\n",
    "\n",
    "    learner.lr_plot()\n",
    "\n",
    "    history=learner.autofit(\n",
    "    1e-4,\n",
    "    checkpoint_folder='checkpoint',\n",
    "    epochs=10,\n",
    "    early_stopping=True\n",
    "    )\n",
    "\n",
    "    predictor = ktrain.get_predictor(learner.model, preproc=preprocess)\n",
    "\n",
    "    validation = learner.validate(val_data=val, print_report=True)"
   ]
  },
  {
   "cell_type": "code",
   "execution_count": 21,
   "id": "44c57382",
   "metadata": {
    "execution": {
     "iopub.execute_input": "2024-06-20T18:29:16.773113Z",
     "iopub.status.busy": "2024-06-20T18:29:16.772823Z",
     "iopub.status.idle": "2024-06-20T18:36:31.259337Z",
     "shell.execute_reply": "2024-06-20T18:36:31.258366Z"
    },
    "executionInfo": {
     "elapsed": 102530,
     "status": "ok",
     "timestamp": 1718832738224,
     "user": {
      "displayName": "Anna Tang",
      "userId": "06009827953892747229"
     },
     "user_tz": 240
    },
    "id": "55814180",
    "outputId": "0c726847-87d0-4a5f-9260-c2f26040e213",
    "papermill": {
     "duration": 434.507701,
     "end_time": "2024-06-20T18:36:31.261466",
     "exception": false,
     "start_time": "2024-06-20T18:29:16.753765",
     "status": "completed"
    },
    "tags": []
   },
   "outputs": [
    {
     "name": "stdout",
     "output_type": "stream",
     "text": [
      "['not_health_wellness', 'health_wellness']\n",
      "        not_health_wellness  health_wellness\n",
      "171244                  0.0              1.0\n",
      "165244                  0.0              1.0\n",
      "25086                   1.0              0.0\n",
      "164085                  1.0              0.0\n",
      "19539                   0.0              1.0\n",
      "['not_health_wellness', 'health_wellness']\n",
      "        not_health_wellness  health_wellness\n",
      "161788                  1.0              0.0\n",
      "60418                   1.0              0.0\n",
      "132502                  1.0              0.0\n",
      "82984                   0.0              1.0\n",
      "23397                   0.0              1.0\n",
      "language: en\n",
      "Word Counts: 52527\n",
      "Nrows: 43200\n",
      "43200 train sequences\n",
      "train sequence lengths:\n",
      "\tmean : 32\n",
      "\t95percentile : 57\n",
      "\t99percentile : 67\n",
      "x_train shape: (43200,512)\n",
      "y_train shape: (43200, 2)\n",
      "Is Multi-Label? False\n",
      "4800 test sequences\n",
      "test sequence lengths:\n",
      "\tmean : 31\n",
      "\t95percentile : 57\n",
      "\t99percentile : 68\n",
      "x_test shape: (4800,512)\n",
      "y_test shape: (4800, 2)\n",
      "Is Multi-Label? False\n",
      "compiling word ID features...\n",
      "maxlen is 512\n",
      "done.\n",
      "simulating training for different learning rates... this may take a few moments...\n"
     ]
    },
    {
     "name": "stderr",
     "output_type": "stream",
     "text": [
      "/opt/conda/lib/python3.10/site-packages/tf_keras/src/engine/training.py:3098: UserWarning: You are saving your model as an HDF5 file via `model.save()`. This file format is considered legacy. We recommend using instead the native TF-Keras format, e.g. `model.save('my_model.keras')`.\n",
      "  saving_api.save_model(\n"
     ]
    },
    {
     "name": "stdout",
     "output_type": "stream",
     "text": [
      "Epoch 1/6\n",
      "5400/5400 [==============================] - 48s 4ms/step - loss: 0.9040 - accuracy: 0.5027\n",
      "Epoch 2/6\n",
      "5400/5400 [==============================] - 21s 4ms/step - loss: 0.8716 - accuracy: 0.5086\n",
      "Epoch 3/6\n",
      "5400/5400 [==============================] - 21s 4ms/step - loss: 0.6597 - accuracy: 0.6302\n",
      "Epoch 4/6\n",
      "5400/5400 [==============================] - 21s 4ms/step - loss: 0.4900 - accuracy: 0.7728\n",
      "Epoch 5/6\n",
      "5400/5400 [==============================] - 21s 4ms/step - loss: 1.3886 - accuracy: 0.5156\n",
      "Epoch 6/6\n",
      "5400/5400 [==============================] - 21s 4ms/step - loss: 0.9219 - accuracy: 0.4990\n",
      "\n",
      "\n",
      "done.\n",
      "Please invoke the Learner.lr_plot() method to visually inspect the loss plot to help identify the maximal learning rate associated with falling loss.\n"
     ]
    },
    {
     "data": {
      "image/png": "[encoded data removed]",
      "text/plain": [
       "<Figure size 640x480 with 1 Axes>"
      ]
     },
     "metadata": {},
     "output_type": "display_data"
    },
    {
     "name": "stdout",
     "output_type": "stream",
     "text": [
      "\n",
      "\n",
      "begin training using triangular learning rate policy with max lr of 0.0001...\n",
      "Epoch 1/10\n",
      "5400/5400 [==============================] - 28s 5ms/step - loss: 0.7802 - accuracy: 0.5509 - val_loss: 0.6009 - val_accuracy: 0.7565\n",
      "Epoch 2/10\n",
      "5400/5400 [==============================] - 41s 8ms/step - loss: 0.6434 - accuracy: 0.6387 - val_loss: 0.4922 - val_accuracy: 0.8048\n",
      "Epoch 3/10\n",
      "5400/5400 [==============================] - 25s 5ms/step - loss: 0.5548 - accuracy: 0.7150 - val_loss: 0.4139 - val_accuracy: 0.8292\n",
      "Epoch 4/10\n",
      "5400/5400 [==============================] - 25s 5ms/step - loss: 0.4836 - accuracy: 0.7713 - val_loss: 0.3638 - val_accuracy: 0.8498\n",
      "Epoch 5/10\n",
      "5400/5400 [==============================] - 25s 5ms/step - loss: 0.4443 - accuracy: 0.7970 - val_loss: 0.3369 - val_accuracy: 0.8640\n",
      "Epoch 6/10\n",
      "5400/5400 [==============================] - 25s 5ms/step - loss: 0.4109 - accuracy: 0.8183 - val_loss: 0.3169 - val_accuracy: 0.8717\n",
      "Epoch 7/10\n",
      "5400/5400 [==============================] - 26s 5ms/step - loss: 0.3884 - accuracy: 0.8291 - val_loss: 0.3010 - val_accuracy: 0.8800\n",
      "Epoch 8/10\n",
      "5400/5400 [==============================] - 25s 5ms/step - loss: 0.3685 - accuracy: 0.8420 - val_loss: 0.2905 - val_accuracy: 0.8825\n",
      "Epoch 9/10\n",
      "5400/5400 [==============================] - 25s 5ms/step - loss: 0.3494 - accuracy: 0.8524 - val_loss: 0.2854 - val_accuracy: 0.8823\n",
      "Epoch 10/10\n",
      "5400/5400 [==============================] - 25s 5ms/step - loss: 0.3400 - accuracy: 0.8549 - val_loss: 0.2827 - val_accuracy: 0.8848\n",
      "Weights from best epoch have been loaded into model.\n",
      "150/150 [==============================] - 1s 1ms/step\n",
      "              precision    recall  f1-score   support\n",
      "\n",
      "           0       0.86      0.92      0.89      2453\n",
      "           1       0.91      0.85      0.88      2347\n",
      "\n",
      "    accuracy                           0.88      4800\n",
      "   macro avg       0.89      0.88      0.88      4800\n",
      "weighted avg       0.89      0.88      0.88      4800\n",
      "\n"
     ]
    }
   ],
   "source": [
    "ktrain_model(\"standard\", \"fasttext\")"
   ]
  },
  {
   "cell_type": "code",
   "execution_count": 22,
   "id": "d998a9d8",
   "metadata": {
    "execution": {
     "iopub.execute_input": "2024-06-20T18:36:32.469454Z",
     "iopub.status.busy": "2024-06-20T18:36:32.468724Z",
     "iopub.status.idle": "2024-06-20T18:42:30.398801Z",
     "shell.execute_reply": "2024-06-20T18:42:30.397727Z"
    },
    "executionInfo": {
     "elapsed": 76984,
     "status": "ok",
     "timestamp": 1718832815192,
     "user": {
      "displayName": "Anna Tang",
      "userId": "06009827953892747229"
     },
     "user_tz": 240
    },
    "id": "420dc228",
    "outputId": "d39ed350-089a-4aa7-b11e-c0e3a09ffa86",
    "papermill": {
     "duration": 358.509553,
     "end_time": "2024-06-20T18:42:30.400869",
     "exception": false,
     "start_time": "2024-06-20T18:36:31.891316",
     "status": "completed"
    },
    "tags": []
   },
   "outputs": [
    {
     "name": "stdout",
     "output_type": "stream",
     "text": [
      "['not_health_wellness', 'health_wellness']\n",
      "        not_health_wellness  health_wellness\n",
      "171244                  0.0              1.0\n",
      "165244                  0.0              1.0\n",
      "25086                   1.0              0.0\n",
      "164085                  1.0              0.0\n",
      "19539                   0.0              1.0\n",
      "['not_health_wellness', 'health_wellness']\n",
      "        not_health_wellness  health_wellness\n",
      "161788                  1.0              0.0\n",
      "60418                   1.0              0.0\n",
      "132502                  1.0              0.0\n",
      "82984                   0.0              1.0\n",
      "23397                   0.0              1.0\n",
      "language: en\n",
      "Word Counts: 52527\n",
      "Nrows: 43200\n",
      "43200 train sequences\n",
      "train sequence lengths:\n",
      "\tmean : 32\n",
      "\t95percentile : 57\n",
      "\t99percentile : 67\n",
      "x_train shape: (43200,512)\n",
      "y_train shape: (43200, 2)\n",
      "Is Multi-Label? False\n",
      "4800 test sequences\n",
      "test sequence lengths:\n",
      "\tmean : 31\n",
      "\t95percentile : 57\n",
      "\t99percentile : 68\n",
      "x_test shape: (4800,512)\n",
      "y_test shape: (4800, 2)\n",
      "Is Multi-Label? False\n",
      "compiling word ID features...\n",
      "maxlen is 512\n",
      "building document-term matrix... this may take a few moments...\n",
      "rows: 1-10000\n",
      "rows: 10001-20000\n",
      "rows: 20001-30000\n",
      "rows: 30001-40000\n",
      "rows: 40001-43200\n",
      "computing log-count ratios...\n",
      "done.\n",
      "simulating training for different learning rates... this may take a few moments...\n"
     ]
    },
    {
     "name": "stderr",
     "output_type": "stream",
     "text": [
      "/opt/conda/lib/python3.10/site-packages/tf_keras/src/engine/training.py:3098: UserWarning: You are saving your model as an HDF5 file via `model.save()`. This file format is considered legacy. We recommend using instead the native TF-Keras format, e.g. `model.save('my_model.keras')`.\n",
      "  saving_api.save_model(\n"
     ]
    },
    {
     "name": "stdout",
     "output_type": "stream",
     "text": [
      "Epoch 1/6\n",
      "5400/5400 [==============================] - 19s 3ms/step - loss: 0.7002 - accuracy: 0.4774\n",
      "Epoch 2/6\n",
      "5400/5400 [==============================] - 17s 3ms/step - loss: 0.6632 - accuracy: 0.6201\n",
      "Epoch 3/6\n",
      "5400/5400 [==============================] - 17s 3ms/step - loss: 0.4499 - accuracy: 0.8381\n",
      "Epoch 4/6\n",
      "5400/5400 [==============================] - 17s 3ms/step - loss: 0.2831 - accuracy: 0.8997\n",
      "Epoch 5/6\n",
      "5400/5400 [==============================] - 11s 2ms/step - loss: 1.0859 - accuracy: 0.8618\n",
      "\n",
      "\n",
      "done.\n",
      "Please invoke the Learner.lr_plot() method to visually inspect the loss plot to help identify the maximal learning rate associated with falling loss.\n"
     ]
    },
    {
     "data": {
      "image/png": "[encoded data removed]",
      "text/plain": [
       "<Figure size 640x480 with 1 Axes>"
      ]
     },
     "metadata": {},
     "output_type": "display_data"
    },
    {
     "name": "stdout",
     "output_type": "stream",
     "text": [
      "\n",
      "\n",
      "begin training using triangular learning rate policy with max lr of 0.0001...\n",
      "Epoch 1/10\n",
      "5400/5400 [==============================] - 22s 4ms/step - loss: 0.5674 - accuracy: 0.7426 - val_loss: 0.4876 - val_accuracy: 0.8279\n",
      "Epoch 2/10\n",
      "5400/5400 [==============================] - 21s 4ms/step - loss: 0.4319 - accuracy: 0.8619 - val_loss: 0.4091 - val_accuracy: 0.8640\n",
      "Epoch 3/10\n",
      "5400/5400 [==============================] - 21s 4ms/step - loss: 0.3707 - accuracy: 0.8862 - val_loss: 0.3684 - val_accuracy: 0.8763\n",
      "Epoch 4/10\n",
      "5400/5400 [==============================] - 22s 4ms/step - loss: 0.3356 - accuracy: 0.8950 - val_loss: 0.3443 - val_accuracy: 0.8788\n",
      "Epoch 5/10\n",
      "5400/5400 [==============================] - 21s 4ms/step - loss: 0.3126 - accuracy: 0.9001 - val_loss: 0.3281 - val_accuracy: 0.8838\n",
      "Epoch 6/10\n",
      "5400/5400 [==============================] - 21s 4ms/step - loss: 0.2959 - accuracy: 0.9042 - val_loss: 0.3166 - val_accuracy: 0.8852\n",
      "Epoch 7/10\n",
      "5400/5400 [==============================] - 21s 4ms/step - loss: 0.2830 - accuracy: 0.9069 - val_loss: 0.3077 - val_accuracy: 0.8881\n",
      "Epoch 8/10\n",
      "5400/5400 [==============================] - 21s 4ms/step - loss: 0.2726 - accuracy: 0.9094 - val_loss: 0.3009 - val_accuracy: 0.8892\n",
      "Epoch 9/10\n",
      "5400/5400 [==============================] - 21s 4ms/step - loss: 0.2640 - accuracy: 0.9116 - val_loss: 0.2953 - val_accuracy: 0.8896\n",
      "Epoch 10/10\n",
      "5400/5400 [==============================] - 21s 4ms/step - loss: 0.2567 - accuracy: 0.9137 - val_loss: 0.2909 - val_accuracy: 0.8904\n",
      "Weights from best epoch have been loaded into model.\n",
      "150/150 [==============================] - 0s 1ms/step\n",
      "              precision    recall  f1-score   support\n",
      "\n",
      "           0       0.90      0.89      0.89      2453\n",
      "           1       0.88      0.89      0.89      2347\n",
      "\n",
      "    accuracy                           0.89      4800\n",
      "   macro avg       0.89      0.89      0.89      4800\n",
      "weighted avg       0.89      0.89      0.89      4800\n",
      "\n"
     ]
    }
   ],
   "source": [
    "ktrain_model(\"standard\", \"nbsvm\")"
   ]
  },
  {
   "cell_type": "code",
   "execution_count": 23,
   "id": "6e066b85",
   "metadata": {
    "execution": {
     "iopub.execute_input": "2024-06-20T18:42:32.491775Z",
     "iopub.status.busy": "2024-06-20T18:42:32.491361Z",
     "iopub.status.idle": "2024-06-20T18:47:36.227438Z",
     "shell.execute_reply": "2024-06-20T18:47:36.226252Z"
    },
    "executionInfo": {
     "elapsed": 61470,
     "status": "ok",
     "timestamp": 1718832876642,
     "user": {
      "displayName": "Anna Tang",
      "userId": "06009827953892747229"
     },
     "user_tz": 240
    },
    "id": "10a8f30e",
    "outputId": "354fd56c-656a-4bd0-bad5-8ace511366dd",
    "papermill": {
     "duration": 304.75517,
     "end_time": "2024-06-20T18:47:36.229452",
     "exception": false,
     "start_time": "2024-06-20T18:42:31.474282",
     "status": "completed"
    },
    "tags": []
   },
   "outputs": [
    {
     "name": "stdout",
     "output_type": "stream",
     "text": [
      "['not_health_wellness', 'health_wellness']\n",
      "        not_health_wellness  health_wellness\n",
      "171244                  0.0              1.0\n",
      "165244                  0.0              1.0\n",
      "25086                   1.0              0.0\n",
      "164085                  1.0              0.0\n",
      "19539                   0.0              1.0\n",
      "['not_health_wellness', 'health_wellness']\n",
      "        not_health_wellness  health_wellness\n",
      "161788                  1.0              0.0\n",
      "60418                   1.0              0.0\n",
      "132502                  1.0              0.0\n",
      "82984                   0.0              1.0\n",
      "23397                   0.0              1.0\n",
      "language: en\n",
      "Word Counts: 52527\n",
      "Nrows: 43200\n",
      "43200 train sequences\n",
      "train sequence lengths:\n",
      "\tmean : 32\n",
      "\t95percentile : 57\n",
      "\t99percentile : 67\n",
      "x_train shape: (43200,512)\n",
      "y_train shape: (43200, 2)\n",
      "Is Multi-Label? False\n",
      "4800 test sequences\n",
      "test sequence lengths:\n",
      "\tmean : 31\n",
      "\t95percentile : 57\n",
      "\t99percentile : 68\n",
      "x_test shape: (4800,512)\n",
      "y_test shape: (4800, 2)\n",
      "Is Multi-Label? False\n",
      "compiling word ID features...\n",
      "maxlen is 512\n",
      "done.\n",
      "simulating training for different learning rates... this may take a few moments...\n"
     ]
    },
    {
     "name": "stderr",
     "output_type": "stream",
     "text": [
      "/opt/conda/lib/python3.10/site-packages/tf_keras/src/engine/training.py:3098: UserWarning: You are saving your model as an HDF5 file via `model.save()`. This file format is considered legacy. We recommend using instead the native TF-Keras format, e.g. `model.save('my_model.keras')`.\n",
      "  saving_api.save_model(\n"
     ]
    },
    {
     "name": "stdout",
     "output_type": "stream",
     "text": [
      "Epoch 1/6\n",
      "5400/5400 [==============================] - 18s 3ms/step - loss: 0.6967 - accuracy: 0.4840\n",
      "Epoch 2/6\n",
      "5400/5400 [==============================] - 17s 3ms/step - loss: 0.6697 - accuracy: 0.6050\n",
      "Epoch 3/6\n",
      "5400/5400 [==============================] - 17s 3ms/step - loss: 0.5016 - accuracy: 0.8153\n",
      "Epoch 4/6\n",
      "5400/5400 [==============================] - 18s 3ms/step - loss: 0.3372 - accuracy: 0.8781\n",
      "Epoch 5/6\n",
      "5400/5400 [==============================] - 10s 2ms/step - loss: 1.2295 - accuracy: 0.8416\n",
      "\n",
      "\n",
      "done.\n",
      "Please invoke the Learner.lr_plot() method to visually inspect the loss plot to help identify the maximal learning rate associated with falling loss.\n"
     ]
    },
    {
     "data": {
      "image/png": "[encoded data removed]",
      "text/plain": [
       "<Figure size 640x480 with 1 Axes>"
      ]
     },
     "metadata": {},
     "output_type": "display_data"
    },
    {
     "name": "stdout",
     "output_type": "stream",
     "text": [
      "\n",
      "\n",
      "begin training using triangular learning rate policy with max lr of 0.0001...\n",
      "Epoch 1/10\n",
      "5400/5400 [==============================] - 22s 4ms/step - loss: 0.6012 - accuracy: 0.7187 - val_loss: 0.5391 - val_accuracy: 0.8023\n",
      "Epoch 2/10\n",
      "5400/5400 [==============================] - 22s 4ms/step - loss: 0.4908 - accuracy: 0.8366 - val_loss: 0.4659 - val_accuracy: 0.8360\n",
      "Epoch 3/10\n",
      "5400/5400 [==============================] - 21s 4ms/step - loss: 0.4305 - accuracy: 0.8611 - val_loss: 0.4227 - val_accuracy: 0.8515\n",
      "Epoch 4/10\n",
      "5400/5400 [==============================] - 22s 4ms/step - loss: 0.3912 - accuracy: 0.8744 - val_loss: 0.3937 - val_accuracy: 0.8621\n",
      "Epoch 5/10\n",
      "5400/5400 [==============================] - 21s 4ms/step - loss: 0.3629 - accuracy: 0.8846 - val_loss: 0.3727 - val_accuracy: 0.8700\n",
      "Epoch 6/10\n",
      "5400/5400 [==============================] - 21s 4ms/step - loss: 0.3417 - accuracy: 0.8910 - val_loss: 0.3571 - val_accuracy: 0.8727\n",
      "Epoch 7/10\n",
      "5400/5400 [==============================] - 21s 4ms/step - loss: 0.3247 - accuracy: 0.8956 - val_loss: 0.3448 - val_accuracy: 0.8754\n",
      "Epoch 8/10\n",
      "5400/5400 [==============================] - 21s 4ms/step - loss: 0.3108 - accuracy: 0.8998 - val_loss: 0.3350 - val_accuracy: 0.8779\n",
      "Epoch 9/10\n",
      "5400/5400 [==============================] - 21s 4ms/step - loss: 0.2993 - accuracy: 0.9023 - val_loss: 0.3270 - val_accuracy: 0.8800\n",
      "Epoch 10/10\n",
      "5400/5400 [==============================] - 21s 4ms/step - loss: 0.2894 - accuracy: 0.9054 - val_loss: 0.3205 - val_accuracy: 0.8810\n",
      "Weights from best epoch have been loaded into model.\n",
      "150/150 [==============================] - 0s 1ms/step\n",
      "              precision    recall  f1-score   support\n",
      "\n",
      "           0       0.89      0.88      0.88      2453\n",
      "           1       0.88      0.88      0.88      2347\n",
      "\n",
      "    accuracy                           0.88      4800\n",
      "   macro avg       0.88      0.88      0.88      4800\n",
      "weighted avg       0.88      0.88      0.88      4800\n",
      "\n"
     ]
    }
   ],
   "source": [
    "ktrain_model(\"standard\", \"logreg\")"
   ]
  },
  {
   "cell_type": "code",
   "execution_count": 24,
   "id": "6578c58a",
   "metadata": {
    "execution": {
     "iopub.execute_input": "2024-06-20T18:47:39.289717Z",
     "iopub.status.busy": "2024-06-20T18:47:39.288846Z",
     "iopub.status.idle": "2024-06-20T19:17:35.170963Z",
     "shell.execute_reply": "2024-06-20T19:17:35.170023Z"
    },
    "executionInfo": {
     "elapsed": 748012,
     "status": "ok",
     "timestamp": 1718833624638,
     "user": {
      "displayName": "Anna Tang",
      "userId": "06009827953892747229"
     },
     "user_tz": 240
    },
    "id": "9b302c3e",
    "outputId": "4b85c616-eccd-4e66-e76a-98dd60f90175",
    "papermill": {
     "duration": 1799.39684,
     "end_time": "2024-06-20T19:17:37.157392",
     "exception": false,
     "start_time": "2024-06-20T18:47:37.760552",
     "status": "completed"
    },
    "tags": []
   },
   "outputs": [
    {
     "name": "stdout",
     "output_type": "stream",
     "text": [
      "['not_health_wellness', 'health_wellness']\n",
      "        not_health_wellness  health_wellness\n",
      "171244                  0.0              1.0\n",
      "165244                  0.0              1.0\n",
      "25086                   1.0              0.0\n",
      "164085                  1.0              0.0\n",
      "19539                   0.0              1.0\n",
      "['not_health_wellness', 'health_wellness']\n",
      "        not_health_wellness  health_wellness\n",
      "161788                  1.0              0.0\n",
      "60418                   1.0              0.0\n",
      "132502                  1.0              0.0\n",
      "82984                   0.0              1.0\n",
      "23397                   0.0              1.0\n",
      "language: en\n",
      "Word Counts: 52527\n",
      "Nrows: 43200\n",
      "43200 train sequences\n",
      "train sequence lengths:\n",
      "\tmean : 32\n",
      "\t95percentile : 57\n",
      "\t99percentile : 67\n",
      "x_train shape: (43200,512)\n",
      "y_train shape: (43200, 2)\n",
      "Is Multi-Label? False\n",
      "4800 test sequences\n",
      "test sequence lengths:\n",
      "\tmean : 31\n",
      "\t95percentile : 57\n",
      "\t99percentile : 68\n",
      "x_test shape: (4800,512)\n",
      "y_test shape: (4800, 2)\n",
      "Is Multi-Label? False\n",
      "compiling word ID features...\n",
      "maxlen is 512\n",
      "word vectors will be loaded from: https://dl.fbaipublicfiles.com/fasttext/vectors-crawl/cc.en.300.vec.gz\n",
      "processing pretrained word vectors...\n",
      "downloading pretrained word vectors to /root/ktrain_data ...\n",
      "[██████████████████████████████████████████████████]\n",
      "extracting pretrained word vectors...\n",
      "done.\n",
      "\n",
      "cleanup downloaded zip...\n",
      "done.\n",
      "\n",
      "loading pretrained word vectors...this may take a few moments...\n"
     ]
    },
    {
     "data": {
      "text/html": [
       "\n",
       "<style>\n",
       "    /* Turns off some styling */\n",
       "    progress {\n",
       "        /* gets rid of default border in Firefox and Opera. */\n",
       "        border: none;\n",
       "        /* Needs to be in here for Safari polyfill so background images work as expected. */\n",
       "        background-size: auto;\n",
       "    }\n",
       "    progress:not([value]), progress:not([value])::-webkit-progress-bar {\n",
       "        background: repeating-linear-gradient(45deg, #7e7e7e, #7e7e7e 10px, #5c5c5c 10px, #5c5c5c 20px);\n",
       "    }\n",
       "    .progress-bar-interrupted, .progress-bar-interrupted::-webkit-progress-bar {\n",
       "        background: #F44336;\n",
       "    }\n",
       "</style>\n"
      ],
      "text/plain": [
       "<IPython.core.display.HTML object>"
      ]
     },
     "metadata": {},
     "output_type": "display_data"
    },
    {
     "data": {
      "text/html": [],
      "text/plain": [
       "<IPython.core.display.HTML object>"
      ]
     },
     "metadata": {},
     "output_type": "display_data"
    },
    {
     "name": "stdout",
     "output_type": "stream",
     "text": [
      "done.\n",
      "simulating training for different learning rates... this may take a few moments...\n"
     ]
    },
    {
     "name": "stderr",
     "output_type": "stream",
     "text": [
      "/opt/conda/lib/python3.10/site-packages/tf_keras/src/engine/training.py:3098: UserWarning: You are saving your model as an HDF5 file via `model.save()`. This file format is considered legacy. We recommend using instead the native TF-Keras format, e.g. `model.save('my_model.keras')`.\n",
      "  saving_api.save_model(\n"
     ]
    },
    {
     "name": "stdout",
     "output_type": "stream",
     "text": [
      "Epoch 1/6\n",
      "5400/5400 [==============================] - 158s 27ms/step - loss: 0.6909 - accuracy: 0.5310\n",
      "Epoch 2/6\n",
      "5400/5400 [==============================] - 150s 28ms/step - loss: 0.6364 - accuracy: 0.6648\n",
      "Epoch 3/6\n",
      "5400/5400 [==============================] - 150s 28ms/step - loss: 0.3040 - accuracy: 0.8734\n",
      "Epoch 4/6\n",
      "5400/5400 [==============================] - 151s 28ms/step - loss: nan - accuracy: 0.7741\n",
      "Epoch 5/6\n",
      "5400/5400 [==============================] - 150s 28ms/step - loss: nan - accuracy: 0.4988\n",
      "Epoch 6/6\n",
      "5400/5400 [==============================] - 150s 28ms/step - loss: nan - accuracy: 0.4988\n",
      "\n",
      "\n",
      "done.\n",
      "Please invoke the Learner.lr_plot() method to visually inspect the loss plot to help identify the maximal learning rate associated with falling loss.\n"
     ]
    },
    {
     "data": {
      "image/png": "[encoded data removed]",
      "text/plain": [
       "<Figure size 640x480 with 1 Axes>"
      ]
     },
     "metadata": {},
     "output_type": "display_data"
    },
    {
     "name": "stdout",
     "output_type": "stream",
     "text": [
      "\n",
      "\n",
      "begin training using triangular learning rate policy with max lr of 0.0001...\n",
      "Epoch 1/10\n",
      "5400/5400 [==============================] - 165s 30ms/step - loss: 0.4288 - accuracy: 0.7980 - val_loss: 0.2790 - val_accuracy: 0.8848\n",
      "Epoch 2/10\n",
      "5400/5400 [==============================] - 160s 30ms/step - loss: 0.2496 - accuracy: 0.9007 - val_loss: 0.2578 - val_accuracy: 0.8935\n",
      "Epoch 3/10\n",
      "5400/5400 [==============================] - 160s 30ms/step - loss: 0.2145 - accuracy: 0.9162 - val_loss: 0.2542 - val_accuracy: 0.8919\n",
      "Epoch 4/10\n",
      "5399/5400 [============================>.] - ETA: 0s - loss: 0.1895 - accuracy: 0.9267Restoring model weights from the end of the best epoch: 3.\n",
      "5400/5400 [==============================] - 160s 30ms/step - loss: 0.1896 - accuracy: 0.9267 - val_loss: 0.2559 - val_accuracy: 0.8927\n",
      "Epoch 4: early stopping\n",
      "Weights from best epoch have been loaded into model.\n",
      "150/150 [==============================] - 4s 21ms/step\n",
      "              precision    recall  f1-score   support\n",
      "\n",
      "           0       0.91      0.88      0.89      2453\n",
      "           1       0.88      0.90      0.89      2347\n",
      "\n",
      "    accuracy                           0.89      4800\n",
      "   macro avg       0.89      0.89      0.89      4800\n",
      "weighted avg       0.89      0.89      0.89      4800\n",
      "\n"
     ]
    }
   ],
   "source": [
    "ktrain_model(\"standard\", \"bigru\")"
   ]
  },
  {
   "cell_type": "code",
   "execution_count": 25,
   "id": "37e1b5d6",
   "metadata": {
    "execution": {
     "iopub.execute_input": "2024-06-20T19:17:44.966507Z",
     "iopub.status.busy": "2024-06-20T19:17:44.965620Z",
     "iopub.status.idle": "2024-06-20T20:21:38.010703Z",
     "shell.execute_reply": "2024-06-20T20:21:38.009694Z"
    },
    "executionInfo": {
     "elapsed": 628275,
     "status": "ok",
     "timestamp": 1718834252901,
     "user": {
      "displayName": "Anna Tang",
      "userId": "06009827953892747229"
     },
     "user_tz": 240
    },
    "id": "4ceda84f",
    "outputId": "831d2a17-ffc1-45ab-eb73-e9a40256a1b3",
    "papermill": {
     "duration": 3836.978571,
     "end_time": "2024-06-20T20:21:38.012807",
     "exception": false,
     "start_time": "2024-06-20T19:17:41.034236",
     "status": "completed"
    },
    "tags": []
   },
   "outputs": [
    {
     "name": "stdout",
     "output_type": "stream",
     "text": [
      "['not_health_wellness', 'health_wellness']\n",
      "        not_health_wellness  health_wellness\n",
      "171244                  0.0              1.0\n",
      "165244                  0.0              1.0\n",
      "25086                   1.0              0.0\n",
      "164085                  1.0              0.0\n",
      "19539                   0.0              1.0\n",
      "['not_health_wellness', 'health_wellness']\n",
      "        not_health_wellness  health_wellness\n",
      "161788                  1.0              0.0\n",
      "60418                   1.0              0.0\n",
      "132502                  1.0              0.0\n",
      "82984                   0.0              1.0\n",
      "23397                   0.0              1.0\n",
      "language: en\n",
      "Word Counts: 52527\n",
      "Nrows: 43200\n",
      "43200 train sequences\n",
      "train sequence lengths:\n",
      "\tmean : 32\n",
      "\t95percentile : 57\n",
      "\t99percentile : 67\n",
      "x_train shape: (43200,512)\n",
      "y_train shape: (43200, 2)\n",
      "Is Multi-Label? False\n",
      "4800 test sequences\n",
      "test sequence lengths:\n",
      "\tmean : 31\n",
      "\t95percentile : 57\n",
      "\t99percentile : 68\n",
      "x_test shape: (4800,512)\n",
      "y_test shape: (4800, 2)\n",
      "Is Multi-Label? False\n",
      "compiling word ID features...\n",
      "maxlen is 512\n",
      "done.\n",
      "simulating training for different learning rates... this may take a few moments...\n"
     ]
    },
    {
     "name": "stderr",
     "output_type": "stream",
     "text": [
      "/opt/conda/lib/python3.10/site-packages/tf_keras/src/engine/training.py:3098: UserWarning: You are saving your model as an HDF5 file via `model.save()`. This file format is considered legacy. We recommend using instead the native TF-Keras format, e.g. `model.save('my_model.keras')`.\n",
      "  saving_api.save_model(\n"
     ]
    },
    {
     "name": "stdout",
     "output_type": "stream",
     "text": [
      "Epoch 1/6\n",
      "5400/5400 [==============================] - 234s 43ms/step - loss: 0.6946 - accuracy: 0.4982\n",
      "Epoch 2/6\n",
      "5400/5400 [==============================] - 230s 43ms/step - loss: 0.6931 - accuracy: 0.5110\n",
      "Epoch 3/6\n",
      "5400/5400 [==============================] - 230s 43ms/step - loss: 0.4817 - accuracy: 0.7655\n",
      "Epoch 4/6\n",
      "5400/5400 [==============================] - 230s 43ms/step - loss: nan - accuracy: 0.6183\n",
      "Epoch 5/6\n",
      "5400/5400 [==============================] - 229s 42ms/step - loss: nan - accuracy: 0.4988\n",
      "Epoch 6/6\n",
      "5400/5400 [==============================] - 230s 43ms/step - loss: nan - accuracy: 0.4988\n",
      "\n",
      "\n",
      "done.\n",
      "Please invoke the Learner.lr_plot() method to visually inspect the loss plot to help identify the maximal learning rate associated with falling loss.\n"
     ]
    },
    {
     "data": {
      "image/png": "[encoded data removed]",
      "text/plain": [
       "<Figure size 640x480 with 1 Axes>"
      ]
     },
     "metadata": {},
     "output_type": "display_data"
    },
    {
     "name": "stdout",
     "output_type": "stream",
     "text": [
      "\n",
      "\n",
      "begin training using triangular learning rate policy with max lr of 0.0001...\n",
      "Epoch 1/10\n",
      "5400/5400 [==============================] - 247s 45ms/step - loss: 0.5887 - accuracy: 0.6537 - val_loss: 0.4023 - val_accuracy: 0.8217\n",
      "Epoch 2/10\n",
      "5400/5400 [==============================] - 243s 45ms/step - loss: 0.4150 - accuracy: 0.8130 - val_loss: 0.3270 - val_accuracy: 0.8635\n",
      "Epoch 3/10\n",
      "5400/5400 [==============================] - 243s 45ms/step - loss: 0.3511 - accuracy: 0.8489 - val_loss: 0.2945 - val_accuracy: 0.8785\n",
      "Epoch 4/10\n",
      "5400/5400 [==============================] - 244s 45ms/step - loss: 0.3150 - accuracy: 0.8670 - val_loss: 0.2812 - val_accuracy: 0.8856\n",
      "Epoch 5/10\n",
      "5400/5400 [==============================] - 244s 45ms/step - loss: 0.2879 - accuracy: 0.8809 - val_loss: 0.2716 - val_accuracy: 0.8898\n",
      "Epoch 6/10\n",
      "5400/5400 [==============================] - 243s 45ms/step - loss: 0.2707 - accuracy: 0.8892 - val_loss: 0.2663 - val_accuracy: 0.8931\n",
      "Epoch 7/10\n",
      "5400/5400 [==============================] - 244s 45ms/step - loss: 0.2570 - accuracy: 0.8959 - val_loss: 0.2627 - val_accuracy: 0.8956\n",
      "Epoch 8/10\n",
      "5400/5400 [==============================] - 244s 45ms/step - loss: 0.2489 - accuracy: 0.8997 - val_loss: 0.2618 - val_accuracy: 0.8983\n",
      "Epoch 9/10\n",
      "5400/5400 [==============================] - 243s 45ms/step - loss: 0.2422 - accuracy: 0.9037 - val_loss: 0.2599 - val_accuracy: 0.8981\n",
      "Epoch 10/10\n",
      "5400/5400 [==============================] - 241s 45ms/step - loss: 0.2326 - accuracy: 0.9076 - val_loss: 0.2593 - val_accuracy: 0.8960\n",
      "Weights from best epoch have been loaded into model.\n",
      "150/150 [==============================] - 5s 26ms/step\n",
      "              precision    recall  f1-score   support\n",
      "\n",
      "           0       0.90      0.90      0.90      2453\n",
      "           1       0.89      0.89      0.89      2347\n",
      "\n",
      "    accuracy                           0.90      4800\n",
      "   macro avg       0.90      0.90      0.90      4800\n",
      "weighted avg       0.90      0.90      0.90      4800\n",
      "\n"
     ]
    }
   ],
   "source": [
    "ktrain_model(\"standard\", \"standard_gru\")"
   ]
  }
 ],
 "metadata": {
  "accelerator": "GPU",
  "colab": {
   "gpuType": "L4",
   "provenance": []
  },
  "kaggle": {
   "accelerator": "gpu",
   "dataSources": [
    {
     "datasetId": 5247734,
     "sourceId": 8740624,
     "sourceType": "datasetVersion"
    }
   ],
   "dockerImageVersionId": 30733,
   "isGpuEnabled": true,
   "isInternetEnabled": true,
   "language": "python",
   "sourceType": "notebook"
  },
  "kernelspec": {
   "display_name": "Python 3",
   "language": "python",
   "name": "python3"
  },
  "language_info": {
   "codemirror_mode": {
    "name": "ipython",
    "version": 3
   },
   "file_extension": ".py",
   "mimetype": "text/x-python",
   "name": "python",
   "nbconvert_exporter": "python",
   "pygments_lexer": "ipython3",
   "version": "3.10.13"
  },
  "papermill": {
   "default_parameters": {},
   "duration": 6836.438085,
   "end_time": "2024-06-20T20:21:48.495457",
   "environment_variables": {},
   "exception": null,
   "input_path": "__notebook__.ipynb",
   "output_path": "__notebook__.ipynb",
   "parameters": {},
   "start_time": "2024-06-20T18:27:52.057372",
   "version": "2.5.0"
  }
 },
 "nbformat": 4,
 "nbformat_minor": 5
}
