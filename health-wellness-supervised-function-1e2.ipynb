{
 "cells": [
  {
   "cell_type": "code",
   "execution_count": 1,
   "id": "9846933a",
   "metadata": {
    "execution": {
     "iopub.execute_input": "2024-06-21T01:17:10.511192Z",
     "iopub.status.busy": "2024-06-21T01:17:10.510868Z",
     "iopub.status.idle": "2024-06-21T01:17:11.280909Z",
     "shell.execute_reply": "2024-06-21T01:17:11.279863Z"
    },
    "executionInfo": {
     "elapsed": 33348,
     "status": "ok",
     "timestamp": 1718832595463,
     "user": {
      "displayName": "Anna Tang",
      "userId": "06009827953892747229"
     },
     "user_tz": 240
    },
    "id": "2yFpcXAxX9yh",
    "outputId": "f9b22a9e-b2d1-4bcd-a46a-aff61050e8c5",
    "papermill": {
     "duration": 0.781388,
     "end_time": "2024-06-21T01:17:11.283107",
     "exception": false,
     "start_time": "2024-06-21T01:17:10.501719",
     "status": "completed"
    },
    "tags": []
   },
   "outputs": [
    {
     "name": "stdout",
     "output_type": "stream",
     "text": [
      "/kaggle/input/news-category-trainingdata/news_category_trainingdata.json\n"
     ]
    }
   ],
   "source": [
    "# This Python 3 environment comes with many helpful analytics libraries installed\n",
    "# It is defined by the kaggle/python Docker image: https://github.com/kaggle/docker-python\n",
    "# For example, here's several helpful packages to load\n",
    "\n",
    "import numpy as np # linear algebra\n",
    "import pandas as pd # data processing, CSV file I/O (e.g. pd.read_csv)\n",
    "\n",
    "# Input data files are available in the read-only \"../input/\" directory\n",
    "# For example, running this (by clicking run or pressing Shift+Enter) will list all files under the input directory\n",
    "\n",
    "import os\n",
    "for dirname, _, filenames in os.walk('/kaggle/input'):\n",
    "    for filename in filenames:\n",
    "        print(os.path.join(dirname, filename))\n",
    "\n",
    "# You can write up to 20GB to the current directory (/kaggle/working/) that gets preserved as output when you create a version using \"Save & Run All\" \n",
    "# You can also write temporary files to /kaggle/temp/, but they won't be saved outside of the current session"
   ]
  },
  {
   "cell_type": "code",
   "execution_count": 2,
   "id": "a063e1e4",
   "metadata": {
    "execution": {
     "iopub.execute_input": "2024-06-21T01:17:11.299767Z",
     "iopub.status.busy": "2024-06-21T01:17:11.299400Z",
     "iopub.status.idle": "2024-06-21T01:18:28.755117Z",
     "shell.execute_reply": "2024-06-21T01:18:28.753965Z"
    },
    "executionInfo": {
     "elapsed": 36088,
     "status": "ok",
     "timestamp": 1718832631548,
     "user": {
      "displayName": "Anna Tang",
      "userId": "06009827953892747229"
     },
     "user_tz": 240
    },
    "id": "2259b7c9",
    "outputId": "c2dd0c12-01e3-454e-fe5a-904ba93190ed",
    "papermill": {
     "duration": 77.46659,
     "end_time": "2024-06-21T01:18:28.757619",
     "exception": false,
     "start_time": "2024-06-21T01:17:11.291029",
     "status": "completed"
    },
    "tags": []
   },
   "outputs": [
    {
     "name": "stdout",
     "output_type": "stream",
     "text": [
      "Requirement already satisfied: tf-keras in /opt/conda/lib/python3.10/site-packages (2.15.1)\r\n",
      "Requirement already satisfied: tensorflow<2.16,>=2.15 in /opt/conda/lib/python3.10/site-packages (from tf-keras) (2.15.0)\r\n",
      "Requirement already satisfied: absl-py>=1.0.0 in /opt/conda/lib/python3.10/site-packages (from tensorflow<2.16,>=2.15->tf-keras) (1.4.0)\r\n",
      "Requirement already satisfied: astunparse>=1.6.0 in /opt/conda/lib/python3.10/site-packages (from tensorflow<2.16,>=2.15->tf-keras) (1.6.3)\r\n",
      "Requirement already satisfied: flatbuffers>=23.5.26 in /opt/conda/lib/python3.10/site-packages (from tensorflow<2.16,>=2.15->tf-keras) (23.5.26)\r\n",
      "Requirement already satisfied: gast!=0.5.0,!=0.5.1,!=0.5.2,>=0.2.1 in /opt/conda/lib/python3.10/site-packages (from tensorflow<2.16,>=2.15->tf-keras) (0.5.4)\r\n",
      "Requirement already satisfied: google-pasta>=0.1.1 in /opt/conda/lib/python3.10/site-packages (from tensorflow<2.16,>=2.15->tf-keras) (0.2.0)\r\n",
      "Requirement already satisfied: h5py>=2.9.0 in /opt/conda/lib/python3.10/site-packages (from tensorflow<2.16,>=2.15->tf-keras) (3.10.0)\r\n",
      "Requirement already satisfied: libclang>=13.0.0 in /opt/conda/lib/python3.10/site-packages (from tensorflow<2.16,>=2.15->tf-keras) (16.0.6)\r\n",
      "Requirement already satisfied: ml-dtypes~=0.2.0 in /opt/conda/lib/python3.10/site-packages (from tensorflow<2.16,>=2.15->tf-keras) (0.2.0)\r\n",
      "Requirement already satisfied: numpy<2.0.0,>=1.23.5 in /opt/conda/lib/python3.10/site-packages (from tensorflow<2.16,>=2.15->tf-keras) (1.26.4)\r\n",
      "Requirement already satisfied: opt-einsum>=2.3.2 in /opt/conda/lib/python3.10/site-packages (from tensorflow<2.16,>=2.15->tf-keras) (3.3.0)\r\n",
      "Requirement already satisfied: packaging in /opt/conda/lib/python3.10/site-packages (from tensorflow<2.16,>=2.15->tf-keras) (21.3)\r\n",
      "Requirement already satisfied: protobuf!=4.21.0,!=4.21.1,!=4.21.2,!=4.21.3,!=4.21.4,!=4.21.5,<5.0.0dev,>=3.20.3 in /opt/conda/lib/python3.10/site-packages (from tensorflow<2.16,>=2.15->tf-keras) (3.20.3)\r\n",
      "Requirement already satisfied: setuptools in /opt/conda/lib/python3.10/site-packages (from tensorflow<2.16,>=2.15->tf-keras) (69.0.3)\r\n",
      "Requirement already satisfied: six>=1.12.0 in /opt/conda/lib/python3.10/site-packages (from tensorflow<2.16,>=2.15->tf-keras) (1.16.0)\r\n",
      "Requirement already satisfied: termcolor>=1.1.0 in /opt/conda/lib/python3.10/site-packages (from tensorflow<2.16,>=2.15->tf-keras) (2.4.0)\r\n",
      "Requirement already satisfied: typing-extensions>=3.6.6 in /opt/conda/lib/python3.10/site-packages (from tensorflow<2.16,>=2.15->tf-keras) (4.9.0)\r\n",
      "Requirement already satisfied: wrapt<1.15,>=1.11.0 in /opt/conda/lib/python3.10/site-packages (from tensorflow<2.16,>=2.15->tf-keras) (1.14.1)\r\n",
      "Requirement already satisfied: tensorflow-io-gcs-filesystem>=0.23.1 in /opt/conda/lib/python3.10/site-packages (from tensorflow<2.16,>=2.15->tf-keras) (0.35.0)\r\n",
      "Requirement already satisfied: grpcio<2.0,>=1.24.3 in /opt/conda/lib/python3.10/site-packages (from tensorflow<2.16,>=2.15->tf-keras) (1.59.3)\r\n",
      "Requirement already satisfied: tensorboard<2.16,>=2.15 in /opt/conda/lib/python3.10/site-packages (from tensorflow<2.16,>=2.15->tf-keras) (2.15.1)\r\n",
      "Requirement already satisfied: tensorflow-estimator<2.16,>=2.15.0 in /opt/conda/lib/python3.10/site-packages (from tensorflow<2.16,>=2.15->tf-keras) (2.15.0)\r\n",
      "Collecting keras<2.16,>=2.15.0 (from tensorflow<2.16,>=2.15->tf-keras)\r\n",
      "  Downloading keras-2.15.0-py3-none-any.whl.metadata (2.4 kB)\r\n",
      "Requirement already satisfied: wheel<1.0,>=0.23.0 in /opt/conda/lib/python3.10/site-packages (from astunparse>=1.6.0->tensorflow<2.16,>=2.15->tf-keras) (0.42.0)\r\n",
      "Requirement already satisfied: google-auth<3,>=1.6.3 in /opt/conda/lib/python3.10/site-packages (from tensorboard<2.16,>=2.15->tensorflow<2.16,>=2.15->tf-keras) (2.26.1)\r\n",
      "Requirement already satisfied: google-auth-oauthlib<2,>=0.5 in /opt/conda/lib/python3.10/site-packages (from tensorboard<2.16,>=2.15->tensorflow<2.16,>=2.15->tf-keras) (1.2.0)\r\n",
      "Requirement already satisfied: markdown>=2.6.8 in /opt/conda/lib/python3.10/site-packages (from tensorboard<2.16,>=2.15->tensorflow<2.16,>=2.15->tf-keras) (3.5.2)\r\n",
      "Requirement already satisfied: requests<3,>=2.21.0 in /opt/conda/lib/python3.10/site-packages (from tensorboard<2.16,>=2.15->tensorflow<2.16,>=2.15->tf-keras) (2.32.3)\r\n",
      "Requirement already satisfied: tensorboard-data-server<0.8.0,>=0.7.0 in /opt/conda/lib/python3.10/site-packages (from tensorboard<2.16,>=2.15->tensorflow<2.16,>=2.15->tf-keras) (0.7.2)\r\n",
      "Requirement already satisfied: werkzeug>=1.0.1 in /opt/conda/lib/python3.10/site-packages (from tensorboard<2.16,>=2.15->tensorflow<2.16,>=2.15->tf-keras) (3.0.3)\r\n",
      "Requirement already satisfied: pyparsing!=3.0.5,>=2.0.2 in /opt/conda/lib/python3.10/site-packages (from packaging->tensorflow<2.16,>=2.15->tf-keras) (3.1.1)\r\n",
      "Requirement already satisfied: cachetools<6.0,>=2.0.0 in /opt/conda/lib/python3.10/site-packages (from google-auth<3,>=1.6.3->tensorboard<2.16,>=2.15->tensorflow<2.16,>=2.15->tf-keras) (4.2.4)\r\n",
      "Requirement already satisfied: pyasn1-modules>=0.2.1 in /opt/conda/lib/python3.10/site-packages (from google-auth<3,>=1.6.3->tensorboard<2.16,>=2.15->tensorflow<2.16,>=2.15->tf-keras) (0.3.0)\r\n",
      "Requirement already satisfied: rsa<5,>=3.1.4 in /opt/conda/lib/python3.10/site-packages (from google-auth<3,>=1.6.3->tensorboard<2.16,>=2.15->tensorflow<2.16,>=2.15->tf-keras) (4.9)\r\n",
      "Requirement already satisfied: requests-oauthlib>=0.7.0 in /opt/conda/lib/python3.10/site-packages (from google-auth-oauthlib<2,>=0.5->tensorboard<2.16,>=2.15->tensorflow<2.16,>=2.15->tf-keras) (1.3.1)\r\n",
      "Requirement already satisfied: charset-normalizer<4,>=2 in /opt/conda/lib/python3.10/site-packages (from requests<3,>=2.21.0->tensorboard<2.16,>=2.15->tensorflow<2.16,>=2.15->tf-keras) (3.3.2)\r\n",
      "Requirement already satisfied: idna<4,>=2.5 in /opt/conda/lib/python3.10/site-packages (from requests<3,>=2.21.0->tensorboard<2.16,>=2.15->tensorflow<2.16,>=2.15->tf-keras) (3.6)\r\n",
      "Requirement already satisfied: urllib3<3,>=1.21.1 in /opt/conda/lib/python3.10/site-packages (from requests<3,>=2.21.0->tensorboard<2.16,>=2.15->tensorflow<2.16,>=2.15->tf-keras) (1.26.18)\r\n",
      "Requirement already satisfied: certifi>=2017.4.17 in /opt/conda/lib/python3.10/site-packages (from requests<3,>=2.21.0->tensorboard<2.16,>=2.15->tensorflow<2.16,>=2.15->tf-keras) (2024.2.2)\r\n",
      "Requirement already satisfied: MarkupSafe>=2.1.1 in /opt/conda/lib/python3.10/site-packages (from werkzeug>=1.0.1->tensorboard<2.16,>=2.15->tensorflow<2.16,>=2.15->tf-keras) (2.1.3)\r\n",
      "Requirement already satisfied: pyasn1<0.6.0,>=0.4.6 in /opt/conda/lib/python3.10/site-packages (from pyasn1-modules>=0.2.1->google-auth<3,>=1.6.3->tensorboard<2.16,>=2.15->tensorflow<2.16,>=2.15->tf-keras) (0.5.1)\r\n",
      "Requirement already satisfied: oauthlib>=3.0.0 in /opt/conda/lib/python3.10/site-packages (from requests-oauthlib>=0.7.0->google-auth-oauthlib<2,>=0.5->tensorboard<2.16,>=2.15->tensorflow<2.16,>=2.15->tf-keras) (3.2.2)\r\n",
      "Downloading keras-2.15.0-py3-none-any.whl (1.7 MB)\r\n",
      "\u001b[2K   \u001b[90m━━━━━━━━━━━━━━━━━━━━━━━━━━━━━━━━━━━━━━━━\u001b[0m \u001b[32m1.7/1.7 MB\u001b[0m \u001b[31m23.3 MB/s\u001b[0m eta \u001b[36m0:00:00\u001b[0m\r\n",
      "\u001b[?25hInstalling collected packages: keras\r\n",
      "  Attempting uninstall: keras\r\n",
      "    Found existing installation: keras 3.3.3\r\n",
      "    Uninstalling keras-3.3.3:\r\n",
      "      Successfully uninstalled keras-3.3.3\r\n",
      "\u001b[31mERROR: pip's dependency resolver does not currently take into account all the packages that are installed. This behaviour is the source of the following dependency conflicts.\r\n",
      "tensorflow-decision-forests 1.8.1 requires wurlitzer, which is not installed.\u001b[0m\u001b[31m\r\n",
      "\u001b[0mSuccessfully installed keras-2.15.0\r\n",
      "TF_USE_LEGACY_KERAS: None\n",
      "TF_USE_LEGACY_KERAS: 1\n",
      "Collecting ktrain\r\n",
      "  Downloading ktrain-0.41.4.tar.gz (25.3 MB)\r\n",
      "\u001b[2K     \u001b[90m━━━━━━━━━━━━━━━━━━━━━━━━━━━━━━━━━━━━━━━━\u001b[0m \u001b[32m25.3/25.3 MB\u001b[0m \u001b[31m66.4 MB/s\u001b[0m eta \u001b[36m0:00:00\u001b[0m\r\n",
      "\u001b[?25h  Preparing metadata (setup.py) ... \u001b[?25l-\b \bdone\r\n",
      "\u001b[?25hRequirement already satisfied: scikit-learn in /opt/conda/lib/python3.10/site-packages (from ktrain) (1.2.2)\r\n",
      "Requirement already satisfied: matplotlib>=3.0.0 in /opt/conda/lib/python3.10/site-packages (from ktrain) (3.7.5)\r\n",
      "Requirement already satisfied: pandas>=1.0.1 in /opt/conda/lib/python3.10/site-packages (from ktrain) (2.2.1)\r\n",
      "Requirement already satisfied: fastprogress>=0.1.21 in /opt/conda/lib/python3.10/site-packages (from ktrain) (1.0.3)\r\n",
      "Requirement already satisfied: requests in /opt/conda/lib/python3.10/site-packages (from ktrain) (2.32.3)\r\n",
      "Requirement already satisfied: joblib in /opt/conda/lib/python3.10/site-packages (from ktrain) (1.4.2)\r\n",
      "Requirement already satisfied: packaging in /opt/conda/lib/python3.10/site-packages (from ktrain) (21.3)\r\n",
      "Collecting langdetect (from ktrain)\r\n",
      "  Downloading langdetect-1.0.9.tar.gz (981 kB)\r\n",
      "\u001b[2K     \u001b[90m━━━━━━━━━━━━━━━━━━━━━━━━━━━━━━━━━━━━━━\u001b[0m \u001b[32m981.5/981.5 kB\u001b[0m \u001b[31m46.9 MB/s\u001b[0m eta \u001b[36m0:00:00\u001b[0m\r\n",
      "\u001b[?25h  Preparing metadata (setup.py) ... \u001b[?25l-\b \bdone\r\n",
      "\u001b[?25hRequirement already satisfied: jieba in /opt/conda/lib/python3.10/site-packages (from ktrain) (0.42.1)\r\n",
      "Requirement already satisfied: charset-normalizer in /opt/conda/lib/python3.10/site-packages (from ktrain) (3.3.2)\r\n",
      "Collecting chardet (from ktrain)\r\n",
      "  Downloading chardet-5.2.0-py3-none-any.whl.metadata (3.4 kB)\r\n",
      "Collecting syntok>1.3.3 (from ktrain)\r\n",
      "  Downloading syntok-1.4.4-py3-none-any.whl.metadata (10 kB)\r\n",
      "Collecting tika (from ktrain)\r\n",
      "  Downloading tika-2.6.0.tar.gz (27 kB)\r\n",
      "  Preparing metadata (setup.py) ... \u001b[?25l-\b \bdone\r\n",
      "\u001b[?25hRequirement already satisfied: transformers in /opt/conda/lib/python3.10/site-packages (from ktrain) (4.41.2)\r\n",
      "Requirement already satisfied: sentencepiece in /opt/conda/lib/python3.10/site-packages (from ktrain) (0.2.0)\r\n",
      "Collecting keras_bert>=0.86.0 (from ktrain)\r\n",
      "  Downloading keras-bert-0.89.0.tar.gz (25 kB)\r\n",
      "  Preparing metadata (setup.py) ... \u001b[?25l-\b \bdone\r\n",
      "\u001b[?25hCollecting whoosh (from ktrain)\r\n",
      "  Downloading Whoosh-2.7.4-py2.py3-none-any.whl.metadata (3.1 kB)\r\n",
      "Requirement already satisfied: numpy in /opt/conda/lib/python3.10/site-packages (from keras_bert>=0.86.0->ktrain) (1.26.4)\r\n",
      "Collecting keras-transformer==0.40.0 (from keras_bert>=0.86.0->ktrain)\r\n",
      "  Downloading keras-transformer-0.40.0.tar.gz (9.7 kB)\r\n",
      "  Preparing metadata (setup.py) ... \u001b[?25l-\b \bdone\r\n",
      "\u001b[?25hCollecting keras-pos-embd==0.13.0 (from keras-transformer==0.40.0->keras_bert>=0.86.0->ktrain)\r\n",
      "  Downloading keras-pos-embd-0.13.0.tar.gz (5.6 kB)\r\n",
      "  Preparing metadata (setup.py) ... \u001b[?25l-\b \bdone\r\n",
      "\u001b[?25hCollecting keras-multi-head==0.29.0 (from keras-transformer==0.40.0->keras_bert>=0.86.0->ktrain)\r\n",
      "  Downloading keras-multi-head-0.29.0.tar.gz (13 kB)\r\n",
      "  Preparing metadata (setup.py) ... \u001b[?25l-\b \bdone\r\n",
      "\u001b[?25hCollecting keras-layer-normalization==0.16.0 (from keras-transformer==0.40.0->keras_bert>=0.86.0->ktrain)\r\n",
      "  Downloading keras-layer-normalization-0.16.0.tar.gz (3.9 kB)\r\n",
      "  Preparing metadata (setup.py) ... \u001b[?25l-\b \bdone\r\n",
      "\u001b[?25hCollecting keras-position-wise-feed-forward==0.8.0 (from keras-transformer==0.40.0->keras_bert>=0.86.0->ktrain)\r\n",
      "  Downloading keras-position-wise-feed-forward-0.8.0.tar.gz (4.1 kB)\r\n",
      "  Preparing metadata (setup.py) ... \u001b[?25l-\b \bdone\r\n",
      "\u001b[?25hCollecting keras-embed-sim==0.10.0 (from keras-transformer==0.40.0->keras_bert>=0.86.0->ktrain)\r\n",
      "  Downloading keras-embed-sim-0.10.0.tar.gz (3.6 kB)\r\n",
      "  Preparing metadata (setup.py) ... \u001b[?25l-\b \bdone\r\n",
      "\u001b[?25hCollecting keras-self-attention==0.51.0 (from keras-multi-head==0.29.0->keras-transformer==0.40.0->keras_bert>=0.86.0->ktrain)\r\n",
      "  Downloading keras-self-attention-0.51.0.tar.gz (11 kB)\r\n",
      "  Preparing metadata (setup.py) ... \u001b[?25l-\b \bdone\r\n",
      "\u001b[?25hRequirement already satisfied: contourpy>=1.0.1 in /opt/conda/lib/python3.10/site-packages (from matplotlib>=3.0.0->ktrain) (1.2.0)\r\n",
      "Requirement already satisfied: cycler>=0.10 in /opt/conda/lib/python3.10/site-packages (from matplotlib>=3.0.0->ktrain) (0.12.1)\r\n",
      "Requirement already satisfied: fonttools>=4.22.0 in /opt/conda/lib/python3.10/site-packages (from matplotlib>=3.0.0->ktrain) (4.47.0)\r\n",
      "Requirement already satisfied: kiwisolver>=1.0.1 in /opt/conda/lib/python3.10/site-packages (from matplotlib>=3.0.0->ktrain) (1.4.5)\r\n",
      "Requirement already satisfied: pillow>=6.2.0 in /opt/conda/lib/python3.10/site-packages (from matplotlib>=3.0.0->ktrain) (9.5.0)\r\n",
      "Requirement already satisfied: pyparsing>=2.3.1 in /opt/conda/lib/python3.10/site-packages (from matplotlib>=3.0.0->ktrain) (3.1.1)\r\n",
      "Requirement already satisfied: python-dateutil>=2.7 in /opt/conda/lib/python3.10/site-packages (from matplotlib>=3.0.0->ktrain) (2.9.0.post0)\r\n",
      "Requirement already satisfied: pytz>=2020.1 in /opt/conda/lib/python3.10/site-packages (from pandas>=1.0.1->ktrain) (2023.3.post1)\r\n",
      "Requirement already satisfied: tzdata>=2022.7 in /opt/conda/lib/python3.10/site-packages (from pandas>=1.0.1->ktrain) (2023.4)\r\n",
      "Requirement already satisfied: regex>2016 in /opt/conda/lib/python3.10/site-packages (from syntok>1.3.3->ktrain) (2023.12.25)\r\n",
      "Requirement already satisfied: six in /opt/conda/lib/python3.10/site-packages (from langdetect->ktrain) (1.16.0)\r\n",
      "Requirement already satisfied: idna<4,>=2.5 in /opt/conda/lib/python3.10/site-packages (from requests->ktrain) (3.6)\r\n",
      "Requirement already satisfied: urllib3<3,>=1.21.1 in /opt/conda/lib/python3.10/site-packages (from requests->ktrain) (1.26.18)\r\n",
      "Requirement already satisfied: certifi>=2017.4.17 in /opt/conda/lib/python3.10/site-packages (from requests->ktrain) (2024.2.2)\r\n",
      "Requirement already satisfied: scipy>=1.3.2 in /opt/conda/lib/python3.10/site-packages (from scikit-learn->ktrain) (1.11.4)\r\n",
      "Requirement already satisfied: threadpoolctl>=2.0.0 in /opt/conda/lib/python3.10/site-packages (from scikit-learn->ktrain) (3.2.0)\r\n",
      "Requirement already satisfied: setuptools in /opt/conda/lib/python3.10/site-packages (from tika->ktrain) (69.0.3)\r\n",
      "Requirement already satisfied: filelock in /opt/conda/lib/python3.10/site-packages (from transformers->ktrain) (3.13.1)\r\n",
      "Requirement already satisfied: huggingface-hub<1.0,>=0.23.0 in /opt/conda/lib/python3.10/site-packages (from transformers->ktrain) (0.23.2)\r\n",
      "Requirement already satisfied: pyyaml>=5.1 in /opt/conda/lib/python3.10/site-packages (from transformers->ktrain) (6.0.1)\r\n",
      "Requirement already satisfied: tokenizers<0.20,>=0.19 in /opt/conda/lib/python3.10/site-packages (from transformers->ktrain) (0.19.1)\r\n",
      "Requirement already satisfied: safetensors>=0.4.1 in /opt/conda/lib/python3.10/site-packages (from transformers->ktrain) (0.4.3)\r\n",
      "Requirement already satisfied: tqdm>=4.27 in /opt/conda/lib/python3.10/site-packages (from transformers->ktrain) (4.66.4)\r\n",
      "Requirement already satisfied: fsspec>=2023.5.0 in /opt/conda/lib/python3.10/site-packages (from huggingface-hub<1.0,>=0.23.0->transformers->ktrain) (2024.3.1)\r\n",
      "Requirement already satisfied: typing-extensions>=3.7.4.3 in /opt/conda/lib/python3.10/site-packages (from huggingface-hub<1.0,>=0.23.0->transformers->ktrain) (4.9.0)\r\n",
      "Downloading syntok-1.4.4-py3-none-any.whl (24 kB)\r\n",
      "Downloading chardet-5.2.0-py3-none-any.whl (199 kB)\r\n",
      "\u001b[2K   \u001b[90m━━━━━━━━━━━━━━━━━━━━━━━━━━━━━━━━━━━━━━━━\u001b[0m \u001b[32m199.4/199.4 kB\u001b[0m \u001b[31m13.1 MB/s\u001b[0m eta \u001b[36m0:00:00\u001b[0m\r\n",
      "\u001b[?25hDownloading Whoosh-2.7.4-py2.py3-none-any.whl (468 kB)\r\n",
      "\u001b[2K   \u001b[90m━━━━━━━━━━━━━━━━━━━━━━━━━━━━━━━━━━━━━━━━\u001b[0m \u001b[32m468.8/468.8 kB\u001b[0m \u001b[31m25.7 MB/s\u001b[0m eta \u001b[36m0:00:00\u001b[0m\r\n",
      "\u001b[?25hBuilding wheels for collected packages: ktrain, keras_bert, keras-transformer, keras-embed-sim, keras-layer-normalization, keras-multi-head, keras-pos-embd, keras-position-wise-feed-forward, keras-self-attention, langdetect, tika\r\n",
      "  Building wheel for ktrain (setup.py) ... \u001b[?25l-\b \b\\\b \bdone\r\n",
      "\u001b[?25h  Created wheel for ktrain: filename=ktrain-0.41.4-py3-none-any.whl size=25316933 sha256=54f16ec792ce1f86afd13931551c34348365634e37818e25bb7e5a3279940ca8\r\n",
      "  Stored in directory: /root/.cache/pip/wheels/fa/6a/9c/8a873b38bbd8bc207d33c64726bd18f7ef85f8e70dc3ac2e4b\r\n",
      "  Building wheel for keras_bert (setup.py) ... \u001b[?25l-\b \b\\\b \bdone\r\n",
      "\u001b[?25h  Created wheel for keras_bert: filename=keras_bert-0.89.0-py3-none-any.whl size=33499 sha256=466513bff18122770ebec9d23ae0d97a71dc202f11f90e80af4aa8d605da8c65\r\n",
      "  Stored in directory: /root/.cache/pip/wheels/89/0c/04/646b6fdf6375911b42c8d540a8a3fda8d5d77634e5dcbe7b26\r\n",
      "  Building wheel for keras-transformer (setup.py) ... \u001b[?25l-\b \b\\\b \bdone\r\n",
      "\u001b[?25h  Created wheel for keras-transformer: filename=keras_transformer-0.40.0-py3-none-any.whl size=12286 sha256=296bed939e98303a608da0e75aa40b0676bb3c161c61e77c324ed8dfa86e6078\r\n",
      "  Stored in directory: /root/.cache/pip/wheels/f2/cb/22/75a0ad376129177f7c95c0d91331a18f5368fd657f4035ba7c\r\n",
      "  Building wheel for keras-embed-sim (setup.py) ... \u001b[?25l-\b \b\\\b \bdone\r\n",
      "\u001b[?25h  Created wheel for keras-embed-sim: filename=keras_embed_sim-0.10.0-py3-none-any.whl size=3943 sha256=fd8b49cb0a5bc669aa477555b4c2fee20408728514ab849e884d65215596a6e9\r\n",
      "  Stored in directory: /root/.cache/pip/wheels/82/32/c7/fd35d0d1b840a6c7cbd4343f808d10d0f7b87d271a4dbe796f\r\n",
      "  Building wheel for keras-layer-normalization (setup.py) ... \u001b[?25l-\b \b\\\b \bdone\r\n",
      "\u001b[?25h  Created wheel for keras-layer-normalization: filename=keras_layer_normalization-0.16.0-py3-none-any.whl size=4653 sha256=07ded7821623904d5ec39c1700de27db09e39b164ef601cc6c8f4f87e252736b\r\n",
      "  Stored in directory: /root/.cache/pip/wheels/ed/3a/4b/21db23c0cc56c4b219616e181f258eb7c57d36cc5d056fae9a\r\n",
      "  Building wheel for keras-multi-head (setup.py) ... \u001b[?25l-\b \b\\\b \bdone\r\n",
      "\u001b[?25h  Created wheel for keras-multi-head: filename=keras_multi_head-0.29.0-py3-none-any.whl size=14975 sha256=cb4a2d98bd46da65a3298ebf06f34bc52c46db40b1678f7c2de20d41197c6c7d\r\n",
      "  Stored in directory: /root/.cache/pip/wheels/cb/23/4b/06d7ae21714f70fcc25b48f972cc8e5e7f4b6b764a038b509d\r\n",
      "  Building wheel for keras-pos-embd (setup.py) ... \u001b[?25l-\b \b\\\b \bdone\r\n",
      "\u001b[?25h  Created wheel for keras-pos-embd: filename=keras_pos_embd-0.13.0-py3-none-any.whl size=6946 sha256=7da43f4a2ba0165e2db3744c597cb7f7cc35d2f82a6d5e9ba3025751e8c9f195\r\n",
      "  Stored in directory: /root/.cache/pip/wheels/78/07/1b/b1ca47b6ac338554b75c8f52c54e6a2bfbe1b07d79579979a4\r\n",
      "  Building wheel for keras-position-wise-feed-forward (setup.py) ... \u001b[?25l-\b \b\\\b \bdone\r\n",
      "\u001b[?25h  Created wheel for keras-position-wise-feed-forward: filename=keras_position_wise_feed_forward-0.8.0-py3-none-any.whl size=4968 sha256=60f4c2ccc754974a274e15c116bb90e723e41e79300fa0ff63aeb72629fa880d\r\n",
      "  Stored in directory: /root/.cache/pip/wheels/c1/6a/04/d1706a53b23b2cb5f9a0a76269bf87925daa1bca09eac01b21\r\n",
      "  Building wheel for keras-self-attention (setup.py) ... \u001b[?25l-\b \b\\\b \bdone\r\n",
      "\u001b[?25h  Created wheel for keras-self-attention: filename=keras_self_attention-0.51.0-py3-none-any.whl size=18895 sha256=9b72d68e46995c67b711c36342d1a5235667438e0a5af0dd866866ab8c3cb31c\r\n",
      "  Stored in directory: /root/.cache/pip/wheels/b8/f7/24/607b483144fb9c47b4ba2c5fba6b68e54aeee2d5bf6c05302e\r\n",
      "  Building wheel for langdetect (setup.py) ... \u001b[?25l-\b \bdone\r\n",
      "\u001b[?25h  Created wheel for langdetect: filename=langdetect-1.0.9-py3-none-any.whl size=993225 sha256=90e56b078c039fd5e6ff42cf4c526d439db45dd3c0e72a749406675a92deeaab\r\n",
      "  Stored in directory: /root/.cache/pip/wheels/95/03/7d/59ea870c70ce4e5a370638b5462a7711ab78fba2f655d05106\r\n",
      "  Building wheel for tika (setup.py) ... \u001b[?25l-\b \bdone\r\n",
      "\u001b[?25h  Created wheel for tika: filename=tika-2.6.0-py3-none-any.whl size=32622 sha256=a392f5b176d58d8df9fd530298a91fb246a23825f9de4edbf768bb76eec5df4d\r\n",
      "  Stored in directory: /root/.cache/pip/wheels/5f/71/c7/b757709531121b1700cffda5b6b0d4aad095fb507ec84316d0\r\n",
      "Successfully built ktrain keras_bert keras-transformer keras-embed-sim keras-layer-normalization keras-multi-head keras-pos-embd keras-position-wise-feed-forward keras-self-attention langdetect tika\r\n",
      "Installing collected packages: whoosh, syntok, langdetect, keras-self-attention, keras-position-wise-feed-forward, keras-pos-embd, keras-layer-normalization, keras-embed-sim, chardet, tika, keras-multi-head, keras-transformer, keras_bert, ktrain\r\n",
      "Successfully installed chardet-5.2.0 keras-embed-sim-0.10.0 keras-layer-normalization-0.16.0 keras-multi-head-0.29.0 keras-pos-embd-0.13.0 keras-position-wise-feed-forward-0.8.0 keras-self-attention-0.51.0 keras-transformer-0.40.0 keras_bert-0.89.0 ktrain-0.41.4 langdetect-1.0.9 syntok-1.4.4 tika-2.6.0 whoosh-2.7.4\r\n"
     ]
    }
   ],
   "source": [
    "import os\n",
    "# try:\n",
    "#   import ktrain\n",
    "# except:\n",
    "#   !pip install ktrain\n",
    "#   os.kill(os.getpid(), 9)\n",
    "# import ktrain\n",
    "\n",
    "from sklearn.model_selection import train_test_split\n",
    "!pip install tf-keras\n",
    "print(\"TF_USE_LEGACY_KERAS:\", os.getenv(\"TF_USE_LEGACY_KERAS\"))\n",
    "os.environ['TF_USE_LEGACY_KERAS'] = '1'\n",
    "print(\"TF_USE_LEGACY_KERAS:\", os.getenv(\"TF_USE_LEGACY_KERAS\"))\n",
    "\n",
    "try:\n",
    "  import ktrain\n",
    "except:\n",
    "  !pip install ktrain\n",
    "  import ktrain\n",
    "from ktrain import text\n",
    "from ktrain.text import texts_from_df\n",
    "\n",
    "\n",
    "import pandas as pd\n",
    "import numpy as np\n",
    "import matplotlib.pyplot as plt"
   ]
  },
  {
   "cell_type": "code",
   "execution_count": 3,
   "id": "f9c99b4f",
   "metadata": {
    "execution": {
     "iopub.execute_input": "2024-06-21T01:18:28.793486Z",
     "iopub.status.busy": "2024-06-21T01:18:28.792778Z",
     "iopub.status.idle": "2024-06-21T01:18:28.846785Z",
     "shell.execute_reply": "2024-06-21T01:18:28.845793Z"
    },
    "executionInfo": {
     "elapsed": 8,
     "status": "ok",
     "timestamp": 1718832631548,
     "user": {
      "displayName": "Anna Tang",
      "userId": "06009827953892747229"
     },
     "user_tz": 240
    },
    "id": "8fc2dd22",
    "outputId": "7105ee74-f717-4c0e-8e0f-a975a2126404",
    "papermill": {
     "duration": 0.07443,
     "end_time": "2024-06-21T01:18:28.849195",
     "exception": false,
     "start_time": "2024-06-21T01:18:28.774765",
     "status": "completed"
    },
    "tags": []
   },
   "outputs": [
    {
     "name": "stdout",
     "output_type": "stream",
     "text": [
      "Fri Jun 21 01:18:28 2024       \n",
      "+---------------------------------------------------------------------------------------+\n",
      "| NVIDIA-SMI 535.129.03             Driver Version: 535.129.03   CUDA Version: 12.2     |\n",
      "|-----------------------------------------+----------------------+----------------------+\n",
      "| GPU  Name                 Persistence-M | Bus-Id        Disp.A | Volatile Uncorr. ECC |\n",
      "| Fan  Temp   Perf          Pwr:Usage/Cap |         Memory-Usage | GPU-Util  Compute M. |\n",
      "|                                         |                      |               MIG M. |\n",
      "|=========================================+======================+======================|\n",
      "|   0  Tesla P100-PCIE-16GB           Off | 00000000:00:04.0 Off |                    0 |\n",
      "| N/A   39C    P0              26W / 250W |      0MiB / 16384MiB |      0%      Default |\n",
      "|                                         |                      |                  N/A |\n",
      "+-----------------------------------------+----------------------+----------------------+\n",
      "                                                                                         \n",
      "+---------------------------------------------------------------------------------------+\n",
      "| Processes:                                                                            |\n",
      "|  GPU   GI   CI        PID   Type   Process name                            GPU Memory |\n",
      "|        ID   ID                                                             Usage      |\n",
      "|=======================================================================================|\n",
      "|  No running processes found                                                           |\n",
      "+---------------------------------------------------------------------------------------+\n"
     ]
    }
   ],
   "source": [
    "gpu_info = !nvidia-smi\n",
    "gpu_info = '\\n'.join(gpu_info)\n",
    "if gpu_info.find('failed') >= 0:\n",
    "  print('Not connected to a GPU')\n",
    "else:\n",
    "  print(gpu_info)"
   ]
  },
  {
   "cell_type": "code",
   "execution_count": 4,
   "id": "4490b38c",
   "metadata": {
    "execution": {
     "iopub.execute_input": "2024-06-21T01:18:28.886421Z",
     "iopub.status.busy": "2024-06-21T01:18:28.886034Z",
     "iopub.status.idle": "2024-06-21T01:18:28.892794Z",
     "shell.execute_reply": "2024-06-21T01:18:28.891632Z"
    },
    "executionInfo": {
     "elapsed": 406,
     "status": "ok",
     "timestamp": 1718832631950,
     "user": {
      "displayName": "Anna Tang",
      "userId": "06009827953892747229"
     },
     "user_tz": 240
    },
    "id": "laMNmygnyhbL",
    "outputId": "8df14c1d-8ba4-477a-ff07-b35a4d122c2b",
    "papermill": {
     "duration": 0.02834,
     "end_time": "2024-06-21T01:18:28.894915",
     "exception": false,
     "start_time": "2024-06-21T01:18:28.866575",
     "status": "completed"
    },
    "tags": []
   },
   "outputs": [
    {
     "name": "stdout",
     "output_type": "stream",
     "text": [
      "Your runtime has 33.7 gigabytes of available RAM\n",
      "\n",
      "You are using a high-RAM runtime!\n"
     ]
    }
   ],
   "source": [
    "from psutil import virtual_memory\n",
    "ram_gb = virtual_memory().total / 1e9\n",
    "print('Your runtime has {:.1f} gigabytes of available RAM\\n'.format(ram_gb))\n",
    "\n",
    "if ram_gb < 20:\n",
    "  print('Not using a high-RAM runtime')\n",
    "else:\n",
    "  print('You are using a high-RAM runtime!')"
   ]
  },
  {
   "cell_type": "code",
   "execution_count": 5,
   "id": "036005be",
   "metadata": {
    "execution": {
     "iopub.execute_input": "2024-06-21T01:18:28.933641Z",
     "iopub.status.busy": "2024-06-21T01:18:28.933014Z",
     "iopub.status.idle": "2024-06-21T01:18:31.126657Z",
     "shell.execute_reply": "2024-06-21T01:18:31.125791Z"
    },
    "id": "85cb1e44",
    "papermill": {
     "duration": 2.216057,
     "end_time": "2024-06-21T01:18:31.128944",
     "exception": false,
     "start_time": "2024-06-21T01:18:28.912887",
     "status": "completed"
    },
    "tags": []
   },
   "outputs": [],
   "source": [
    "reviews = pd.read_json(\"/kaggle/input/news-category-trainingdata/news_category_trainingdata.json\")"
   ]
  },
  {
   "cell_type": "markdown",
   "id": "93ca32b4",
   "metadata": {
    "id": "xztsfgBKyjgV",
    "papermill": {
     "duration": 0.015916,
     "end_time": "2024-06-21T01:18:31.161325",
     "exception": false,
     "start_time": "2024-06-21T01:18:31.145409",
     "status": "completed"
    },
    "tags": []
   },
   "source": [
    "## EDA"
   ]
  },
  {
   "cell_type": "code",
   "execution_count": 6,
   "id": "de1fbbb9",
   "metadata": {
    "execution": {
     "iopub.execute_input": "2024-06-21T01:18:31.196414Z",
     "iopub.status.busy": "2024-06-21T01:18:31.196026Z",
     "iopub.status.idle": "2024-06-21T01:18:31.214557Z",
     "shell.execute_reply": "2024-06-21T01:18:31.213596Z"
    },
    "executionInfo": {
     "elapsed": 13,
     "status": "ok",
     "timestamp": 1718832635250,
     "user": {
      "displayName": "Anna Tang",
      "userId": "06009827953892747229"
     },
     "user_tz": 240
    },
    "id": "c4ac8694",
    "outputId": "978e7272-3cab-4015-c5d1-6fc85d4524c1",
    "papermill": {
     "duration": 0.038367,
     "end_time": "2024-06-21T01:18:31.216814",
     "exception": false,
     "start_time": "2024-06-21T01:18:31.178447",
     "status": "completed"
    },
    "tags": []
   },
   "outputs": [
    {
     "data": {
      "text/html": [
       "<div>\n",
       "<style scoped>\n",
       "    .dataframe tbody tr th:only-of-type {\n",
       "        vertical-align: middle;\n",
       "    }\n",
       "\n",
       "    .dataframe tbody tr th {\n",
       "        vertical-align: top;\n",
       "    }\n",
       "\n",
       "    .dataframe thead th {\n",
       "        text-align: right;\n",
       "    }\n",
       "</style>\n",
       "<table border=\"1\" class=\"dataframe\">\n",
       "  <thead>\n",
       "    <tr style=\"text-align: right;\">\n",
       "      <th></th>\n",
       "      <th>category</th>\n",
       "      <th>headline</th>\n",
       "      <th>authors</th>\n",
       "      <th>link</th>\n",
       "      <th>short_description</th>\n",
       "      <th>date</th>\n",
       "    </tr>\n",
       "  </thead>\n",
       "  <tbody>\n",
       "    <tr>\n",
       "      <th>0</th>\n",
       "      <td>CRIME</td>\n",
       "      <td>There Were 2 Mass Shootings In Texas Last Week...</td>\n",
       "      <td>Melissa Jeltsen</td>\n",
       "      <td>https://www.huffingtonpost.com/entry/texas-ama...</td>\n",
       "      <td>She left her husband. He killed their children...</td>\n",
       "      <td>2018-05-26</td>\n",
       "    </tr>\n",
       "    <tr>\n",
       "      <th>1</th>\n",
       "      <td>ENTERTAINMENT</td>\n",
       "      <td>Will Smith Joins Diplo And Nicky Jam For The 2...</td>\n",
       "      <td>Andy McDonald</td>\n",
       "      <td>https://www.huffingtonpost.com/entry/will-smit...</td>\n",
       "      <td>Of course it has a song.</td>\n",
       "      <td>2018-05-26</td>\n",
       "    </tr>\n",
       "    <tr>\n",
       "      <th>2</th>\n",
       "      <td>ENTERTAINMENT</td>\n",
       "      <td>Hugh Grant Marries For The First Time At Age 57</td>\n",
       "      <td>Ron Dicker</td>\n",
       "      <td>https://www.huffingtonpost.com/entry/hugh-gran...</td>\n",
       "      <td>The actor and his longtime girlfriend Anna Ebe...</td>\n",
       "      <td>2018-05-26</td>\n",
       "    </tr>\n",
       "    <tr>\n",
       "      <th>3</th>\n",
       "      <td>ENTERTAINMENT</td>\n",
       "      <td>Jim Carrey Blasts 'Castrato' Adam Schiff And D...</td>\n",
       "      <td>Ron Dicker</td>\n",
       "      <td>https://www.huffingtonpost.com/entry/jim-carre...</td>\n",
       "      <td>The actor gives Dems an ass-kicking for not fi...</td>\n",
       "      <td>2018-05-26</td>\n",
       "    </tr>\n",
       "    <tr>\n",
       "      <th>4</th>\n",
       "      <td>ENTERTAINMENT</td>\n",
       "      <td>Julianna Margulies Uses Donald Trump Poop Bags...</td>\n",
       "      <td>Ron Dicker</td>\n",
       "      <td>https://www.huffingtonpost.com/entry/julianna-...</td>\n",
       "      <td>The \"Dietland\" actress said using the bags is ...</td>\n",
       "      <td>2018-05-26</td>\n",
       "    </tr>\n",
       "  </tbody>\n",
       "</table>\n",
       "</div>"
      ],
      "text/plain": [
       "        category                                           headline  \\\n",
       "0          CRIME  There Were 2 Mass Shootings In Texas Last Week...   \n",
       "1  ENTERTAINMENT  Will Smith Joins Diplo And Nicky Jam For The 2...   \n",
       "2  ENTERTAINMENT    Hugh Grant Marries For The First Time At Age 57   \n",
       "3  ENTERTAINMENT  Jim Carrey Blasts 'Castrato' Adam Schiff And D...   \n",
       "4  ENTERTAINMENT  Julianna Margulies Uses Donald Trump Poop Bags...   \n",
       "\n",
       "           authors                                               link  \\\n",
       "0  Melissa Jeltsen  https://www.huffingtonpost.com/entry/texas-ama...   \n",
       "1    Andy McDonald  https://www.huffingtonpost.com/entry/will-smit...   \n",
       "2       Ron Dicker  https://www.huffingtonpost.com/entry/hugh-gran...   \n",
       "3       Ron Dicker  https://www.huffingtonpost.com/entry/jim-carre...   \n",
       "4       Ron Dicker  https://www.huffingtonpost.com/entry/julianna-...   \n",
       "\n",
       "                                   short_description       date  \n",
       "0  She left her husband. He killed their children... 2018-05-26  \n",
       "1                           Of course it has a song. 2018-05-26  \n",
       "2  The actor and his longtime girlfriend Anna Ebe... 2018-05-26  \n",
       "3  The actor gives Dems an ass-kicking for not fi... 2018-05-26  \n",
       "4  The \"Dietland\" actress said using the bags is ... 2018-05-26  "
      ]
     },
     "execution_count": 6,
     "metadata": {},
     "output_type": "execute_result"
    }
   ],
   "source": [
    "reviews.head()"
   ]
  },
  {
   "cell_type": "code",
   "execution_count": 7,
   "id": "839167e1",
   "metadata": {
    "execution": {
     "iopub.execute_input": "2024-06-21T01:18:31.252297Z",
     "iopub.status.busy": "2024-06-21T01:18:31.251905Z",
     "iopub.status.idle": "2024-06-21T01:18:31.300673Z",
     "shell.execute_reply": "2024-06-21T01:18:31.299826Z"
    },
    "executionInfo": {
     "elapsed": 11,
     "status": "ok",
     "timestamp": 1718832635250,
     "user": {
      "displayName": "Anna Tang",
      "userId": "06009827953892747229"
     },
     "user_tz": 240
    },
    "id": "a7c3a052",
    "outputId": "ccc3c8d2-f2b2-4f15-915a-0def3f13156f",
    "papermill": {
     "duration": 0.068828,
     "end_time": "2024-06-21T01:18:31.302613",
     "exception": false,
     "start_time": "2024-06-21T01:18:31.233785",
     "status": "completed"
    },
    "tags": []
   },
   "outputs": [
    {
     "data": {
      "text/plain": [
       "category\n",
       "POLITICS          32739\n",
       "WELLNESS          17827\n",
       "ENTERTAINMENT     16058\n",
       "TRAVEL             9887\n",
       "STYLE & BEAUTY     9649\n",
       "PARENTING          8677\n",
       "HEALTHY LIVING     6694\n",
       "QUEER VOICES       6314\n",
       "FOOD & DRINK       6226\n",
       "BUSINESS           5937\n",
       "COMEDY             5175\n",
       "SPORTS             4884\n",
       "BLACK VOICES       4528\n",
       "HOME & LIVING      4195\n",
       "PARENTS            3955\n",
       "THE WORLDPOST      3664\n",
       "WEDDINGS           3651\n",
       "WOMEN              3490\n",
       "IMPACT             3459\n",
       "DIVORCE            3426\n",
       "CRIME              3405\n",
       "MEDIA              2815\n",
       "WEIRD NEWS         2670\n",
       "GREEN              2622\n",
       "WORLDPOST          2579\n",
       "RELIGION           2556\n",
       "STYLE              2254\n",
       "SCIENCE            2178\n",
       "WORLD NEWS         2177\n",
       "TASTE              2096\n",
       "TECH               2082\n",
       "MONEY              1707\n",
       "ARTS               1509\n",
       "FIFTY              1401\n",
       "GOOD NEWS          1398\n",
       "ARTS & CULTURE     1339\n",
       "ENVIRONMENT        1323\n",
       "COLLEGE            1144\n",
       "LATINO VOICES      1129\n",
       "CULTURE & ARTS     1030\n",
       "EDUCATION          1004\n",
       "Name: count, dtype: int64"
      ]
     },
     "execution_count": 7,
     "metadata": {},
     "output_type": "execute_result"
    }
   ],
   "source": [
    "reviews[\"category\"].value_counts()"
   ]
  },
  {
   "cell_type": "code",
   "execution_count": 8,
   "id": "2f94b605",
   "metadata": {
    "execution": {
     "iopub.execute_input": "2024-06-21T01:18:31.339311Z",
     "iopub.status.busy": "2024-06-21T01:18:31.338447Z",
     "iopub.status.idle": "2024-06-21T01:18:31.450851Z",
     "shell.execute_reply": "2024-06-21T01:18:31.449893Z"
    },
    "executionInfo": {
     "elapsed": 9,
     "status": "ok",
     "timestamp": 1718832635250,
     "user": {
      "displayName": "Anna Tang",
      "userId": "06009827953892747229"
     },
     "user_tz": 240
    },
    "id": "cec59f50",
    "outputId": "a8692256-1901-416e-c18a-5c3968fff571",
    "papermill": {
     "duration": 0.133226,
     "end_time": "2024-06-21T01:18:31.452851",
     "exception": false,
     "start_time": "2024-06-21T01:18:31.319625",
     "status": "completed"
    },
    "tags": []
   },
   "outputs": [
    {
     "name": "stdout",
     "output_type": "stream",
     "text": [
      "<class 'pandas.core.frame.DataFrame'>\n",
      "Index: 200853 entries, 0 to 200852\n",
      "Data columns (total 6 columns):\n",
      " #   Column             Non-Null Count   Dtype         \n",
      "---  ------             --------------   -----         \n",
      " 0   category           200853 non-null  object        \n",
      " 1   headline           200853 non-null  object        \n",
      " 2   authors            200853 non-null  object        \n",
      " 3   link               200853 non-null  object        \n",
      " 4   short_description  200853 non-null  object        \n",
      " 5   date               200853 non-null  datetime64[ns]\n",
      "dtypes: datetime64[ns](1), object(5)\n",
      "memory usage: 10.7+ MB\n"
     ]
    }
   ],
   "source": [
    "reviews.info()"
   ]
  },
  {
   "cell_type": "markdown",
   "id": "33e72e6f",
   "metadata": {
    "id": "603cc5e7",
    "papermill": {
     "duration": 0.017004,
     "end_time": "2024-06-21T01:18:31.487694",
     "exception": false,
     "start_time": "2024-06-21T01:18:31.470690",
     "status": "completed"
    },
    "tags": []
   },
   "source": [
    "## Prepare Data"
   ]
  },
  {
   "cell_type": "code",
   "execution_count": 9,
   "id": "9e5a25a4",
   "metadata": {
    "execution": {
     "iopub.execute_input": "2024-06-21T01:18:31.523837Z",
     "iopub.status.busy": "2024-06-21T01:18:31.522999Z",
     "iopub.status.idle": "2024-06-21T01:18:31.789030Z",
     "shell.execute_reply": "2024-06-21T01:18:31.788130Z"
    },
    "id": "be5da494",
    "papermill": {
     "duration": 0.28707,
     "end_time": "2024-06-21T01:18:31.791914",
     "exception": false,
     "start_time": "2024-06-21T01:18:31.504844",
     "status": "completed"
    },
    "tags": []
   },
   "outputs": [],
   "source": [
    "reviews[\"combined_text\"] = reviews[\"headline\"].str.lower() + ' ' + reviews[\"short_description\"].str.lower()"
   ]
  },
  {
   "cell_type": "code",
   "execution_count": 10,
   "id": "75192e2f",
   "metadata": {
    "execution": {
     "iopub.execute_input": "2024-06-21T01:18:31.847703Z",
     "iopub.status.busy": "2024-06-21T01:18:31.847259Z",
     "iopub.status.idle": "2024-06-21T01:18:31.958977Z",
     "shell.execute_reply": "2024-06-21T01:18:31.958027Z"
    },
    "executionInfo": {
     "elapsed": 207,
     "status": "ok",
     "timestamp": 1718832635698,
     "user": {
      "displayName": "Anna Tang",
      "userId": "06009827953892747229"
     },
     "user_tz": 240
    },
    "id": "adde8dd1",
    "outputId": "e686deb1-0bbd-49bf-cb03-47d5c606d68a",
    "papermill": {
     "duration": 0.144214,
     "end_time": "2024-06-21T01:18:31.961550",
     "exception": false,
     "start_time": "2024-06-21T01:18:31.817336",
     "status": "completed"
    },
    "tags": []
   },
   "outputs": [
    {
     "data": {
      "text/html": [
       "<div>\n",
       "<style scoped>\n",
       "    .dataframe tbody tr th:only-of-type {\n",
       "        vertical-align: middle;\n",
       "    }\n",
       "\n",
       "    .dataframe tbody tr th {\n",
       "        vertical-align: top;\n",
       "    }\n",
       "\n",
       "    .dataframe thead th {\n",
       "        text-align: right;\n",
       "    }\n",
       "</style>\n",
       "<table border=\"1\" class=\"dataframe\">\n",
       "  <thead>\n",
       "    <tr style=\"text-align: right;\">\n",
       "      <th></th>\n",
       "      <th>category</th>\n",
       "      <th>headline</th>\n",
       "      <th>authors</th>\n",
       "      <th>link</th>\n",
       "      <th>short_description</th>\n",
       "      <th>date</th>\n",
       "      <th>combined_text</th>\n",
       "    </tr>\n",
       "  </thead>\n",
       "  <tbody>\n",
       "    <tr>\n",
       "      <th>7578</th>\n",
       "      <td>HEALTHY LIVING</td>\n",
       "      <td>To The People Who Say ‘I’m Tired’ When Someone...</td>\n",
       "      <td>The Mighty, ContributorWe face disability, dis...</td>\n",
       "      <td>https://www.huffingtonpost.com/entry/to-the-pe...</td>\n",
       "      <td>When you feel like this, it’s important to kno...</td>\n",
       "      <td>2018-01-16</td>\n",
       "      <td>to the people who say ‘i’m tired’ when someone...</td>\n",
       "    </tr>\n",
       "    <tr>\n",
       "      <th>7693</th>\n",
       "      <td>HEALTHY LIVING</td>\n",
       "      <td>Eating Shake Shack Made Me Feel Healthier Than...</td>\n",
       "      <td>Colleen Werner, ContributorCampus Editor-at-Large</td>\n",
       "      <td>https://www.huffingtonpost.com/entry/eating-sh...</td>\n",
       "      <td>I can vividly remember the first time I felt f...</td>\n",
       "      <td>2018-01-12</td>\n",
       "      <td>eating shake shack made me feel healthier than...</td>\n",
       "    </tr>\n",
       "    <tr>\n",
       "      <th>7747</th>\n",
       "      <td>HEALTHY LIVING</td>\n",
       "      <td>How To Stay Updated On The News Without Losing...</td>\n",
       "      <td>Lindsay Holmes</td>\n",
       "      <td>https://www.huffingtonpost.com/entry/anxiety-f...</td>\n",
       "      <td>Because it's only becoming more of a struggle.</td>\n",
       "      <td>2018-01-12</td>\n",
       "      <td>how to stay updated on the news without losing...</td>\n",
       "    </tr>\n",
       "    <tr>\n",
       "      <th>7927</th>\n",
       "      <td>HEALTHY LIVING</td>\n",
       "      <td>27 Perfect Tweets About Whole30 That Will Make...</td>\n",
       "      <td>Lindsay Holmes</td>\n",
       "      <td>https://www.huffingtonpost.com/entry/tweets-ab...</td>\n",
       "      <td>\"The only Whole30 I want to participate in is ...</td>\n",
       "      <td>2018-01-10</td>\n",
       "      <td>27 perfect tweets about whole30 that will make...</td>\n",
       "    </tr>\n",
       "    <tr>\n",
       "      <th>7934</th>\n",
       "      <td>HEALTHY LIVING</td>\n",
       "      <td>The Real Reason Your Hands Are Always Cold</td>\n",
       "      <td>Refinery29, ContributorThe #1 new-media brand ...</td>\n",
       "      <td>https://www.huffingtonpost.com/entry/the-real-...</td>\n",
       "      <td>Essentially, your hands are kept warm thanks t...</td>\n",
       "      <td>2018-01-10</td>\n",
       "      <td>the real reason your hands are always cold ess...</td>\n",
       "    </tr>\n",
       "  </tbody>\n",
       "</table>\n",
       "</div>"
      ],
      "text/plain": [
       "            category                                           headline  \\\n",
       "7578  HEALTHY LIVING  To The People Who Say ‘I’m Tired’ When Someone...   \n",
       "7693  HEALTHY LIVING  Eating Shake Shack Made Me Feel Healthier Than...   \n",
       "7747  HEALTHY LIVING  How To Stay Updated On The News Without Losing...   \n",
       "7927  HEALTHY LIVING  27 Perfect Tweets About Whole30 That Will Make...   \n",
       "7934  HEALTHY LIVING         The Real Reason Your Hands Are Always Cold   \n",
       "\n",
       "                                                authors  \\\n",
       "7578  The Mighty, ContributorWe face disability, dis...   \n",
       "7693  Colleen Werner, ContributorCampus Editor-at-Large   \n",
       "7747                                     Lindsay Holmes   \n",
       "7927                                     Lindsay Holmes   \n",
       "7934  Refinery29, ContributorThe #1 new-media brand ...   \n",
       "\n",
       "                                                   link  \\\n",
       "7578  https://www.huffingtonpost.com/entry/to-the-pe...   \n",
       "7693  https://www.huffingtonpost.com/entry/eating-sh...   \n",
       "7747  https://www.huffingtonpost.com/entry/anxiety-f...   \n",
       "7927  https://www.huffingtonpost.com/entry/tweets-ab...   \n",
       "7934  https://www.huffingtonpost.com/entry/the-real-...   \n",
       "\n",
       "                                      short_description       date  \\\n",
       "7578  When you feel like this, it’s important to kno... 2018-01-16   \n",
       "7693  I can vividly remember the first time I felt f... 2018-01-12   \n",
       "7747     Because it's only becoming more of a struggle. 2018-01-12   \n",
       "7927  \"The only Whole30 I want to participate in is ... 2018-01-10   \n",
       "7934  Essentially, your hands are kept warm thanks t... 2018-01-10   \n",
       "\n",
       "                                          combined_text  \n",
       "7578  to the people who say ‘i’m tired’ when someone...  \n",
       "7693  eating shake shack made me feel healthier than...  \n",
       "7747  how to stay updated on the news without losing...  \n",
       "7927  27 perfect tweets about whole30 that will make...  \n",
       "7934  the real reason your hands are always cold ess...  "
      ]
     },
     "execution_count": 10,
     "metadata": {},
     "output_type": "execute_result"
    }
   ],
   "source": [
    "# healthy living and wellness articles\n",
    "reviews[reviews[\"category\"].str.contains(\"HEALTHY LIVING\")].head()"
   ]
  },
  {
   "cell_type": "code",
   "execution_count": 11,
   "id": "ea11c58b",
   "metadata": {
    "execution": {
     "iopub.execute_input": "2024-06-21T01:18:32.007234Z",
     "iopub.status.busy": "2024-06-21T01:18:32.006809Z",
     "iopub.status.idle": "2024-06-21T01:18:32.106353Z",
     "shell.execute_reply": "2024-06-21T01:18:32.105373Z"
    },
    "id": "qaOzHRaC040K",
    "papermill": {
     "duration": 0.124777,
     "end_time": "2024-06-21T01:18:32.109108",
     "exception": false,
     "start_time": "2024-06-21T01:18:31.984331",
     "status": "completed"
    },
    "tags": []
   },
   "outputs": [
    {
     "data": {
      "text/plain": [
       "(6694, 7)"
      ]
     },
     "execution_count": 11,
     "metadata": {},
     "output_type": "execute_result"
    }
   ],
   "source": [
    "reviews[reviews[\"category\"].str.contains(\"HEALTHY LIVING\")].shape"
   ]
  },
  {
   "cell_type": "code",
   "execution_count": 12,
   "id": "87c45e28",
   "metadata": {
    "execution": {
     "iopub.execute_input": "2024-06-21T01:18:32.147210Z",
     "iopub.status.busy": "2024-06-21T01:18:32.146814Z",
     "iopub.status.idle": "2024-06-21T01:18:32.258063Z",
     "shell.execute_reply": "2024-06-21T01:18:32.257096Z"
    },
    "id": "TY5-82pO05sZ",
    "papermill": {
     "duration": 0.133192,
     "end_time": "2024-06-21T01:18:32.260607",
     "exception": false,
     "start_time": "2024-06-21T01:18:32.127415",
     "status": "completed"
    },
    "tags": []
   },
   "outputs": [
    {
     "data": {
      "text/html": [
       "<div>\n",
       "<style scoped>\n",
       "    .dataframe tbody tr th:only-of-type {\n",
       "        vertical-align: middle;\n",
       "    }\n",
       "\n",
       "    .dataframe tbody tr th {\n",
       "        vertical-align: top;\n",
       "    }\n",
       "\n",
       "    .dataframe thead th {\n",
       "        text-align: right;\n",
       "    }\n",
       "</style>\n",
       "<table border=\"1\" class=\"dataframe\">\n",
       "  <thead>\n",
       "    <tr style=\"text-align: right;\">\n",
       "      <th></th>\n",
       "      <th>category</th>\n",
       "      <th>headline</th>\n",
       "      <th>authors</th>\n",
       "      <th>link</th>\n",
       "      <th>short_description</th>\n",
       "      <th>date</th>\n",
       "      <th>combined_text</th>\n",
       "    </tr>\n",
       "  </thead>\n",
       "  <tbody>\n",
       "    <tr>\n",
       "      <th>124989</th>\n",
       "      <td>WELLNESS</td>\n",
       "      <td>Why Overeating Doesn't Make You Fat</td>\n",
       "      <td>Mark Hyman, MD, Contributor\\nPracticing Physician</td>\n",
       "      <td>https://www.huffingtonpost.com/entry/overeatin...</td>\n",
       "      <td>If you take the right approach to ending your ...</td>\n",
       "      <td>2014-04-17</td>\n",
       "      <td>why overeating doesn't make you fat if you tak...</td>\n",
       "    </tr>\n",
       "    <tr>\n",
       "      <th>124990</th>\n",
       "      <td>WELLNESS</td>\n",
       "      <td>14 Habits Of People With A Healthy Relationshi...</td>\n",
       "      <td>Sarah Klein</td>\n",
       "      <td>https://www.huffingtonpost.com/entry/healthy-r...</td>\n",
       "      <td>After a long list of rules and habits like the...</td>\n",
       "      <td>2014-04-17</td>\n",
       "      <td>14 habits of people with a healthy relationshi...</td>\n",
       "    </tr>\n",
       "    <tr>\n",
       "      <th>124993</th>\n",
       "      <td>WELLNESS</td>\n",
       "      <td>5 Things That Could Be Stealing Your Joy</td>\n",
       "      <td>Amanda Gore, Contributor\\nInternational keynot...</td>\n",
       "      <td>https://www.huffingtonpost.com/entry/joy_us_5b...</td>\n",
       "      <td>Listen to yourself all day today -- are you an...</td>\n",
       "      <td>2014-04-17</td>\n",
       "      <td>5 things that could be stealing your joy liste...</td>\n",
       "    </tr>\n",
       "    <tr>\n",
       "      <th>124994</th>\n",
       "      <td>WELLNESS</td>\n",
       "      <td>Moments Make a Life</td>\n",
       "      <td>Megan McDonough, Contributor\\nCEO, Wholebeing ...</td>\n",
       "      <td>https://www.huffingtonpost.com/entry/moments-m...</td>\n",
       "      <td>Consciously constructing positive habits -- or...</td>\n",
       "      <td>2014-04-17</td>\n",
       "      <td>moments make a life consciously constructing p...</td>\n",
       "    </tr>\n",
       "    <tr>\n",
       "      <th>124996</th>\n",
       "      <td>WELLNESS</td>\n",
       "      <td>Fat Facts</td>\n",
       "      <td>Maria Rodale, Contributor\\nCEO and Chairman of...</td>\n",
       "      <td>https://www.huffingtonpost.com/entry/fat-facts...</td>\n",
       "      <td>Human fat cells, photo by Dr. Peeke Here's how...</td>\n",
       "      <td>2014-04-17</td>\n",
       "      <td>fat facts human fat cells, photo by dr. peeke ...</td>\n",
       "    </tr>\n",
       "  </tbody>\n",
       "</table>\n",
       "</div>"
      ],
      "text/plain": [
       "        category                                           headline  \\\n",
       "124989  WELLNESS                Why Overeating Doesn't Make You Fat   \n",
       "124990  WELLNESS  14 Habits Of People With A Healthy Relationshi...   \n",
       "124993  WELLNESS           5 Things That Could Be Stealing Your Joy   \n",
       "124994  WELLNESS                                Moments Make a Life   \n",
       "124996  WELLNESS                                          Fat Facts   \n",
       "\n",
       "                                                  authors  \\\n",
       "124989  Mark Hyman, MD, Contributor\\nPracticing Physician   \n",
       "124990                                        Sarah Klein   \n",
       "124993  Amanda Gore, Contributor\\nInternational keynot...   \n",
       "124994  Megan McDonough, Contributor\\nCEO, Wholebeing ...   \n",
       "124996  Maria Rodale, Contributor\\nCEO and Chairman of...   \n",
       "\n",
       "                                                     link  \\\n",
       "124989  https://www.huffingtonpost.com/entry/overeatin...   \n",
       "124990  https://www.huffingtonpost.com/entry/healthy-r...   \n",
       "124993  https://www.huffingtonpost.com/entry/joy_us_5b...   \n",
       "124994  https://www.huffingtonpost.com/entry/moments-m...   \n",
       "124996  https://www.huffingtonpost.com/entry/fat-facts...   \n",
       "\n",
       "                                        short_description       date  \\\n",
       "124989  If you take the right approach to ending your ... 2014-04-17   \n",
       "124990  After a long list of rules and habits like the... 2014-04-17   \n",
       "124993  Listen to yourself all day today -- are you an... 2014-04-17   \n",
       "124994  Consciously constructing positive habits -- or... 2014-04-17   \n",
       "124996  Human fat cells, photo by Dr. Peeke Here's how... 2014-04-17   \n",
       "\n",
       "                                            combined_text  \n",
       "124989  why overeating doesn't make you fat if you tak...  \n",
       "124990  14 habits of people with a healthy relationshi...  \n",
       "124993  5 things that could be stealing your joy liste...  \n",
       "124994  moments make a life consciously constructing p...  \n",
       "124996  fat facts human fat cells, photo by dr. peeke ...  "
      ]
     },
     "execution_count": 12,
     "metadata": {},
     "output_type": "execute_result"
    }
   ],
   "source": [
    "# healthy living and wellness articles\n",
    "reviews[reviews[\"category\"].str.contains(\"WELLNESS\")].head()"
   ]
  },
  {
   "cell_type": "code",
   "execution_count": 13,
   "id": "31145615",
   "metadata": {
    "execution": {
     "iopub.execute_input": "2024-06-21T01:18:32.302204Z",
     "iopub.status.busy": "2024-06-21T01:18:32.301434Z",
     "iopub.status.idle": "2024-06-21T01:18:32.403813Z",
     "shell.execute_reply": "2024-06-21T01:18:32.402728Z"
    },
    "id": "1fb48fXB05k_",
    "papermill": {
     "duration": 0.123705,
     "end_time": "2024-06-21T01:18:32.406205",
     "exception": false,
     "start_time": "2024-06-21T01:18:32.282500",
     "status": "completed"
    },
    "tags": []
   },
   "outputs": [
    {
     "data": {
      "text/plain": [
       "(17827, 7)"
      ]
     },
     "execution_count": 13,
     "metadata": {},
     "output_type": "execute_result"
    }
   ],
   "source": [
    "reviews[reviews[\"category\"].str.contains(\"WELLNESS\")].shape"
   ]
  },
  {
   "cell_type": "code",
   "execution_count": 14,
   "id": "a7662944",
   "metadata": {
    "execution": {
     "iopub.execute_input": "2024-06-21T01:18:32.446197Z",
     "iopub.status.busy": "2024-06-21T01:18:32.445287Z",
     "iopub.status.idle": "2024-06-21T01:18:32.516579Z",
     "shell.execute_reply": "2024-06-21T01:18:32.515652Z"
    },
    "id": "7b56d4ad",
    "papermill": {
     "duration": 0.093231,
     "end_time": "2024-06-21T01:18:32.518611",
     "exception": false,
     "start_time": "2024-06-21T01:18:32.425380",
     "status": "completed"
    },
    "tags": []
   },
   "outputs": [],
   "source": [
    "reviews[\"health_wellness\"] = np.where((reviews[\"category\"] == \"HEALTHY LIVING\") | (reviews[\"category\"] == \"WELLNESS\"), 1, 0)"
   ]
  },
  {
   "cell_type": "code",
   "execution_count": 15,
   "id": "79405911",
   "metadata": {
    "execution": {
     "iopub.execute_input": "2024-06-21T01:18:32.557726Z",
     "iopub.status.busy": "2024-06-21T01:18:32.557022Z",
     "iopub.status.idle": "2024-06-21T01:18:32.568039Z",
     "shell.execute_reply": "2024-06-21T01:18:32.567194Z"
    },
    "executionInfo": {
     "elapsed": 9,
     "status": "ok",
     "timestamp": 1718832635699,
     "user": {
      "displayName": "Anna Tang",
      "userId": "06009827953892747229"
     },
     "user_tz": 240
    },
    "id": "8e0ef511",
    "outputId": "a18b4a47-7b58-4b36-d8fc-2de3e90dfa81",
    "papermill": {
     "duration": 0.033257,
     "end_time": "2024-06-21T01:18:32.570377",
     "exception": false,
     "start_time": "2024-06-21T01:18:32.537120",
     "status": "completed"
    },
    "tags": []
   },
   "outputs": [
    {
     "data": {
      "text/plain": [
       "health_wellness\n",
       "0    176332\n",
       "1     24521\n",
       "Name: count, dtype: int64"
      ]
     },
     "execution_count": 15,
     "metadata": {},
     "output_type": "execute_result"
    }
   ],
   "source": [
    "reviews[\"health_wellness\"].value_counts()"
   ]
  },
  {
   "cell_type": "code",
   "execution_count": 16,
   "id": "b2cf194e",
   "metadata": {
    "execution": {
     "iopub.execute_input": "2024-06-21T01:18:32.613040Z",
     "iopub.status.busy": "2024-06-21T01:18:32.612734Z",
     "iopub.status.idle": "2024-06-21T01:18:32.616940Z",
     "shell.execute_reply": "2024-06-21T01:18:32.616097Z"
    },
    "id": "a8df9319",
    "papermill": {
     "duration": 0.025438,
     "end_time": "2024-06-21T01:18:32.618815",
     "exception": false,
     "start_time": "2024-06-21T01:18:32.593377",
     "status": "completed"
    },
    "tags": []
   },
   "outputs": [],
   "source": [
    "target_names = [\"NOT HEALTH WELLNESS\", \"HEALTH WELLNESS\"]"
   ]
  },
  {
   "cell_type": "markdown",
   "id": "8d15b179",
   "metadata": {
    "id": "7e274669",
    "papermill": {
     "duration": 0.01906,
     "end_time": "2024-06-21T01:18:32.656447",
     "exception": false,
     "start_time": "2024-06-21T01:18:32.637387",
     "status": "completed"
    },
    "tags": []
   },
   "source": [
    "## Balance the Data"
   ]
  },
  {
   "cell_type": "code",
   "execution_count": 17,
   "id": "36aab8e2",
   "metadata": {
    "execution": {
     "iopub.execute_input": "2024-06-21T01:18:32.696043Z",
     "iopub.status.busy": "2024-06-21T01:18:32.695435Z",
     "iopub.status.idle": "2024-06-21T01:18:32.773333Z",
     "shell.execute_reply": "2024-06-21T01:18:32.772547Z"
    },
    "id": "fba3918a",
    "papermill": {
     "duration": 0.100737,
     "end_time": "2024-06-21T01:18:32.775746",
     "exception": false,
     "start_time": "2024-06-21T01:18:32.675009",
     "status": "completed"
    },
    "tags": []
   },
   "outputs": [],
   "source": [
    "sample_amount = 24000\n",
    "\n",
    "health_wellness = reviews[reviews[\"health_wellness\"] == 1].sample(n=sample_amount)\n",
    "not_health_wellness = reviews[reviews[\"health_wellness\"] == 0].sample(n=sample_amount)"
   ]
  },
  {
   "cell_type": "code",
   "execution_count": 18,
   "id": "59ed658a",
   "metadata": {
    "execution": {
     "iopub.execute_input": "2024-06-21T01:18:32.814399Z",
     "iopub.status.busy": "2024-06-21T01:18:32.814040Z",
     "iopub.status.idle": "2024-06-21T01:18:32.825089Z",
     "shell.execute_reply": "2024-06-21T01:18:32.824388Z"
    },
    "id": "a4874bf1",
    "papermill": {
     "duration": 0.032452,
     "end_time": "2024-06-21T01:18:32.826972",
     "exception": false,
     "start_time": "2024-06-21T01:18:32.794520",
     "status": "completed"
    },
    "tags": []
   },
   "outputs": [],
   "source": [
    "review_sample = pd.concat([health_wellness, not_health_wellness])"
   ]
  },
  {
   "cell_type": "code",
   "execution_count": 19,
   "id": "3b7fba0c",
   "metadata": {
    "execution": {
     "iopub.execute_input": "2024-06-21T01:18:32.865337Z",
     "iopub.status.busy": "2024-06-21T01:18:32.864986Z",
     "iopub.status.idle": "2024-06-21T01:18:32.918934Z",
     "shell.execute_reply": "2024-06-21T01:18:32.917911Z"
    },
    "executionInfo": {
     "elapsed": 8,
     "status": "ok",
     "timestamp": 1718832635700,
     "user": {
      "displayName": "Anna Tang",
      "userId": "06009827953892747229"
     },
     "user_tz": 240
    },
    "id": "37e2febc",
    "outputId": "f402547d-4c69-4761-e8dd-38fc2e49d0e5",
    "papermill": {
     "duration": 0.075571,
     "end_time": "2024-06-21T01:18:32.921151",
     "exception": false,
     "start_time": "2024-06-21T01:18:32.845580",
     "status": "completed"
    },
    "tags": []
   },
   "outputs": [
    {
     "name": "stdout",
     "output_type": "stream",
     "text": [
      "<class 'pandas.core.frame.DataFrame'>\n",
      "Index: 48000 entries, 196252 to 54690\n",
      "Data columns (total 8 columns):\n",
      " #   Column             Non-Null Count  Dtype         \n",
      "---  ------             --------------  -----         \n",
      " 0   category           48000 non-null  object        \n",
      " 1   headline           48000 non-null  object        \n",
      " 2   authors            48000 non-null  object        \n",
      " 3   link               48000 non-null  object        \n",
      " 4   short_description  48000 non-null  object        \n",
      " 5   date               48000 non-null  datetime64[ns]\n",
      " 6   combined_text      48000 non-null  object        \n",
      " 7   health_wellness    48000 non-null  int64         \n",
      "dtypes: datetime64[ns](1), int64(1), object(6)\n",
      "memory usage: 3.3+ MB\n"
     ]
    }
   ],
   "source": [
    "review_sample.info()"
   ]
  },
  {
   "cell_type": "code",
   "execution_count": 20,
   "id": "d961f8c6",
   "metadata": {
    "execution": {
     "iopub.execute_input": "2024-06-21T01:18:33.006794Z",
     "iopub.status.busy": "2024-06-21T01:18:33.006177Z",
     "iopub.status.idle": "2024-06-21T01:18:33.013562Z",
     "shell.execute_reply": "2024-06-21T01:18:33.012702Z"
    },
    "id": "45a34152",
    "papermill": {
     "duration": 0.029239,
     "end_time": "2024-06-21T01:18:33.015549",
     "exception": false,
     "start_time": "2024-06-21T01:18:32.986310",
     "status": "completed"
    },
    "tags": []
   },
   "outputs": [],
   "source": [
    "def ktrain_model(preprocess_mode, text_process):\n",
    "    train, val, preprocess = ktrain.text.texts_from_df(\n",
    "    review_sample,\n",
    "    \"combined_text\",\n",
    "    label_columns=[\"health_wellness\"],\n",
    "    val_df=None,\n",
    "    max_features=20000,\n",
    "    maxlen=512,\n",
    "    val_pct=0.1,\n",
    "    ngram_range=1,\n",
    "    preprocess_mode=preprocess_mode,\n",
    "    verbose=1\n",
    "    )\n",
    "\n",
    "    model = ktrain.text.text_classifier(text_process, train, preproc=preprocess)\n",
    "\n",
    "    learner = ktrain.get_learner(model, train_data=train, val_data=val, batch_size=8)\n",
    "\n",
    "    learner.lr_find(max_epochs=6)\n",
    "\n",
    "    learner.lr_plot()\n",
    "\n",
    "    history=learner.autofit(\n",
    "    1e-2,\n",
    "    checkpoint_folder='checkpoint',\n",
    "    epochs=10,\n",
    "    early_stopping=True\n",
    "    )\n",
    "\n",
    "    predictor = ktrain.get_predictor(learner.model, preproc=preprocess)\n",
    "\n",
    "    validation = learner.validate(val_data=val, print_report=True)"
   ]
  },
  {
   "cell_type": "code",
   "execution_count": 21,
   "id": "442a970c",
   "metadata": {
    "execution": {
     "iopub.execute_input": "2024-06-21T01:18:33.054755Z",
     "iopub.status.busy": "2024-06-21T01:18:33.054430Z",
     "iopub.status.idle": "2024-06-21T01:24:18.278914Z",
     "shell.execute_reply": "2024-06-21T01:24:18.277659Z"
    },
    "executionInfo": {
     "elapsed": 102530,
     "status": "ok",
     "timestamp": 1718832738224,
     "user": {
      "displayName": "Anna Tang",
      "userId": "06009827953892747229"
     },
     "user_tz": 240
    },
    "id": "55814180",
    "outputId": "0c726847-87d0-4a5f-9260-c2f26040e213",
    "papermill": {
     "duration": 345.246889,
     "end_time": "2024-06-21T01:24:18.281489",
     "exception": false,
     "start_time": "2024-06-21T01:18:33.034600",
     "status": "completed"
    },
    "tags": []
   },
   "outputs": [
    {
     "name": "stdout",
     "output_type": "stream",
     "text": [
      "['not_health_wellness', 'health_wellness']\n",
      "        not_health_wellness  health_wellness\n",
      "142423                  0.0              1.0\n",
      "82711                   1.0              0.0\n",
      "147989                  0.0              1.0\n",
      "32782                   0.0              1.0\n",
      "189522                  0.0              1.0\n",
      "['not_health_wellness', 'health_wellness']\n",
      "        not_health_wellness  health_wellness\n",
      "45411                   1.0              0.0\n",
      "180832                  1.0              0.0\n",
      "75735                   0.0              1.0\n",
      "92041                   1.0              0.0\n",
      "26772                   1.0              0.0\n",
      "language: en\n",
      "Word Counts: 52452\n",
      "Nrows: 43200\n",
      "43200 train sequences\n",
      "train sequence lengths:\n",
      "\tmean : 31\n",
      "\t95percentile : 57\n",
      "\t99percentile : 67\n",
      "x_train shape: (43200,512)\n",
      "y_train shape: (43200, 2)\n",
      "Is Multi-Label? False\n",
      "4800 test sequences\n",
      "test sequence lengths:\n",
      "\tmean : 31\n",
      "\t95percentile : 57\n",
      "\t99percentile : 66\n",
      "x_test shape: (4800,512)\n",
      "y_test shape: (4800, 2)\n",
      "Is Multi-Label? False\n",
      "compiling word ID features...\n",
      "maxlen is 512\n",
      "done.\n",
      "simulating training for different learning rates... this may take a few moments...\n"
     ]
    },
    {
     "name": "stderr",
     "output_type": "stream",
     "text": [
      "/opt/conda/lib/python3.10/site-packages/tf_keras/src/engine/training.py:3098: UserWarning: You are saving your model as an HDF5 file via `model.save()`. This file format is considered legacy. We recommend using instead the native TF-Keras format, e.g. `model.save('my_model.keras')`.\n",
      "  saving_api.save_model(\n"
     ]
    },
    {
     "name": "stdout",
     "output_type": "stream",
     "text": [
      "Epoch 1/6\n",
      "5400/5400 [==============================] - 48s 4ms/step - loss: 1.0503 - accuracy: 0.4915\n",
      "Epoch 2/6\n",
      "5400/5400 [==============================] - 21s 4ms/step - loss: 0.9600 - accuracy: 0.5050\n",
      "Epoch 3/6\n",
      "5400/5400 [==============================] - 21s 4ms/step - loss: 0.6612 - accuracy: 0.6422\n",
      "Epoch 4/6\n",
      "5400/5400 [==============================] - 21s 4ms/step - loss: 0.4832 - accuracy: 0.7754\n",
      "Epoch 5/6\n",
      "5400/5400 [==============================] - 21s 4ms/step - loss: 0.6948 - accuracy: 0.5290\n",
      "Epoch 6/6\n",
      "5400/5400 [==============================] - 21s 4ms/step - loss: 0.9198 - accuracy: 0.5011\n",
      "\n",
      "\n",
      "done.\n",
      "Please invoke the Learner.lr_plot() method to visually inspect the loss plot to help identify the maximal learning rate associated with falling loss.\n"
     ]
    },
    {
     "data": {
      "image/png": "[encoded data removed]",
      "text/plain": [
       "<Figure size 640x480 with 1 Axes>"
      ]
     },
     "metadata": {},
     "output_type": "display_data"
    },
    {
     "name": "stdout",
     "output_type": "stream",
     "text": [
      "\n",
      "\n",
      "begin training using triangular learning rate policy with max lr of 0.01...\n",
      "Epoch 1/10\n",
      "5400/5400 [==============================] - 28s 5ms/step - loss: 0.5419 - accuracy: 0.7379 - val_loss: 0.3448 - val_accuracy: 0.8610\n",
      "Epoch 2/10\n",
      "5400/5400 [==============================] - 25s 5ms/step - loss: 0.4291 - accuracy: 0.8157 - val_loss: 0.3128 - val_accuracy: 0.8742\n",
      "Epoch 3/10\n",
      "5400/5400 [==============================] - 26s 5ms/step - loss: 0.3924 - accuracy: 0.8343 - val_loss: 0.2978 - val_accuracy: 0.8817\n",
      "Epoch 4/10\n",
      "5400/5400 [==============================] - 26s 5ms/step - loss: 0.3681 - accuracy: 0.8479 - val_loss: 0.2928 - val_accuracy: 0.8856\n",
      "Epoch 5/10\n",
      "5400/5400 [==============================] - 26s 5ms/step - loss: 0.3527 - accuracy: 0.8582 - val_loss: 0.2865 - val_accuracy: 0.8829\n",
      "Epoch 6/10\n",
      "5400/5400 [==============================] - 26s 5ms/step - loss: 0.3348 - accuracy: 0.8661 - val_loss: 0.2835 - val_accuracy: 0.8904\n",
      "Epoch 7/10\n",
      "5395/5400 [============================>.] - ETA: 0s - loss: 0.3292 - accuracy: 0.8669Restoring model weights from the end of the best epoch: 6.\n",
      "5400/5400 [==============================] - 26s 5ms/step - loss: 0.3293 - accuracy: 0.8668 - val_loss: 0.2861 - val_accuracy: 0.8900\n",
      "Epoch 7: early stopping\n",
      "Weights from best epoch have been loaded into model.\n",
      "150/150 [==============================] - 1s 2ms/step\n",
      "              precision    recall  f1-score   support\n",
      "\n",
      "           0       0.91      0.86      0.88      2292\n",
      "           1       0.88      0.92      0.90      2508\n",
      "\n",
      "    accuracy                           0.89      4800\n",
      "   macro avg       0.89      0.89      0.89      4800\n",
      "weighted avg       0.89      0.89      0.89      4800\n",
      "\n"
     ]
    }
   ],
   "source": [
    "ktrain_model(\"standard\", \"fasttext\")"
   ]
  },
  {
   "cell_type": "code",
   "execution_count": 22,
   "id": "fed39a3e",
   "metadata": {
    "execution": {
     "iopub.execute_input": "2024-06-21T01:24:19.269743Z",
     "iopub.status.busy": "2024-06-21T01:24:19.269376Z",
     "iopub.status.idle": "2024-06-21T01:27:33.330597Z",
     "shell.execute_reply": "2024-06-21T01:27:33.329539Z"
    },
    "executionInfo": {
     "elapsed": 76984,
     "status": "ok",
     "timestamp": 1718832815192,
     "user": {
      "displayName": "Anna Tang",
      "userId": "06009827953892747229"
     },
     "user_tz": 240
    },
    "id": "420dc228",
    "outputId": "d39ed350-089a-4aa7-b11e-c0e3a09ffa86",
    "papermill": {
     "duration": 194.54162,
     "end_time": "2024-06-21T01:27:33.332920",
     "exception": false,
     "start_time": "2024-06-21T01:24:18.791300",
     "status": "completed"
    },
    "tags": []
   },
   "outputs": [
    {
     "name": "stdout",
     "output_type": "stream",
     "text": [
      "['not_health_wellness', 'health_wellness']\n",
      "        not_health_wellness  health_wellness\n",
      "187629                  0.0              1.0\n",
      "139508                  1.0              0.0\n",
      "47839                   1.0              0.0\n",
      "109931                  0.0              1.0\n",
      "160166                  0.0              1.0\n",
      "['not_health_wellness', 'health_wellness']\n",
      "        not_health_wellness  health_wellness\n",
      "197392                  0.0              1.0\n",
      "141017                  0.0              1.0\n",
      "160105                  0.0              1.0\n",
      "186679                  0.0              1.0\n",
      "141347                  1.0              0.0\n",
      "language: en\n",
      "Word Counts: 52385\n",
      "Nrows: 43200\n",
      "43200 train sequences\n",
      "train sequence lengths:\n",
      "\tmean : 31\n",
      "\t95percentile : 57\n",
      "\t99percentile : 67\n",
      "x_train shape: (43200,512)\n",
      "y_train shape: (43200, 2)\n",
      "Is Multi-Label? False\n",
      "4800 test sequences\n",
      "test sequence lengths:\n",
      "\tmean : 31\n",
      "\t95percentile : 57\n",
      "\t99percentile : 66\n",
      "x_test shape: (4800,512)\n",
      "y_test shape: (4800, 2)\n",
      "Is Multi-Label? False\n",
      "compiling word ID features...\n",
      "maxlen is 512\n",
      "building document-term matrix... this may take a few moments...\n",
      "rows: 1-10000\n",
      "rows: 10001-20000\n",
      "rows: 20001-30000\n",
      "rows: 30001-40000\n",
      "rows: 40001-43200\n",
      "computing log-count ratios...\n",
      "done.\n",
      "simulating training for different learning rates... this may take a few moments...\n"
     ]
    },
    {
     "name": "stderr",
     "output_type": "stream",
     "text": [
      "/opt/conda/lib/python3.10/site-packages/tf_keras/src/engine/training.py:3098: UserWarning: You are saving your model as an HDF5 file via `model.save()`. This file format is considered legacy. We recommend using instead the native TF-Keras format, e.g. `model.save('my_model.keras')`.\n",
      "  saving_api.save_model(\n"
     ]
    },
    {
     "name": "stdout",
     "output_type": "stream",
     "text": [
      "Epoch 1/6\n",
      "5400/5400 [==============================] - 19s 3ms/step - loss: 0.6862 - accuracy: 0.5457\n",
      "Epoch 2/6\n",
      "5400/5400 [==============================] - 17s 3ms/step - loss: 0.6526 - accuracy: 0.6410\n",
      "Epoch 3/6\n",
      "5400/5400 [==============================] - 17s 3ms/step - loss: 0.4458 - accuracy: 0.8425\n",
      "Epoch 4/6\n",
      "5400/5400 [==============================] - 18s 3ms/step - loss: 0.2823 - accuracy: 0.8983\n",
      "Epoch 5/6\n",
      "5400/5400 [==============================] - 12s 2ms/step - loss: 1.0666 - accuracy: 0.8668\n",
      "\n",
      "\n",
      "done.\n",
      "Please invoke the Learner.lr_plot() method to visually inspect the loss plot to help identify the maximal learning rate associated with falling loss.\n"
     ]
    },
    {
     "data": {
      "image/png": "[encoded data removed]",
      "text/plain": [
       "<Figure size 640x480 with 1 Axes>"
      ]
     },
     "metadata": {},
     "output_type": "display_data"
    },
    {
     "name": "stdout",
     "output_type": "stream",
     "text": [
      "\n",
      "\n",
      "begin training using triangular learning rate policy with max lr of 0.01...\n",
      "Epoch 1/10\n",
      "5400/5400 [==============================] - 23s 4ms/step - loss: 0.3091 - accuracy: 0.8825 - val_loss: 0.3324 - val_accuracy: 0.8792\n",
      "Epoch 2/10\n",
      "5388/5400 [============================>.] - ETA: 0s - loss: 0.2190 - accuracy: 0.9226Restoring model weights from the end of the best epoch: 1.\n",
      "5400/5400 [==============================] - 22s 4ms/step - loss: 0.2192 - accuracy: 0.9226 - val_loss: 0.3887 - val_accuracy: 0.8760\n",
      "Epoch 2: early stopping\n",
      "Weights from best epoch have been loaded into model.\n",
      "150/150 [==============================] - 0s 1ms/step\n",
      "              precision    recall  f1-score   support\n",
      "\n",
      "           0       0.88      0.88      0.88      2399\n",
      "           1       0.88      0.88      0.88      2401\n",
      "\n",
      "    accuracy                           0.88      4800\n",
      "   macro avg       0.88      0.88      0.88      4800\n",
      "weighted avg       0.88      0.88      0.88      4800\n",
      "\n"
     ]
    }
   ],
   "source": [
    "ktrain_model(\"standard\", \"nbsvm\")"
   ]
  },
  {
   "cell_type": "code",
   "execution_count": 23,
   "id": "eed88cb6",
   "metadata": {
    "execution": {
     "iopub.execute_input": "2024-06-21T01:27:34.729052Z",
     "iopub.status.busy": "2024-06-21T01:27:34.728325Z",
     "iopub.status.idle": "2024-06-21T01:29:49.315406Z",
     "shell.execute_reply": "2024-06-21T01:29:49.314036Z"
    },
    "executionInfo": {
     "elapsed": 61470,
     "status": "ok",
     "timestamp": 1718832876642,
     "user": {
      "displayName": "Anna Tang",
      "userId": "06009827953892747229"
     },
     "user_tz": 240
    },
    "id": "10a8f30e",
    "outputId": "354fd56c-656a-4bd0-bad5-8ace511366dd",
    "papermill": {
     "duration": 135.311036,
     "end_time": "2024-06-21T01:29:49.317786",
     "exception": false,
     "start_time": "2024-06-21T01:27:34.006750",
     "status": "completed"
    },
    "tags": []
   },
   "outputs": [
    {
     "name": "stdout",
     "output_type": "stream",
     "text": [
      "['not_health_wellness', 'health_wellness']\n",
      "        not_health_wellness  health_wellness\n",
      "132708                  0.0              1.0\n",
      "183151                  1.0              0.0\n",
      "7319                    1.0              0.0\n",
      "18765                   0.0              1.0\n",
      "86471                   1.0              0.0\n",
      "['not_health_wellness', 'health_wellness']\n",
      "        not_health_wellness  health_wellness\n",
      "86796                   1.0              0.0\n",
      "139753                  0.0              1.0\n",
      "49847                   1.0              0.0\n",
      "11244                   1.0              0.0\n",
      "150766                  0.0              1.0\n",
      "language: en\n",
      "Word Counts: 52309\n",
      "Nrows: 43200\n",
      "43200 train sequences\n",
      "train sequence lengths:\n",
      "\tmean : 31\n",
      "\t95percentile : 57\n",
      "\t99percentile : 67\n",
      "x_train shape: (43200,512)\n",
      "y_train shape: (43200, 2)\n",
      "Is Multi-Label? False\n",
      "4800 test sequences\n",
      "test sequence lengths:\n",
      "\tmean : 31\n",
      "\t95percentile : 57\n",
      "\t99percentile : 68\n",
      "x_test shape: (4800,512)\n",
      "y_test shape: (4800, 2)\n",
      "Is Multi-Label? False\n",
      "compiling word ID features...\n",
      "maxlen is 512\n",
      "done.\n",
      "simulating training for different learning rates... this may take a few moments...\n"
     ]
    },
    {
     "name": "stderr",
     "output_type": "stream",
     "text": [
      "/opt/conda/lib/python3.10/site-packages/tf_keras/src/engine/training.py:3098: UserWarning: You are saving your model as an HDF5 file via `model.save()`. This file format is considered legacy. We recommend using instead the native TF-Keras format, e.g. `model.save('my_model.keras')`.\n",
      "  saving_api.save_model(\n"
     ]
    },
    {
     "name": "stdout",
     "output_type": "stream",
     "text": [
      "Epoch 1/6\n",
      "5400/5400 [==============================] - 19s 3ms/step - loss: 0.6920 - accuracy: 0.5221\n",
      "Epoch 2/6\n",
      "5400/5400 [==============================] - 17s 3ms/step - loss: 0.6667 - accuracy: 0.6175\n",
      "Epoch 3/6\n",
      "5400/5400 [==============================] - 17s 3ms/step - loss: 0.5000 - accuracy: 0.8170\n",
      "Epoch 4/6\n",
      "5400/5400 [==============================] - 17s 3ms/step - loss: 0.3347 - accuracy: 0.8794\n",
      "Epoch 5/6\n",
      "5400/5400 [==============================] - 10s 2ms/step - loss: 1.2385 - accuracy: 0.8455\n",
      "\n",
      "\n",
      "done.\n",
      "Please invoke the Learner.lr_plot() method to visually inspect the loss plot to help identify the maximal learning rate associated with falling loss.\n"
     ]
    },
    {
     "data": {
      "image/png": "[encoded data removed]",
      "text/plain": [
       "<Figure size 640x480 with 1 Axes>"
      ]
     },
     "metadata": {},
     "output_type": "display_data"
    },
    {
     "name": "stdout",
     "output_type": "stream",
     "text": [
      "\n",
      "\n",
      "begin training using triangular learning rate policy with max lr of 0.01...\n",
      "Epoch 1/10\n",
      "5400/5400 [==============================] - 23s 4ms/step - loss: 0.3634 - accuracy: 0.8589 - val_loss: 0.3467 - val_accuracy: 0.8737\n",
      "Epoch 2/10\n",
      "5398/5400 [============================>.] - ETA: 0s - loss: 0.2516 - accuracy: 0.9092Restoring model weights from the end of the best epoch: 1.\n",
      "5400/5400 [==============================] - 22s 4ms/step - loss: 0.2516 - accuracy: 0.9092 - val_loss: 0.3957 - val_accuracy: 0.8731\n",
      "Epoch 2: early stopping\n",
      "Weights from best epoch have been loaded into model.\n",
      "150/150 [==============================] - 0s 1ms/step\n",
      "              precision    recall  f1-score   support\n",
      "\n",
      "           0       0.89      0.85      0.87      2375\n",
      "           1       0.86      0.89      0.88      2425\n",
      "\n",
      "    accuracy                           0.87      4800\n",
      "   macro avg       0.87      0.87      0.87      4800\n",
      "weighted avg       0.87      0.87      0.87      4800\n",
      "\n"
     ]
    }
   ],
   "source": [
    "ktrain_model(\"standard\", \"logreg\")"
   ]
  },
  {
   "cell_type": "code",
   "execution_count": 24,
   "id": "95a10d3d",
   "metadata": {
    "execution": {
     "iopub.execute_input": "2024-06-21T01:29:51.040332Z",
     "iopub.status.busy": "2024-06-21T01:29:51.039950Z",
     "iopub.status.idle": "2024-06-21T01:49:31.811077Z",
     "shell.execute_reply": "2024-06-21T01:49:31.810081Z"
    },
    "executionInfo": {
     "elapsed": 748012,
     "status": "ok",
     "timestamp": 1718833624638,
     "user": {
      "displayName": "Anna Tang",
      "userId": "06009827953892747229"
     },
     "user_tz": 240
    },
    "id": "9b302c3e",
    "outputId": "4b85c616-eccd-4e66-e76a-98dd60f90175",
    "papermill": {
     "duration": 1181.638026,
     "end_time": "2024-06-21T01:49:31.813297",
     "exception": false,
     "start_time": "2024-06-21T01:29:50.175271",
     "status": "completed"
    },
    "tags": []
   },
   "outputs": [
    {
     "name": "stdout",
     "output_type": "stream",
     "text": [
      "['not_health_wellness', 'health_wellness']\n",
      "        not_health_wellness  health_wellness\n",
      "44059                   1.0              0.0\n",
      "136479                  1.0              0.0\n",
      "92452                   1.0              0.0\n",
      "18053                   1.0              0.0\n",
      "101910                  0.0              1.0\n",
      "['not_health_wellness', 'health_wellness']\n",
      "        not_health_wellness  health_wellness\n",
      "81307                   1.0              0.0\n",
      "50377                   1.0              0.0\n",
      "97597                   1.0              0.0\n",
      "145533                  1.0              0.0\n",
      "35819                   1.0              0.0\n",
      "language: en\n",
      "Word Counts: 52337\n",
      "Nrows: 43200\n",
      "43200 train sequences\n",
      "train sequence lengths:\n",
      "\tmean : 32\n",
      "\t95percentile : 57\n",
      "\t99percentile : 67\n",
      "x_train shape: (43200,512)\n",
      "y_train shape: (43200, 2)\n",
      "Is Multi-Label? False\n",
      "4800 test sequences\n",
      "test sequence lengths:\n",
      "\tmean : 31\n",
      "\t95percentile : 56\n",
      "\t99percentile : 68\n",
      "x_test shape: (4800,512)\n",
      "y_test shape: (4800, 2)\n",
      "Is Multi-Label? False\n",
      "compiling word ID features...\n",
      "maxlen is 512\n",
      "word vectors will be loaded from: https://dl.fbaipublicfiles.com/fasttext/vectors-crawl/cc.en.300.vec.gz\n",
      "processing pretrained word vectors...\n",
      "downloading pretrained word vectors to /root/ktrain_data ...\n",
      "[██████████████████████████████████████████████████]\n",
      "extracting pretrained word vectors...\n",
      "done.\n",
      "\n",
      "cleanup downloaded zip...\n",
      "done.\n",
      "\n",
      "loading pretrained word vectors...this may take a few moments...\n"
     ]
    },
    {
     "data": {
      "text/html": [
       "\n",
       "<style>\n",
       "    /* Turns off some styling */\n",
       "    progress {\n",
       "        /* gets rid of default border in Firefox and Opera. */\n",
       "        border: none;\n",
       "        /* Needs to be in here for Safari polyfill so background images work as expected. */\n",
       "        background-size: auto;\n",
       "    }\n",
       "    progress:not([value]), progress:not([value])::-webkit-progress-bar {\n",
       "        background: repeating-linear-gradient(45deg, #7e7e7e, #7e7e7e 10px, #5c5c5c 10px, #5c5c5c 20px);\n",
       "    }\n",
       "    .progress-bar-interrupted, .progress-bar-interrupted::-webkit-progress-bar {\n",
       "        background: #F44336;\n",
       "    }\n",
       "</style>\n"
      ],
      "text/plain": [
       "<IPython.core.display.HTML object>"
      ]
     },
     "metadata": {},
     "output_type": "display_data"
    },
    {
     "data": {
      "text/html": [],
      "text/plain": [
       "<IPython.core.display.HTML object>"
      ]
     },
     "metadata": {},
     "output_type": "display_data"
    },
    {
     "name": "stdout",
     "output_type": "stream",
     "text": [
      "done.\n",
      "simulating training for different learning rates... this may take a few moments...\n"
     ]
    },
    {
     "name": "stderr",
     "output_type": "stream",
     "text": [
      "/opt/conda/lib/python3.10/site-packages/tf_keras/src/engine/training.py:3098: UserWarning: You are saving your model as an HDF5 file via `model.save()`. This file format is considered legacy. We recommend using instead the native TF-Keras format, e.g. `model.save('my_model.keras')`.\n",
      "  saving_api.save_model(\n"
     ]
    },
    {
     "name": "stdout",
     "output_type": "stream",
     "text": [
      "Epoch 1/6\n",
      "5400/5400 [==============================] - 160s 28ms/step - loss: 0.6917 - accuracy: 0.5156\n",
      "Epoch 2/6\n",
      "5400/5400 [==============================] - 149s 28ms/step - loss: 0.6375 - accuracy: 0.6589\n",
      "Epoch 3/6\n",
      "5400/5400 [==============================] - 151s 28ms/step - loss: 0.3040 - accuracy: 0.8737\n",
      "Epoch 4/6\n",
      "5400/5400 [==============================] - 151s 28ms/step - loss: 0.4138 - accuracy: 0.8547\n",
      "Epoch 5/6\n",
      "5400/5400 [==============================] - 2s 310us/step - loss: 1.0709 - accuracy: 0.6610\n",
      "\n",
      "\n",
      "done.\n",
      "Please invoke the Learner.lr_plot() method to visually inspect the loss plot to help identify the maximal learning rate associated with falling loss.\n"
     ]
    },
    {
     "data": {
      "image/png": "[encoded data removed]",
      "text/plain": [
       "<Figure size 640x480 with 1 Axes>"
      ]
     },
     "metadata": {},
     "output_type": "display_data"
    },
    {
     "name": "stdout",
     "output_type": "stream",
     "text": [
      "\n",
      "\n",
      "begin training using triangular learning rate policy with max lr of 0.01...\n",
      "Epoch 1/10\n",
      "5400/5400 [==============================] - 165s 30ms/step - loss: nan - accuracy: 0.6439 - val_loss: nan - val_accuracy: 0.5085\n",
      "Epoch 2/10\n",
      "5399/5400 [============================>.] - ETA: 0s - loss: nan - accuracy: 0.4991Restoring model weights from the end of the best epoch: 1.\n",
      "5400/5400 [==============================] - 162s 30ms/step - loss: nan - accuracy: 0.4991 - val_loss: nan - val_accuracy: 0.5085\n",
      "Epoch 2: early stopping\n",
      "Weights from best epoch have been loaded into model.\n",
      "150/150 [==============================] - 4s 20ms/step\n",
      "              precision    recall  f1-score   support\n",
      "\n",
      "           0       0.51      1.00      0.67      2441\n",
      "           1       0.00      0.00      0.00      2359\n",
      "\n",
      "    accuracy                           0.51      4800\n",
      "   macro avg       0.25      0.50      0.34      4800\n",
      "weighted avg       0.26      0.51      0.34      4800\n",
      "\n"
     ]
    }
   ],
   "source": [
    "ktrain_model(\"standard\", \"bigru\")"
   ]
  },
  {
   "cell_type": "code",
   "execution_count": 25,
   "id": "c13a2960",
   "metadata": {
    "execution": {
     "iopub.execute_input": "2024-06-21T01:49:36.494734Z",
     "iopub.status.busy": "2024-06-21T01:49:36.494358Z",
     "iopub.status.idle": "2024-06-21T02:20:19.178911Z",
     "shell.execute_reply": "2024-06-21T02:20:19.177965Z"
    },
    "executionInfo": {
     "elapsed": 628275,
     "status": "ok",
     "timestamp": 1718834252901,
     "user": {
      "displayName": "Anna Tang",
      "userId": "06009827953892747229"
     },
     "user_tz": 240
    },
    "id": "4ceda84f",
    "outputId": "831d2a17-ffc1-45ab-eb73-e9a40256a1b3",
    "papermill": {
     "duration": 1845.91385,
     "end_time": "2024-06-21T02:20:20.133132",
     "exception": false,
     "start_time": "2024-06-21T01:49:34.219282",
     "status": "completed"
    },
    "tags": []
   },
   "outputs": [
    {
     "name": "stdout",
     "output_type": "stream",
     "text": [
      "['not_health_wellness', 'health_wellness']\n",
      "        not_health_wellness  health_wellness\n",
      "133035                  0.0              1.0\n",
      "128079                  0.0              1.0\n",
      "136246                  0.0              1.0\n",
      "157965                  0.0              1.0\n",
      "31436                   1.0              0.0\n",
      "['not_health_wellness', 'health_wellness']\n",
      "        not_health_wellness  health_wellness\n",
      "176086                  0.0              1.0\n",
      "4589                    1.0              0.0\n",
      "191885                  0.0              1.0\n",
      "65991                   0.0              1.0\n",
      "26217                   1.0              0.0\n",
      "language: en\n",
      "Word Counts: 52346\n",
      "Nrows: 43200\n",
      "43200 train sequences\n",
      "train sequence lengths:\n",
      "\tmean : 32\n",
      "\t95percentile : 57\n",
      "\t99percentile : 67\n",
      "x_train shape: (43200,512)\n",
      "y_train shape: (43200, 2)\n",
      "Is Multi-Label? False\n",
      "4800 test sequences\n",
      "test sequence lengths:\n",
      "\tmean : 31\n",
      "\t95percentile : 56\n",
      "\t99percentile : 67\n",
      "x_test shape: (4800,512)\n",
      "y_test shape: (4800, 2)\n",
      "Is Multi-Label? False\n",
      "compiling word ID features...\n",
      "maxlen is 512\n",
      "done.\n",
      "simulating training for different learning rates... this may take a few moments...\n"
     ]
    },
    {
     "name": "stderr",
     "output_type": "stream",
     "text": [
      "/opt/conda/lib/python3.10/site-packages/tf_keras/src/engine/training.py:3098: UserWarning: You are saving your model as an HDF5 file via `model.save()`. This file format is considered legacy. We recommend using instead the native TF-Keras format, e.g. `model.save('my_model.keras')`.\n",
      "  saving_api.save_model(\n"
     ]
    },
    {
     "name": "stdout",
     "output_type": "stream",
     "text": [
      "Epoch 1/6\n",
      "5400/5400 [==============================] - 225s 41ms/step - loss: 0.6949 - accuracy: 0.4985\n",
      "Epoch 2/6\n",
      "5400/5400 [==============================] - 221s 41ms/step - loss: 0.6941 - accuracy: 0.5038\n",
      "Epoch 3/6\n",
      "5400/5400 [==============================] - 221s 41ms/step - loss: 0.4933 - accuracy: 0.7548\n",
      "Epoch 4/6\n",
      "5400/5400 [==============================] - 220s 41ms/step - loss: nan - accuracy: 0.6620\n",
      "Epoch 5/6\n",
      "5400/5400 [==============================] - 219s 41ms/step - loss: nan - accuracy: 0.4989\n",
      "Epoch 6/6\n",
      "5400/5400 [==============================] - 219s 41ms/step - loss: nan - accuracy: 0.4989\n",
      "\n",
      "\n",
      "done.\n",
      "Please invoke the Learner.lr_plot() method to visually inspect the loss plot to help identify the maximal learning rate associated with falling loss.\n"
     ]
    },
    {
     "data": {
      "image/png": "[encoded data removed]",
      "text/plain": [
       "<Figure size 640x480 with 1 Axes>"
      ]
     },
     "metadata": {},
     "output_type": "display_data"
    },
    {
     "name": "stdout",
     "output_type": "stream",
     "text": [
      "\n",
      "\n",
      "begin training using triangular learning rate policy with max lr of 0.01...\n",
      "Epoch 1/10\n",
      "5400/5400 [==============================] - 236s 43ms/step - loss: nan - accuracy: 0.5145 - val_loss: nan - val_accuracy: 0.5100\n",
      "Epoch 2/10\n",
      "5399/5400 [============================>.] - ETA: 0s - loss: nan - accuracy: 0.4989Restoring model weights from the end of the best epoch: 1.\n",
      "5400/5400 [==============================] - 232s 43ms/step - loss: nan - accuracy: 0.4989 - val_loss: nan - val_accuracy: 0.5100\n",
      "Epoch 2: early stopping\n",
      "Weights from best epoch have been loaded into model.\n",
      "150/150 [==============================] - 5s 24ms/step\n",
      "              precision    recall  f1-score   support\n",
      "\n",
      "           0       0.51      1.00      0.68      2448\n",
      "           1       0.00      0.00      0.00      2352\n",
      "\n",
      "    accuracy                           0.51      4800\n",
      "   macro avg       0.26      0.50      0.34      4800\n",
      "weighted avg       0.26      0.51      0.34      4800\n",
      "\n"
     ]
    }
   ],
   "source": [
    "ktrain_model(\"standard\", \"standard_gru\")"
   ]
  }
 ],
 "metadata": {
  "accelerator": "GPU",
  "colab": {
   "gpuType": "L4",
   "provenance": []
  },
  "kaggle": {
   "accelerator": "gpu",
   "dataSources": [
    {
     "datasetId": 5247734,
     "sourceId": 8740624,
     "sourceType": "datasetVersion"
    }
   ],
   "dockerImageVersionId": 30733,
   "isGpuEnabled": true,
   "isInternetEnabled": true,
   "language": "python",
   "sourceType": "notebook"
  },
  "kernelspec": {
   "display_name": "Python 3",
   "language": "python",
   "name": "python3"
  },
  "language_info": {
   "codemirror_mode": {
    "name": "ipython",
    "version": 3
   },
   "file_extension": ".py",
   "mimetype": "text/x-python",
   "name": "python",
   "nbconvert_exporter": "python",
   "pygments_lexer": "ipython3",
   "version": "3.10.13"
  },
  "papermill": {
   "default_parameters": {},
   "duration": 3799.348653,
   "end_time": "2024-06-21T02:20:27.105646",
   "environment_variables": {},
   "exception": null,
   "input_path": "__notebook__.ipynb",
   "output_path": "__notebook__.ipynb",
   "parameters": {},
   "start_time": "2024-06-21T01:17:07.756993",
   "version": "2.5.0"
  }
 },
 "nbformat": 4,
 "nbformat_minor": 5
}
